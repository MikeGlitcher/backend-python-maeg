{
 "cells": [
  {
   "cell_type": "markdown",
   "id": "6f6d6bcf",
   "metadata": {},
   "source": [
    "## Funciones en Python\n",
    "- Una funcion:\n",
    "    - s un conjunto de operaciones\n",
    "    - Puede ser usada como un molde reulizacion\n",
    "    - Puede regresar un valor\n",
    "    - uede ahorrar mucho tiempo de desarrollo\n",
    "    - Puede aceptar parametros para mandar valores al programa/ funcion"
   ]
  },
  {
   "cell_type": "markdown",
   "id": "6ca1971b",
   "metadata": {},
   "source": [
    "## Funciones definidas por el usario\n",
    "- Las funciones son comunmente usadas en todos los programas\n",
    "- Codigo reutilizable\n",
    "- Pueden regresar valores\n",
    "- Las funciones accion como un molde para tareas repetidas\n",
    "- Las funciones puede ser creadas con la palabra clave \"def\"\n",
    "- Podemos usar la palabra clave \"return\" para regresar un valor\n",
    "\n"
   ]
  },
  {
   "cell_type": "code",
   "execution_count": 1,
   "id": "c5ed5823",
   "metadata": {},
   "outputs": [],
   "source": [
    "def my_function(parameters):\n",
    "    print(\"paso1\")\n",
    "    print(\"paso2\")\n",
    "    print(\"paso3\")\n",
    "    print(\"paso4\")\n",
    "    "
   ]
  },
  {
   "cell_type": "markdown",
   "id": "7c873e69",
   "metadata": {},
   "source": [
    "NOTAS:\n",
    "- La palabra clave \"def es obligatoria para definir una funcion.\n",
    "- Los parametros son opcionales\n",
    "- Las instrucciones dentro de la funcion son obligatorias, en caso de no especificar estas instrucciones se debe sustituir con uin \"pass\"\n",
    "- La palabra clave \"return\" es opcional en una funcion"
   ]
  },
  {
   "cell_type": "code",
   "execution_count": 2,
   "id": "11b63a84",
   "metadata": {},
   "outputs": [],
   "source": [
    "def my_function(parameters):\n",
    "    print(\"paso1\")\n",
    "    print(\"paso2\")\n",
    "    print(\"paso3\")\n",
    "    print(\"paso4\")\n",
    "    \n",
    "    return \"completado\"\n"
   ]
  },
  {
   "cell_type": "markdown",
   "id": "084c1007",
   "metadata": {},
   "source": [
    "## Parametros de funciones\n",
    "- Los parametros son operacionales en una funcion\n",
    "- Podemos declarar los parametros en definicion de la funcion\n",
    "- Tambien podemos llamarles argumentos\n",
    "- Los parametros son usados para pasar valores directamente a la fuincon\n",
    "- Ternemos dos tipos de parametros\n",
    "    - Formales\n",
    "    - Reales\n",
    "    \n",
    "\n",
    "Tipos de Parametros\n",
    "\n",
    "Parametros Formales:\n",
    "    - Son los valores usados en la creacion/ deficicion de la funcion\n",
    "\n",
    "Parametros Reales:\n",
    "    - son los valores usados para llamar / invocar la funcion\n",
    "\n"
   ]
  },
  {
   "cell_type": "code",
   "execution_count": 5,
   "id": "659f992f",
   "metadata": {},
   "outputs": [],
   "source": [
    "def print_number(number):\n",
    "    print(f\"El parametro es {number}\")"
   ]
  },
  {
   "cell_type": "code",
   "execution_count": 6,
   "id": "5bf30001",
   "metadata": {},
   "outputs": [
    {
     "name": "stdout",
     "output_type": "stream",
     "text": [
      "El parametro es 850\n"
     ]
    }
   ],
   "source": [
    "print_number(850)"
   ]
  },
  {
   "cell_type": "markdown",
   "id": "1716e355",
   "metadata": {},
   "source": [
    "## Invocar funciones\n"
   ]
  },
  {
   "cell_type": "code",
   "execution_count": 8,
   "id": "8aefdfa5",
   "metadata": {},
   "outputs": [
    {
     "data": {
      "text/plain": [
       "210"
      ]
     },
     "execution_count": 8,
     "metadata": {},
     "output_type": "execute_result"
    }
   ],
   "source": [
    "def plus_ten(number):\n",
    "    return number + 10\n",
    "\n",
    "def minus_ten(number):\n",
    "    return number - 10\n",
    "\n",
    "def another_function(f, number):\n",
    "    result = f(number)\n",
    "    return result\n",
    "\n",
    "plus_ten(200)\n",
    "\n",
    "minus_ten(200)\n",
    "\n",
    "another_function(plus_ten, 200)"
   ]
  },
  {
   "cell_type": "markdown",
   "id": "e823eda9",
   "metadata": {},
   "source": [
    "## Funciones Anidadas\n",
    "- Es una funcion dentro de otra funcion\n",
    "- Asi como hay liustas anidadas o ciclos anidados\n",
    "- Las funciones internas pueden ser utiles al ejecutar tareas complejas mas de una vez dentro de una funcion.\n",
    "- Pueden ayudar a evitar ciclos o codigo complicado\n",
    "\n",
    "Usos:\n",
    "- Simplificar la logica y estructura\n",
    "- Construir nuevas funciones basadas en parametros\n",
    "- Pasar funciones a otras funciones para generar resultados parecidos\n"
   ]
  },
  {
   "cell_type": "code",
   "execution_count": 9,
   "id": "111d1af7",
   "metadata": {},
   "outputs": [],
   "source": [
    "def my_function():\n",
    "    def nested_function():\n",
    "        print(\"Funcion Anidada\")\n",
    "    return nested_function\n",
    "\n",
    "result = my_function()\n",
    "\n"
   ]
  },
  {
   "cell_type": "code",
   "execution_count": 2,
   "id": "eda9e022",
   "metadata": {},
   "outputs": [
    {
     "data": {
      "text/plain": [
       "5"
      ]
     },
     "execution_count": 2,
     "metadata": {},
     "output_type": "execute_result"
    }
   ],
   "source": [
    "def logger(func):\n",
    "    def log_func(*args):\n",
    "        print(f\"corriendo {func.__name__} con los parametros {args}\")\n",
    "        print(func(*args))\n",
    "    return log_func\n",
    "\n",
    "def add(x, y):\n",
    "    return x + y\n",
    "\n",
    "def sub(x, y):\n",
    "    return x - y\n",
    "\n",
    "add_logger = logger(add)\n",
    "sub_logger = logger(sub)\n",
    "\n",
    "add(3, 2)"
   ]
  },
  {
   "cell_type": "code",
   "execution_count": 23,
   "id": "36b0a97e",
   "metadata": {},
   "outputs": [
    {
     "name": "stdout",
     "output_type": "stream",
     "text": [
      "corriendo add con los parametros (3, 2)\n",
      "5\n"
     ]
    }
   ],
   "source": [
    "add_logger(3, 2)"
   ]
  },
  {
   "cell_type": "code",
   "execution_count": 24,
   "id": "e0ba5975",
   "metadata": {},
   "outputs": [
    {
     "name": "stdout",
     "output_type": "stream",
     "text": [
      "corriendo sub con los parametros (3, 2)\n",
      "1\n"
     ]
    }
   ],
   "source": [
    "sub_logger(3, 2)"
   ]
  },
  {
   "cell_type": "markdown",
   "id": "874d8f44",
   "metadata": {},
   "source": [
    "## Funcion dir\n"
   ]
  },
  {
   "cell_type": "code",
   "execution_count": 4,
   "id": "5494d832",
   "metadata": {},
   "outputs": [
    {
     "data": {
      "text/plain": [
       "['__annotations__',\n",
       " '__call__',\n",
       " '__class__',\n",
       " '__closure__',\n",
       " '__code__',\n",
       " '__defaults__',\n",
       " '__delattr__',\n",
       " '__dict__',\n",
       " '__dir__',\n",
       " '__doc__',\n",
       " '__eq__',\n",
       " '__format__',\n",
       " '__ge__',\n",
       " '__get__',\n",
       " '__getattribute__',\n",
       " '__globals__',\n",
       " '__gt__',\n",
       " '__hash__',\n",
       " '__init__',\n",
       " '__init_subclass__',\n",
       " '__kwdefaults__',\n",
       " '__le__',\n",
       " '__lt__',\n",
       " '__module__',\n",
       " '__name__',\n",
       " '__ne__',\n",
       " '__new__',\n",
       " '__qualname__',\n",
       " '__reduce__',\n",
       " '__reduce_ex__',\n",
       " '__repr__',\n",
       " '__setattr__',\n",
       " '__sizeof__',\n",
       " '__str__',\n",
       " '__subclasshook__']"
      ]
     },
     "execution_count": 4,
     "metadata": {},
     "output_type": "execute_result"
    }
   ],
   "source": [
    "dir(add)"
   ]
  },
  {
   "cell_type": "code",
   "execution_count": 5,
   "id": "716ff0a3",
   "metadata": {},
   "outputs": [
    {
     "data": {
      "text/plain": [
       "'add'"
      ]
     },
     "execution_count": 5,
     "metadata": {},
     "output_type": "execute_result"
    }
   ],
   "source": [
    "add.__name__"
   ]
  },
  {
   "cell_type": "code",
   "execution_count": 7,
   "id": "731fff14",
   "metadata": {},
   "outputs": [
    {
     "name": "stdout",
     "output_type": "stream",
     "text": [
      "<class 'dict'>\n",
      "['__class__', '__class_getitem__', '__contains__', '__delattr__', '__delitem__', '__dir__', '__doc__', '__eq__', '__format__', '__ge__', '__getattribute__', '__getitem__', '__gt__', '__hash__', '__init__', '__init_subclass__', '__ior__', '__iter__', '__le__', '__len__', '__lt__', '__ne__', '__new__', '__or__', '__reduce__', '__reduce_ex__', '__repr__', '__reversed__', '__ror__', '__setattr__', '__setitem__', '__sizeof__', '__str__', '__subclasshook__', 'clear', 'copy', 'fromkeys', 'get', 'items', 'keys', 'pop', 'popitem', 'setdefault', 'update', 'values']\n"
     ]
    }
   ],
   "source": [
    "dictionary = {\n",
    "    \"a\": 100,\n",
    "    \"b\": 200\n",
    "}\n",
    "\n",
    "print(type(dictionary))\n",
    "print(dir(dictionary))"
   ]
  },
  {
   "cell_type": "code",
   "execution_count": 8,
   "id": "3013356c",
   "metadata": {},
   "outputs": [
    {
     "name": "stdout",
     "output_type": "stream",
     "text": [
      "['ConnectTimeout', 'ConnectionError', 'DependencyWarning', 'FileModeWarning', 'HTTPError', 'JSONDecodeError', 'NullHandler', 'PreparedRequest', 'ReadTimeout', 'Request', 'RequestException', 'RequestsDependencyWarning', 'Response', 'Session', 'Timeout', 'TooManyRedirects', 'URLRequired', '__author__', '__author_email__', '__build__', '__builtins__', '__cached__', '__cake__', '__copyright__', '__description__', '__doc__', '__file__', '__license__', '__loader__', '__name__', '__package__', '__path__', '__spec__', '__title__', '__url__', '__version__', '_check_cryptography', '_internal_utils', 'adapters', 'api', 'auth', 'certs', 'chardet_version', 'charset_normalizer_version', 'check_compatibility', 'codes', 'compat', 'cookies', 'delete', 'exceptions', 'get', 'head', 'hooks', 'logging', 'models', 'options', 'packages', 'patch', 'post', 'put', 'request', 'session', 'sessions', 'ssl', 'status_codes', 'structures', 'urllib3', 'utils', 'warnings']\n"
     ]
    }
   ],
   "source": [
    "import requests\n",
    "print(dir(requests))"
   ]
  },
  {
   "cell_type": "markdown",
   "id": "f430e2fd",
   "metadata": {},
   "source": [
    "\n",
    "## Funcion format"
   ]
  },
  {
   "cell_type": "code",
   "execution_count": 10,
   "id": "c7018555",
   "metadata": {},
   "outputs": [
    {
     "name": "stdout",
     "output_type": "stream",
     "text": [
      "Esto es variable = 10 y el tipo es <class 'int'>\n"
     ]
    }
   ],
   "source": [
    "variable = 10\n",
    "\n",
    "print(\"Esto es variable = {} y el tipo es {}\".format(variable, type(variable)))"
   ]
  },
  {
   "cell_type": "code",
   "execution_count": 11,
   "id": "1dd1f7f4",
   "metadata": {},
   "outputs": [
    {
     "name": "stdout",
     "output_type": "stream",
     "text": [
      "Esto es variable = <class 'int'> y el tipo es 10\n"
     ]
    }
   ],
   "source": [
    "variable = 10\n",
    "\n",
    "print(\"Esto es variable = {1} y el tipo es {0}\".format(variable, type(variable)))"
   ]
  },
  {
   "cell_type": "markdown",
   "id": "c4214fa5",
   "metadata": {},
   "source": [
    "## Funcion enumerate"
   ]
  },
  {
   "cell_type": "code",
   "execution_count": 16,
   "id": "8eaaaae5",
   "metadata": {},
   "outputs": [
    {
     "name": "stdout",
     "output_type": "stream",
     "text": [
      "Python\n",
      "Java\n",
      "scala\n",
      "\n",
      "\n",
      "Python 0\n",
      "Java 1\n",
      "scala 2\n",
      "\n",
      "\n",
      "Python 1\n",
      "Java 2\n",
      "scala 3\n"
     ]
    }
   ],
   "source": [
    "programming_languages = (\"Python\", \"Java\", \"scala\")\n",
    "\n",
    "for language in programming_languages:\n",
    "    print(language)\n",
    "\n",
    "print(\"\\n\")    \n",
    "for i, language in enumerate(programming_languages):\n",
    "    print(language, i)\n",
    "\n",
    "print(\"\\n\")  \n",
    "for i, language in enumerate(programming_languages, start=1):\n",
    "    print(language, i)"
   ]
  },
  {
   "cell_type": "markdown",
   "id": "eb033df9",
   "metadata": {},
   "source": [
    "## Funciones lambda\n",
    "Funcion lambda\n",
    "- Es una funcion anonima (sin nombre)\n",
    "- Puede recibir cualquier numero de argumentos pero solo puede tener una expresion.\n",
    "- \"lambda\" es una palabra clave en python que representa una funcion anonima dentro de otra funcion\n",
    "- La ventaja principal es usarla en combinacion con built-in funciona copmo map o filter\n",
    "- La funcion es regresada como valor por otra funcion"
   ]
  },
  {
   "cell_type": "code",
   "execution_count": 17,
   "id": "fae6eba9",
   "metadata": {},
   "outputs": [],
   "source": [
    "plus_ten = lambda x: x + 10"
   ]
  },
  {
   "cell_type": "code",
   "execution_count": 18,
   "id": "53c81894",
   "metadata": {},
   "outputs": [
    {
     "name": "stdout",
     "output_type": "stream",
     "text": [
      "20\n"
     ]
    }
   ],
   "source": [
    "print(plus_ten(10))"
   ]
  },
  {
   "cell_type": "code",
   "execution_count": 19,
   "id": "8ca442b6",
   "metadata": {},
   "outputs": [],
   "source": [
    "my_list = [10, 20, 30, 50]\n",
    "\n",
    "result = map(plus_ten, my_list)"
   ]
  },
  {
   "cell_type": "code",
   "execution_count": 21,
   "id": "28cf7733",
   "metadata": {},
   "outputs": [
    {
     "data": {
      "text/plain": [
       "[20, 30, 40, 60]"
      ]
     },
     "execution_count": 21,
     "metadata": {},
     "output_type": "execute_result"
    }
   ],
   "source": [
    "list(result)"
   ]
  },
  {
   "cell_type": "code",
   "execution_count": null,
   "id": "08e4aa8e",
   "metadata": {},
   "outputs": [],
   "source": []
  }
 ],
 "metadata": {
  "kernelspec": {
   "display_name": "Python 3 (ipykernel)",
   "language": "python",
   "name": "python3"
  },
  "language_info": {
   "codemirror_mode": {
    "name": "ipython",
    "version": 3
   },
   "file_extension": ".py",
   "mimetype": "text/x-python",
   "name": "python",
   "nbconvert_exporter": "python",
   "pygments_lexer": "ipython3",
   "version": "3.9.12"
  }
 },
 "nbformat": 4,
 "nbformat_minor": 5
}
