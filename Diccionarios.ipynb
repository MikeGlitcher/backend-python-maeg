{
 "cells": [
  {
   "cell_type": "markdown",
   "id": "9bf73d84",
   "metadata": {},
   "source": [
    "## Diferentes formas de crear diccionarios\n"
   ]
  },
  {
   "cell_type": "code",
   "execution_count": 1,
   "id": "217c0ffb",
   "metadata": {},
   "outputs": [
    {
     "name": "stdout",
     "output_type": "stream",
     "text": [
      "<class 'dict'>\n"
     ]
    }
   ],
   "source": [
    "my_dict = {}\n",
    "\n",
    "print(type(my_dict))"
   ]
  },
  {
   "cell_type": "code",
   "execution_count": 2,
   "id": "36f291e0",
   "metadata": {},
   "outputs": [
    {
     "name": "stdout",
     "output_type": "stream",
     "text": [
      "<class 'dict'>\n"
     ]
    }
   ],
   "source": [
    "my_dict = dict()\n",
    "\n",
    "print(type(my_dict))"
   ]
  },
  {
   "cell_type": "code",
   "execution_count": 3,
   "id": "5be3e18b",
   "metadata": {},
   "outputs": [
    {
     "name": "stdout",
     "output_type": "stream",
     "text": [
      "{1: 'uno', 2: 'dos', 3: 'tres', 4: 'cuatro', 5: 'cinco'}\n",
      "<class 'dict'>\n"
     ]
    }
   ],
   "source": [
    "# representando el diccionario como tal\n",
    "my_dict = {\n",
    "    1: \"uno\",\n",
    "    2: \"dos\",\n",
    "    3: \"tres\",\n",
    "    4: \"cuatro\",\n",
    "    5: \"cinco\"\n",
    "}\n",
    "\n",
    "print(my_dict)\n",
    "print(type(my_dict))"
   ]
  },
  {
   "cell_type": "code",
   "execution_count": 4,
   "id": "468735d1",
   "metadata": {},
   "outputs": [
    {
     "name": "stdout",
     "output_type": "stream",
     "text": [
      "{'1': 1, '2': 1, '3': 3, '4': 4, '5': 5}\n",
      "<class 'dict'>\n"
     ]
    }
   ],
   "source": [
    "# usando nombre de las llaves con valores\n",
    "my_dict = {\n",
    "    \"1\": 1,\n",
    "    \"2\": 1,\n",
    "    \"3\": 3,\n",
    "    \"4\": 4,\n",
    "    \"5\": 5\n",
    "}\n",
    "\n",
    "print(my_dict)\n",
    "print(type(my_dict))"
   ]
  },
  {
   "cell_type": "code",
   "execution_count": 5,
   "id": "da890d64",
   "metadata": {},
   "outputs": [
    {
     "name": "stdout",
     "output_type": "stream",
     "text": [
      "{1: 'uno', 2: 'dos', 3: 'tres'}\n",
      "<class 'dict'>\n"
     ]
    }
   ],
   "source": [
    "# usando una lista de ttuplas\n",
    "\n",
    "my_dict = dict([\n",
    "    (1, \"uno\"),\n",
    "    (2, \"dos\"),\n",
    "    (3, \"tres\")\n",
    "])\n",
    "\n",
    "print(my_dict)\n",
    "print(type(my_dict))"
   ]
  },
  {
   "cell_type": "markdown",
   "id": "1e80dc21",
   "metadata": {},
   "source": [
    "## Metodo update\n"
   ]
  },
  {
   "cell_type": "code",
   "execution_count": 6,
   "id": "7651a9d3",
   "metadata": {},
   "outputs": [
    {
     "name": "stdout",
     "output_type": "stream",
     "text": [
      "{1: 'uno', 2: 'dos', 3: 'tres', 4: 'cuatro', 5: 'cinco'}\n",
      "<class 'dict'>\n"
     ]
    }
   ],
   "source": [
    "my_dict = {\n",
    "    1: \"uno\",\n",
    "    2: \"dos\",\n",
    "    3: \"tres\"\n",
    "}\n",
    "\n",
    "my_dict2 = {\n",
    "    4: \"cuatro\",\n",
    "    5: \"cinco\"\n",
    "}\n",
    "\n",
    "my_dict.update(my_dict2)\n",
    "\n",
    "print(my_dict)\n",
    "print(type(my_dict))"
   ]
  },
  {
   "cell_type": "code",
   "execution_count": 10,
   "id": "4a6e817d",
   "metadata": {},
   "outputs": [
    {
     "name": "stdout",
     "output_type": "stream",
     "text": [
      "{1: 'uno', 2: 'dos', 3: 'TRES', 4: 'cuatro', 5: 'cinco'}\n",
      "<class 'dict'>\n"
     ]
    }
   ],
   "source": [
    "my_dict = {\n",
    "    1: \"uno\",\n",
    "    2: \"dos\",\n",
    "    3: \"tres\"\n",
    "}\n",
    "\n",
    "my_dict2 = {\n",
    "    3: \"TRES\",\n",
    "    4: \"cuatro\",\n",
    "    5: \"cinco\"\n",
    "}\n",
    "\n",
    "my_dict.update(my_dict2)\n",
    "\n",
    "print(my_dict)\n",
    "print(type(my_dict))"
   ]
  },
  {
   "cell_type": "markdown",
   "id": "ee8e0dcf",
   "metadata": {},
   "source": [
    "## Método update"
   ]
  },
  {
   "cell_type": "code",
   "execution_count": 11,
   "id": "b5ec9bee",
   "metadata": {},
   "outputs": [
    {
     "name": "stdout",
     "output_type": "stream",
     "text": [
      "{1: 'uno', 2: 'dos', 3: 'tres'}\n",
      "{3: 'TRES', 4: 'cuatro', 5: 'cinco'}\n",
      "{1: 'uno', 2: 'dos', 3: 'TRES', 4: 'cuatro', 5: 'cinco'}\n",
      "<class 'dict'>\n"
     ]
    }
   ],
   "source": [
    "my_dict = {\n",
    "    1: \"uno\",\n",
    "    2: \"dos\",\n",
    "    3: \"tres\"\n",
    "}\n",
    "\n",
    "my_dict2 = {\n",
    "    3: \"TRES\",\n",
    "    4: \"cuatro\",\n",
    "    5: \"cinco\"\n",
    "}\n",
    "\n",
    "print(my_dict)\n",
    "\n",
    "print(my_dict2)\n",
    "\n",
    "my_dict.update(my_dict2)\n",
    "\n",
    "print(my_dict)\n",
    "print(type(my_dict))"
   ]
  },
  {
   "cell_type": "markdown",
   "id": "c834ced7",
   "metadata": {},
   "source": [
    "## Copy & Alias"
   ]
  },
  {
   "cell_type": "code",
   "execution_count": 12,
   "id": "ba6384a4",
   "metadata": {},
   "outputs": [
    {
     "name": "stdout",
     "output_type": "stream",
     "text": [
      "{'dell': 11845, 'lenovo': 3654, 'Apple': 84753, 'hp': 9999}\n",
      "{'dell': 11845, 'lenovo': 3654, 'Apple': 84753, 'hp': 9999}\n"
     ]
    }
   ],
   "source": [
    "my_dict = {\n",
    "    \"dell\": 11845,\n",
    "    \"lenovo\": 3654,\n",
    "    \"Apple\": 84753\n",
    "}\n",
    "\n",
    "alias = my_dict # no es recomendable\n",
    "copy = my_dict.copy() # siempre es recomendable\n",
    "\n",
    "alias[\"hp\"] = 9999\n",
    "\n",
    "print(alias)\n",
    "print(my_dict)"
   ]
  },
  {
   "cell_type": "code",
   "execution_count": 15,
   "id": "51b81fc3",
   "metadata": {},
   "outputs": [
    {
     "name": "stdout",
     "output_type": "stream",
     "text": [
      "{'dell': 11845, 'lenovo': 3654, 'Apple': 84753}\n",
      "{'dell': 11845, 'lenovo': 3654, 'Apple': 84753}\n",
      "{'dell': 11845, 'lenovo': 3654, 'Apple': 84753, 'hp': 9999}\n"
     ]
    }
   ],
   "source": [
    "# usar copy es la forma correcta ya que mantiene los valores del diccionario original\n",
    "\n",
    "my_dict = {\n",
    "    \"dell\": 11845,\n",
    "    \"lenovo\": 3654,\n",
    "    \"Apple\": 84753\n",
    "}\n",
    "\n",
    "alias = my_dict # no es recomendable\n",
    "copy = my_dict.copy() # siempre es recomendable\n",
    "\n",
    "copy[\"hp\"] = 9999\n",
    "\n",
    "print(alias)\n",
    "print(my_dict)\n",
    "print(copy)"
   ]
  },
  {
   "cell_type": "markdown",
   "id": "6aada14b",
   "metadata": {},
   "source": [
    "## Obtener las keys/llaves y values/valores por separado"
   ]
  },
  {
   "cell_type": "code",
   "execution_count": 16,
   "id": "a1424600",
   "metadata": {},
   "outputs": [
    {
     "name": "stdout",
     "output_type": "stream",
     "text": [
      "dict_keys(['dell', 'lenovo', 'Apple'])\n"
     ]
    }
   ],
   "source": [
    "my_dict = {\n",
    "    \"dell\": 11845,\n",
    "    \"lenovo\": 3654,\n",
    "    \"Apple\": 84753\n",
    "}\n",
    "\n",
    "print(my_dict.keys())"
   ]
  },
  {
   "cell_type": "code",
   "execution_count": 20,
   "id": "e83536f6",
   "metadata": {},
   "outputs": [
    {
     "name": "stdout",
     "output_type": "stream",
     "text": [
      "dell  =  11845\n",
      "lenovo  =  3654\n",
      "Apple  =  84753\n"
     ]
    }
   ],
   "source": [
    "for key in my_dict.keys():\n",
    "    print(key, \" = \", my_dict[key])"
   ]
  },
  {
   "cell_type": "markdown",
   "id": "fcc67c20",
   "metadata": {},
   "source": [
    "## values"
   ]
  },
  {
   "cell_type": "code",
   "execution_count": 21,
   "id": "b70c2d74",
   "metadata": {},
   "outputs": [
    {
     "name": "stdout",
     "output_type": "stream",
     "text": [
      "dict_values([11845, 3654, 84753])\n"
     ]
    }
   ],
   "source": [
    "print(my_dict.values())"
   ]
  },
  {
   "cell_type": "code",
   "execution_count": 22,
   "id": "da714769",
   "metadata": {},
   "outputs": [
    {
     "name": "stdout",
     "output_type": "stream",
     "text": [
      "11845\n",
      "3654\n",
      "84753\n"
     ]
    }
   ],
   "source": [
    "for value in my_dict.values():\n",
    "    print(value)"
   ]
  },
  {
   "cell_type": "code",
   "execution_count": 28,
   "id": "f766a8c2",
   "metadata": {},
   "outputs": [
    {
     "name": "stdout",
     "output_type": "stream",
     "text": [
      "dell 11845\n",
      "lenovo 3654\n",
      "Apple 84753\n"
     ]
    }
   ],
   "source": [
    "my_dict = {\n",
    "    \"dell\": 11845,\n",
    "    \"lenovo\": 3654,\n",
    "    \"Apple\": 84753\n",
    "}\n",
    "\n",
    "\n",
    "def get_key(d, val):\n",
    "    keys = [k for k, v in d.items() if v == val]\n",
    "    if keys:\n",
    "        return keys[0]\n",
    "    \n",
    "    return None\n",
    "\n",
    "for value in my_dict.values():\n",
    "    print(get_key(my_dict, value), value)"
   ]
  },
  {
   "cell_type": "markdown",
   "id": "9568d3b8",
   "metadata": {},
   "source": [
    "## Obteniendo las keys y values al mismo tiempo\n",
    "\n",
    "#### items"
   ]
  },
  {
   "cell_type": "code",
   "execution_count": 29,
   "id": "47cd7d10",
   "metadata": {},
   "outputs": [
    {
     "name": "stdout",
     "output_type": "stream",
     "text": [
      "dell 11845\n",
      "lenovo 3654\n",
      "Apple 84753\n"
     ]
    }
   ],
   "source": [
    "for key,value in my_dict.items():\n",
    "    print(key, value)"
   ]
  },
  {
   "cell_type": "markdown",
   "id": "d17add81",
   "metadata": {},
   "source": [
    "### Métodos para manipulacion de Diccionarios"
   ]
  },
  {
   "cell_type": "markdown",
   "id": "e56dcc67",
   "metadata": {},
   "source": [
    "### Clear"
   ]
  },
  {
   "cell_type": "code",
   "execution_count": 31,
   "id": "39e1c8c6",
   "metadata": {},
   "outputs": [
    {
     "name": "stdout",
     "output_type": "stream",
     "text": [
      "{'dell': 11845, 'lenovo': 3654, 'Apple': 84753}\n",
      "{}\n"
     ]
    }
   ],
   "source": [
    "my_dict = {\n",
    "    \"dell\": 11845,\n",
    "    \"lenovo\": 3654,\n",
    "    \"Apple\": 84753\n",
    "}\n",
    "\n",
    "print(my_dict)\n",
    "\n",
    "my_dict.clear()\n",
    "\n",
    "print(my_dict)"
   ]
  },
  {
   "cell_type": "markdown",
   "id": "b5659b56",
   "metadata": {},
   "source": [
    "### Copy"
   ]
  },
  {
   "cell_type": "code",
   "execution_count": 35,
   "id": "d3cda404",
   "metadata": {},
   "outputs": [
    {
     "name": "stdout",
     "output_type": "stream",
     "text": [
      "{'dell': 11845, 'lenovo': 3654, 'Apple': 84753}\n",
      "{}\n"
     ]
    }
   ],
   "source": [
    "\n",
    "my_dict = {\n",
    "    \"dell\": 11845,\n",
    "    \"lenovo\": 3654,\n",
    "    \"Apple\": 84753\n",
    "}\n",
    "\n",
    "copy = my_dict.copy() # siempre es recomendable\n",
    "\n",
    "copy.clear()\n",
    "\n",
    "print(my_dict)\n",
    "\n",
    "print(copy)"
   ]
  },
  {
   "cell_type": "markdown",
   "id": "88acd07a",
   "metadata": {},
   "source": [
    "### fromkeys\n",
    "-Construior uin nuevo diccionario tomando como referencia las kes/llaves en un diccionario"
   ]
  },
  {
   "cell_type": "code",
   "execution_count": 39,
   "id": "ea59fa54",
   "metadata": {},
   "outputs": [
    {
     "name": "stdout",
     "output_type": "stream",
     "text": [
      "{'dell': 'MArca', 'lenovo': 'MArca', 'Apple': 'MArca'}\n"
     ]
    }
   ],
   "source": [
    "my_dict = {\n",
    "    \"dell\": 11845,\n",
    "    \"lenovo\": 3654,\n",
    "    \"Apple\": 84753\n",
    "}\n",
    "\n",
    "category = \"MArca\"\n",
    "new_dict = dict.fromkeys(my_dict, category)\n",
    "\n",
    "print(new_dict)"
   ]
  },
  {
   "cell_type": "markdown",
   "id": "acd6f1ea",
   "metadata": {},
   "source": [
    "### get\n",
    "-Obtener el valor de un diccionario de forma segura y con la opcion de configurar el valor por default"
   ]
  },
  {
   "cell_type": "code",
   "execution_count": 43,
   "id": "c6e1fc0e",
   "metadata": {},
   "outputs": [
    {
     "name": "stdout",
     "output_type": "stream",
     "text": [
      "3654\n",
      "None\n"
     ]
    }
   ],
   "source": [
    "my_dict = {\n",
    "    \"dell\": 11845,\n",
    "    \"lenovo\": 3654,\n",
    "    \"Apple\": 84753\n",
    "}\n",
    "\n",
    "print(my_dict.get(\"lenovo\"))\n",
    "\n",
    "print(my_dict.get(\"asus\", None))"
   ]
  },
  {
   "cell_type": "markdown",
   "id": "9a29856e",
   "metadata": {},
   "source": [
    "### items\n",
    "-Obtener cada llave y valor en el diccionario de manera simultanea"
   ]
  },
  {
   "cell_type": "code",
   "execution_count": 44,
   "id": "82dc751d",
   "metadata": {},
   "outputs": [
    {
     "name": "stdout",
     "output_type": "stream",
     "text": [
      "dell 11845\n",
      "lenovo 3654\n",
      "Apple 84753\n"
     ]
    }
   ],
   "source": [
    "for key,value in my_dict.items():\n",
    "    print(key, value)"
   ]
  },
  {
   "cell_type": "markdown",
   "id": "c126ff51",
   "metadata": {},
   "source": [
    "### keys\n",
    "-sirve para obtener las llaves de un diccionario"
   ]
  },
  {
   "cell_type": "code",
   "execution_count": 45,
   "id": "fd6bed78",
   "metadata": {},
   "outputs": [
    {
     "name": "stdout",
     "output_type": "stream",
     "text": [
      "dell\n",
      "lenovo\n",
      "Apple\n"
     ]
    }
   ],
   "source": [
    "my_dict = {\n",
    "    \"dell\": 11845,\n",
    "    \"lenovo\": 3654,\n",
    "    \"Apple\": 84753\n",
    "}\n",
    "\n",
    "for key in my_dict.keys():\n",
    "    print(key)"
   ]
  },
  {
   "cell_type": "markdown",
   "id": "449cd9a9",
   "metadata": {},
   "source": [
    "### values\n",
    "obtener los valores del diccionario"
   ]
  },
  {
   "cell_type": "code",
   "execution_count": 46,
   "id": "910f8dcc",
   "metadata": {},
   "outputs": [
    {
     "name": "stdout",
     "output_type": "stream",
     "text": [
      "11845\n",
      "3654\n",
      "84753\n"
     ]
    }
   ],
   "source": [
    "my_dict = {\n",
    "    \"dell\": 11845,\n",
    "    \"lenovo\": 3654,\n",
    "    \"Apple\": 84753\n",
    "}\n",
    "\n",
    "for value in my_dict.values():\n",
    "    print(value)"
   ]
  },
  {
   "cell_type": "markdown",
   "id": "b5ceda18",
   "metadata": {},
   "source": [
    "### pop\n",
    "-elimina la llave y valor de un diccionario pasando la lllave como parametro"
   ]
  },
  {
   "cell_type": "code",
   "execution_count": 47,
   "id": "27bde8b5",
   "metadata": {},
   "outputs": [
    {
     "name": "stdout",
     "output_type": "stream",
     "text": [
      "{'dell': 11845, 'lenovo': 3654, 'Apple': 84753}\n",
      "{'lenovo': 3654, 'Apple': 84753}\n"
     ]
    }
   ],
   "source": [
    "my_dict = {\n",
    "    \"dell\": 11845,\n",
    "    \"lenovo\": 3654,\n",
    "    \"Apple\": 84753\n",
    "}\n",
    "\n",
    "print(my_dict)\n",
    "\n",
    "my_dict.pop(\"dell\")\n",
    "\n",
    "print(my_dict)"
   ]
  },
  {
   "cell_type": "code",
   "execution_count": 48,
   "id": "eea0742b",
   "metadata": {},
   "outputs": [
    {
     "name": "stdout",
     "output_type": "stream",
     "text": [
      "{'lenovo': 3654, 'Apple': 84753}\n"
     ]
    },
    {
     "ename": "KeyError",
     "evalue": "'asus'",
     "output_type": "error",
     "traceback": [
      "\u001b[1;31m---------------------------------------------------------------------------\u001b[0m",
      "\u001b[1;31mKeyError\u001b[0m                                  Traceback (most recent call last)",
      "Input \u001b[1;32mIn [48]\u001b[0m, in \u001b[0;36m<cell line: 3>\u001b[1;34m()\u001b[0m\n\u001b[0;32m      1\u001b[0m \u001b[38;5;28mprint\u001b[39m(my_dict)\n\u001b[1;32m----> 3\u001b[0m \u001b[43mmy_dict\u001b[49m\u001b[38;5;241;43m.\u001b[39;49m\u001b[43mpop\u001b[49m\u001b[43m(\u001b[49m\u001b[38;5;124;43m\"\u001b[39;49m\u001b[38;5;124;43masus\u001b[39;49m\u001b[38;5;124;43m\"\u001b[39;49m\u001b[43m)\u001b[49m\n\u001b[0;32m      5\u001b[0m \u001b[38;5;28mprint\u001b[39m(my_dict)\n",
      "\u001b[1;31mKeyError\u001b[0m: 'asus'"
     ]
    }
   ],
   "source": [
    "print(my_dict)\n",
    "\n",
    "my_dict.pop(\"asus\")\n",
    "\n",
    "print(my_dict)"
   ]
  },
  {
   "cell_type": "code",
   "execution_count": 49,
   "id": "8694b827",
   "metadata": {},
   "outputs": [
    {
     "name": "stdout",
     "output_type": "stream",
     "text": [
      "{'dell': 11845, 'lenovo': 3654, 'Apple': 84753}\n",
      "{'dell': 11845, 'lenovo': 3654, 'Apple': 84753}\n"
     ]
    }
   ],
   "source": [
    "my_dict = {\n",
    "    \"dell\": 11845,\n",
    "    \"lenovo\": 3654,\n",
    "    \"Apple\": 84753\n",
    "}\n",
    "\n",
    "print(my_dict)\n",
    "if \"asus\" in my_dict.keys():\n",
    "    \n",
    "    my_dict.pop(\"asus\")\n",
    "\n",
    "print(my_dict)"
   ]
  },
  {
   "cell_type": "markdown",
   "id": "3bc0227b",
   "metadata": {},
   "source": [
    "### popitem\n",
    "-elimina el indicie -1 de un diccionario (el ultimo elemento)"
   ]
  },
  {
   "cell_type": "code",
   "execution_count": 50,
   "id": "bcc24a43",
   "metadata": {},
   "outputs": [
    {
     "name": "stdout",
     "output_type": "stream",
     "text": [
      "{'dell': 11845, 'lenovo': 3654, 'Apple': 84753}\n",
      "{'dell': 11845, 'lenovo': 3654}\n"
     ]
    }
   ],
   "source": [
    "my_dict = {\n",
    "    \"dell\": 11845,\n",
    "    \"lenovo\": 3654,\n",
    "    \"Apple\": 84753\n",
    "}\n",
    "\n",
    "print(my_dict)\n",
    "\n",
    "my_dict.popitem()\n",
    "\n",
    "print(my_dict)"
   ]
  },
  {
   "cell_type": "markdown",
   "id": "2a2b6e1b",
   "metadata": {},
   "source": [
    "### setdefault\n",
    "-Configura un valor por default para cierta llave en caso que no este presente en el diccionario\n",
    "-Si la llave esta presente, no tendrá ningun efecto"
   ]
  },
  {
   "cell_type": "code",
   "execution_count": 56,
   "id": "c2e11129",
   "metadata": {},
   "outputs": [
    {
     "name": "stdout",
     "output_type": "stream",
     "text": [
      "84753\n",
      "50000\n"
     ]
    }
   ],
   "source": [
    "my_dict = {\n",
    "    \"dell\": 11845,\n",
    "    \"lenovo\": 3654,\n",
    "    \"Apple\": 84753\n",
    "}\n",
    "\n",
    "my_dict2 = {\n",
    "    \"dell\": 11845,\n",
    "    \"lenovo\": 3654\n",
    "}\n",
    "\n",
    "my_dict.setdefault(\"Apple\", 50000)\n",
    "my_dict2.setdefault(\"Apple\", 50000)\n",
    "\n",
    "print(my_dict.get(\"Apple\"))\n",
    "\n",
    "print(my_dict2.get(\"Apple\"))"
   ]
  },
  {
   "cell_type": "code",
   "execution_count": null,
   "id": "da3bb456",
   "metadata": {},
   "outputs": [],
   "source": []
  }
 ],
 "metadata": {
  "kernelspec": {
   "display_name": "Python 3 (ipykernel)",
   "language": "python",
   "name": "python3"
  },
  "language_info": {
   "codemirror_mode": {
    "name": "ipython",
    "version": 3
   },
   "file_extension": ".py",
   "mimetype": "text/x-python",
   "name": "python",
   "nbconvert_exporter": "python",
   "pygments_lexer": "ipython3",
   "version": "3.9.12"
  }
 },
 "nbformat": 4,
 "nbformat_minor": 5
}
