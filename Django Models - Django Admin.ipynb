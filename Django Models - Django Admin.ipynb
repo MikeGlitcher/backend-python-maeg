{
 "cells": [
  {
   "cell_type": "markdown",
   "id": "5cdfc5a8",
   "metadata": {},
   "source": [
    "## Hacer cambios en Modelos\n"
   ]
  },
  {
   "cell_type": "code",
   "execution_count": null,
   "id": "7b9b6669",
   "metadata": {},
   "outputs": [],
   "source": [
    "from django.db import models\n",
    "\n",
    "# Create your models here.\n",
    "\n",
    "class ProducModel(models.Model):\n",
    "    title = models.TextField()\n",
    "    price = models.FloatField()\n",
    "    description = models.TextField()\n",
    "    color = models.TextField(null=True)\n",
    "    short_description = models.TextField(null=True)"
   ]
  },
  {
   "cell_type": "markdown",
   "id": "cfe8ab58",
   "metadata": {},
   "source": [
    "- python manage.py makemigrations\n",
    "- python manage.py migrate"
   ]
  },
  {
   "cell_type": "markdown",
   "id": "f51b14c1",
   "metadata": {},
   "source": [
    "## Borrar un campo en los modelos"
   ]
  },
  {
   "cell_type": "code",
   "execution_count": null,
   "id": "02b29e6b",
   "metadata": {},
   "outputs": [],
   "source": [
    "from django.db import models\n",
    "\n",
    "# Create your models here.\n",
    "\n",
    "class ProducModel(models.Model):\n",
    "    title = models.TextField()\n",
    "    price = models.FloatField()\n",
    "    description = models.TextField()\n",
    "    color = models.TextField(null=True)\n",
    "    short_description = models.TextField(null=True)"
   ]
  },
  {
   "cell_type": "markdown",
   "id": "4929fbe9",
   "metadata": {},
   "source": [
    "- python manage.py makemigrations\n",
    "- python manage.py migrate"
   ]
  },
  {
   "cell_type": "markdown",
   "id": "9a9441d4",
   "metadata": {},
   "source": [
    "## Borrar y comprimir una migración\n",
    "\n",
    "\n",
    "pthon manage.py squashmigrations <APP_LABEL> <MIGRATION_NUMBER>\n",
    "\n",
    "- pthon manage.py squashmigrations ecommerce 004\n",
    "- pthon manage.py migrate\n",
    "\n",
    "\n",
    "## Guardando data usando el shell de Django\n",
    "\n",
    "- python manage.py shell"
   ]
  },
  {
   "cell_type": "code",
   "execution_count": null,
   "id": "0285eb53",
   "metadata": {},
   "outputs": [],
   "source": [
    ">> from ecommerce.models import ProductModel\n",
    ">> ProductModel.objects.create(title=\"Producto 1\", price=\"199.99\")\n",
    "\n",
    "\n",
    "Queryset: Lista de todos los objetos almancenados para cierto modelo\n",
    "    \n",
    "    \n",
    "queryset = ProductModel.objects.all()\n",
    "qs = ProductModel.object.all()\n",
    "\n",
    "queryset.filter(title__incontains=\"producto\")\n",
    "\n",
    ">> my_product = ProductModel.objects.get(id=18)\n",
    ">> my_product.description\n",
    "\"Es una Prueba\"\n",
    ">> my_product.price\n",
    "199.99\n",
    ">> my_product.price = 299.99\n",
    ">> my_product.save()"
   ]
  },
  {
   "cell_type": "markdown",
   "id": "adad5973",
   "metadata": {},
   "source": [
    "## Validaciones\n",
    "\n",
    "ecommerce/validators.py"
   ]
  },
  {
   "cell_type": "code",
   "execution_count": null,
   "id": "c6961190",
   "metadata": {},
   "outputs": [],
   "source": [
    "from django.core.exceptions import ValidationError\n",
    "\n",
    "LOCKED_WORDS = [\n",
    "    \"barato\",\n",
    "    \"malo\"\n",
    "]\n",
    "\n",
    "def validate_blocked_words(value):\n",
    "    init_string = f\"{value}\",lower()\n",
    "    unique_words = set(init_string.split())\n",
    "    blocked_words = set(BLOCKED_WORDS)\n",
    "    invalid_words = (unique_words & blocked_words)\n",
    "    has_error = len(invalid_words) > 0\n",
    "\n",
    "    if has_error:\n",
    "        errors = []\n",
    "        for invalid_word in invalid_words:\n",
    "            msg = \"{} es una palabra no permitida\".format(invalid_word)\n",
    "            errors.append(msg)\n",
    "        raise ValidationError(errors)\n",
    "\n",
    "    return value"
   ]
  },
  {
   "cell_type": "markdown",
   "id": "3452cb57",
   "metadata": {},
   "source": [
    "## ecommerce/models.py"
   ]
  },
  {
   "cell_type": "code",
   "execution_count": null,
   "id": "684941c5",
   "metadata": {},
   "outputs": [],
   "source": [
    "from django.db import models\n",
    "from .validators import validate_blocked_words\n",
    "\n",
    "PUBLISH_STATE_CHOICES = [\n",
    "    (\"BR\", \"BORRADOR\"),\n",
    "    (\"PU\", \"PUBLICADO\"),\n",
    "    (\"PR\", \"PRIVADO\"),\n",
    "]\n",
    "\n",
    "\n",
    "# Create your models here.\n",
    "\n",
    "class ProducModel(models.Model):\n",
    "    title = models.TextField()\n",
    "    price = models.FloatField()\n",
    "    description = models.TextField()\n",
    "    color = models.TextField()\n",
    "\n",
    "    def save(self, *args, **kwargs):\n",
    "        validate_blocked_words (self.title) \n",
    "        super().save(*args, **kwargs)\n",
    "\n",
    "\n",
    "class ProductModel(models.Model):\n",
    "    state = models.CharField(max_length=2, choices=PUBLISH_STATE_CHOICES, default=\"BR\")\n",
    "    title =  models.TextField() \n",
    "    price =  models.FloatField()\n",
    "    description = models.TextField(null=True)\n",
    "\n",
    "    def save(self, *args, **kwargs): \n",
    "        validate_blocked_words(self.title) \n",
    "        super().save(*args, **kwargs)\n",
    "\n",
    "    def is_published(self): \n",
    "        return self.state == \"PU\""
   ]
  },
  {
   "cell_type": "markdown",
   "id": "649c91c6",
   "metadata": {},
   "source": [
    "## como agregar opciones avanzadas a los campos de nuestros Modelos\n"
   ]
  },
  {
   "cell_type": "code",
   "execution_count": null,
   "id": "9b61cad2",
   "metadata": {},
   "outputs": [],
   "source": [
    "from django.db import models\n",
    "from .validators import validate_blocked_words\n",
    "\n",
    "\n",
    "# Create your models here.\n",
    "\n",
    "class ProducModel(models.Model):\n",
    "    class ProducStateOptions(models.TextChoices):\n",
    "        PUBLISHED = \"PU\", \"PUBLICADO\"\n",
    "        DRAFT = \"BR\", \"BORRADOR\"\n",
    "        PRIVATE = \"PR\", \"PRIVADO\"\n",
    "\n",
    "    state = models.CharField(max_length=2, choices=ProducStateOptions.choices, default=ProducStateOptions.DRAFT)\n",
    "    title =  models.TextField() \n",
    "    price =  models.FloatField()\n",
    "    color =  models.FloatField()\n",
    "    description = models.TextField(null=True)\n",
    "\n",
    "    def save(self, *args, **kwargs): \n",
    "        validate_blocked_words(self.title) \n",
    "        super().save(*args, **kwargs)\n",
    "\n",
    "    def is_published(self): \n",
    "        return self.state == self.ProducStateOptions.PUBLISHED"
   ]
  },
  {
   "cell_type": "markdown",
   "id": "f91f9d8f",
   "metadata": {},
   "source": [
    "## MOdelo abstracto de BASE"
   ]
  },
  {
   "cell_type": "code",
   "execution_count": null,
   "id": "f13beec3",
   "metadata": {},
   "outputs": [],
   "source": [
    "python manage.py startapp base"
   ]
  },
  {
   "cell_type": "code",
   "execution_count": null,
   "id": "529b82e6",
   "metadata": {},
   "outputs": [],
   "source": [
    "base/models.py"
   ]
  },
  {
   "cell_type": "code",
   "execution_count": null,
   "id": "574c0061",
   "metadata": {},
   "outputs": [],
   "source": [
    "from django.db import models\n",
    "from django.utils import timezone\n",
    "\n",
    "class BasePublishModel(models.Model):\n",
    "    class PublishStateOptions (models.TextChoices):\n",
    "        PUBLISHED = \"PU\", \"PUBLICADO\"\n",
    "        DRAFT = \"BR\", \"BORRADOR\"\n",
    "        PRIVATE = \"PR\", \"PRIVADO\"\n",
    "\n",
    "    state = models.CharField(max_length=2, choices=PublishStateOptions.choices, default=PublishStateOptions.DRAFT)\n",
    "    timestamp = models.DateTimeField(auto_now_add=True) \n",
    "    updated = models.DateTimeField(auto_now_add=True)\n",
    "    publish_timestamp = models.DateTimeField(auto_now_add=False, auto_now=False, null=True)\n",
    "\n",
    "    class Meta:\n",
    "        abstract = True\n",
    "        ordering = [\"-updated\", \"-timestamp\"]\n",
    "\n",
    "    \n",
    "    def save(self, *args, **kwargs): \n",
    "        if self.state_is_published and self.publish_timestamp is None:\n",
    "            self.publish_timestamp = timezone.now()\n",
    "\n",
    "        else: \n",
    "            self.publish_timestamp= None\n",
    "\n",
    "        super().save(*args, **kwargs)\n",
    "\n",
    "    @property\n",
    "    def state_is_published(self):\n",
    "        return self.state == self.PublishStateOptions.PUBLISHED\n",
    "\n",
    "    def is_published(self):\n",
    "        publish_timestamp = self.publish_timestamp\n",
    "        return self.state_is_published and publish_timestamp < timezone.now()"
   ]
  },
  {
   "cell_type": "code",
   "execution_count": null,
   "id": "0fe1b5a5",
   "metadata": {},
   "outputs": [],
   "source": [
    "from django.db import models\n",
    "from base.models import BasePublishModel\n",
    "from .validators import validate_blocked_words\n",
    "\n",
    "\n",
    "class ProducModel(BasePublishModel):\n",
    "    title =  models.TextField() \n",
    "    price =  models.FloatField()\n",
    "    color =  models.FloatField()\n",
    "    description = models.TextField(null=True)\n",
    "\n",
    "    def save(self, *args, **kwargs): \n",
    "        validate_blocked_words(self.title) \n",
    "        super().save(*args, **kwargs)\n"
   ]
  },
  {
   "cell_type": "code",
   "execution_count": null,
   "id": "53e2a495",
   "metadata": {},
   "outputs": [],
   "source": [
    "config/settings.py\n",
    "\n",
    "# Application definitions\n",
    "INSTALLED_APPS = [\n",
    "    \"ecommerce.apps.EcommerceConfig\",\n",
    "    \"pages.apps.PagesConfig\",\n",
    "    \"base.apps.BaseConfig\",\n",
    "    \"django.contrib.admin\",\n",
    "    \"django.contrib.auth\",\n",
    "    \"django.contrib.contenttypes\",\n",
    "    \"django.contrib.sessions\",\n",
    "    \"django.contrib.messages\",\n",
    "    \"django.contrib.staticfiles\",\n",
    "]"
   ]
  },
  {
   "cell_type": "code",
   "execution_count": null,
   "id": "9798a371",
   "metadata": {},
   "outputs": [],
   "source": [
    "python manage.py makemigrations\n",
    "python manage.py migrate"
   ]
  },
  {
   "cell_type": "markdown",
   "id": "ce9f2b8d",
   "metadata": {},
   "source": [
    "## Creacion a GRANEL"
   ]
  },
  {
   "cell_type": "code",
   "execution_count": null,
   "id": "a1f942b3",
   "metadata": {},
   "outputs": [],
   "source": [
    "products_data = [\n",
    "    {\"title\": \"Producto 1\", \"price\": 19.99},\n",
    "    {\"title\": \"Producto 1\", \"price\": 98.99},\n",
    "    {\"title\": \"Producto 1\", \"price\": 84.99},\n",
    "    {\"title\": \"Producto 1\", \"price\": 79.99},\n",
    "    {\"title\": \"Producto 1\", \"price\": 9.99}\n",
    "]"
   ]
  },
  {
   "cell_type": "code",
   "execution_count": null,
   "id": "9705c78c",
   "metadata": {},
   "outputs": [],
   "source": [
    "products_data = []\n",
    "\n",
    "for i in range(1, 11):\n",
    "        new_data = {\"title\": \"Producto {}\".format(i), \"price\": i*100+99.99}\n",
    "        products_data.append(new_data)"
   ]
  },
  {
   "cell_type": "code",
   "execution_count": null,
   "id": "859f70c0",
   "metadata": {},
   "outputs": [],
   "source": [
    "new_objects = []\n",
    "\n",
    "for product_data in products_data():\n",
    "    print(product_data)\n",
    "    new_objects.append(ProductModel(**product_data))"
   ]
  },
  {
   "cell_type": "markdown",
   "id": "ea174774",
   "metadata": {},
   "source": [
    "## SlugField y señales en Modelos"
   ]
  },
  {
   "cell_type": "markdown",
   "id": "84d8d083",
   "metadata": {},
   "source": [
    "slug: se usa para los urls\n",
    "title: escritorio con altura ajustable\n",
    "slug: /escritorio-con-altura-ajustable\n",
    "url: www.mywebsite.com/escritorio-con-altura-ajustable\n",
    "url: www.mywebsite.com/1"
   ]
  },
  {
   "cell_type": "markdown",
   "id": "70c36630",
   "metadata": {},
   "source": [
    "Signals / Señales\n",
    "\n",
    "- pre_save\n",
    "- post_save\n",
    "- pre_delete\n",
    "- post_delete\n",
    "- pre_init\n",
    "- post_init\n",
    "- pre_migrate\n",
    "- post_migrate\n"
   ]
  },
  {
   "cell_type": "code",
   "execution_count": null,
   "id": "f34534b2",
   "metadata": {},
   "outputs": [],
   "source": [
    "from django.db.models import signals\n",
    "dir(signals)"
   ]
  },
  {
   "cell_type": "code",
   "execution_count": null,
   "id": "069e7475",
   "metadata": {},
   "outputs": [],
   "source": [
    "ecommerce/models.py"
   ]
  },
  {
   "cell_type": "code",
   "execution_count": null,
   "id": "f6413d90",
   "metadata": {},
   "outputs": [],
   "source": [
    "from django.db import models\n",
    "from django.db.models.signals import pre_save\n",
    "from django.utils.text import slugify\n",
    "from base.models import BasePublishModel\n",
    "from .validators import validate_blocked_words\n",
    "\n",
    "\n",
    "# Create your models here.\n",
    "\n",
    "class ProducModel(BasePublishModel):\n",
    "    title =  models.TextField() \n",
    "    price =  models.FloatField()\n",
    "    color =  models.FloatField()\n",
    "    description = models.TextField(null=True)\n",
    "\n",
    "    def det_absolute_url(self):\n",
    "        return f\"/product/{self.slug}\"\n",
    "\n",
    "    def save(self, *args, **kwargs): \n",
    "        validate_blocked_words(self.title) \n",
    "        super().save(*args, **kwargs)\n",
    "\n",
    "def slugify_pre_save(sender, instance, *args, **kwargs):\n",
    "    if instance.slug is None or instance.slug == \"\":\n",
    "        new_slug = slugify(instance.title)\n",
    "        MyModel = instance.__class__\n",
    "        qs = MyModel.objetos.filter(slug__startswith=new_slug).exclude(id=instance.id)\n",
    "        if qs.count() == 0:\n",
    "            instance.slug = new_slug\n",
    "        else:\n",
    "            instance.slug = f\"{new_slug}-{qs.count()}\"\n",
    "            \n",
    "pre_save.connect(slugify_pre_save, sender=ProducModel)"
   ]
  },
  {
   "cell_type": "markdown",
   "id": "3f2e43ae",
   "metadata": {},
   "source": [
    "python manage.py makemigrations\n",
    "python manage.py migrate"
   ]
  },
  {
   "cell_type": "markdown",
   "id": "adb86c46",
   "metadata": {},
   "source": [
    "## Fixtures para cargar Data"
   ]
  },
  {
   "cell_type": "code",
   "execution_count": null,
   "id": "4790528f",
   "metadata": {},
   "outputs": [],
   "source": [
    "python manage.py dumpdata ecommerce --indent 4 --format json"
   ]
  },
  {
   "cell_type": "code",
   "execution_count": null,
   "id": "1f8bf3bc",
   "metadata": {},
   "outputs": [],
   "source": [
    "python manage.py sumpdata ecommerce --indent 4 --format json > ecommerce /fixtures/ecommerce/ProductModel.json"
   ]
  },
  {
   "cell_type": "code",
   "execution_count": null,
   "id": "6f823e5b",
   "metadata": {},
   "outputs": [],
   "source": [
    "from django.conf import settings\n",
    "from django.db import models\n",
    "from django.db.models.signals import pre_save\n",
    "from django.utils.text import slugify\n",
    "from base.models import BasePublishModel\n",
    "from .validators import validate_blocked_words\n",
    "\n",
    "User = settings.AUTH_USER_MODEL\n",
    "\n",
    "\n",
    "# Create your models here.\n",
    "\n",
    "class ProducModel(BasePublishModel):\n",
    "    title =  models.TextField() \n",
    "    price =  models.FloatField()\n",
    "    color =  models.FloatField()\n",
    "    description = models.TextField(null=True)\n",
    "    user = models.ForeignKey(User, null= True, on_delete=models.SET_NULL)\n",
    "\n",
    "    def det_absolute_url(self):\n",
    "        return f\"/product/{self.slug}\"\n",
    "\n",
    "    def save(self, *args, **kwargs): \n",
    "        validate_blocked_words(self.title) \n",
    "        super().save(*args, **kwargs)\n",
    "\n",
    "def slugify_pre_save(sender, instance, *args, **kwargs):\n",
    "    if instance.slug is None or instance.slug == \"\":\n",
    "        new_slug = slugify(instance.title)\n",
    "        MyModel = instance.__class__\n",
    "        qs = MyModel.objetos.filter(slug__startswith=new_slug).exclude(id=instance.id)\n",
    "        if qs.count() == 0:\n",
    "            instance.slug = new_slug\n",
    "        else:\n",
    "            instance.slug = f\"{new_slug}-{qs.count()}\"\n",
    "            \n",
    "pre_save.connect(slugify_pre_save, sender=ProducModel)"
   ]
  },
  {
   "cell_type": "markdown",
   "id": "c553f73e",
   "metadata": {},
   "source": [
    "- python manage.py makemigrations \n",
    "- python manage.py migrate"
   ]
  },
  {
   "cell_type": "code",
   "execution_count": null,
   "id": "37f06ee9",
   "metadata": {},
   "outputs": [],
   "source": []
  }
 ],
 "metadata": {
  "kernelspec": {
   "display_name": "Python 3 (ipykernel)",
   "language": "python",
   "name": "python3"
  },
  "language_info": {
   "codemirror_mode": {
    "name": "ipython",
    "version": 3
   },
   "file_extension": ".py",
   "mimetype": "text/x-python",
   "name": "python",
   "nbconvert_exporter": "python",
   "pygments_lexer": "ipython3",
   "version": "3.9.12"
  }
 },
 "nbformat": 4,
 "nbformat_minor": 5
}
