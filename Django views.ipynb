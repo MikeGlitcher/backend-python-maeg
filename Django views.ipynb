{
 "cells": [
  {
   "cell_type": "markdown",
   "id": "42d81b39",
   "metadata": {},
   "source": [
    "## Creando una vista hardcodeada\n",
    "\n",
    "Views - Vistas\n",
    "\n",
    "- Vistas basadas en funciones\n",
    "- Vistas basadas en clases\n",
    "\n",
    "### Creando una aplicación\n",
    "\n",
    "python manage.py startapp <nombre_de_la_app>\n",
    "\n",
    "python manage.py startapp ecommerce\n",
    "    \n",
    "- funciones - nambrarlas con minusculas\n",
    "- clases - nombrarlas con mayusculas\n",
    "\n",
    "\n",
    "## ecommerce/views.py\n",
    "\n"
   ]
  },
  {
   "cell_type": "code",
   "execution_count": null,
   "id": "3cf77db8",
   "metadata": {},
   "outputs": [],
   "source": [
    "from django.shortcuts import render\n",
    "from django.http import HttpResponse\n",
    "\n",
    "\n",
    "# Create your views here.\n",
    "def home(request):\n",
    "    html = \"\"\"\n",
    "    <!DOCTYPE html>\n",
    "    <html>\n",
    "        <head>\n",
    "            <style>\n",
    "                h1 {color: blue}\n",
    "            </style>\n",
    "        </head>\n",
    "\n",
    "        <body>\n",
    "            <h1>Hola Mundo</h1>\n",
    "        </body>\n",
    "    </html>\n",
    "    \"\"\"\n",
    "    return HttpResponse(html)"
   ]
  },
  {
   "cell_type": "markdown",
   "id": "10fbddc2",
   "metadata": {},
   "source": [
    "## ecommerce/urls.py"
   ]
  },
  {
   "cell_type": "code",
   "execution_count": null,
   "id": "bd2cf1e9",
   "metadata": {},
   "outputs": [],
   "source": [
    "from django.urls import path\n",
    "\n",
    "from ecommerce import views\n",
    "\n",
    "urlpatterns = [\n",
    "    path(\"\", views.home, name=\"home\"),\n",
    "]"
   ]
  },
  {
   "cell_type": "markdown",
   "id": "12417223",
   "metadata": {},
   "source": [
    "## config/urls.py"
   ]
  },
  {
   "cell_type": "code",
   "execution_count": null,
   "id": "d0a02a85",
   "metadata": {},
   "outputs": [],
   "source": [
    "from django.contrib import admin\n",
    "from django.urls import include\n",
    "from django.urls import path\n",
    "\n",
    "urlpatterns = [\n",
    "    path(\"up/\", include(\"up.urls\")),\n",
    "    path(\"\", include(\"pages.urls\")),\n",
    "    path(\"ecommerce\", include(\"ecommerce.urls\")),\n",
    "    path(\"admin/\", admin.site.urls),\n",
    "]"
   ]
  },
  {
   "cell_type": "markdown",
   "id": "331c3487",
   "metadata": {},
   "source": [
    "## Respuesta http y redireccionamiento\n",
    "\n",
    "middlewares - procesos intermedios entre un request y un response"
   ]
  },
  {
   "cell_type": "code",
   "execution_count": null,
   "id": "a21641be",
   "metadata": {},
   "outputs": [],
   "source": [
    "from django.shortcuts import render\n",
    "from django.http import HttpResponse, HttpResponseRedirect\n",
    "\n",
    "\n",
    "# Create your views here.\n",
    "def home(request):\n",
    "    html = \"\"\"\n",
    "    <!DOCTYPE html>\n",
    "    <html>\n",
    "        <head>\n",
    "            <style>\n",
    "                h1 {color: blue}\n",
    "            </style>\n",
    "        </head>\n",
    "\n",
    "        <body>\n",
    "            <h1>Hola Mundo</h1>\n",
    "        </body>\n",
    "    </html>\n",
    "    \"\"\"\n",
    "    return HttpResponse(html)\n",
    "\n",
    "# def home(request):\n",
    "#     response = HttpResponse()    \n",
    "#     response.write(\"<p>Página No Encontrada</p>\")\n",
    "#     response.status_code = 404\n",
    "\n",
    "#     return response\n",
    "\n",
    "def redirect_to_test(request):\n",
    "    return HttpResponseRedirect(\"/ecommerce\")"
   ]
  },
  {
   "cell_type": "markdown",
   "id": "7b7d41ff",
   "metadata": {},
   "source": [
    "## CRUD y Vistas\n",
    "\n",
    "Forma dinámica de usar las vistas\n",
    "\n",
    "CRUD - Create, Retrieve, Update, Delete\n",
    "(Crear, Consultar, Actualizar, Eliminar)\n",
    "\n",
    "- Crear Modelos\n",
    "- Agregar la app a INSTALLED_APPS\n",
    "- Crear y aplicar migraciones\n",
    "- Agregar admin\n",
    "\n",
    "### ecommerce/modles.py\n"
   ]
  },
  {
   "cell_type": "code",
   "execution_count": null,
   "id": "bb9bdda1",
   "metadata": {},
   "outputs": [],
   "source": [
    "from django.db import models\n",
    "\n",
    "# Create your models here.\n",
    "\n",
    "class ProducModel(models.Model):\n",
    "    title = models.TextField()\n",
    "    price = models.FloatField()"
   ]
  },
  {
   "cell_type": "markdown",
   "id": "6ff7d03a",
   "metadata": {},
   "source": [
    "### config/settings.py"
   ]
  },
  {
   "cell_type": "code",
   "execution_count": null,
   "id": "f52b8b12",
   "metadata": {},
   "outputs": [],
   "source": [
    "# Application definitions\n",
    "INSTALLED_APPS = [\n",
    "    \"ecommerce.apps.EcommerceConfig\",\n",
    "    \"pages.apps.PagesConfig\",\n",
    "    \"django.contrib.admin\",\n",
    "    \"django.contrib.auth\",\n",
    "    \"django.contrib.contenttypes\",\n",
    "    \"django.contrib.sessions\",\n",
    "    \"django.contrib.messages\",\n",
    "    \"django.contrib.staticfiles\",\n",
    "]"
   ]
  },
  {
   "cell_type": "markdown",
   "id": "cb529ee5",
   "metadata": {},
   "source": [
    "## Cómo correr migraciones\n",
    "\n",
    "- python manage.py makemigrations\n",
    "- python manage.py migrate\n",
    "\n",
    "## Cómo registrar modelos en el admin\n"
   ]
  },
  {
   "cell_type": "code",
   "execution_count": null,
   "id": "6e1d1602",
   "metadata": {},
   "outputs": [],
   "source": [
    "from django.contrib import admin\n",
    "from .models import ProducModel\n",
    "\n",
    "# Register your models here.\n",
    "admin.site.register(ProducModel)"
   ]
  },
  {
   "cell_type": "markdown",
   "id": "d6d39c3a",
   "metadata": {},
   "source": [
    "## Cómo crear crear un superuser para el admin\n",
    "\n",
    "- python manage.py createsuperuser\n",
    "\n",
    "## Tipos básicos de Vistas\n",
    "\n",
    "- List View - donde ves los usuarios creados\n",
    "- Create view - donde puedes insertar los datos para crear un usuario\n",
    "- Retrieve and Update - si le doy click a un usuario creado y lo modifico\n",
    "- Delete view - botón rojo para eliminar y confirmar"
   ]
  },
  {
   "cell_type": "markdown",
   "id": "0f37fac2",
   "metadata": {},
   "source": [
    "### ecommerce/view.py"
   ]
  },
  {
   "cell_type": "code",
   "execution_count": null,
   "id": "a339561e",
   "metadata": {},
   "outputs": [],
   "source": [
    "from django.shortcuts import render\n",
    "from django.http import HttpResponse, HttpResponseRedirect\n",
    "\n",
    "from .models import ProducModel\n",
    "\n",
    "# Create your views here.\n",
    "def product_model_list_view(request):\n",
    "    queryset = ProducModel.objects.all()\n",
    "    template = \"ecommerce/list-view.html\"\n",
    "    context = {\n",
    "        \"products\" : queryset\n",
    "    }\n",
    "    return render(request, template, context)"
   ]
  },
  {
   "cell_type": "markdown",
   "id": "03dd51c9",
   "metadata": {},
   "source": [
    "### templates/ecommerce/list-view.html\n"
   ]
  },
  {
   "cell_type": "code",
   "execution_count": null,
   "id": "3842782b",
   "metadata": {},
   "outputs": [],
   "source": [
    "<h1>\n",
    "Vista de listado\n",
    "</h1>\n",
    "\n",
    "{% for product in products %}\n",
    "    <li>\n",
    "        {{ product.title }} {{ product.price }}    \n",
    "    </li>\n",
    "{% endfor %}"
   ]
  },
  {
   "cell_type": "markdown",
   "id": "a6c169bc",
   "metadata": {},
   "source": [
    "### Protegiendo los endpoints"
   ]
  },
  {
   "cell_type": "markdown",
   "id": "891712c7",
   "metadata": {},
   "source": [
    "## Vista de Detalle"
   ]
  },
  {
   "cell_type": "markdown",
   "id": "5409ba92",
   "metadata": {},
   "source": [
    "#### ecommerce/views.py"
   ]
  },
  {
   "cell_type": "code",
   "execution_count": null,
   "id": "8db5fbde",
   "metadata": {},
   "outputs": [],
   "source": [
    "from django.contrib.auth.decorators import login_required\n",
    "from django.shortcuts import render, get_object_or_404\n",
    "from django.http import HttpResponse, HttpResponseRedirect\n",
    "\n",
    "from .models import ProducModel\n",
    "\n",
    "# Create your views here.\n",
    "\n",
    "def product_model_detail_view(request, product_id):\n",
    "    instance = get_object_or_404(ProducModel, id=product_id)\n",
    "    context = {\n",
    "        \"products\" : instance\n",
    "    }\n",
    "\n",
    "    template = \"ecommerce/detail-view.html\"\n",
    "    \n",
    "    return render(request, template, context)"
   ]
  },
  {
   "cell_type": "markdown",
   "id": "fadacb90",
   "metadata": {},
   "source": [
    "#### ecommerce/urls.py"
   ]
  },
  {
   "cell_type": "code",
   "execution_count": null,
   "id": "9a22ffcd",
   "metadata": {},
   "outputs": [],
   "source": [
    "from django.urls import path\n",
    "\n",
    "from ecommerce import views\n",
    "\n",
    "urlpatterns = [\n",
    "    path(\"\", views.product_model_list_view, name=\"list\"),\n",
    "    path(\"<int:product_id>\", views.product_model_detail_view, name=\"detail\"),\n",
    "]"
   ]
  },
  {
   "cell_type": "markdown",
   "id": "a14e5a90",
   "metadata": {},
   "source": [
    "#### templates/ecommerce/detail-view.html"
   ]
  },
  {
   "cell_type": "code",
   "execution_count": null,
   "id": "8c18b7b3",
   "metadata": {},
   "outputs": [],
   "source": [
    "<h1>\n",
    "    {{ product.title }}\n",
    "    {{ product.price }}\n",
    "</h1>"
   ]
  },
  {
   "cell_type": "markdown",
   "id": "4d646509",
   "metadata": {},
   "source": [
    "#### templates/ecommerce/list-view.html\n"
   ]
  },
  {
   "cell_type": "code",
   "execution_count": null,
   "id": "b129932b",
   "metadata": {},
   "outputs": [],
   "source": [
    "<h1>\n",
    "Vista de listado\n",
    "</h1>\n",
    "\n",
    "{% for product in products %}\n",
    "    <li>\n",
    "        <a href=\"/ecommmerce/{{ product.id }}\"> {{ product.title }}</a>    \n",
    "    </li>\n",
    "{% endfor %}"
   ]
  },
  {
   "cell_type": "markdown",
   "id": "0d27b511",
   "metadata": {},
   "source": [
    "## Vista de Ceación\n",
    "\n",
    "#### ecommerce/views.py"
   ]
  },
  {
   "cell_type": "code",
   "execution_count": null,
   "id": "193537ef",
   "metadata": {},
   "outputs": [],
   "source": [
    "from django.contrib.auth.decorators import login_required\n",
    "from django.shortcuts import render, get_object_or_404\n",
    "from django.http import HttpResponse, HttpResponseRedirect\n",
    "from django.contrib import messages\n",
    "\n",
    "from .models import ProducModel\n",
    "from .form import ProducModelForm\n",
    "\n",
    "def product_model_create_view(request):\n",
    "    form = ProducModelForm(request.POST or None)\n",
    "\n",
    "    if form.is_valid():\n",
    "        instance = form.save(commit=False)\n",
    "        instance.save()\n",
    "        messages.success(request, \"Producto creado con exito\")\n",
    "        return HttpResponseRedirect(\"/ecommerce/{product.id}\".format(product_id=instance.id))\n",
    "    \n",
    "    context = {\n",
    "        \"form\":form\n",
    "    }\n",
    "\n",
    "    template = \"ecommerce/create-view.html\"\n",
    "    return render(request, template, context)"
   ]
  },
  {
   "cell_type": "markdown",
   "id": "a8005a16",
   "metadata": {},
   "source": [
    "### ecommerce/forms.py\n"
   ]
  },
  {
   "cell_type": "code",
   "execution_count": null,
   "id": "a4520aca",
   "metadata": {},
   "outputs": [],
   "source": [
    "from django import forms\n",
    "from .models import ProducModel\n",
    "\n",
    "class ProducModelForm(forms.ModelForm):\n",
    "    class Meta:\n",
    "        model = ProducModel\n",
    "        field[\n",
    "            \"title\",\n",
    "            \"price\"\n",
    "        ]"
   ]
  },
  {
   "cell_type": "markdown",
   "id": "01e1ab31",
   "metadata": {},
   "source": [
    "#### templates/ecommerce/create-view.html"
   ]
  },
  {
   "cell_type": "code",
   "execution_count": null,
   "id": "2d19726d",
   "metadata": {},
   "outputs": [],
   "source": [
    "{% if messages %}\n",
    "<ul class=\"messages\">\n",
    "    {% for message in messages %}\n",
    "    <li{% if message.tags %} class=\"{{ message.tags }}\"{% endif %}>{{ message }}</li>\n",
    "    {% endfor %}\n",
    "</ul>\n",
    "{% endif %}"
   ]
  },
  {
   "cell_type": "markdown",
   "id": "6ac9cd71",
   "metadata": {},
   "source": [
    "## Vista de Actualizacón\n",
    "\n",
    "#### ecommerce/views.py"
   ]
  },
  {
   "cell_type": "code",
   "execution_count": null,
   "id": "4e589170",
   "metadata": {},
   "outputs": [],
   "source": [
    "from django.contrib.auth.decorators import login_required\n",
    "from django.shortcuts import render, get_object_or_404\n",
    "from django.http import HttpResponse, HttpResponseRedirect\n",
    "from django.contrib import messages\n",
    "\n",
    "from .models import ProducModel\n",
    "from .forms import ProducModelForm\n",
    "\n",
    "# Create your views here.\n",
    "def product_model_update_view(request, product_id=None):\n",
    "    instance = get_object_or_404(ProducModel, id=product_id)\n",
    "    form = ProducModelForm(request.POST or None, instance=instance)\n",
    "\n",
    "    if form.is_valid():\n",
    "        instance = form.save(commit=False)\n",
    "        instance.save()\n",
    "        messages.success(request, \"Producto actualizado con exito\")\n",
    "        return HttpResponseRedirect(\"/ecommerce/{product_id}\".format(product_id=instance.id))\n",
    "    \n",
    "    context = {\n",
    "        \"form\":form\n",
    "    }\n",
    "\n",
    "    template = \"ecommerce/update-view.html\"\n",
    "    return render(request, template, context)"
   ]
  },
  {
   "cell_type": "markdown",
   "id": "21d2afa0",
   "metadata": {},
   "source": [
    "#### templates/ecommerce/update-view.html"
   ]
  },
  {
   "cell_type": "code",
   "execution_count": null,
   "id": "21db4ef2",
   "metadata": {},
   "outputs": [],
   "source": [
    "<h1>\n",
    "    Actualización de producto {{ form.instance.title }}\n",
    "</h1>\n",
    "\n",
    "{{ form.instance.title }}\n",
    "\n",
    "<form method=\"POST\" action=\"\">\n",
    "    {% csrf_token %}\n",
    "    {{ form.as_p }}\n",
    "    <input type=\"submit\" value=\"Actualizar\"> \n",
    "</form>"
   ]
  },
  {
   "cell_type": "markdown",
   "id": "6400d922",
   "metadata": {},
   "source": [
    "#### ecommerce/urls.py"
   ]
  },
  {
   "cell_type": "code",
   "execution_count": null,
   "id": "313d8469",
   "metadata": {},
   "outputs": [],
   "source": [
    "from django.urls import path\n",
    "\n",
    "from ecommerce import views\n",
    "\n",
    "urlpatterns = [\n",
    "    path(\"\", views.product_model_list_view, name=\"list\"),\n",
    "    path(\"<int:product_id>\", views.product_model_detail_view, name=\"detail\"),\n",
    "    path(\"create\", views.product_model_create_view, name=\"create\"),\n",
    "    path(\"<int:product_id>/edit/\", views.product_model_update_view, name=\"update\"),\n",
    "]"
   ]
  },
  {
   "cell_type": "markdown",
   "id": "4a9a9f33",
   "metadata": {},
   "source": [
    "### Vista para eliminar"
   ]
  },
  {
   "cell_type": "markdown",
   "id": "033a796a",
   "metadata": {},
   "source": [
    "### ecommerce/views.py"
   ]
  },
  {
   "cell_type": "code",
   "execution_count": null,
   "id": "fd0d8a2f",
   "metadata": {},
   "outputs": [],
   "source": [
    "from django.contrib.auth.decorators import login_required\n",
    "from django.shortcuts import render, get_object_or_404\n",
    "from django.http import HttpResponse, HttpResponseRedirect\n",
    "from django.contrib import messages\n",
    "\n",
    "from .models import ProducModel\n",
    "from .forms import ProducModelForm\n",
    "\n",
    "# Create your views here.\n",
    "def product_model_delete_view(request, product_id):\n",
    "    instance = get_object_or_404(ProducModel, id=product_id)\n",
    "    if request.method == \"POST\":\n",
    "        instance.delete()\n",
    "        HttpResponseRedirect(\"/ecommerce/\")\n",
    "        messages.succes(\"Producto eliminado\")\n",
    "    context = {\n",
    "        \"product\" : instance\n",
    "    }\n",
    "\n",
    "    template = \"ecommerce/delete-view.html\"\n",
    "\n",
    "    return render(request, template, context)"
   ]
  },
  {
   "cell_type": "markdown",
   "id": "1de27b9e",
   "metadata": {},
   "source": [
    "#### templates/ecommerce/delete-view.html\n"
   ]
  },
  {
   "cell_type": "code",
   "execution_count": null,
   "id": "330f0324",
   "metadata": {},
   "outputs": [],
   "source": [
    "{% include \"ecommerce/messages.html\" %}\n",
    "\n",
    "<h1>\n",
    "    Eliminar {{ product.title }}\n",
    "</h1>\n",
    "\n",
    "<form method=\"POST\" action=\"\">\n",
    "    {% csrf_token %}\n",
    "    ¿Estás seguro que quieres eliminar el producto: {{ product.title }}??\n",
    "    <input type=\"submit\" value=\"Eliminar\">\n",
    "    <a href=\"/ecommerce/{{ product.id }}\">Cancelar \n",
    "</form>"
   ]
  },
  {
   "cell_type": "markdown",
   "id": "e5461386",
   "metadata": {},
   "source": [
    "### ecommerce/urls.py"
   ]
  },
  {
   "cell_type": "code",
   "execution_count": null,
   "id": "ccd67667",
   "metadata": {},
   "outputs": [],
   "source": [
    "from django.urls import path\n",
    "\n",
    "from ecommerce import views\n",
    "\n",
    "urlpatterns = [\n",
    "    path(\"\", views.product_model_list_view, name=\"list\"),\n",
    "    path(\"<int:product_id>\", views.product_model_detail_view, name=\"detail\"),\n",
    "    path(\"create\", views.product_model_create_view, name=\"create\"),\n",
    "    path(\"<int:product_id>/edit/\", views.product_model_update_view, name=\"update\"),\n",
    "    path(\"<int:product_id>/delete/\", views.product_model_delete_view, name=\"dlete\"),\n",
    "]"
   ]
  },
  {
   "cell_type": "markdown",
   "id": "b4c631fd",
   "metadata": {},
   "source": [
    "### Búsqueda en la Vista de Listado\n",
    "\n",
    "#### templates/ecommerce/search.html"
   ]
  },
  {
   "cell_type": "code",
   "execution_count": null,
   "id": "747107e9",
   "metadata": {},
   "outputs": [],
   "source": [
    "<form method=\"GET\" action=\"/ecommerce/\"> \n",
    "    <input type=\"text\" name=\"q\" placeholder=\"Buscar\">\n",
    "</form>"
   ]
  },
  {
   "cell_type": "markdown",
   "id": "d506a63a",
   "metadata": {},
   "source": [
    "#### templates/ecommerce/list-view.html"
   ]
  },
  {
   "cell_type": "code",
   "execution_count": null,
   "id": "3247a5cc",
   "metadata": {},
   "outputs": [],
   "source": [
    "{% include \"ecommerce/messages.html\" %}\n",
    "\n",
    "{% include \"ecommerce/search.html\" %}\n",
    "\n",
    "<h1>\n",
    "Vista de listado\n",
    "</h1>\n",
    "\n",
    "{% for product in products %}\n",
    "    <li>\n",
    "        <a href=\"/ecommerce/{{ product.id }}\"> {{ product.title }}</a>    \n",
    "    </li>\n",
    "{% endfor %}"
   ]
  },
  {
   "cell_type": "markdown",
   "id": "9ae0db60",
   "metadata": {},
   "source": [
    "#### ecommerce/views.py"
   ]
  },
  {
   "cell_type": "code",
   "execution_count": null,
   "id": "166f840d",
   "metadata": {},
   "outputs": [],
   "source": [
    "from django.contrib.auth.decorators import login_required\n",
    "from django.shortcuts import render, get_object_or_404\n",
    "from django.http import HttpResponse, HttpResponseRedirect\n",
    "from django.contrib import messages\n",
    "from django.db.models import Q\n",
    "\n",
    "from .models import ProducModel\n",
    "from .forms import ProducModelForm\n",
    "\n",
    "# Create your views here.\n",
    "\n",
    "def product_model_list_view(request):\n",
    "    query = request.GET.get(\"q\", None)\n",
    "    queryset = ProducModel.objects.all()\n",
    "    if query is not None:\n",
    "        queryset = queryset.filter(\n",
    "            Q(title__contains=query) |\n",
    "            Q(price__contains=query)\n",
    "            )\n",
    "    \n",
    "    template = \"ecommerce/list-view.html\"\n",
    "    \n",
    "    context = {\n",
    "        \"products\" : queryset\n",
    "    }\n",
    "\n",
    "    if request.user.is_authenticated:\n",
    "        template = \"ecommerce/list-view.html\"\n",
    "    else:\n",
    "        template = \"ecommerce/list-view-public,html\"\n",
    "\n",
    "    return render(request, template, context)"
   ]
  },
  {
   "cell_type": "markdown",
   "id": "2dbfaf2f",
   "metadata": {},
   "source": [
    "## ACTIVIDAD\n",
    "\n",
    "#### ecommerce/models.py"
   ]
  },
  {
   "cell_type": "code",
   "execution_count": null,
   "id": "af596f98",
   "metadata": {},
   "outputs": [],
   "source": [
    "from django.db import models\n",
    "\n",
    "# Create your models here.\n",
    "\n",
    "class ProducModel(models.Model):\n",
    "    title = models.TextField()\n",
    "    price = models.FloatField()\n",
    "    description = models.TextField()\n",
    "    color = models.TextField()\n"
   ]
  },
  {
   "cell_type": "markdown",
   "id": "3f01c430",
   "metadata": {},
   "source": [
    "- python manage.py makemigrations\n",
    "- python manage.py migrate"
   ]
  },
  {
   "cell_type": "code",
   "execution_count": null,
   "id": "815a75df",
   "metadata": {},
   "outputs": [],
   "source": [
    "from django.db import migrations, models\n",
    "\n",
    "\n",
    "class Migration(migrations.Migration):\n",
    "\n",
    "    dependencies = [\n",
    "        (\"ecommerce\", \"0001_initial\"),\n",
    "    ]\n",
    "\n",
    "    operations = [\n",
    "        migrations.AlterField(\n",
    "            model_name=\"producmodel\",\n",
    "            name=\"color\",\n",
    "            field=models.TextField(verbose_name=\"\"),\n",
    "        ),\n",
    "        migrations.AlterField(\n",
    "            model_name=\"producmodel\",\n",
    "            name=\"description\",\n",
    "            field=models.TextField(verbose_name=\"\"),\n",
    "        ),\n",
    "    ]\n"
   ]
  },
  {
   "cell_type": "markdown",
   "id": "ba8c699c",
   "metadata": {},
   "source": [
    "#### ecommerce/forms.py"
   ]
  },
  {
   "cell_type": "code",
   "execution_count": null,
   "id": "39bb0fe8",
   "metadata": {},
   "outputs": [],
   "source": [
    "from django import forms\n",
    "from .models import ProducModel\n",
    "\n",
    "class ProducModelForm(forms.ModelForm):\n",
    "    class Meta:\n",
    "        model = ProducModel\n",
    "        fields = [\n",
    "            \"title\",\n",
    "            \"price\",\n",
    "            \"description\",\n",
    "            \"color\",\n",
    "        ]"
   ]
  },
  {
   "cell_type": "markdown",
   "id": "44a1bb09",
   "metadata": {},
   "source": [
    "#### templates/ecommerce/detail-view.html"
   ]
  },
  {
   "cell_type": "code",
   "execution_count": null,
   "id": "36b2651c",
   "metadata": {},
   "outputs": [],
   "source": [
    "{% include \"ecommerce/messages.html\" %}\n",
    "\n",
    "<h1>\n",
    "    {{ product.title }}\n",
    "    {{ product.price }}\n",
    "</h1>\n",
    "\n",
    "<h2>\n",
    "    Descripción\n",
    "</h2>\n",
    "\n",
    "<p>\n",
    "    {{ product.description }}\n",
    "</p>\n",
    "\n",
    "<h2>\n",
    "    Color\n",
    "</h2>\n",
    "\n",
    "<p>\n",
    "    {{ product.color }}\n",
    "</p>"
   ]
  },
  {
   "cell_type": "code",
   "execution_count": null,
   "id": "cf7ac26f",
   "metadata": {},
   "outputs": [],
   "source": []
  }
 ],
 "metadata": {
  "kernelspec": {
   "display_name": "Python 3 (ipykernel)",
   "language": "python",
   "name": "python3"
  },
  "language_info": {
   "codemirror_mode": {
    "name": "ipython",
    "version": 3
   },
   "file_extension": ".py",
   "mimetype": "text/x-python",
   "name": "python",
   "nbconvert_exporter": "python",
   "pygments_lexer": "ipython3",
   "version": "3.9.12"
  }
 },
 "nbformat": 4,
 "nbformat_minor": 5
}
