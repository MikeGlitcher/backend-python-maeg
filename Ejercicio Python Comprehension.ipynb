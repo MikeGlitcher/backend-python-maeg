{
 "cells": [
  {
   "cell_type": "code",
   "execution_count": 1,
   "id": "89e74dbb",
   "metadata": {},
   "outputs": [
    {
     "name": "stdout",
     "output_type": "stream",
     "text": [
      "Lista de Reproducción\n",
      "\n",
      "Ingresa la palabra que te gustaría\n",
      "Ejemplo: 'rock', y obtendrás un playlist de cancioneso artistas que incluyan la palabra rock\n",
      "classic\n",
      "[{'MKTO': 'Classic'}, {'Mael Bigand': 'Classic'}, {'Adrian Gurvitz': 'Classic'}, {\"Jane's Addiction\": 'Classic Girl'}, {'Rayo & Toby': 'Movimiento de Caderas'}, {'Maurício Manieri': 'Classic'}, {'Stjepan Hauser': 'Nocturne in C Sharp'}, {'MUCC': 'Classic'}, {\"L'Algerino\": 'Classi'}, {'Stjepan Hauser': 'Adagio for Strings'}, {'0to8': 'classical phonk'}, {'Zakir Rettke': 'Clastic'}, {'Joakim Karud': 'Classic'}, {'Lullaby Time': 'Classical Baby'}, {'Cam': 'Classic'}, {'Stjepan Hauser': 'Nessun Dorma'}, {'Mako': 'Classical Christmas'}]\n"
     ]
    }
   ],
   "source": [
    "import requests\n",
    "\n",
    "print(\"Lista de Reproducción\\n\")\n",
    "# Referencia: https://www.deezer.com/en/channels/explore\n",
    "\n",
    "print(\"Ingresa la palabra que te gustaría\")\n",
    "\n",
    "print(\"Ejemplo: 'rock', y obtendrás un playlist de canciones\" \n",
    "      \"o artistas que incluyan la palabra rock\")\n",
    "\n",
    "word_to_search = input()\n",
    "\n",
    "url = \"https://deezerdevs-deezer.p.rapidapi.com/search\"\n",
    "\n",
    "querystring = {\"q\": word_to_search}\n",
    "\n",
    "headers = {\n",
    " \"X-RapidAPI-Key\": \"3ed98f551fmshe4e6260228c4eadp13db17jsn8c893e1194da\",\n",
    " \"X-RapidAPI-Host\": \"deezerdevs-deezer.p.rapidapi.com\"\n",
    "}\n",
    "\n",
    "response = requests.request(\"GET\", url, headers=headers, params=querystring).json()\n",
    "\n",
    "final_list = []\n",
    "\n",
    "for element in response['data']:\n",
    "    my_music = {}\n",
    "\n",
    "    if not element['explicit_lyrics']:\n",
    "        song = element['title']\n",
    "\n",
    "        if '(' not in song or ')' not in song:\n",
    "            artist = element['artist']['name']\n",
    "\n",
    "            my_music[artist] = song\n",
    "\n",
    "            final_list.append(my_music)\n",
    "\n",
    "print(final_list)"
   ]
  },
  {
   "cell_type": "code",
   "execution_count": null,
   "id": "585b7240",
   "metadata": {},
   "outputs": [],
   "source": []
  }
 ],
 "metadata": {
  "kernelspec": {
   "display_name": "Python 3 (ipykernel)",
   "language": "python",
   "name": "python3"
  },
  "language_info": {
   "codemirror_mode": {
    "name": "ipython",
    "version": 3
   },
   "file_extension": ".py",
   "mimetype": "text/x-python",
   "name": "python",
   "nbconvert_exporter": "python",
   "pygments_lexer": "ipython3",
   "version": "3.9.12"
  }
 },
 "nbformat": 4,
 "nbformat_minor": 5
}
