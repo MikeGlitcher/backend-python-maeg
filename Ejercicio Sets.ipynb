{
 "cells": [
  {
   "cell_type": "code",
   "execution_count": null,
   "id": "c283538d",
   "metadata": {},
   "outputs": [],
   "source": [
    "numbers = ['0', '1', '2', '3', '4', '5', '6', '7', '8', '9']\n",
    "letters = ['A', 'B', 'C', 'D']\n",
    "unique_combinations = set()\n",
    "\n",
    "revisions = numbers + letters\n",
    "\n",
    "for el_a in revisions:\n",
    "    for el_b in revisions:\n",
    "        for el_c in revisions:\n",
    "            for el_d in revisions:\n",
    "                argument = f\"{el_a}{el_b}{el_c}{el_d}\"\n",
    "                unique_combinations.add(argument)\n",
    "\n",
    "\n",
    "print(unique_combinations)\n",
    "print(len(unique_combinations))"
   ]
  }
 ],
 "metadata": {
  "kernelspec": {
   "display_name": "Python 3 (ipykernel)",
   "language": "python",
   "name": "python3"
  },
  "language_info": {
   "codemirror_mode": {
    "name": "ipython",
    "version": 3
   },
   "file_extension": ".py",
   "mimetype": "text/x-python",
   "name": "python",
   "nbconvert_exporter": "python",
   "pygments_lexer": "ipython3",
   "version": "3.9.12"
  }
 },
 "nbformat": 4,
 "nbformat_minor": 5
}
