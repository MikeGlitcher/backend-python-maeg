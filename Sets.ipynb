{
 "cells": [
  {
   "cell_type": "markdown",
   "id": "3ceb5314",
   "metadata": {},
   "source": [
    "## Creando y Modificando sets"
   ]
  },
  {
   "cell_type": "code",
   "execution_count": 1,
   "id": "e3378b76",
   "metadata": {},
   "outputs": [
    {
     "name": "stdout",
     "output_type": "stream",
     "text": [
      "<class 'set'>\n",
      "1\n",
      "{'python'}\n"
     ]
    }
   ],
   "source": [
    "my_set = set()\n",
    "my_set.add(\"python\")\n",
    "\n",
    "print(type(my_set))\n",
    "print(len(my_set))\n",
    "print(my_set)"
   ]
  },
  {
   "cell_type": "code",
   "execution_count": 2,
   "id": "daab159a",
   "metadata": {},
   "outputs": [],
   "source": [
    "#listas []\n",
    "#tuplas ()\n",
    "#sets {}"
   ]
  },
  {
   "cell_type": "code",
   "execution_count": 4,
   "id": "03fbeba5",
   "metadata": {},
   "outputs": [
    {
     "name": "stdout",
     "output_type": "stream",
     "text": [
      "<class 'set'>\n",
      "3\n",
      "{'python', 164, 'hola'}\n"
     ]
    }
   ],
   "source": [
    "my_set = set()\n",
    "my_set.add(\"python\")\n",
    "my_set.update((164, \"hola\"))\n",
    "\n",
    "print(type(my_set))\n",
    "print(len(my_set))\n",
    "print(my_set)"
   ]
  },
  {
   "cell_type": "code",
   "execution_count": 5,
   "id": "11bbfdc4",
   "metadata": {},
   "outputs": [
    {
     "name": "stdout",
     "output_type": "stream",
     "text": [
      "<class 'set'>\n",
      "3\n",
      "{'python', 164, 'hola'}\n"
     ]
    }
   ],
   "source": [
    "my_set = set()\n",
    "my_set.add(\"python\")\n",
    "my_set.update((164, \"hola\"))\n",
    "my_set.add(\"python\")\n",
    "my_set.add(\"python\")\n",
    "my_set.add(\"python\")\n",
    "\n",
    "print(type(my_set))\n",
    "print(len(my_set))\n",
    "print(my_set)"
   ]
  },
  {
   "cell_type": "markdown",
   "id": "b907a388",
   "metadata": {},
   "source": [
    "## Metodos para manitpulacion de sets"
   ]
  },
  {
   "cell_type": "markdown",
   "id": "721ff367",
   "metadata": {},
   "source": [
    "### add\n",
    "- agregar un elemento a un set"
   ]
  },
  {
   "cell_type": "code",
   "execution_count": 8,
   "id": "8393bbf7",
   "metadata": {},
   "outputs": [
    {
     "name": "stdout",
     "output_type": "stream",
     "text": [
      "{25.62, 'python', 23}\n"
     ]
    }
   ],
   "source": [
    "my_set = set()\n",
    "my_set.add(\"python\")\n",
    "my_set.add(23)\n",
    "my_set.add(25.62)\n",
    "\n",
    "print(my_set)"
   ]
  },
  {
   "cell_type": "markdown",
   "id": "e858fa6c",
   "metadata": {},
   "source": [
    "## clear \n",
    "- remueve todos los elementos del set"
   ]
  },
  {
   "cell_type": "code",
   "execution_count": 9,
   "id": "51fbb481",
   "metadata": {},
   "outputs": [
    {
     "name": "stdout",
     "output_type": "stream",
     "text": [
      "{64, 1, 325}\n",
      "set()\n"
     ]
    }
   ],
   "source": [
    "my_set = {1,325,64}\n",
    "print(my_set)\n",
    "\n",
    "my_set.clear()\n",
    "\n",
    "print(my_set)"
   ]
  },
  {
   "cell_type": "markdown",
   "id": "39667a0f",
   "metadata": {},
   "source": [
    "## copy\n",
    "- copia los elementos en nuevo set"
   ]
  },
  {
   "cell_type": "code",
   "execution_count": 11,
   "id": "94ec7491",
   "metadata": {},
   "outputs": [
    {
     "name": "stdout",
     "output_type": "stream",
     "text": [
      "{64, 1, 325}\n",
      "{64, 1, 325}\n",
      "set()\n",
      "{64, 1, 325}\n"
     ]
    }
   ],
   "source": [
    "my_set = {1,325,64}\n",
    "my_set2 = my_set.copy()\n",
    "print(my_set)\n",
    "print(my_set2)\n",
    "\n",
    "my_set.clear()\n",
    "\n",
    "print(my_set)\n",
    "print(my_set2)"
   ]
  },
  {
   "cell_type": "markdown",
   "id": "cc80c2ac",
   "metadata": {},
   "source": [
    "## difference\n",
    "- Obtiene los valores presentes en el primer set y faltantes en el segundo set"
   ]
  },
  {
   "cell_type": "code",
   "execution_count": 12,
   "id": "43f3d9b0",
   "metadata": {},
   "outputs": [
    {
     "name": "stdout",
     "output_type": "stream",
     "text": [
      "{2, 3}\n",
      "{8, 9}\n"
     ]
    }
   ],
   "source": [
    "set_a = {1,2,3,4,5,6}\n",
    "set_b = {1,5,9,4,8,6}\n",
    "\n",
    "# valores que hay en set_a faltantes en set_b\n",
    "print(set_a.difference(set_b))\n",
    "# valores que hay en set_b faltantes en set_a\n",
    "print(set_b.difference(set_a))"
   ]
  },
  {
   "cell_type": "markdown",
   "id": "2b9ead93",
   "metadata": {},
   "source": [
    "## difference_update\n",
    "-conserva solo los valores diferentes entre el set solicitado y el que esmandado como parametro."
   ]
  },
  {
   "cell_type": "code",
   "execution_count": 18,
   "id": "71f2bdb1",
   "metadata": {},
   "outputs": [
    {
     "name": "stdout",
     "output_type": "stream",
     "text": [
      "{2, 3, 6, 14}\n",
      "{1, 4, 5, 8, 9}\n"
     ]
    }
   ],
   "source": [
    "set_a = {1,2,3,4,5,6,14}\n",
    "set_b = {1,5,9,4,8,8,1}\n",
    "\n",
    "# valores que hay en set_a faltantes en set_b\n",
    "set_a.difference_update(set_b)\n",
    "print(set_a)\n",
    "\n",
    "# valores que hay en set_b faltantes en set_a\n",
    "set_b.difference_update(set_a)\n",
    "print(set_b)"
   ]
  },
  {
   "cell_type": "raw",
   "id": "27864ecd",
   "metadata": {},
   "source": []
  },
  {
   "cell_type": "markdown",
   "id": "696ac92e",
   "metadata": {},
   "source": [
    "## discard\n",
    "- ellimina un elemento del set si esta presente"
   ]
  },
  {
   "cell_type": "code",
   "execution_count": 20,
   "id": "17f009b2",
   "metadata": {},
   "outputs": [
    {
     "name": "stdout",
     "output_type": "stream",
     "text": [
      "{'Scala', 'Java', 'Python', 'Go'}\n",
      "{'Scala', 'Java', 'Python'}\n",
      "{'Scala', 'Java', 'Python'}\n"
     ]
    }
   ],
   "source": [
    "my_set = {\"Java\", \"Python\", \"Go\", \"Scala\"}\n",
    "\n",
    "print(my_set)\n",
    "\n",
    "my_set.discard(\"Go\")\n",
    "\n",
    "print(my_set)\n",
    "\n",
    "my_set.discard(\"Hello\")\n",
    "\n",
    "print(my_set)\n",
    "\n",
    "# No importa si no esta presente el elemento en el set"
   ]
  },
  {
   "cell_type": "markdown",
   "id": "5ab79478",
   "metadata": {},
   "source": [
    "## Intersection\n",
    "- Obtiene los valores en comunb en 2 sets"
   ]
  },
  {
   "cell_type": "code",
   "execution_count": 24,
   "id": "5c1ee241",
   "metadata": {},
   "outputs": [
    {
     "name": "stdout",
     "output_type": "stream",
     "text": [
      "{1, 4, 5}\n"
     ]
    }
   ],
   "source": [
    "set_a = {1,2,3,4,5,6,14}\n",
    "set_b = {1,5,9,4,8,8,1}\n",
    "\n",
    "print(set_b.intersection(set_a))"
   ]
  },
  {
   "cell_type": "markdown",
   "id": "41a7a9f4",
   "metadata": {},
   "source": [
    "## itersection_update\n",
    "- obtiene los valores en comun en dos sets y los asigna al set que manda a llamar  el metodo"
   ]
  },
  {
   "cell_type": "code",
   "execution_count": 25,
   "id": "8ad47e58",
   "metadata": {},
   "outputs": [
    {
     "name": "stdout",
     "output_type": "stream",
     "text": [
      "{1, 4, 5}\n"
     ]
    }
   ],
   "source": [
    "set_a = {1,2,3,4,5,6,14}\n",
    "set_b = {1,5,9,4,8,8,1}\n",
    "set_b.intersection_update(set_a)\n",
    "print(set_b)"
   ]
  },
  {
   "cell_type": "markdown",
   "id": "05bdebfb",
   "metadata": {},
   "source": [
    "## isdisjoint\n",
    "- True si no hay valores compartidos por ambos sets\n",
    "- False si hay valores compartidos\n"
   ]
  },
  {
   "cell_type": "code",
   "execution_count": 28,
   "id": "d70b842c",
   "metadata": {},
   "outputs": [
    {
     "name": "stdout",
     "output_type": "stream",
     "text": [
      "False\n"
     ]
    }
   ],
   "source": [
    "set_a = {1,2,3,4,5,6,14}\n",
    "set_b = {1,5,9,4,8,8,1}\n",
    "\n",
    "print(set_b.isdisjoint(set_a))"
   ]
  },
  {
   "cell_type": "code",
   "execution_count": 29,
   "id": "8115217a",
   "metadata": {},
   "outputs": [
    {
     "name": "stdout",
     "output_type": "stream",
     "text": [
      "True\n"
     ]
    }
   ],
   "source": [
    "set_a = {1,2,3,4,5,6,14}\n",
    "set_b = {15,48}\n",
    "\n",
    "print(set_b.isdisjoint(set_a))"
   ]
  },
  {
   "cell_type": "markdown",
   "id": "232a52e0",
   "metadata": {},
   "source": [
    "## issubset\n",
    "- Verifica si podemos encontrar todos los elementos de un set en otro"
   ]
  },
  {
   "cell_type": "code",
   "execution_count": 30,
   "id": "c7481508",
   "metadata": {},
   "outputs": [
    {
     "name": "stdout",
     "output_type": "stream",
     "text": [
      "False\n"
     ]
    }
   ],
   "source": [
    "set_a = {1,2,3,4,5,6,14}\n",
    "set_b = {15,48}\n",
    "\n",
    "print(set_b.issubset(set_a))"
   ]
  },
  {
   "cell_type": "code",
   "execution_count": 31,
   "id": "6996f6a5",
   "metadata": {},
   "outputs": [
    {
     "name": "stdout",
     "output_type": "stream",
     "text": [
      "True\n"
     ]
    }
   ],
   "source": [
    "set_a = {1,2,3,4,5,6,14}\n",
    "set_b = {1,3}\n",
    "\n",
    "print(set_b.issubset(set_a))"
   ]
  },
  {
   "cell_type": "markdown",
   "id": "e472e4d2",
   "metadata": {},
   "source": [
    "## issuperset\n",
    "- Analiza si podemos encontrar los elementos de l llamado esten en el set pasado"
   ]
  },
  {
   "cell_type": "code",
   "execution_count": 34,
   "id": "87f27811",
   "metadata": {},
   "outputs": [
    {
     "name": "stdout",
     "output_type": "stream",
     "text": [
      "False\n"
     ]
    }
   ],
   "source": [
    "set_a = {1,2,3,4,5,6,14}\n",
    "set_b = {15,48}\n",
    "\n",
    "print(set_b.issuperset(set_a))"
   ]
  },
  {
   "cell_type": "code",
   "execution_count": 35,
   "id": "77472d3a",
   "metadata": {},
   "outputs": [
    {
     "name": "stdout",
     "output_type": "stream",
     "text": [
      "False\n"
     ]
    }
   ],
   "source": [
    "set_a = {1,2,3,4,5,6,14}\n",
    "set_b = {1,3}\n",
    "\n",
    "print(set_b.issuperset(set_a))"
   ]
  },
  {
   "cell_type": "markdown",
   "id": "a3e7576e",
   "metadata": {},
   "source": [
    "## pop\n",
    "- Elimina el primer elemento del set"
   ]
  },
  {
   "cell_type": "code",
   "execution_count": 37,
   "id": "d0d81b1c",
   "metadata": {},
   "outputs": [
    {
     "name": "stdout",
     "output_type": "stream",
     "text": [
      "{1, 2, 3, 4, 5, 6, 14}\n",
      "{4, 5, 6, 14}\n",
      "{6, 14}\n"
     ]
    }
   ],
   "source": [
    "set_a = {1,2,3,4,5,6,14}\n",
    "print(set_a)\n",
    "\n",
    "set_a.pop()\n",
    "set_a.pop()\n",
    "set_a.pop()\n",
    "\n",
    "print(set_a)\n",
    "\n",
    "set_a.pop()\n",
    "set_a.pop()\n",
    "\n",
    "print(set_a)"
   ]
  },
  {
   "cell_type": "markdown",
   "id": "0f94ef1e",
   "metadata": {},
   "source": [
    "## remove\n",
    "- elimina el elemento dado como parametro; debe estar presente en el set o mandará error"
   ]
  },
  {
   "cell_type": "code",
   "execution_count": 38,
   "id": "f22ac5b0",
   "metadata": {},
   "outputs": [
    {
     "name": "stdout",
     "output_type": "stream",
     "text": [
      "{1, 2, 3, 4, 5, 6, 14}\n",
      "{1, 2, 3, 5, 6, 14}\n"
     ]
    }
   ],
   "source": [
    "set_a = {1,2,3,4,5,6,14}\n",
    "print(set_a)\n",
    "\n",
    "set_a.remove(4)\n",
    "\n",
    "\n",
    "print(set_a)\n",
    "\n"
   ]
  },
  {
   "cell_type": "code",
   "execution_count": 39,
   "id": "452725ee",
   "metadata": {},
   "outputs": [
    {
     "name": "stdout",
     "output_type": "stream",
     "text": [
      "{1, 2, 3, 4, 5, 6, 14}\n"
     ]
    },
    {
     "ename": "KeyError",
     "evalue": "35",
     "output_type": "error",
     "traceback": [
      "\u001b[1;31m---------------------------------------------------------------------------\u001b[0m",
      "\u001b[1;31mKeyError\u001b[0m                                  Traceback (most recent call last)",
      "Input \u001b[1;32mIn [39]\u001b[0m, in \u001b[0;36m<cell line: 4>\u001b[1;34m()\u001b[0m\n\u001b[0;32m      1\u001b[0m set_a \u001b[38;5;241m=\u001b[39m {\u001b[38;5;241m1\u001b[39m,\u001b[38;5;241m2\u001b[39m,\u001b[38;5;241m3\u001b[39m,\u001b[38;5;241m4\u001b[39m,\u001b[38;5;241m5\u001b[39m,\u001b[38;5;241m6\u001b[39m,\u001b[38;5;241m14\u001b[39m}\n\u001b[0;32m      2\u001b[0m \u001b[38;5;28mprint\u001b[39m(set_a)\n\u001b[1;32m----> 4\u001b[0m \u001b[43mset_a\u001b[49m\u001b[38;5;241;43m.\u001b[39;49m\u001b[43mremove\u001b[49m\u001b[43m(\u001b[49m\u001b[38;5;241;43m35\u001b[39;49m\u001b[43m)\u001b[49m\n\u001b[0;32m      7\u001b[0m \u001b[38;5;28mprint\u001b[39m(set_a)\n",
      "\u001b[1;31mKeyError\u001b[0m: 35"
     ]
    }
   ],
   "source": [
    "set_a = {1,2,3,4,5,6,14}\n",
    "print(set_a)\n",
    "\n",
    "set_a.remove(35)\n",
    "\n",
    "\n",
    "print(set_a)\n"
   ]
  },
  {
   "cell_type": "markdown",
   "id": "fea54ca2",
   "metadata": {},
   "source": [
    "## union\n",
    "- Combina dos sets"
   ]
  },
  {
   "cell_type": "code",
   "execution_count": 40,
   "id": "dc05a7b6",
   "metadata": {},
   "outputs": [
    {
     "name": "stdout",
     "output_type": "stream",
     "text": [
      "{1, 2, 3, 4, 5, 6, 14, 15, 48}\n"
     ]
    }
   ],
   "source": [
    "set_a = {1,2,3,4,5,6,14}\n",
    "set_b = {15,48}\n",
    "\n",
    "\n",
    "set_c = set_b.union(set_a)\n",
    "print(set_c)"
   ]
  },
  {
   "cell_type": "markdown",
   "id": "f216758f",
   "metadata": {},
   "source": [
    "## update\n",
    "añade los valores actualizandolo"
   ]
  },
  {
   "cell_type": "code",
   "execution_count": 42,
   "id": "fd03796f",
   "metadata": {},
   "outputs": [
    {
     "name": "stdout",
     "output_type": "stream",
     "text": [
      "{1, 2, 3, 4, 5, 6, 14, 15, 48}\n"
     ]
    }
   ],
   "source": [
    "set_a = {1,2,3,4,5,6,14}\n",
    "set_b = {15,48}\n",
    "\n",
    "\n",
    "set_b.update(set_a)\n",
    "print(set_b)"
   ]
  },
  {
   "cell_type": "markdown",
   "id": "4349541a",
   "metadata": {},
   "source": [
    "## symmetric_difference\n",
    "- obtiene las diferencias en ambos sets"
   ]
  },
  {
   "cell_type": "code",
   "execution_count": 44,
   "id": "faac2543",
   "metadata": {},
   "outputs": [
    {
     "name": "stdout",
     "output_type": "stream",
     "text": [
      "{2, 3, 8, 9}\n",
      "{2, 3, 8, 9}\n"
     ]
    }
   ],
   "source": [
    "set_a = {1,2,3,4,5,6}\n",
    "set_b = {1,5,9,4,8,6}\n",
    "\n",
    "\n",
    "print(set_a.symmetric_difference(set_b))\n",
    "\n",
    "print(set_b.symmetric_difference(set_a))"
   ]
  },
  {
   "cell_type": "markdown",
   "id": "589d7215",
   "metadata": {},
   "source": [
    "## symmetric_differece_update\n",
    "- llama las diferencias y asigna el resultado a la variable"
   ]
  },
  {
   "cell_type": "code",
   "execution_count": 46,
   "id": "c58467f4",
   "metadata": {},
   "outputs": [
    {
     "name": "stdout",
     "output_type": "stream",
     "text": [
      "{2, 3, 8, 9}\n"
     ]
    }
   ],
   "source": [
    "set_a = {1,2,3,4,5,6}\n",
    "set_b = {1,5,9,4,8,6}\n",
    "\n",
    "set_a.symmetric_difference_update(set_b)\n",
    "print(set_a)\n",
    "\n"
   ]
  },
  {
   "cell_type": "markdown",
   "id": "ffc46a79",
   "metadata": {},
   "source": [
    "## conversión de sets"
   ]
  },
  {
   "cell_type": "markdown",
   "id": "8ec841ba",
   "metadata": {},
   "source": [
    "#### Cadena a set"
   ]
  },
  {
   "cell_type": "code",
   "execution_count": 49,
   "id": "49aff76d",
   "metadata": {},
   "outputs": [
    {
     "name": "stdout",
     "output_type": "stream",
     "text": [
      "{'o', 'y', 'P', 'n', 't', 'h'}\n"
     ]
    }
   ],
   "source": [
    "my_string = \"Python\"\n",
    "my_set = set(my_string)\n",
    "\n",
    "print(my_set)"
   ]
  },
  {
   "cell_type": "markdown",
   "id": "3fbdb554",
   "metadata": {},
   "source": [
    "#### Lista a set"
   ]
  },
  {
   "cell_type": "code",
   "execution_count": 50,
   "id": "3473d253",
   "metadata": {},
   "outputs": [
    {
     "name": "stdout",
     "output_type": "stream",
     "text": [
      "{1, 'Python', 5}\n"
     ]
    }
   ],
   "source": [
    "my_list = [\"Python\", 1, 5]\n",
    "my_set = set(my_list)\n",
    "\n",
    "print(my_set)"
   ]
  },
  {
   "cell_type": "markdown",
   "id": "461b9b59",
   "metadata": {},
   "source": [
    "#### Tupla a Set"
   ]
  },
  {
   "cell_type": "code",
   "execution_count": 51,
   "id": "a50c7961",
   "metadata": {},
   "outputs": [
    {
     "name": "stdout",
     "output_type": "stream",
     "text": [
      "{1, 'Python', 5}\n"
     ]
    }
   ],
   "source": [
    "my_tuple = (\"Python\", 1, 5)\n",
    "my_set = set(my_tuple)\n",
    "\n",
    "print(my_set)"
   ]
  },
  {
   "cell_type": "markdown",
   "id": "53ae7b8a",
   "metadata": {},
   "source": [
    "####  Set  a Cadena"
   ]
  },
  {
   "cell_type": "code",
   "execution_count": 54,
   "id": "39c218a3",
   "metadata": {},
   "outputs": [
    {
     "name": "stdout",
     "output_type": "stream",
     "text": [
      "ncebdka\n"
     ]
    }
   ],
   "source": [
    "my_set = {\"b\", \"a\", \"c\", \"k\", \"e\", \"n\", \"d\"}\n",
    "my_string = \"\".join(my_set)\n",
    "\n",
    "print(my_string)"
   ]
  },
  {
   "cell_type": "markdown",
   "id": "8d236ffe",
   "metadata": {},
   "source": [
    "#### Set a lista"
   ]
  },
  {
   "cell_type": "code",
   "execution_count": 55,
   "id": "948d548a",
   "metadata": {},
   "outputs": [
    {
     "name": "stdout",
     "output_type": "stream",
     "text": [
      "[1, 'Python', 5]\n"
     ]
    }
   ],
   "source": [
    "my_set = {\"Python\", 1, 5}\n",
    "my_list = list(my_set)\n",
    "\n",
    "\n",
    "print(my_list)"
   ]
  },
  {
   "cell_type": "markdown",
   "id": "cb26e467",
   "metadata": {},
   "source": [
    "#### Set a Tupla"
   ]
  },
  {
   "cell_type": "code",
   "execution_count": 56,
   "id": "edfb68de",
   "metadata": {},
   "outputs": [
    {
     "name": "stdout",
     "output_type": "stream",
     "text": [
      "(1, 'Python', 5)\n"
     ]
    }
   ],
   "source": [
    "my_set = {\"Python\", 1, 5}\n",
    "my_tuple = tuple(my_set)\n",
    "\n",
    "print(my_tuple)"
   ]
  },
  {
   "cell_type": "code",
   "execution_count": null,
   "id": "4fd45df1",
   "metadata": {},
   "outputs": [],
   "source": []
  }
 ],
 "metadata": {
  "kernelspec": {
   "display_name": "Python 3 (ipykernel)",
   "language": "python",
   "name": "python3"
  },
  "language_info": {
   "codemirror_mode": {
    "name": "ipython",
    "version": 3
   },
   "file_extension": ".py",
   "mimetype": "text/x-python",
   "name": "python",
   "nbconvert_exporter": "python",
   "pygments_lexer": "ipython3",
   "version": "3.9.12"
  }
 },
 "nbformat": 4,
 "nbformat_minor": 5
}
