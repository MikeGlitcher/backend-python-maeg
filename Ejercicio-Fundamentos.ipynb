{
 "cells": [
  {
   "cell_type": "markdown",
   "id": "47a55496",
   "metadata": {},
   "source": [
    "## Método 1"
   ]
  },
  {
   "cell_type": "code",
   "execution_count": 41,
   "id": "2e83669a",
   "metadata": {},
   "outputs": [
    {
     "name": "stdout",
     "output_type": "stream",
     "text": [
      "introduzca un número, un elemento float y una frase oplabra (recuerde separar los elementos con una coma)45, 45.55, hola mundo\n",
      "el tipo del dato 45 es: <class 'int'>\n",
      "el tipo del dato 45.55 es: <class 'float'>\n",
      "el tipo del dato  hola mundo es: <class 'str'>\n"
     ]
    }
   ],
   "source": [
    "a, b, c = input(\"introduzca un número, un elemento float y una frase o\" \n",
    "                \"plabra (recuerde separar los elementos con una coma)\").split(\",\")\n",
    "\n",
    "a = int(a)\n",
    "b = float(b)\n",
    "\n",
    "print(\"el tipo del dato\", a ,\"es:\", type(a))\n",
    "print(\"el tipo del dato\", b ,\"es:\", type(b))\n",
    "print(\"el tipo del dato\", c ,\"es:\", type(c))"
   ]
  },
  {
   "cell_type": "markdown",
   "id": "c9da306c",
   "metadata": {},
   "source": [
    "## Método 2"
   ]
  },
  {
   "cell_type": "code",
   "execution_count": 40,
   "id": "b5fdec29",
   "metadata": {},
   "outputs": [
    {
     "name": "stdout",
     "output_type": "stream",
     "text": [
      "Ingrese un numero54\n",
      "ingrese un elemento float25.22\n",
      "ingrese una palabra o frasehola mundo\n",
      "el tipo del dato 54 es: <class 'int'>\n",
      "el tipo del dato 25.22 es: <class 'float'>\n",
      "el tipo del dato hola mundo es: <class 'str'>\n"
     ]
    }
   ],
   "source": [
    "a = int(input(\"Ingrese un numero\"))\n",
    "b = float(input(\"ingrese un elemento float\"))\n",
    "c = input(\"ingrese una palabra o frase\")\n",
    "\n",
    "print(\"el tipo del dato\", a ,\"es:\", type(a))\n",
    "print(\"el tipo del dato\", b ,\"es:\", type(b))\n",
    "print(\"el tipo del dato\", c ,\"es:\", type(c))"
   ]
  },
  {
   "cell_type": "code",
   "execution_count": null,
   "id": "cc4aa1d7",
   "metadata": {},
   "outputs": [],
   "source": []
  }
 ],
 "metadata": {
  "kernelspec": {
   "display_name": "Python 3 (ipykernel)",
   "language": "python",
   "name": "python3"
  },
  "language_info": {
   "codemirror_mode": {
    "name": "ipython",
    "version": 3
   },
   "file_extension": ".py",
   "mimetype": "text/x-python",
   "name": "python",
   "nbconvert_exporter": "python",
   "pygments_lexer": "ipython3",
   "version": "3.9.12"
  }
 },
 "nbformat": 4,
 "nbformat_minor": 5
}
