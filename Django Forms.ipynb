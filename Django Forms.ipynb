{
 "cells": [
  {
   "cell_type": "markdown",
   "id": "7b83cf58",
   "metadata": {},
   "source": [
    "## Intro a Django Forms\n"
   ]
  },
  {
   "cell_type": "code",
   "execution_count": null,
   "id": "0743acb0",
   "metadata": {},
   "outputs": [],
   "source": [
    "Form: una forma de recolectar data de los usarios\n",
    "\n",
    "GET - Obtener data como usuarios\n",
    "POST - Guiardar data como usarios"
   ]
  },
  {
   "cell_type": "code",
   "execution_count": null,
   "id": "5f71fa18",
   "metadata": {},
   "outputs": [],
   "source": [
    "python manage.py startapp forms_test"
   ]
  },
  {
   "cell_type": "code",
   "execution_count": null,
   "id": "ad624dc7",
   "metadata": {},
   "outputs": [],
   "source": [
    "src\\forms_test\\forms.py"
   ]
  },
  {
   "cell_type": "code",
   "execution_count": null,
   "id": "effd4812",
   "metadata": {},
   "outputs": [],
   "source": [
    "from django import forms\n",
    "\n",
    "class SearchForm(forms.Form):\n",
    "    q = forms.CharField()"
   ]
  },
  {
   "cell_type": "markdown",
   "id": "0f69e0f4",
   "metadata": {},
   "source": [
    "## Mostrar el form en una vista\n"
   ]
  },
  {
   "cell_type": "code",
   "execution_count": null,
   "id": "a6aa0d97",
   "metadata": {},
   "outputs": [],
   "source": [
    "src\\forms_test\\views.py"
   ]
  },
  {
   "cell_type": "code",
   "execution_count": null,
   "id": "f4aa4911",
   "metadata": {},
   "outputs": [],
   "source": [
    "from django.shortcuts import render\n",
    "\n",
    "from .forms import SearchForm\n",
    "\n",
    "\n",
    "def home(request):\n",
    "    form = SearchForm()\n",
    "    return render(request, \"forms.html\", {\"form\":form})\n"
   ]
  },
  {
   "cell_type": "code",
   "execution_count": null,
   "id": "4a966b43",
   "metadata": {},
   "outputs": [],
   "source": [
    "src\\config\\urls.py"
   ]
  },
  {
   "cell_type": "code",
   "execution_count": null,
   "id": "d1dcdcd8",
   "metadata": {},
   "outputs": [],
   "source": [
    "\n",
    "urlpatterns = [\n",
    "    path(\"up/\", include(\"up.urls\")),\n",
    "    path(\"\", include(\"pages.urls\")),\n",
    "    path(\"ecommerce/\", include(\"ecommerce.urls\")),\n",
    "    path(\"admin/\", admin.site.urls),\n",
    "    path(\"products/\", include(\"products.urls\")),\n",
    "    path(\"forms/\", include(\"forms_test.urls\")),\n",
    "]\n"
   ]
  },
  {
   "cell_type": "code",
   "execution_count": null,
   "id": "d5868de5",
   "metadata": {},
   "outputs": [],
   "source": [
    "src\\forms_test\\urls.py"
   ]
  },
  {
   "cell_type": "code",
   "execution_count": null,
   "id": "b485a799",
   "metadata": {},
   "outputs": [],
   "source": [
    "from django.contrib import admin\n",
    "from django.urls import path\n",
    "\n",
    "froms .views import SearchForm\n",
    "\n",
    "urlpatterns = [\n",
    "    path(\"admin/\", admin.site.urls),\n",
    "    path(\"\", home),\n",
    "]"
   ]
  },
  {
   "cell_type": "code",
   "execution_count": null,
   "id": "d4e6df55",
   "metadata": {},
   "outputs": [],
   "source": [
    "src\\config\\settings.py"
   ]
  },
  {
   "cell_type": "code",
   "execution_count": null,
   "id": "bfa9ca11",
   "metadata": {},
   "outputs": [],
   "source": [
    "INSTALLED_APPS = [\n",
    "    \"ecommerce.apps.EcommerceConfig\",\n",
    "    \"pages.apps.PagesConfig\",\n",
    "    \"base.apps.BaseConfig\",\n",
    "    \"products.apps.ProductsConfig\",\n",
    "    \n",
    "    \"forms_test.apps.FormsTestConfig\",\n",
    "    \n",
    "    \"django.contrib.admin\",\n",
    "    \"django.contrib.auth\",\n",
    "    \"django.contrib.contenttypes\",\n",
    "    \"django.contrib.sessions\",\n",
    "    \"django.contrib.messages\",\n",
    "    \"django.contrib.staticfiles\",\n",
    "]"
   ]
  },
  {
   "cell_type": "markdown",
   "id": "e0c52fae",
   "metadata": {},
   "source": [
    "## Validacion en campos"
   ]
  },
  {
   "cell_type": "code",
   "execution_count": null,
   "id": "b639478e",
   "metadata": {},
   "outputs": [],
   "source": [
    "src\\forms_test\\forms.py"
   ]
  },
  {
   "cell_type": "code",
   "execution_count": null,
   "id": "9724ea39",
   "metadata": {},
   "outputs": [],
   "source": [
    "from django import forms\n",
    "\n",
    "class TestForm(forms.Form):\n",
    "    texto = forms.CharField()\n",
    "    boolean = forms.BooleanField()\n",
    "    integer = forms.IntegerField()\n",
    "    correo = forms.EmailField()"
   ]
  },
  {
   "cell_type": "code",
   "execution_count": null,
   "id": "a73b8f26",
   "metadata": {},
   "outputs": [],
   "source": [
    "src\\forms_test\\views.py"
   ]
  },
  {
   "cell_type": "code",
   "execution_count": null,
   "id": "eed39351",
   "metadata": {},
   "outputs": [],
   "source": [
    "from django.shortcuts import render\n",
    "\n",
    "from .forms import TestForm\n",
    "\n",
    "\n",
    "def home(request):\n",
    "    form = TestForm()\n",
    "    return render(request, \"forms.html\", {\"form\":form})\n"
   ]
  },
  {
   "cell_type": "markdown",
   "id": "55d92e6b",
   "metadata": {},
   "source": [
    "## Obtener Data de un Form\n"
   ]
  },
  {
   "cell_type": "code",
   "execution_count": null,
   "id": "0a646910",
   "metadata": {},
   "outputs": [],
   "source": [
    "src\\forms_test\\views.py"
   ]
  },
  {
   "cell_type": "code",
   "execution_count": null,
   "id": "065e0169",
   "metadata": {},
   "outputs": [],
   "source": [
    "from django.shortcuts import render\n",
    "\n",
    "from .forms import TestForm\n",
    "\n",
    "\n",
    "def home(request):\n",
    "    form = TestForm(request.POST or None)\n",
    "    if form.is_valid():\n",
    "        print(form.cleaned_data)\n",
    "    return render(request, \"forms.html\", {\"form\":form})"
   ]
  },
  {
   "cell_type": "markdown",
   "id": "fbc9abfa",
   "metadata": {},
   "source": [
    "## Validaciones Básicas en un Form"
   ]
  },
  {
   "cell_type": "code",
   "execution_count": null,
   "id": "beb528e5",
   "metadata": {},
   "outputs": [],
   "source": [
    "src\\forms_test\\forms.py"
   ]
  },
  {
   "cell_type": "code",
   "execution_count": null,
   "id": "8b8988d9",
   "metadata": {},
   "outputs": [],
   "source": [
    "from django import forms\n",
    "\n",
    "class TestForm(forms.Form):\n",
    "    texto = forms.CharField()\n",
    "    boolean = forms.BooleanField()\n",
    "    integer = forms.IntegerField()\n",
    "    correo = forms.EmailField()\n",
    "\n",
    "    def clean_entero(self, *args, **kwargs):\n",
    "        entero = self.cleaned_data.get(\"entero\")\n",
    "        if entero > 100:\n",
    "            raise form.ValidationError(\"El número debe ser menor o iguial a 100\")\n",
    "        return entero\n",
    "\n",
    "    def clean_texto(self, *args, **kwargs):\n",
    "        texto = self.cleaned_data.get(\"texto\")\n",
    "        if texto > 10:\n",
    "            raise form.ValidationError(\"El texto debe tener mas de 10 caracteres\")\n",
    "        return texto"
   ]
  },
  {
   "cell_type": "code",
   "execution_count": null,
   "id": "0dcd0e44",
   "metadata": {},
   "outputs": [],
   "source": [
    "src\\forms_test\\views.py"
   ]
  },
  {
   "cell_type": "code",
   "execution_count": null,
   "id": "46ffc5dc",
   "metadata": {},
   "outputs": [],
   "source": [
    "from django.shortcuts import render\n",
    "\n",
    "from .forms import TestForm\n",
    "\n",
    "def home(request):\n",
    "    initial_data = {\n",
    "        \"texto\" : \"Texto inicial\",\n",
    "        \"boolean\" : True,\n",
    "        \"integer\" : 100,\n",
    "        \"correo\" : \"test@test.com\"\n",
    "    }\n",
    "    form = TestForm(request.POST or None, initial=initial_data)\n",
    "    if form.is_valid():\n",
    "        print(form.cleaned_data)\n",
    "    return render(request, \"forms.html\", {\"form\":form})"
   ]
  },
  {
   "cell_type": "code",
   "execution_count": null,
   "id": "25603fff",
   "metadata": {},
   "outputs": [],
   "source": [
    "src\\forms_test\\forms.py"
   ]
  },
  {
   "cell_type": "code",
   "execution_count": null,
   "id": "e7472f29",
   "metadata": {},
   "outputs": [],
   "source": [
    "from django import forms\n",
    "\n",
    "class TestForm(forms.Form):\n",
    "    texto = forms.CharField()\n",
    "    boolean = forms.BooleanField()\n",
    "    integer = forms.IntegerField()\n",
    "    correo = forms.EmailField()\n",
    "\n",
    "    def clean_entero(self, *args, **kwargs):\n",
    "        entero = self.cleaned_data.get(\"entero\")\n",
    "        if entero > 100:\n",
    "            raise form.ValidationError(\"El número debe ser menor o iguial a 100\")\n",
    "        return entero\n",
    "\n",
    "    def clean_texto(self, *args, **kwargs):\n",
    "        texto = self.cleaned_data.get(\"texto\")\n",
    "        if texto > 10:\n",
    "            raise form.ValidationError(\"El texto debe tener mas de 10 caracteres\")\n",
    "        return texto"
   ]
  },
  {
   "cell_type": "markdown",
   "id": "f5f04665",
   "metadata": {},
   "source": [
    "## Etiquetas y Widgets"
   ]
  },
  {
   "cell_type": "code",
   "execution_count": null,
   "id": "f5ae8933",
   "metadata": {},
   "outputs": [],
   "source": [
    "src\\forms_test\\forms.py"
   ]
  },
  {
   "cell_type": "code",
   "execution_count": null,
   "id": "ee328cf3",
   "metadata": {},
   "outputs": [],
   "source": [
    "from django import forms\n",
    "\n",
    "MY_CHOICES = [\n",
    "    (\"db-value\", \"Opcion 1\"),\n",
    "    (\"o2\", \"Opcion 2\"),\n",
    "    (\"o3\", \"Opcion 3\")\n",
    "]\n",
    "\n",
    "YEARS = [x for x in range(1900, 2030)]\n",
    "\n",
    "class TestForm(forms.Form):\n",
    "    fecha = forms.DateField(widget=forms.SelectDateWidget(years=YEARS))\n",
    "    texto = forms.CharField(label=\"Ingresa un texto: \", widget=forms.Textarea(attrs={\"rows\": 4,\"cols\" : 20}))\n",
    "    boolean = forms.BooleanField()\n",
    "    integer = forms.IntegerField()\n",
    "    correo = forms.EmailField()\n",
    "    opciones = forms.CharField(label=\"Selecciona una opcion\", widget=forms.Select(choices=MY_CHOICES))\n",
    "    opciones_radio = forms.CharField(label=\"Selecciona una opcion\", widget=forms.RadioSelect(choices=MY_CHOICES))\n",
    "    opciones_chackbox = forms.CharField(label=\"Selecciona una opcion\", widget=forms.CheckboxSelectMultiple(choices=MY_CHOICES))\n",
    "\n",
    "    def clean_entero(self, *args, **kwargs):\n",
    "        entero = self.cleaned_data.get(\"entero\")\n",
    "        if entero > 100:\n",
    "            raise form.ValidationError(\"El número debe ser menor o iguial a 100\")\n",
    "        return entero\n",
    "\n",
    "    def clean_texto(self, *args, **kwargs):\n",
    "        texto = self.cleaned_data.get(\"texto\")\n",
    "        if texto > 10:\n",
    "            raise form.ValidationError(\"El texto debe tener mas de 10 caracteres\")\n",
    "        return texto"
   ]
  },
  {
   "cell_type": "markdown",
   "id": "ca6f785e",
   "metadata": {},
   "source": [
    "## Model Form\n",
    "ù"
   ]
  },
  {
   "cell_type": "code",
   "execution_count": null,
   "id": "45b75b1b",
   "metadata": {},
   "outputs": [],
   "source": [
    "src\\forms_test\\forms.py"
   ]
  },
  {
   "cell_type": "code",
   "execution_count": null,
   "id": "58bbe28c",
   "metadata": {},
   "outputs": [],
   "source": [
    "from .models import Product\n",
    "\n",
    "\n",
    "class ProductModelForm(forms.ModelForm):\n",
    "    class Meta:\n",
    "        model = Product\n",
    "        fields = [\n",
    "            \"user\",\n",
    "            \"title\",\n",
    "            \"slug\"\n",
    "        ]\n",
    "        exclude = []"
   ]
  },
  {
   "cell_type": "code",
   "execution_count": null,
   "id": "50cd7ebb",
   "metadata": {},
   "outputs": [],
   "source": [
    "src\\forms_test\\models.py"
   ]
  },
  {
   "cell_type": "code",
   "execution_count": null,
   "id": "fff41db0",
   "metadata": {},
   "outputs": [],
   "source": [
    "from django.db import models\n",
    "from django.conf import settings\n",
    "\n",
    "class Product(models.Model):\n",
    "    title = models.CharField(max_lenght=120)\n",
    "    slug = models.SlugField(unique=True)\n",
    "    price = models.FloatField()\n"
   ]
  },
  {
   "cell_type": "code",
   "execution_count": null,
   "id": "f69847b2",
   "metadata": {},
   "outputs": [],
   "source": [
    "python manage.py makemigrations\n",
    "python manage.py migrate"
   ]
  },
  {
   "cell_type": "code",
   "execution_count": null,
   "id": "7580c3c3",
   "metadata": {},
   "outputs": [],
   "source": [
    "src\\forms_test\\admin.py"
   ]
  },
  {
   "cell_type": "code",
   "execution_count": null,
   "id": "756df055",
   "metadata": {},
   "outputs": [],
   "source": [
    "from django.contrib import admin\n",
    "\n",
    "from .models import Product\n",
    "\n",
    "admin.site.register(Product)"
   ]
  },
  {
   "cell_type": "markdown",
   "id": "1e538ba6",
   "metadata": {},
   "source": [
    "## Mesnaje de ERROR personalizado"
   ]
  },
  {
   "cell_type": "code",
   "execution_count": null,
   "id": "037fc0d0",
   "metadata": {},
   "outputs": [],
   "source": [
    "src\\forms_test\\forms.py"
   ]
  },
  {
   "cell_type": "code",
   "execution_count": null,
   "id": "5ad4f2b0",
   "metadata": {},
   "outputs": [],
   "source": [
    "class ProductModelForm(forms.ModelForm):\n",
    "    labels = {\n",
    "        \"title\" : \"Mi etiqueta para el titulo\",\n",
    "        \"slug\" : \"Mi etiqueta para el slug\"\n",
    "        \"price\" : \"Mi etiqueta para el precio\"\n",
    "\n",
    "    }\n",
    "    class Meta:\n",
    "        model = Product\n",
    "        fields = [\n",
    "            \"title\",\n",
    "            \"slug\",\n",
    "            \"price\"\n",
    "        ]\n",
    "        exclude = []\n",
    "\n",
    "    def clean_title(self, *args, **kwargs):\n",
    "        title = self.cleaned_data.get(\"title\")\n",
    "        if len(title) < 10:\n",
    "            raise forms.ValidationError(\"El título dbe tener mas de 10 caracteres\")\n",
    "        return title\n",
    "    \n",
    "    def clean_slug(self, *args, **kwargs):\n",
    "        title = self.cleaned_data.get(\"slug\")\n",
    "        if len(title) < 10:\n",
    "            raise forms.ValidationError(\"El título dbe tener mas de 10 caracteres\")\n",
    "        \n",
    "        if \" \" in slug:\n",
    "            raise forms.ValidationError(\"El slug nop puede contener espacios, te recomendamos sustituirlos por guiones\")\n",
    "        return slug"
   ]
  },
  {
   "cell_type": "markdown",
   "id": "37b7bff4",
   "metadata": {},
   "source": [
    "## Django Formsets \n",
    "\n",
    "- Formset = Un grupo de Forms"
   ]
  },
  {
   "cell_type": "code",
   "execution_count": null,
   "id": "481f14c3",
   "metadata": {},
   "outputs": [],
   "source": [
    "src\\templates\\base.html"
   ]
  },
  {
   "cell_type": "code",
   "execution_count": null,
   "id": "0eefbe77",
   "metadata": {},
   "outputs": [],
   "source": [
    "<body>\n",
    "    <div class=\"container\">\n",
    "        {% block content %}\n",
    "        {% endblock %}\n",
    "    </div>\n",
    "</body>"
   ]
  },
  {
   "cell_type": "code",
   "execution_count": null,
   "id": "5d30ff91",
   "metadata": {},
   "outputs": [],
   "source": [
    "src\\templates\\formset_view.html"
   ]
  },
  {
   "cell_type": "code",
   "execution_count": null,
   "id": "b7918e76",
   "metadata": {},
   "outputs": [],
   "source": [
    "{% extends \"base.html\" %}\n",
    "\n",
    "{% block content %}\n",
    "\n",
    "<form action=\"\" method=\"POST\">\n",
    "    {% csrf_token %}\n",
    "    \n",
    "    {{ formset.managment_form }}\n",
    "    \n",
    "    {% for form in formset %}\n",
    "        <div>\n",
    "            {{ form.as_p }}\n",
    "            <br/>\n",
    "        </div>\n",
    "    {% endfor %}\n",
    "    \n",
    "    <input type=\"submit\" value=\"Guardar\">\n",
    "</form>\n",
    "\n",
    "{% endblock %}"
   ]
  },
  {
   "cell_type": "code",
   "execution_count": null,
   "id": "280e6e58",
   "metadata": {},
   "outputs": [],
   "source": [
    "src\\forms_test\\views.py"
   ]
  },
  {
   "cell_type": "code",
   "execution_count": null,
   "id": "26eca38f",
   "metadata": {},
   "outputs": [],
   "source": [
    "from django.shortcuts import render\n",
    "from django.forms import formset_factory, modelformset_factory\n",
    "from .forms import TestForm, ProductModelForm\n",
    "\n",
    "def home(request):\n",
    "    TestFormSet = formset_factory(TestForm, extra=3)\n",
    "    formset = TestFormSet(request.POST or None)\n",
    "\n",
    "    if formset.is_valid():\n",
    "        for form in formset:\n",
    "            print(form.cleaned_data)\n",
    "    \n",
    "    context = {\n",
    "        \"formset\":formset\n",
    "    }\n",
    "\n",
    "    return render(request, \"formset_view.html\", context)\n",
    "\n",
    "    # initial_data = {\n",
    "    #     \"texto\" : \"Texto inicial\",\n",
    "    #     \"boolean\" : True,\n",
    "    #     \"integer\" : 100,\n",
    "    #     \"correo\" : \"test@test.com\"\n",
    "    # }\n",
    "    # form = TestForm(request.POST or None, initial=initial_data)\n",
    "    \n",
    "    # form = ProductModelForm(request.POST or None)\n",
    "    \n",
    "    # if form.is_valid():\n",
    "    #     print(form.cleaned_data)\n",
    "    # return render(request, \"forms.html\", {\"form\":form})"
   ]
  },
  {
   "cell_type": "markdown",
   "id": "f86f6106",
   "metadata": {},
   "source": [
    "## Django ModelFormsets\n",
    "\n",
    "- ModelFormset: Un grupo de ModelFormset"
   ]
  },
  {
   "cell_type": "code",
   "execution_count": null,
   "id": "cf4f30fb",
   "metadata": {},
   "outputs": [],
   "source": [
    "src\\forms_test\\views.py"
   ]
  },
  {
   "cell_type": "code",
   "execution_count": null,
   "id": "01183fe1",
   "metadata": {},
   "outputs": [],
   "source": [
    "from django.shortcuts import render\n",
    "from django.forms import formset_factory, modelformset_factory\n",
    "from .forms import TestForm, ProductModelForm\n",
    "from .models import Product\n",
    "\n",
    "def home(request):\n",
    "    ProductModelFormSet = modelformset_factory(Product, form=ProductModelForm)\n",
    "    formset = ProductModelFormSet(request.POST or None, queryset=Product.object.all())\n",
    "\n",
    "    print(\"formset.data\")\n",
    "    print(formset.data)\n",
    "\n",
    "    print(\"formset.errors\")\n",
    "    print(formset.data)\n",
    "\n",
    "    formset.clean()\n",
    "\n",
    "    if formset.is_valid():\n",
    "        print(\"ModelFormset es valido\")\n",
    "        formset.save()\n",
    "\n",
    "    context = {\n",
    "        \"formset\" : formset\n",
    "    }\n",
    "\n",
    "    return render(request, \"formset_view.html\", context)\n",
    "\n",
    "\n"
   ]
  },
  {
   "cell_type": "markdown",
   "id": "fc3fdc65",
   "metadata": {},
   "source": [
    "## Forms - EJERCICIO"
   ]
  },
  {
   "cell_type": "code",
   "execution_count": null,
   "id": "3ed56590",
   "metadata": {},
   "outputs": [],
   "source": [
    "src\\forms_test\\views.py"
   ]
  },
  {
   "cell_type": "code",
   "execution_count": null,
   "id": "65d8f7af",
   "metadata": {},
   "outputs": [],
   "source": [
    "from django.shortcuts import render\n",
    "from django.forms import formset_factory, modelformset_factory\n",
    "from .forms import TestForm, ProductModelForm, RegisterControl\n",
    "from .models import Product, Registration\n",
    "\n",
    "def home(request):\n",
    "    initial_data = {\n",
    "        \"name\" : \"Ingresa tu nombre\",\n",
    "        \"email\" : \"ingreta tu correo\",\n",
    "        \"password\" : \"Ingresa tu contraseña\"\n",
    "    }\n",
    "\n",
    "    form = RegisterControl(request.POST or None)\n",
    "\n",
    "    if form.is_valid():\n",
    "        print(form.cleaned_data)\n",
    "    return render(request, \"forms.html\", {\"form\":form})\n",
    "\n"
   ]
  },
  {
   "cell_type": "code",
   "execution_count": null,
   "id": "7b08feee",
   "metadata": {},
   "outputs": [],
   "source": [
    "src\\forms_test\\models.py"
   ]
  },
  {
   "cell_type": "code",
   "execution_count": null,
   "id": "d10818c7",
   "metadata": {},
   "outputs": [],
   "source": [
    "from django.conf import settings\n",
    "from django.db import models\n",
    "\n",
    "\n",
    "class Product(models.Model):\n",
    "    title = models.CharField(max_length=120)\n",
    "    slug = models.SlugField(unique=True)\n",
    "    price = models.FloatField()\n",
    "\n",
    "\n",
    "class Registration(models.Model):\n",
    "    nombre = models.CharField(max_length=100)\n",
    "    email = models.EmailField(unique=True)\n",
    "    password = models.CharField(max_length=100)"
   ]
  },
  {
   "cell_type": "code",
   "execution_count": null,
   "id": "690d4c47",
   "metadata": {},
   "outputs": [],
   "source": [
    "python manage.py makemigrations\n",
    "python manage.py migrate"
   ]
  },
  {
   "cell_type": "code",
   "execution_count": null,
   "id": "798d7ece",
   "metadata": {},
   "outputs": [],
   "source": [
    "src\\forms_test\\forms.py"
   ]
  },
  {
   "cell_type": "code",
   "execution_count": null,
   "id": "92566f03",
   "metadata": {},
   "outputs": [],
   "source": [
    "from django import forms\n",
    "\n",
    "MY_CHOICES = [\n",
    "    (\"db-value\", \"Opcion 1\"),\n",
    "    (\"o2\", \"Opcion 2\"),\n",
    "    (\"o3\", \"Opcion 3\")\n",
    "]\n",
    "\n",
    "YEARS = [x for x in range(1900, 2030)]\n",
    "\n",
    "from .models import Product, Registration\n",
    "\n",
    "class RegisterControl(forms.ModelForm):\n",
    "    labels = {\n",
    "        \"nombre\" : \"Ingresa tu nombre\",\n",
    "        \"email\" : \"Ingresa tu email\",\n",
    "        \"password\" : \"Ingresa una contraseña\"\n",
    "    }\n",
    "    class Meta:\n",
    "        model = Registration\n",
    "        fields = [\n",
    "            \"nombre\",\n",
    "            \"email\",\n",
    "            \"password\"\n",
    "        ]\n",
    "\n",
    "        exclude = []\n",
    "\n",
    "        def clean_name(self, *args, **kargs):\n",
    "            name = self.clean_data.get(\"nombre\")\n",
    "            if len(name) > 100 or len(name) < 10:\n",
    "                raise forms.ValidationError(\n",
    "                    \"Tu nombre no puede contener entre 10 y 100 caracteres\"\n",
    "                )\n",
    "            return title\n"
   ]
  },
  {
   "cell_type": "code",
   "execution_count": null,
   "id": "93f925c6",
   "metadata": {},
   "outputs": [],
   "source": [
    "src\\forms_test\\admin.py"
   ]
  },
  {
   "cell_type": "code",
   "execution_count": null,
   "id": "18cca3ca",
   "metadata": {},
   "outputs": [],
   "source": [
    "from django.contrib import admin\n",
    "\n",
    "from .models import Product, Registration\n",
    "\n",
    "admin.site.register(Product)\n",
    "\n",
    "admin.site.register(Registration)"
   ]
  }
 ],
 "metadata": {
  "kernelspec": {
   "display_name": "Python 3 (ipykernel)",
   "language": "python",
   "name": "python3"
  },
  "language_info": {
   "codemirror_mode": {
    "name": "ipython",
    "version": 3
   },
   "file_extension": ".py",
   "mimetype": "text/x-python",
   "name": "python",
   "nbconvert_exporter": "python",
   "pygments_lexer": "ipython3",
   "version": "3.9.12"
  }
 },
 "nbformat": 4,
 "nbformat_minor": 5
}
