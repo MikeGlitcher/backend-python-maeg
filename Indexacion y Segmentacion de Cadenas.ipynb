{
 "cells": [
  {
   "cell_type": "markdown",
   "id": "504ccb6f",
   "metadata": {},
   "source": [
    "### Indexación de Cadenas\n",
    "- ¿Qué es un indice?\n",
    "- ¿Por que es necesario?\n",
    "\n",
    "- Indexación significa acceder a los elementos\n",
    "- Para acceder alos elementos podemos usar corchetes \"[]\"\n",
    "- La indexación puede usarse para extraer elementos individuales de una estructura de datos\n",
    "- En Python, toda la indexación parte desde el numero 0 como primera posición.\n",
    "\n",
    "- En Python, tenemos dos tipos de índices:\n",
    "    - Positivos: de iazquierda a derecha 0\n",
    "    - Negativos de derecha a izaquierda -1\n",
    "    "
   ]
  },
  {
   "cell_type": "markdown",
   "id": "b88f0274",
   "metadata": {},
   "source": [
    "#### Segmentación de Cadenas"
   ]
  },
  {
   "cell_type": "code",
   "execution_count": 2,
   "id": "25e68b49",
   "metadata": {},
   "outputs": [
    {
     "name": "stdout",
     "output_type": "stream",
     "text": [
      "Curso de Backend Python\n",
      "<class 'str'>\n",
      "C\n",
      "Curso\n",
      "Curso de Backend Python\n",
      "de Ba\n"
     ]
    }
   ],
   "source": [
    "#indices positivos\n",
    "my_string = \"Curso de Backend Python\"\n",
    "print(my_string)\n",
    "print(type(my_string))\n",
    "print(my_string[0])\n",
    "print(my_string[0:5]) # 0,1,2,3,4\n",
    "print(my_string[:]) # todos los elementos\n",
    "print(my_string[6:11]) # 6,7,8,9,10"
   ]
  },
  {
   "cell_type": "code",
   "execution_count": 3,
   "id": "d9d454d2",
   "metadata": {},
   "outputs": [
    {
     "ename": "IndexError",
     "evalue": "string index out of range",
     "output_type": "error",
     "traceback": [
      "\u001b[1;31m---------------------------------------------------------------------------\u001b[0m",
      "\u001b[1;31mIndexError\u001b[0m                                Traceback (most recent call last)",
      "Input \u001b[1;32mIn [3]\u001b[0m, in \u001b[0;36m<cell line: 3>\u001b[1;34m()\u001b[0m\n\u001b[0;32m      1\u001b[0m \u001b[38;5;66;03m# error\u001b[39;00m\n\u001b[0;32m      2\u001b[0m my_string \u001b[38;5;241m=\u001b[39m \u001b[38;5;124m\"\u001b[39m\u001b[38;5;124mCurso de Backend Python\u001b[39m\u001b[38;5;124m\"\u001b[39m\n\u001b[1;32m----> 3\u001b[0m \u001b[38;5;28mprint\u001b[39m(\u001b[43mmy_string\u001b[49m\u001b[43m[\u001b[49m\u001b[38;5;241;43m9999\u001b[39;49m\u001b[43m]\u001b[49m)\n",
      "\u001b[1;31mIndexError\u001b[0m: string index out of range"
     ]
    }
   ],
   "source": [
    "# error\n",
    "my_string = \"Curso de Backend Python\"\n",
    "print(my_string[9999])"
   ]
  },
  {
   "cell_type": "code",
   "execution_count": 4,
   "id": "2a9e6c49",
   "metadata": {},
   "outputs": [
    {
     "name": "stdout",
     "output_type": "stream",
     "text": [
      "y\n"
     ]
    }
   ],
   "source": [
    "# indices negativos\n",
    "my_string = \"Curso de Backend Python\"\n",
    "print(my_string[-5])"
   ]
  },
  {
   "cell_type": "markdown",
   "id": "a0613de7",
   "metadata": {},
   "source": [
    "#### Concatenación de cadenas\n"
   ]
  },
  {
   "cell_type": "code",
   "execution_count": 7,
   "id": "547df551",
   "metadata": {},
   "outputs": [
    {
     "name": "stdout",
     "output_type": "stream",
     "text": [
      "Curso \n",
      "Curso de Backend Python\n",
      "Curso de Backend Python\n"
     ]
    }
   ],
   "source": [
    "my_string = \"Curso \"\n",
    "my_string2 = \"de Backend Python\"\n",
    "print(my_string)\n",
    "print(my_string + my_string2)\n",
    "print(\"{}{}\".format(my_string, my_string2))"
   ]
  },
  {
   "cell_type": "code",
   "execution_count": 13,
   "id": "ecee2bae",
   "metadata": {},
   "outputs": [
    {
     "name": "stdout",
     "output_type": "stream",
     "text": [
      "10\n",
      "1020\n",
      "30\n"
     ]
    }
   ],
   "source": [
    "my_string = \"10\"\n",
    "my_string2 = \"20\"\n",
    "print(my_string)\n",
    "print(my_string + my_string2)\n",
    "print(eval(f\"{my_string} + {my_string2}\"))"
   ]
  },
  {
   "cell_type": "markdown",
   "id": "c766c0fd",
   "metadata": {},
   "source": [
    "#### Multiplicación de cadenas"
   ]
  },
  {
   "cell_type": "code",
   "execution_count": 14,
   "id": "96e7a8b5",
   "metadata": {},
   "outputs": [
    {
     "name": "stdout",
     "output_type": "stream",
     "text": [
      "cargando...\n",
      "cargando...\n",
      "cargando...\n",
      "cargando...\n",
      "cargando...\n",
      "\n"
     ]
    }
   ],
   "source": [
    "my_string = \"cargando...\\n\"\n",
    "print(my_string*5)\n",
    "\n",
    "# si el numero es 0 o menor a 0 sera una cadena vacia \n",
    "# Solo numeros enteros"
   ]
  },
  {
   "cell_type": "markdown",
   "id": "50d8514e",
   "metadata": {},
   "source": [
    "#### Comparación de cadenas\n"
   ]
  },
  {
   "cell_type": "code",
   "execution_count": 17,
   "id": "210f80f3",
   "metadata": {},
   "outputs": [
    {
     "name": "stdout",
     "output_type": "stream",
     "text": [
      "True\n"
     ]
    }
   ],
   "source": [
    "my_string = \"cargando...\\n\"\n",
    "my_string2 = \"cargando...\"\n",
    "print(my_string != my_string2)\n",
    "      "
   ]
  },
  {
   "cell_type": "markdown",
   "id": "9ac07e49",
   "metadata": {},
   "source": [
    "#### Funciones de cadenas\n",
    "\n",
    "##### Split\n",
    "\n",
    "Divide cadena basandose en el separador especifico"
   ]
  },
  {
   "cell_type": "code",
   "execution_count": 18,
   "id": "04551e49",
   "metadata": {},
   "outputs": [
    {
     "name": "stdout",
     "output_type": "stream",
     "text": [
      "['El', 'curso', 'de', 'backend', 'python', 'en', 'EBAC']\n"
     ]
    }
   ],
   "source": [
    "my_string = \"El curso de backend python en EBAC\"\n",
    "split_string = my_string.split(\" \")\n",
    "print(split_string)"
   ]
  },
  {
   "cell_type": "code",
   "execution_count": 21,
   "id": "57b492a3",
   "metadata": {},
   "outputs": [
    {
     "name": "stdout",
     "output_type": "stream",
     "text": [
      "ebac\n",
      "gmail.com\n"
     ]
    }
   ],
   "source": [
    "my_string = \"ebac@gmail.com\"\n",
    "user, domain = my_string.split(\"@\")\n",
    "print(user)\n",
    "print(domain)"
   ]
  },
  {
   "cell_type": "code",
   "execution_count": 22,
   "id": "98155b0e",
   "metadata": {},
   "outputs": [
    {
     "name": "stdout",
     "output_type": "stream",
     "text": [
      "dane:  2022\n",
      "log_level:  error\n",
      "message:  Este archivo es un error\n",
      "dane:  2022\n",
      "log_level:  warning\n",
      "message:  Este mensaje es una advertencia\n",
      "dane:  2022\n",
      "log_level:  info\n",
      "message:  Este es mensaje\n"
     ]
    }
   ],
   "source": [
    "my_string = \"\"\"2022|error|Este archivo es un error\n",
    "2022|warning|Este mensaje es una advertencia\n",
    "2022|info|Este es mensaje\"\"\"\n",
    "\n",
    "\n",
    "logs = my_string.split(\"\\n\")\n",
    "for log in logs:\n",
    "    date, log_level, message = log.split(\"|\")\n",
    "    print(\"dane: \", date)\n",
    "    print(\"log_level: \", log_level)\n",
    "    print(\"message: \", message)"
   ]
  },
  {
   "cell_type": "markdown",
   "id": "93b0264c",
   "metadata": {},
   "source": [
    "#### Index / find\n",
    "\n",
    "Busca la primer posición de la subcadena en la cadena deseada\n"
   ]
  },
  {
   "cell_type": "code",
   "execution_count": 24,
   "id": "3cce009e",
   "metadata": {},
   "outputs": [
    {
     "name": "stdout",
     "output_type": "stream",
     "text": [
      "la posición de @ es:  4\n",
      "la posición de @ es:  4\n"
     ]
    }
   ],
   "source": [
    "my_string = \"ebac@gmail.com\"\n",
    "print(\"la posición de @ es: \", my_string.index(\"@\"))\n",
    "print(\"la posición de @ es: \", my_string.find(\"@\"))"
   ]
  },
  {
   "cell_type": "markdown",
   "id": "eefee752",
   "metadata": {},
   "source": [
    "#### count\n",
    "\n",
    "Cuenta el numero de apariciones de la subcadena colicitada en la cadena completa"
   ]
  },
  {
   "cell_type": "code",
   "execution_count": 25,
   "id": "f234b587",
   "metadata": {},
   "outputs": [
    {
     "name": "stdout",
     "output_type": "stream",
     "text": [
      "la cantidad de caracteres de @ es:  1\n"
     ]
    }
   ],
   "source": [
    "my_string = \"ebac@gmail.com\"\n",
    "print(\"la cantidad de caracteres de @ es: \", my_string.count(\"@\"))"
   ]
  },
  {
   "cell_type": "markdown",
   "id": "d37f1dac",
   "metadata": {},
   "source": [
    "#### len\n",
    "Cuenta la lingitud, o cuantos caracteres hay en la cadena."
   ]
  },
  {
   "cell_type": "code",
   "execution_count": 27,
   "id": "365a31a6",
   "metadata": {},
   "outputs": [
    {
     "name": "stdout",
     "output_type": "stream",
     "text": [
      "la cantidad de caracteres de my_string es:  14\n"
     ]
    }
   ],
   "source": [
    "my_string = \"ebac@gmail.com\"\n",
    "print(\"la cantidad de caracteres de my_string es: \", len(my_string))"
   ]
  },
  {
   "cell_type": "markdown",
   "id": "30677969",
   "metadata": {},
   "source": [
    "#### strip\n",
    "Remueve espacios"
   ]
  },
  {
   "cell_type": "code",
   "execution_count": 31,
   "id": "333e173b",
   "metadata": {},
   "outputs": [
    {
     "name": "stdout",
     "output_type": "stream",
     "text": [
      "      ebac @ gmail.com\n",
      "ebac @ gmail.com\n"
     ]
    }
   ],
   "source": [
    "my_string = \"      ebac @ gmail.com\"\n",
    "print(my_string)\n",
    "print(my_string.strip())"
   ]
  },
  {
   "cell_type": "code",
   "execution_count": 32,
   "id": "af81f33e",
   "metadata": {},
   "outputs": [
    {
     "name": "stdout",
     "output_type": "stream",
     "text": [
      "    \n",
      "\n",
      "\t\r",
      "  ebac @ gmail.com\n",
      "ebac @ gmail.com\n"
     ]
    }
   ],
   "source": [
    "my_string = \"    \\n\\n\\t\\r  ebac @ gmail.com\"\n",
    "print(my_string)\n",
    "print(my_string.strip())"
   ]
  },
  {
   "cell_type": "code",
   "execution_count": 33,
   "id": "3c77eed4",
   "metadata": {},
   "outputs": [
    {
     "name": "stdout",
     "output_type": "stream",
     "text": [
      "      ebac @ gmail.com\n",
      "      ebac @ gmail.co\n"
     ]
    }
   ],
   "source": [
    "my_string = \"      ebac @ gmail.com\"\n",
    "print(my_string)\n",
    "print(my_string.strip(\"m\"))"
   ]
  },
  {
   "cell_type": "markdown",
   "id": "f7d4c872",
   "metadata": {},
   "source": [
    "#### isdecimal /isnumeric /isdigit\n",
    "Analiza si la cadena contiene solamente numeros / enteros"
   ]
  },
  {
   "cell_type": "code",
   "execution_count": 35,
   "id": "9f2e2037",
   "metadata": {},
   "outputs": [
    {
     "name": "stdout",
     "output_type": "stream",
     "text": [
      "True\n",
      "True\n",
      "True\n"
     ]
    }
   ],
   "source": [
    "my_string = \"12345679894816\"\n",
    "print(my_string.isnumeric())\n",
    "print(my_string.isdecimal())\n",
    "print(my_string.isdigit())"
   ]
  },
  {
   "cell_type": "code",
   "execution_count": 36,
   "id": "02ef27f1",
   "metadata": {},
   "outputs": [
    {
     "name": "stdout",
     "output_type": "stream",
     "text": [
      "False\n",
      "False\n",
      "False\n"
     ]
    }
   ],
   "source": [
    "my_string = \"123456.79894816\"\n",
    "print(my_string.isnumeric())\n",
    "print(my_string.isdecimal())\n",
    "print(my_string.isdigit())"
   ]
  },
  {
   "cell_type": "markdown",
   "id": "48aeeba7",
   "metadata": {},
   "source": [
    "#### isalnum\n",
    "Analiza si todos los caracteres son alfanumericos (letras y numeros)"
   ]
  },
  {
   "cell_type": "code",
   "execution_count": 37,
   "id": "d525bdc6",
   "metadata": {},
   "outputs": [
    {
     "name": "stdout",
     "output_type": "stream",
     "text": [
      "False\n"
     ]
    }
   ],
   "source": [
    "my_string = \"123456.79894816\"\n",
    "print(my_string.isalnum())"
   ]
  },
  {
   "cell_type": "markdown",
   "id": "f28f3833",
   "metadata": {},
   "source": [
    "#### isupper \n",
    "si todas las letras presentes en la cadena son mayusculas"
   ]
  },
  {
   "cell_type": "code",
   "execution_count": 38,
   "id": "0f6165fa",
   "metadata": {},
   "outputs": [
    {
     "name": "stdout",
     "output_type": "stream",
     "text": [
      "False\n"
     ]
    }
   ],
   "source": [
    "my_string = \"fesgsegesgehr\"\n",
    "print(my_string.isupper())"
   ]
  },
  {
   "cell_type": "code",
   "execution_count": 39,
   "id": "6f7e0ec8",
   "metadata": {},
   "outputs": [
    {
     "name": "stdout",
     "output_type": "stream",
     "text": [
      "False\n"
     ]
    }
   ],
   "source": [
    "my_string = \"fesgseGDDesgehr\"\n",
    "print(my_string.isupper())"
   ]
  },
  {
   "cell_type": "code",
   "execution_count": 40,
   "id": "254c4499",
   "metadata": {},
   "outputs": [
    {
     "name": "stdout",
     "output_type": "stream",
     "text": [
      "True\n"
     ]
    }
   ],
   "source": [
    "my_string = \"AWFWFAFW\"\n",
    "print(my_string.isupper())"
   ]
  },
  {
   "cell_type": "code",
   "execution_count": 41,
   "id": "1194c9d6",
   "metadata": {},
   "outputs": [
    {
     "name": "stdout",
     "output_type": "stream",
     "text": [
      "True\n"
     ]
    }
   ],
   "source": [
    "my_string = \"AWFWFAFW85484\"\n",
    "print(my_string.isupper())"
   ]
  },
  {
   "cell_type": "markdown",
   "id": "d7afe52b",
   "metadata": {},
   "source": [
    "#### islower\n",
    "Analiza si todas la letras de la cadena son minusculas"
   ]
  },
  {
   "cell_type": "code",
   "execution_count": 42,
   "id": "d2f0ff0b",
   "metadata": {},
   "outputs": [
    {
     "name": "stdout",
     "output_type": "stream",
     "text": [
      "True\n"
     ]
    }
   ],
   "source": [
    "my_string = \"fesgsegesgehr\"\n",
    "print(my_string.islower())"
   ]
  },
  {
   "cell_type": "code",
   "execution_count": 43,
   "id": "3b69dd9b",
   "metadata": {},
   "outputs": [
    {
     "name": "stdout",
     "output_type": "stream",
     "text": [
      "False\n"
     ]
    }
   ],
   "source": [
    "my_string = \"awdawhduwadawDWADAW\"\n",
    "print(my_string.islower())"
   ]
  },
  {
   "cell_type": "markdown",
   "id": "7ea8f0a7",
   "metadata": {},
   "source": [
    "#### join\n",
    "Crea una cadena de una lista usando el separador especificado"
   ]
  },
  {
   "cell_type": "code",
   "execution_count": 45,
   "id": "faf5cf5c",
   "metadata": {},
   "outputs": [
    {
     "name": "stdout",
     "output_type": "stream",
     "text": [
      "1|2|3|4|5\n"
     ]
    }
   ],
   "source": [
    "num_list = [\"1\",\"2\",\"3\",\"4\",\"5\"]\n",
    "separator = \"|\"\n",
    "print(separator.join(num_list))"
   ]
  },
  {
   "cell_type": "code",
   "execution_count": 46,
   "id": "cb49bb77",
   "metadata": {},
   "outputs": [
    {
     "name": "stdout",
     "output_type": "stream",
     "text": [
      "1,2,3,4,5\n"
     ]
    }
   ],
   "source": [
    "num_list = [\"1\",\"2\",\"3\",\"4\",\"5\"]\n",
    "separator = \",\"\n",
    "print(separator.join(num_list))"
   ]
  },
  {
   "cell_type": "markdown",
   "id": "1fb7c245",
   "metadata": {},
   "source": [
    "#### capitalize\n",
    "Hace mayuscula la primer letra"
   ]
  },
  {
   "cell_type": "code",
   "execution_count": 47,
   "id": "fdbc8f17",
   "metadata": {},
   "outputs": [
    {
     "name": "stdout",
     "output_type": "stream",
     "text": [
      "Awdawhduwadawdwadaw\n"
     ]
    }
   ],
   "source": [
    "my_string = \"awdawhduwadawDWADAW\"\n",
    "print(my_string.capitalize())"
   ]
  },
  {
   "cell_type": "markdown",
   "id": "e743eed7",
   "metadata": {},
   "source": [
    "#### format\n",
    "Nos ayuda a configurar valores dentro de una cadena"
   ]
  },
  {
   "cell_type": "code",
   "execution_count": 50,
   "id": "c3a09736",
   "metadata": {},
   "outputs": [
    {
     "name": "stdout",
     "output_type": "stream",
     "text": [
      "awdawh 22 duwadawDWADAW\n"
     ]
    }
   ],
   "source": [
    "my_string = \"awdawh {} duwadawDWADAW\"\n",
    "print(my_string.format(22))"
   ]
  },
  {
   "cell_type": "code",
   "execution_count": 53,
   "id": "22a7432d",
   "metadata": {},
   "outputs": [
    {
     "name": "stdout",
     "output_type": "stream",
     "text": [
      "año 2022 = hora 15:55\n"
     ]
    }
   ],
   "source": [
    "my_string = \"año {} = hora {}\"\n",
    "print(my_string.format(\"2022\", \"15:55\"))"
   ]
  },
  {
   "cell_type": "code",
   "execution_count": 54,
   "id": "502bf6ad",
   "metadata": {},
   "outputs": [
    {
     "name": "stdout",
     "output_type": "stream",
     "text": [
      "año 2022 = hora 15:55\n"
     ]
    }
   ],
   "source": [
    "my_string = \"año {1} = hora {0}\"\n",
    "print(my_string.format(\"15:55\", \"2022\"))"
   ]
  },
  {
   "cell_type": "markdown",
   "id": "de778c61",
   "metadata": {},
   "source": [
    "#### center\n",
    "centra el texto dada cierta longitud"
   ]
  },
  {
   "cell_type": "code",
   "execution_count": 60,
   "id": "dee8a657",
   "metadata": {},
   "outputs": [
    {
     "name": "stdout",
     "output_type": "stream",
     "text": [
      "[                    año = hora                    ]\n",
      "[               año = hora               ]\n"
     ]
    }
   ],
   "source": [
    "my_string = \"año = hora\"\n",
    "print(\"[{}]\".format(my_string.center(50)))\n",
    "print(\"[{}]\".format(my_string.center(40)))"
   ]
  },
  {
   "cell_type": "markdown",
   "id": "1949f1bc",
   "metadata": {},
   "source": [
    "#### endswith\n",
    "Evalua si la cadena termina con la cadena op el caracter seleccionado"
   ]
  },
  {
   "cell_type": "code",
   "execution_count": 62,
   "id": "31bce9d1",
   "metadata": {},
   "outputs": [
    {
     "name": "stdout",
     "output_type": "stream",
     "text": [
      "True\n"
     ]
    }
   ],
   "source": [
    "my_string = \"Python en EBAC\"\n",
    "print(my_string.endswith(\"C\"))"
   ]
  },
  {
   "cell_type": "code",
   "execution_count": 63,
   "id": "32209794",
   "metadata": {},
   "outputs": [
    {
     "name": "stdout",
     "output_type": "stream",
     "text": [
      "False\n"
     ]
    }
   ],
   "source": [
    "my_string = \"Python en EBAC si\"\n",
    "print(my_string.endswith(\"C\"))"
   ]
  },
  {
   "cell_type": "markdown",
   "id": "2b6df21d",
   "metadata": {},
   "source": [
    "#### suapcase\n",
    "Invierte mayusculas y minusculas\n"
   ]
  },
  {
   "cell_type": "code",
   "execution_count": 65,
   "id": "893568ed",
   "metadata": {},
   "outputs": [
    {
     "name": "stdout",
     "output_type": "stream",
     "text": [
      "pYTHON EN ebac\n"
     ]
    }
   ],
   "source": [
    "my_string = \"Python en EBAC\"\n",
    "print(my_string.swapcase())"
   ]
  },
  {
   "cell_type": "code",
   "execution_count": 66,
   "id": "166832fe",
   "metadata": {},
   "outputs": [
    {
     "name": "stdout",
     "output_type": "stream",
     "text": [
      "Python en EBAC\n"
     ]
    }
   ],
   "source": [
    "my_string = \"pYTHON EN ebac\"\n",
    "print(my_string.swapcase())"
   ]
  },
  {
   "cell_type": "markdown",
   "id": "bb7584e7",
   "metadata": {},
   "source": [
    "#### replace\n",
    "Remplaca una subcadena por otra dentro de una cadena"
   ]
  },
  {
   "cell_type": "code",
   "execution_count": 67,
   "id": "fde324f7",
   "metadata": {},
   "outputs": [
    {
     "name": "stdout",
     "output_type": "stream",
     "text": [
      "Backend Python en EBAC\n"
     ]
    }
   ],
   "source": [
    "my_string = \"Python en EBAC\"\n",
    "print(my_string.replace(\"Python\", \"Backend Python\"))"
   ]
  },
  {
   "cell_type": "markdown",
   "id": "ff07aad2",
   "metadata": {},
   "source": [
    "#### Fromateo de cadenas y datetime"
   ]
  },
  {
   "cell_type": "code",
   "execution_count": 71,
   "id": "c221afd5",
   "metadata": {},
   "outputs": [
    {
     "name": "stdout",
     "output_type": "stream",
     "text": [
      "2022-10-10 18:38:28.683947\n"
     ]
    }
   ],
   "source": [
    "from datetime import datetime\n",
    "\n",
    "now = datetime.now()\n",
    "\n",
    "print(now)"
   ]
  },
  {
   "cell_type": "code",
   "execution_count": 73,
   "id": "2d573050",
   "metadata": {},
   "outputs": [
    {
     "name": "stdout",
     "output_type": "stream",
     "text": [
      "2022\n",
      "10\n",
      "10\n",
      "18:38:28\n"
     ]
    }
   ],
   "source": [
    "year = now.strftime(\"%Y\")\n",
    "month = now.strftime(\"%m\")\n",
    "day = now.strftime(\"%d\")\n",
    "time = now.strftime(\"%H:%M:%S\")\n",
    "\n",
    "print(year)\n",
    "print(month)\n",
    "print(day)\n",
    "print(time)"
   ]
  },
  {
   "cell_type": "markdown",
   "id": "4bf30453",
   "metadata": {},
   "source": [
    "#### reverse /reversa\n",
    "innvertir una cadena"
   ]
  },
  {
   "cell_type": "code",
   "execution_count": 74,
   "id": "d88c3978",
   "metadata": {},
   "outputs": [
    {
     "name": "stdout",
     "output_type": "stream",
     "text": [
      "CABE ne nohtyP\n"
     ]
    }
   ],
   "source": [
    "my_string = \"Python en EBAC\"\n",
    "\n",
    "print(my_string[::-1])"
   ]
  },
  {
   "cell_type": "code",
   "execution_count": null,
   "id": "6819c3c9",
   "metadata": {},
   "outputs": [],
   "source": []
  }
 ],
 "metadata": {
  "kernelspec": {
   "display_name": "Python 3 (ipykernel)",
   "language": "python",
   "name": "python3"
  },
  "language_info": {
   "codemirror_mode": {
    "name": "ipython",
    "version": 3
   },
   "file_extension": ".py",
   "mimetype": "text/x-python",
   "name": "python",
   "nbconvert_exporter": "python",
   "pygments_lexer": "ipython3",
   "version": "3.9.12"
  }
 },
 "nbformat": 4,
 "nbformat_minor": 5
}
