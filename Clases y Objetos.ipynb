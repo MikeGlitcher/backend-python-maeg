{
 "cells": [
  {
   "cell_type": "markdown",
   "id": "491d6c81",
   "metadata": {},
   "source": [
    "# Introducción\n",
    "\n",
    "Imagina un carro\n",
    "\n",
    "Carro objeto\n",
    "Molde de carro - clase\n",
    "\n"
   ]
  },
  {
   "cell_type": "code",
   "execution_count": 1,
   "id": "561ea7f0",
   "metadata": {},
   "outputs": [],
   "source": [
    "class Car: # Molde\n",
    "    make = \"Tesla\"\n",
    "    model = \"Model 3\"\n",
    "    year = \"2022\"\n",
    "    \n",
    "    def turn_on():\n",
    "        pass\n",
    "    \n",
    "    def turn_off():\n",
    "        pass"
   ]
  },
  {
   "cell_type": "markdown",
   "id": "c0bbd526",
   "metadata": {},
   "source": [
    "Las clases son como moldes, entonces puedes usar ese molde para usar ese mismo molde para crear muchos objetos\n",
    "\n",
    "Clase - Molde de Objetos\n",
    "\n",
    "Objeto/ Instancia = Una Agrupacion de metodos"
   ]
  },
  {
   "cell_type": "code",
   "execution_count": 2,
   "id": "b243724e",
   "metadata": {},
   "outputs": [
    {
     "data": {
      "text/plain": [
       "['__class__',\n",
       " '__delattr__',\n",
       " '__dict__',\n",
       " '__dir__',\n",
       " '__doc__',\n",
       " '__eq__',\n",
       " '__format__',\n",
       " '__ge__',\n",
       " '__getattribute__',\n",
       " '__gt__',\n",
       " '__hash__',\n",
       " '__init__',\n",
       " '__init_subclass__',\n",
       " '__le__',\n",
       " '__lt__',\n",
       " '__module__',\n",
       " '__ne__',\n",
       " '__new__',\n",
       " '__reduce__',\n",
       " '__reduce_ex__',\n",
       " '__repr__',\n",
       " '__setattr__',\n",
       " '__sizeof__',\n",
       " '__str__',\n",
       " '__subclasshook__',\n",
       " '__weakref__',\n",
       " 'make',\n",
       " 'model',\n",
       " 'turn_off',\n",
       " 'turn_on',\n",
       " 'year']"
      ]
     },
     "execution_count": 2,
     "metadata": {},
     "output_type": "execute_result"
    }
   ],
   "source": [
    "dir(Car)"
   ]
  },
  {
   "cell_type": "markdown",
   "id": "e11ee5cd",
   "metadata": {},
   "source": [
    "## Creando clases"
   ]
  },
  {
   "cell_type": "code",
   "execution_count": 3,
   "id": "947881be",
   "metadata": {},
   "outputs": [],
   "source": [
    "class Car:\n",
    "    def __init__(self, make, model, year): # Constructor de la clase\n",
    "        self.make = make\n",
    "        self.model = model\n",
    "        self.year = year\n",
    "        \n",
    "        print(\"Una instancia de la clase se ha creado correctamente\")\n",
    "        \n",
    "    def print_attributes(self):\n",
    "        print(\"Marca : \", self.make)\n",
    "        print(\"Modelo : \", self.model)\n",
    "        print(\"Año : \", self.year)\n",
    "        "
   ]
  },
  {
   "cell_type": "markdown",
   "id": "5859b5ed",
   "metadata": {},
   "source": [
    "## Creando Objetos"
   ]
  },
  {
   "cell_type": "code",
   "execution_count": 4,
   "id": "bc338083",
   "metadata": {},
   "outputs": [
    {
     "name": "stdout",
     "output_type": "stream",
     "text": [
      "Una instancia de la clase se ha creado correctamente\n"
     ]
    }
   ],
   "source": [
    "carl = Car(\"Tesla\", \"Model 3\", \"2020\")"
   ]
  },
  {
   "cell_type": "code",
   "execution_count": 6,
   "id": "bc863765",
   "metadata": {},
   "outputs": [
    {
     "name": "stdout",
     "output_type": "stream",
     "text": [
      "Marca :  Tesla\n",
      "Modelo :  Model 3\n",
      "Año :  2020\n"
     ]
    }
   ],
   "source": [
    "carl.print_attributes()"
   ]
  },
  {
   "cell_type": "markdown",
   "id": "21d4e1d3",
   "metadata": {},
   "source": [
    "## Accediendo a los atributos"
   ]
  },
  {
   "cell_type": "code",
   "execution_count": 7,
   "id": "c900f19f",
   "metadata": {},
   "outputs": [
    {
     "name": "stdout",
     "output_type": "stream",
     "text": [
      "Una instancia de la clase se ha creado correctamente\n",
      "Marca :  Tesla\n",
      "Modelo :  Model y\n",
      "Año :  2019\n"
     ]
    }
   ],
   "source": [
    "car2 = Car(\"Tesla\", \"Model y\", \"2019\")\n",
    "car2.print_attributes()"
   ]
  },
  {
   "cell_type": "code",
   "execution_count": 8,
   "id": "07b94e9b",
   "metadata": {},
   "outputs": [
    {
     "data": {
      "text/plain": [
       "['__class__',\n",
       " '__delattr__',\n",
       " '__dict__',\n",
       " '__dir__',\n",
       " '__doc__',\n",
       " '__eq__',\n",
       " '__format__',\n",
       " '__ge__',\n",
       " '__getattribute__',\n",
       " '__gt__',\n",
       " '__hash__',\n",
       " '__init__',\n",
       " '__init_subclass__',\n",
       " '__le__',\n",
       " '__lt__',\n",
       " '__module__',\n",
       " '__ne__',\n",
       " '__new__',\n",
       " '__reduce__',\n",
       " '__reduce_ex__',\n",
       " '__repr__',\n",
       " '__setattr__',\n",
       " '__sizeof__',\n",
       " '__str__',\n",
       " '__subclasshook__',\n",
       " '__weakref__',\n",
       " 'make',\n",
       " 'model',\n",
       " 'print_attributes',\n",
       " 'year']"
      ]
     },
     "execution_count": 8,
     "metadata": {},
     "output_type": "execute_result"
    }
   ],
   "source": [
    "dir(car2)"
   ]
  },
  {
   "cell_type": "code",
   "execution_count": 11,
   "id": "17aa91ff",
   "metadata": {},
   "outputs": [
    {
     "name": "stdout",
     "output_type": "stream",
     "text": [
      "2019\n"
     ]
    }
   ],
   "source": [
    "print(car2.year)"
   ]
  },
  {
   "cell_type": "markdown",
   "id": "74b1977b",
   "metadata": {},
   "source": [
    "## Variables de clase"
   ]
  },
  {
   "cell_type": "code",
   "execution_count": 12,
   "id": "dd0f445c",
   "metadata": {},
   "outputs": [],
   "source": [
    "class Car:\n",
    "    opus = 0\n",
    "    \n",
    "    def __init__(self, make, model, year): # Constructor de la clase\n",
    "        Car.opus += 1\n",
    "        self.make = make\n",
    "        self.model = model\n",
    "        self.year = year\n",
    "        \n",
    "        print(\"Una instancia de la clase se ha creado correctamente\")\n",
    "        \n",
    "    def print_attributes(self):\n",
    "        print(\"Marca : \", self.make)\n",
    "        print(\"Modelo : \", self.model)\n",
    "        print(\"Año : \", self.year)\n",
    "        "
   ]
  },
  {
   "cell_type": "code",
   "execution_count": 13,
   "id": "f5fae01a",
   "metadata": {},
   "outputs": [
    {
     "name": "stdout",
     "output_type": "stream",
     "text": [
      "Una instancia de la clase se ha creado correctamente\n",
      "Una instancia de la clase se ha creado correctamente\n"
     ]
    }
   ],
   "source": [
    "carl = Car(\"Tesla\", \"Model 3\", \"2020\")\n",
    "car2 = Car(\"Tesla\", \"Model y\", \"2019\")"
   ]
  },
  {
   "cell_type": "code",
   "execution_count": 14,
   "id": "965cf012",
   "metadata": {},
   "outputs": [
    {
     "name": "stdout",
     "output_type": "stream",
     "text": [
      "Hay  2  opus creados\n"
     ]
    }
   ],
   "source": [
    "print(\"Hay \", Car.opus, \" opus creados\")"
   ]
  },
  {
   "cell_type": "code",
   "execution_count": 15,
   "id": "c990f4a4",
   "metadata": {},
   "outputs": [
    {
     "name": "stdout",
     "output_type": "stream",
     "text": [
      "Una instancia de la clase se ha creado correctamente\n"
     ]
    }
   ],
   "source": [
    "car4 = Car(\"Tesla\", \"Model y\", \"2019\")"
   ]
  },
  {
   "cell_type": "code",
   "execution_count": 16,
   "id": "27baef2d",
   "metadata": {},
   "outputs": [
    {
     "name": "stdout",
     "output_type": "stream",
     "text": [
      "Hay  3  opus creados\n"
     ]
    }
   ],
   "source": [
    "print(\"Hay \", Car.opus, \" opus creados\")\n"
   ]
  },
  {
   "cell_type": "markdown",
   "id": "1187a75d",
   "metadata": {},
   "source": [
    "## Gabage collection"
   ]
  },
  {
   "cell_type": "code",
   "execution_count": 17,
   "id": "143bcb5e",
   "metadata": {},
   "outputs": [],
   "source": [
    "class Car:\n",
    "    total = 0\n",
    "    \n",
    "    def __init__(self, make, model, year): # Constructor de la clase\n",
    "        Car.total += 1\n",
    "        self.make = make\n",
    "        self.model = model\n",
    "        self.year = year\n",
    "        \n",
    "        print(\"Una instancia de la clase se ha creado correctamente\")\n",
    "    \n",
    "    def __del__(self):\n",
    "        Car.total -= 1\n",
    "    \n",
    "    def print_attributes(self):\n",
    "        print(\"Marca : \", self.make)\n",
    "        print(\"Modelo : \", self.model)\n",
    "        print(\"Año : \", self.year)\n",
    "        "
   ]
  },
  {
   "cell_type": "code",
   "execution_count": 18,
   "id": "faf115b6",
   "metadata": {},
   "outputs": [
    {
     "name": "stdout",
     "output_type": "stream",
     "text": [
      "Una instancia de la clase se ha creado correctamente\n",
      "Una instancia de la clase se ha creado correctamente\n"
     ]
    }
   ],
   "source": [
    "carl = Car(\"Tesla\", \"Model 3\", \"2020\")\n",
    "car2 = Car(\"Tesla\", \"Model y\", \"2019\")"
   ]
  },
  {
   "cell_type": "code",
   "execution_count": 19,
   "id": "2d1ff4a5",
   "metadata": {},
   "outputs": [
    {
     "name": "stdout",
     "output_type": "stream",
     "text": [
      "Una instancia de la clase se ha creado correctamente\n"
     ]
    }
   ],
   "source": [
    "car3 = Car(\"Tesla\", \"Model X\", \"2017\")"
   ]
  },
  {
   "cell_type": "code",
   "execution_count": 21,
   "id": "44880ceb",
   "metadata": {},
   "outputs": [
    {
     "name": "stdout",
     "output_type": "stream",
     "text": [
      "Hay  3  carros creados\n"
     ]
    }
   ],
   "source": [
    "print(\"Hay \", Car.total, \" carros creados\")"
   ]
  },
  {
   "cell_type": "code",
   "execution_count": 23,
   "id": "dd570047",
   "metadata": {},
   "outputs": [],
   "source": [
    "del car3"
   ]
  },
  {
   "cell_type": "code",
   "execution_count": 24,
   "id": "3841566c",
   "metadata": {},
   "outputs": [
    {
     "name": "stdout",
     "output_type": "stream",
     "text": [
      "Hay  2  carros creados\n"
     ]
    }
   ],
   "source": [
    "print(\"Hay \", Car.total, \" carros creados\")\n"
   ]
  },
  {
   "cell_type": "markdown",
   "id": "13ba0c67",
   "metadata": {},
   "source": [
    "## Herencia"
   ]
  },
  {
   "cell_type": "code",
   "execution_count": 29,
   "id": "42eb975c",
   "metadata": {},
   "outputs": [],
   "source": [
    "class Car:\n",
    "    super_attribute = \"Atributo de la super clase\"\n",
    "    \n",
    "    def __init__(self):\n",
    "        print(\"inicializacion de clase\")\n",
    "    \n",
    "    def super_method(self):\n",
    "        print(\"Método de la super clase\")\n",
    "\n",
    "class CollectionCar(Car): #hija que va a heredar \n",
    "    sub_attribute = \"Atributo de la sub clase - hija\"\n",
    "    \n",
    "    def __init__(self):\n",
    "        print(\"inicializacion de clase - hija\")\n",
    "    \n",
    "    def sub_method(self):\n",
    "        print(\"Método de la sub clase - hija\")\n",
    "        \n"
   ]
  },
  {
   "cell_type": "code",
   "execution_count": 30,
   "id": "d3410fb6",
   "metadata": {},
   "outputs": [
    {
     "name": "stdout",
     "output_type": "stream",
     "text": [
      "inicializacion de clase - hija\n"
     ]
    }
   ],
   "source": [
    "sub_car = CollectionCar()"
   ]
  },
  {
   "cell_type": "code",
   "execution_count": 31,
   "id": "d21fb374",
   "metadata": {},
   "outputs": [
    {
     "name": "stdout",
     "output_type": "stream",
     "text": [
      "Método de la super clase\n",
      "Método de la sub clase - hija\n",
      "Atributo de la super clase\n",
      "Atributo de la sub clase - hija\n"
     ]
    }
   ],
   "source": [
    "sub_car.super_method()\n",
    "sub_car.sub_method()\n",
    "print(sub_car.super_attribute)\n",
    "print(sub_car.sub_attribute)"
   ]
  },
  {
   "cell_type": "markdown",
   "id": "20b05786",
   "metadata": {},
   "source": [
    "## Usando una SubClase como SuperClase"
   ]
  },
  {
   "cell_type": "code",
   "execution_count": 43,
   "id": "11293693",
   "metadata": {},
   "outputs": [],
   "source": [
    "class Car:\n",
    "    super_attribute = \"Atributo de la super clase\"\n",
    "    \n",
    "    def __init__(self):\n",
    "        print(\"inicializacion de clase\")\n",
    "    \n",
    "    def super_method(self):\n",
    "        print(\"Método de la super clase\")\n",
    "\n",
    "class CollectionCar(Car): #hija que va a heredar \n",
    "    sub_attribute = \"Atributo de la sub clase - hija\"\n",
    "    \n",
    "    def __init__(self):\n",
    "        print(\"inicializacion de clase - hija\")\n",
    "    \n",
    "    def sub_method(self):\n",
    "        print(\"Método de la sub clase - hija\")\n",
    "        \n",
    "class SubCollectionCar(CollectionCar): #Nieta que va a heredar \n",
    "    sub_sub_attribute = \"Atributo de la sub clase - nieta\"\n",
    "    \n",
    "    def __init__(self):\n",
    "        print(\"inicializacion de clase - nieta\")\n",
    "    \n",
    "    def sub_sub_method(self):\n",
    "        print(\"Método de la sub clase - nieta\")"
   ]
  },
  {
   "cell_type": "code",
   "execution_count": 45,
   "id": "6220b3f3",
   "metadata": {},
   "outputs": [
    {
     "name": "stdout",
     "output_type": "stream",
     "text": [
      "inicializacion de clase - nieta\n"
     ]
    }
   ],
   "source": [
    "sub_sub_car = SubCollectionCar()\n",
    "\n"
   ]
  },
  {
   "cell_type": "code",
   "execution_count": 46,
   "id": "16783caa",
   "metadata": {},
   "outputs": [
    {
     "name": "stdout",
     "output_type": "stream",
     "text": [
      "Método de la super clase\n",
      "Método de la sub clase - hija\n",
      "Método de la sub clase - nieta\n",
      "Atributo de la super clase\n",
      "Atributo de la sub clase - hija\n",
      "Atributo de la sub clase - nieta\n"
     ]
    }
   ],
   "source": [
    "sub_sub_car.super_method()\n",
    "sub_sub_car.sub_method()\n",
    "sub_sub_car.sub_sub_method()\n",
    "\n",
    "print(sub_sub_car.super_attribute)\n",
    "print(sub_sub_car.sub_attribute)\n",
    "print(sub_sub_car.sub_sub_attribute)"
   ]
  },
  {
   "cell_type": "code",
   "execution_count": null,
   "id": "7c9244b0",
   "metadata": {},
   "outputs": [],
   "source": []
  }
 ],
 "metadata": {
  "kernelspec": {
   "display_name": "Python 3 (ipykernel)",
   "language": "python",
   "name": "python3"
  },
  "language_info": {
   "codemirror_mode": {
    "name": "ipython",
    "version": 3
   },
   "file_extension": ".py",
   "mimetype": "text/x-python",
   "name": "python",
   "nbconvert_exporter": "python",
   "pygments_lexer": "ipython3",
   "version": "3.9.12"
  }
 },
 "nbformat": 4,
 "nbformat_minor": 5
}
