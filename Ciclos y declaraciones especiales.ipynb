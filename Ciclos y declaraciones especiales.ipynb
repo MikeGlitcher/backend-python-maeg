{
 "cells": [
  {
   "cell_type": "markdown",
   "id": "3444ec8d",
   "metadata": {},
   "source": [
    "## Ciclos \n",
    "- También son llamados declaraciones iteativas \n",
    "- Son usados para repetir un bloquie especifico de codigo\n",
    "- Si vas a hacer un proceso una yotra vez, entoncespuedes usar un ciclo para ellos\n",
    "- Tipos\n",
    "    - for\n",
    "    - while\n",
    "    "
   ]
  },
  {
   "cell_type": "markdown",
   "id": "38a38f5f",
   "metadata": {},
   "source": [
    "## Ciclo For\n",
    "- Son usados para iterar los valores \"n\" número de veces\n",
    "- Podemos usar la palabra reservada \"for\"\n",
    "- Puede iterar los valores de estructuras de datos como listas, tuplas, sets o diccionarios\n",
    "- Tanbien puede iterar sibre una cadena letra de una cadena\n",
    "- Itera en una secuencuia en oreden mientras ejecuta un bloque de código"
   ]
  },
  {
   "cell_type": "code",
   "execution_count": 2,
   "id": "824d69b2",
   "metadata": {},
   "outputs": [
    {
     "name": "stdout",
     "output_type": "stream",
     "text": [
      "P\n",
      "y\n",
      "t\n",
      "h\n",
      "o\n",
      "n\n"
     ]
    }
   ],
   "source": [
    "my_string = \"Python\"\n",
    "\n",
    "for letter in my_string:\n",
    "    print(letter)"
   ]
  },
  {
   "cell_type": "code",
   "execution_count": 3,
   "id": "b047dde4",
   "metadata": {},
   "outputs": [
    {
     "name": "stdout",
     "output_type": "stream",
     "text": [
      "a\n",
      "b\n",
      "c\n",
      "d\n"
     ]
    }
   ],
   "source": [
    "my_list = [\"a\", \"b\", \"c\", \"d\"]\n",
    "\n",
    "for letter in my_list:\n",
    "    print(letter)"
   ]
  },
  {
   "cell_type": "code",
   "execution_count": 5,
   "id": "3ad253db",
   "metadata": {},
   "outputs": [
    {
     "name": "stdout",
     "output_type": "stream",
     "text": [
      "1\n",
      "2\n",
      "3\n",
      "4\n",
      "5\n",
      "6\n"
     ]
    }
   ],
   "source": [
    "for number in range(1,6 + 1):\n",
    "    \n",
    "    print(number)"
   ]
  },
  {
   "cell_type": "markdown",
   "id": "cdd7fad3",
   "metadata": {},
   "source": [
    "## Numeros pares e impares con un cilco for"
   ]
  },
  {
   "cell_type": "code",
   "execution_count": 7,
   "id": "be3d2e39",
   "metadata": {},
   "outputs": [
    {
     "name": "stdout",
     "output_type": "stream",
     "text": [
      "impar 1\n",
      "\n",
      "par 2\n",
      "\n",
      "impar 3\n",
      "\n",
      "par 4\n",
      "\n",
      "impar 5\n",
      "\n",
      "par 6\n",
      "\n",
      "impar 7\n",
      "\n",
      "par 8\n",
      "\n",
      "impar 9\n",
      "\n",
      "par 10\n",
      "\n",
      "impar 11\n",
      "\n",
      "par 12\n",
      "\n",
      "impar 13\n",
      "\n",
      "par 14\n",
      "\n",
      "impar 15\n",
      "\n",
      "par 16\n",
      "\n",
      "impar 17\n",
      "\n",
      "par 18\n",
      "\n",
      "impar 19\n",
      "\n",
      "par 20\n",
      "\n",
      "impar 21\n",
      "\n",
      "par 22\n",
      "\n",
      "impar 23\n",
      "\n",
      "par 24\n",
      "\n",
      "impar 25\n",
      "\n",
      "par 26\n",
      "\n",
      "impar 27\n",
      "\n",
      "par 28\n",
      "\n",
      "impar 29\n",
      "\n",
      "par 30\n",
      "\n"
     ]
    }
   ],
   "source": [
    "for number in range(1, 30 + 1):\n",
    "    if number % 2 == 0:\n",
    "        print(f\"par {number}\\n\")\n",
    "    else:\n",
    "        print(f\"impar {number}\\n\")"
   ]
  },
  {
   "cell_type": "markdown",
   "id": "93d71659",
   "metadata": {},
   "source": [
    "## Ciclo for anidado\n",
    "- Significa cuando un cilco for esta dentro de un otro cilco for\n",
    "- Es cuando tienes un ciclo for dentro de otro\n",
    "- Recuerda, usamos el ciclo for para hacer una tarea cierta cantidad de veces basado en una condición\n",
    "- Ciclo Principal\n",
    "    -Ciclo anidado"
   ]
  },
  {
   "cell_type": "code",
   "execution_count": 13,
   "id": "31d0ef87",
   "metadata": {},
   "outputs": [
    {
     "name": "stdout",
     "output_type": "stream",
     "text": [
      "balon pequeño\n",
      "balon grande\n",
      "balon chico\n",
      "balon grande\n",
      "\n",
      "\n",
      "bote pequeño\n",
      "bote grande\n",
      "bote chico\n",
      "bote grande\n",
      "\n",
      "\n",
      "celular pequeño\n",
      "celular grande\n",
      "celular chico\n",
      "celular grande\n",
      "\n",
      "\n",
      "libro pequeño\n",
      "libro grande\n",
      "libro chico\n",
      "libro grande\n",
      "\n",
      "\n"
     ]
    }
   ],
   "source": [
    "nouns = [\"balon\", \"bote\", \"celular\", \"libro\"]\n",
    "adjets = [\"pequeño\", \"grande\", \"chico\", \"grande\"]\n",
    "\n",
    "for noun in nouns:\n",
    "    \n",
    "    for adj in adjets:\n",
    "        print(f\"{noun} {adj}\")\n",
    "    \n",
    "    print(\"\\n\")"
   ]
  },
  {
   "cell_type": "markdown",
   "id": "54a3ec55",
   "metadata": {},
   "source": [
    "## Ciclo While\n",
    "- Solo se ejecuita si la condicion es verdadera\n",
    "- se usa para correr un proceso de forma perpetua \n",
    "- Conciste de una condiciion o un bloque de codigo\n",
    "- Valida la condicion antes  de que el bloque sea ejecutado"
   ]
  },
  {
   "cell_type": "code",
   "execution_count": 16,
   "id": "257ee1a3",
   "metadata": {},
   "outputs": [
    {
     "name": "stdout",
     "output_type": "stream",
     "text": [
      "0\n",
      "1\n",
      "2\n",
      "3\n",
      "4\n"
     ]
    }
   ],
   "source": [
    "my_number = 0\n",
    "\n",
    "while my_number < 5:\n",
    "    print(my_number)\n",
    "    \n",
    "    my_number += 1"
   ]
  },
  {
   "cell_type": "code",
   "execution_count": 18,
   "id": "8e318d9e",
   "metadata": {},
   "outputs": [
    {
     "name": "stdout",
     "output_type": "stream",
     "text": [
      "0\n",
      "1\n",
      "2\n",
      "3\n",
      "4\n",
      "my_number es igual a 5\n"
     ]
    }
   ],
   "source": [
    "my_number = 0\n",
    "\n",
    "while my_number < 5:\n",
    "    print(my_number)\n",
    "    \n",
    "    my_number += 1\n",
    "    \n",
    "else:\n",
    "    print(\"my_number es igual a 5\")"
   ]
  },
  {
   "cell_type": "markdown",
   "id": "75d80e94",
   "metadata": {},
   "source": [
    "## Iterando en Estructuras de Datos "
   ]
  },
  {
   "cell_type": "code",
   "execution_count": 19,
   "id": "a1f1aef8",
   "metadata": {},
   "outputs": [
    {
     "name": "stdout",
     "output_type": "stream",
     "text": [
      "abc@gmail.com\n",
      "miguel@hotmail.com\n",
      "raul@gmail.com\n"
     ]
    }
   ],
   "source": [
    "# Listas \n",
    "\n",
    "emails = [\"abc@gmail.com\", \"miguel@hotmail.com\", \"raul@gmail.com\"]\n",
    "for mail in emails:\n",
    "    print(mail)"
   ]
  },
  {
   "cell_type": "code",
   "execution_count": 20,
   "id": "7660f022",
   "metadata": {},
   "outputs": [
    {
     "name": "stdout",
     "output_type": "stream",
     "text": [
      "abc@gmail.com 15\n",
      "miguel@hotmail.com 116\n",
      "raul@gmail.com 1961\n"
     ]
    }
   ],
   "source": [
    "ids = [15,116, 1961]\n",
    "my_dict = dict(zip(emails, ids))\n",
    "\n",
    "for mail, idl in my_dict.items():\n",
    "    print(mail, idl)"
   ]
  },
  {
   "cell_type": "markdown",
   "id": "27f5a42f",
   "metadata": {},
   "source": [
    "## Declaracione Especiales\n",
    "- break : detiene el ciclo\n",
    "- continue: se salta la iteracion actual (sin ejecutar el codigo posterior) y pasas a la siguiente iteración\n",
    "- pass : se usa para escribir ciclos vacios o para escribir  funciones o clases vacias\n",
    "\n",
    "## break\n",
    "- Es usado para detener uin ciclo basado en ciertas condiciones\n",
    "- Te ayuda a reducir el numero de iteracciones necesarias\n"
   ]
  },
  {
   "cell_type": "code",
   "execution_count": 23,
   "id": "5faebecc",
   "metadata": {},
   "outputs": [
    {
     "name": "stdout",
     "output_type": "stream",
     "text": [
      "0\n",
      "1\n",
      "2\n",
      "3\n",
      "4\n",
      "el numero es igual a 5\n"
     ]
    }
   ],
   "source": [
    "my_number = 0\n",
    "\n",
    "while my_number < 10:\n",
    "    print(my_number)\n",
    "    \n",
    "    my_number += 1\n",
    "    \n",
    "    if my_number == 5:\n",
    "        print(\"el numero es igual a 5\")\n",
    "        break"
   ]
  },
  {
   "cell_type": "markdown",
   "id": "75d98b46",
   "metadata": {},
   "source": [
    "## Continue\n",
    "- Salta la iteracion actual y pasa a kla siguiente iteracion\n",
    "- Se puede usar  tanto en ciclos for como en ciclos while"
   ]
  },
  {
   "cell_type": "code",
   "execution_count": 25,
   "id": "c6b4abd7",
   "metadata": {},
   "outputs": [
    {
     "name": "stdout",
     "output_type": "stream",
     "text": [
      "1\n",
      "2\n",
      "3\n",
      "4\n",
      "5\n",
      "el numero es igual a 5\n",
      "6\n",
      "7\n",
      "8\n",
      "9\n",
      "10\n"
     ]
    }
   ],
   "source": [
    "my_number = 0\n",
    "\n",
    "while my_number < 10:\n",
    "    \n",
    "    my_number += 1\n",
    "    \n",
    "    \n",
    "    print(my_number)\n",
    "    if my_number == 5:\n",
    "        print(\"el numero es igual a 5\")\n",
    "        continue\n",
    "        \n",
    "        print(\"hola amiguitos\")"
   ]
  },
  {
   "cell_type": "markdown",
   "id": "93d4f77b",
   "metadata": {},
   "source": [
    "## pass\n",
    "- pass se utiliza para escribir ciclos vacios"
   ]
  },
  {
   "cell_type": "code",
   "execution_count": 29,
   "id": "1dcea65f",
   "metadata": {},
   "outputs": [
    {
     "name": "stdout",
     "output_type": "stream",
     "text": [
      "0\n",
      "2\n",
      "4\n",
      "6\n",
      "6\n",
      "6\n",
      "6\n",
      "8\n",
      "10\n",
      "12\n",
      "14\n",
      "16\n",
      "18\n"
     ]
    }
   ],
   "source": [
    "my_number = 0\n",
    "room = 0\n",
    "\n",
    "\n",
    "while my_number < 20:\n",
    "    print(my_number)\n",
    "    if my_number == 0:\n",
    "        my_number += 2\n",
    "    \n",
    "    elif my_number != 1:\n",
    "        if my_number == 6:\n",
    "            room += 1\n",
    "            if room == 4:\n",
    "                my_number += 2\n",
    "            continue\n",
    "        \n",
    "        elif my_number == 8:\n",
    "            pass\n",
    "            \n",
    "        my_number += 2\n",
    "    \n",
    "    \n",
    "    "
   ]
  },
  {
   "cell_type": "code",
   "execution_count": null,
   "id": "7bf70627",
   "metadata": {},
   "outputs": [],
   "source": []
  }
 ],
 "metadata": {
  "kernelspec": {
   "display_name": "Python 3 (ipykernel)",
   "language": "python",
   "name": "python3"
  },
  "language_info": {
   "codemirror_mode": {
    "name": "ipython",
    "version": 3
   },
   "file_extension": ".py",
   "mimetype": "text/x-python",
   "name": "python",
   "nbconvert_exporter": "python",
   "pygments_lexer": "ipython3",
   "version": "3.9.12"
  }
 },
 "nbformat": 4,
 "nbformat_minor": 5
}
