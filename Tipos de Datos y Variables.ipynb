{
 "cells": [
  {
   "cell_type": "markdown",
   "id": "39585bfe",
   "metadata": {},
   "source": [
    "## PAnorama\n",
    "int - Inetger / Entero\n",
    "\n",
    "float - Float / Numeros con decimales\n",
    "\n",
    "complex - Complex / Complejos (numeros con una parte real y una imaginaria)\n",
    "\n",
    "bool - Boolean / Valores lógicos (True/False) / (Verdadero/False)\n",
    "\n",
    "str - Strings / Cadenas, textos"
   ]
  },
  {
   "cell_type": "markdown",
   "id": "56abae70",
   "metadata": {},
   "source": [
    "### int - Inetger / Entero"
   ]
  },
  {
   "cell_type": "code",
   "execution_count": 1,
   "id": "bfacdbbf",
   "metadata": {},
   "outputs": [
    {
     "name": "stdout",
     "output_type": "stream",
     "text": [
      "El valor de my_integer es:  11\n",
      "El tipo de dato de my_integer es:  <class 'int'>\n"
     ]
    }
   ],
   "source": [
    "my_integer = 11\n",
    "print(\"El valor de my_integer es: \", my_integer)\n",
    "print(\"El tipo de dato de my_integer es: \", type(my_integer))"
   ]
  },
  {
   "cell_type": "code",
   "execution_count": 3,
   "id": "d9d6f97a",
   "metadata": {},
   "outputs": [
    {
     "name": "stdout",
     "output_type": "stream",
     "text": [
      "El valor de my_integer es:  2545\n",
      "El tipo de dato de my_integer es:  <class 'int'>\n"
     ]
    }
   ],
   "source": [
    "my_integer = 2545\n",
    "print(\"El valor de my_integer es: \", my_integer)\n",
    "print(\"El tipo de dato de my_integer es: \", type(my_integer))"
   ]
  },
  {
   "cell_type": "markdown",
   "id": "8e931611",
   "metadata": {},
   "source": [
    "### float - Float / Numeros con decimales"
   ]
  },
  {
   "cell_type": "code",
   "execution_count": 5,
   "id": "ffe50b04",
   "metadata": {},
   "outputs": [
    {
     "name": "stdout",
     "output_type": "stream",
     "text": [
      "El valor de my_float es:  11.55\n",
      "El tipo de dato de my_float es:  <class 'float'>\n"
     ]
    }
   ],
   "source": [
    "my_float = 11.55\n",
    "print(\"El valor de my_float es: \", my_float)\n",
    "print(\"El tipo de dato de my_float es: \", type(my_float))"
   ]
  },
  {
   "cell_type": "code",
   "execution_count": 6,
   "id": "1514bddb",
   "metadata": {},
   "outputs": [
    {
     "name": "stdout",
     "output_type": "stream",
     "text": [
      "El valor de my_float es:  200.0\n",
      "El tipo de dato de my_float es:  <class 'float'>\n"
     ]
    }
   ],
   "source": [
    "# notacion cientifíca\n",
    "my_float = 2e2 # 2.0 * 10 ** 3\n",
    "print(\"El valor de my_float es: \", my_float)\n",
    "print(\"El tipo de dato de my_float es: \", type(my_float))"
   ]
  },
  {
   "cell_type": "code",
   "execution_count": 7,
   "id": "2c041de6",
   "metadata": {},
   "outputs": [
    {
     "data": {
      "text/plain": [
       "1.1"
      ]
     },
     "execution_count": 7,
     "metadata": {},
     "output_type": "execute_result"
    }
   ],
   "source": [
    "1.1e0 # 1.1 * 10 ** 0—"
   ]
  },
  {
   "cell_type": "code",
   "execution_count": 8,
   "id": "8ebe3234",
   "metadata": {},
   "outputs": [
    {
     "data": {
      "text/plain": [
       "11.0"
      ]
     },
     "execution_count": 8,
     "metadata": {},
     "output_type": "execute_result"
    }
   ],
   "source": [
    "1.1e1 # 1.1 * 10 ** 1"
   ]
  },
  {
   "cell_type": "code",
   "execution_count": 9,
   "id": "ae6cb5bf",
   "metadata": {},
   "outputs": [
    {
     "data": {
      "text/plain": [
       "0.08"
      ]
     },
     "execution_count": 9,
     "metadata": {},
     "output_type": "execute_result"
    }
   ],
   "source": [
    "8e-2 #8 * 10 ** -2"
   ]
  },
  {
   "cell_type": "markdown",
   "id": "6488e36d",
   "metadata": {},
   "source": [
    "### complex - Complex / Complejos (numeros con una parte real y una imaginaria)\n",
    "\n",
    "complex = x + yj\n",
    "\n",
    "x = oarte real\n",
    "\n",
    "yj = parte imaginaria"
   ]
  },
  {
   "cell_type": "code",
   "execution_count": 11,
   "id": "9cf0ec85",
   "metadata": {},
   "outputs": [
    {
     "name": "stdout",
     "output_type": "stream",
     "text": [
      "El valor de my_complex es:  (3+9j)\n",
      "El tipo de dato de my_complex es:  <class 'complex'>\n"
     ]
    }
   ],
   "source": [
    "my_complex = 3 + 9j\n",
    "print(\"El valor de my_complex es: \", my_complex)\n",
    "print(\"El tipo de dato de my_complex es: \", type(my_complex))"
   ]
  },
  {
   "cell_type": "code",
   "execution_count": 12,
   "id": "873cccb5",
   "metadata": {},
   "outputs": [
    {
     "name": "stdout",
     "output_type": "stream",
     "text": [
      "El valor de my_complex es:  (2+5j)\n",
      "El tipo de dato de my_complex es:  <class 'complex'>\n"
     ]
    }
   ],
   "source": [
    "my_complex = 2 + 5j\n",
    "print(\"El valor de my_complex es: \", my_complex)\n",
    "print(\"El tipo de dato de my_complex es: \", type(my_complex))"
   ]
  },
  {
   "cell_type": "markdown",
   "id": "998dd813",
   "metadata": {},
   "source": [
    "### bool - Boolean / Valores lógicos (True/False) / (Verdadero/False)"
   ]
  },
  {
   "cell_type": "code",
   "execution_count": 13,
   "id": "5e7b0c90",
   "metadata": {},
   "outputs": [
    {
     "name": "stdout",
     "output_type": "stream",
     "text": [
      "El valor de my_boolean es:  False\n",
      "El tipo de dato de my_boolean es:  <class 'bool'>\n"
     ]
    }
   ],
   "source": [
    "my_boolean = False\n",
    "print(\"El valor de my_boolean es: \", my_boolean)\n",
    "print(\"El tipo de dato de my_boolean es: \", type(my_boolean))"
   ]
  },
  {
   "cell_type": "code",
   "execution_count": 14,
   "id": "79bfc359",
   "metadata": {},
   "outputs": [
    {
     "name": "stdout",
     "output_type": "stream",
     "text": [
      "El valor de my_boolean es:  True\n",
      "El tipo de dato de my_boolean es:  <class 'bool'>\n"
     ]
    }
   ],
   "source": [
    "my_boolean = True\n",
    "print(\"El valor de my_boolean es: \", my_boolean)\n",
    "print(\"El tipo de dato de my_boolean es: \", type(my_boolean))"
   ]
  },
  {
   "cell_type": "code",
   "execution_count": 15,
   "id": "99eb6303",
   "metadata": {},
   "outputs": [],
   "source": [
    "# True = 1\n",
    "# False = 0"
   ]
  },
  {
   "cell_type": "code",
   "execution_count": 16,
   "id": "60c32cd4",
   "metadata": {},
   "outputs": [
    {
     "name": "stdout",
     "output_type": "stream",
     "text": [
      "3\n"
     ]
    }
   ],
   "source": [
    "print(True + True + True) # = 3"
   ]
  },
  {
   "cell_type": "code",
   "execution_count": 17,
   "id": "d8486c59",
   "metadata": {},
   "outputs": [
    {
     "name": "stdout",
     "output_type": "stream",
     "text": [
      "2\n"
     ]
    }
   ],
   "source": [
    "print(True + False + True) # = 2"
   ]
  },
  {
   "cell_type": "markdown",
   "id": "a9fbf63c",
   "metadata": {},
   "source": [
    "### str - Strings / Cadenas, textos"
   ]
  },
  {
   "cell_type": "code",
   "execution_count": 18,
   "id": "914c301e",
   "metadata": {},
   "outputs": [
    {
     "name": "stdout",
     "output_type": "stream",
     "text": [
      "El valor de my_string es:  Backend Python\n",
      "El tipo de dato de my_string es:  <class 'str'>\n"
     ]
    }
   ],
   "source": [
    "my_string = \"Backend Python\"\n",
    "print(\"El valor de my_string es: \", my_string)\n",
    "print(\"El tipo de dato de my_string es: \", type(my_string))"
   ]
  },
  {
   "cell_type": "code",
   "execution_count": 19,
   "id": "e7a9d1de",
   "metadata": {},
   "outputs": [
    {
     "name": "stdout",
     "output_type": "stream",
     "text": [
      "El valor de my_string es:  Curso de EBAC\n",
      "El tipo de dato de my_string es:  <class 'str'>\n"
     ]
    }
   ],
   "source": [
    "my_string = \"Curso de EBAC\"\n",
    "print(\"El valor de my_string es: \", my_string)\n",
    "print(\"El tipo de dato de my_string es: \", type(my_string))"
   ]
  },
  {
   "cell_type": "code",
   "execution_count": 20,
   "id": "840885ac",
   "metadata": {},
   "outputs": [
    {
     "name": "stdout",
     "output_type": "stream",
     "text": [
      "El valor de my_string es:  Aprendiendo a usar strings/cadenas/textos\n",
      "El tipo de dato de my_string es:  <class 'str'>\n"
     ]
    }
   ],
   "source": [
    "my_string = \"Aprendiendo a usar strings/cadenas/textos\"\n",
    "print(\"El valor de my_string es: \", my_string)\n",
    "print(\"El tipo de dato de my_string es: \", type(my_string))"
   ]
  },
  {
   "cell_type": "code",
   "execution_count": 21,
   "id": "f932a206",
   "metadata": {},
   "outputs": [
    {
     "name": "stdout",
     "output_type": "stream",
     "text": [
      "El valor de my_string es:  \n",
      "Esta es una cadena con múltiples lineas\n",
      "\n",
      "como puedes ver en este ejemplo\n",
      "\n",
      "con esto puedes poner textos largos.\n",
      "\n",
      "El tipo de dato de my_string es:  <class 'str'>\n"
     ]
    }
   ],
   "source": [
    "my_string = \"\"\"\n",
    "Esta es una cadena con múltiples lineas\\n\n",
    "como puedes ver en este ejemplo\\n\n",
    "con esto puedes poner textos largos.\n",
    "\"\"\"\n",
    "print(\"El valor de my_string es: \", my_string)\n",
    "print(\"El tipo de dato de my_string es: \", type(my_string))"
   ]
  },
  {
   "cell_type": "markdown",
   "id": "06a8db7c",
   "metadata": {},
   "source": [
    "### Variables\n",
    "\n",
    "#### ¿Qué es una variable?\n",
    "- Son un espacio temporal para guardar una valor en específico\n",
    "- No hya necesidada de declarar el tipo de dato explicitamente\n",
    "- Python es un lenguaje tipado dinámicamente, lo que qiiere decir que el tipo de dato se define mientras corre el programa\n",
    "- La variables en Python funcionan diferente a otros Lenguajes e Programación\n",
    "- No se necesita crear variable, soñp asignamos un nombre aun valor usando el operador de asignación.\n",
    "\n",
    "#### Tipos de varianles:\n",
    "- Variables Globales: auqellas que se utilizaran pra todo el programa\n",
    "- Vairables Locales: Aquelllas que se utilizaran solo en un bloque específico"
   ]
  },
  {
   "cell_type": "markdown",
   "id": "2a16937f",
   "metadata": {},
   "source": [
    "## Variables Globales\n",
    "- Declaramos las variables globales afuera de funciones\n",
    "- El valor de la Variable pude ser constante para todo el programa\n",
    "- Cualquier funcion podrá acceder a estas variables\n",
    "- Podemos decir que las variables globales tienne un alcance global\n",
    "- Normalmente son mas usadas para constantes\n",
    "- Las variables globales mantienen sus valores a travéz de la ejecucioon completa del programa\n",
    "- Una variable global puede ser accesada por cualquier función"
   ]
  },
  {
   "cell_type": "code",
   "execution_count": null,
   "id": "b0d54dab",
   "metadata": {},
   "outputs": [],
   "source": [
    "# Vartiable Global\n",
    "my_global_variable = 50\n",
    "\n",
    "def my function_1():\n",
    "    pass\n",
    "\n",
    "def my function_1():\n",
    "    pass"
   ]
  },
  {
   "cell_type": "code",
   "execution_count": null,
   "id": "99c92eef",
   "metadata": {},
   "outputs": [],
   "source": [
    "def my function_1():\n",
    "    my_local_variable = 5\n",
    "\n",
    "def my function_1():\n",
    "    my_local_variable = 35"
   ]
  },
  {
   "cell_type": "code",
   "execution_count": 25,
   "id": "e04afcb4",
   "metadata": {},
   "outputs": [],
   "source": [
    "# Vartiable Global\n",
    "my_global_variable = 50\n",
    "\n",
    "def my_function_1():\n",
    "    print(\"my_function_1 - El valor de my_global_variable es: \", my_global_variable)\n",
    "\n",
    "def my_function_2():\n",
    "    print(\"my_function_2 - El valor de my_global_variable es: \", my_global_variable)"
   ]
  },
  {
   "cell_type": "code",
   "execution_count": 26,
   "id": "53f13b07",
   "metadata": {},
   "outputs": [
    {
     "name": "stdout",
     "output_type": "stream",
     "text": [
      "my_function_1 - El valor de my_global_variable es:  50\n"
     ]
    }
   ],
   "source": [
    "my_function_1()"
   ]
  },
  {
   "cell_type": "code",
   "execution_count": 27,
   "id": "6fdcefc8",
   "metadata": {},
   "outputs": [
    {
     "name": "stdout",
     "output_type": "stream",
     "text": [
      "my_function_2 - El valor de my_global_variable es:  50\n"
     ]
    }
   ],
   "source": [
    "my_function_2()"
   ]
  },
  {
   "cell_type": "code",
   "execution_count": 37,
   "id": "e5eb3820",
   "metadata": {},
   "outputs": [],
   "source": [
    "# Preferencia al valor local, y después al global\n",
    "my_variable = 50 # Global\n",
    "\n",
    "def my_function_1():\n",
    "    my_variable = 10 # Local\n",
    "    print(\"my_function_1 - El valor de my_variable es: \", my_variable)\n",
    "\n",
    "def my_function_2():\n",
    "    my_variable = 60 # Local\n",
    "    print(\"my_function_2 - El valor de my_variable es: \", my_variable)\n",
    "    \n",
    "def my_function_3():\n",
    "    print(\"my_function_3 - El valor de my_variable es: \", my_variable)"
   ]
  },
  {
   "cell_type": "code",
   "execution_count": 35,
   "id": "a5e9ac83",
   "metadata": {},
   "outputs": [
    {
     "name": "stdout",
     "output_type": "stream",
     "text": [
      "my_function_1 - El valor de my_variable es:  10\n"
     ]
    }
   ],
   "source": [
    "my_function_1()"
   ]
  },
  {
   "cell_type": "code",
   "execution_count": 36,
   "id": "f44dd17b",
   "metadata": {},
   "outputs": [
    {
     "name": "stdout",
     "output_type": "stream",
     "text": [
      "my_function_2 - El valor de my_variable es:  60\n"
     ]
    }
   ],
   "source": [
    "my_function_2()"
   ]
  },
  {
   "cell_type": "code",
   "execution_count": 38,
   "id": "8acf2795",
   "metadata": {},
   "outputs": [
    {
     "name": "stdout",
     "output_type": "stream",
     "text": [
      "my_function_3 - El valor de my_variable es:  50\n"
     ]
    }
   ],
   "source": [
    "my_function_3()"
   ]
  },
  {
   "cell_type": "markdown",
   "id": "d7796117",
   "metadata": {},
   "source": [
    "### Variables Locales\n",
    "- Podemos usarlas dentro de una función\n",
    "- Podemos tener una restricción al acceder a una variable local desde otra función\n",
    "- No podemos usarlas durante todo el programa\n",
    "- El alcance y visivilidad se limita al interior de la función\n",
    "- Lo que dure la función será lo uqe dure el alcance de nuestra variable"
   ]
  },
  {
   "cell_type": "code",
   "execution_count": 41,
   "id": "e056b795",
   "metadata": {},
   "outputs": [],
   "source": [
    "# Vartiable Global\n",
    "my_global_variable = 50\n",
    "\n",
    "def my_function_1():\n",
    "    pass\n",
    "\n",
    "def my_function_1():\n",
    "    pass"
   ]
  },
  {
   "cell_type": "code",
   "execution_count": 43,
   "id": "4d18a8b9",
   "metadata": {},
   "outputs": [],
   "source": [
    "# Variables Locales\n",
    "def my_function_1():\n",
    "    my_local_variable = 5\n",
    "\n",
    "def my_function_1():\n",
    "    my_local_variable = 35"
   ]
  },
  {
   "cell_type": "code",
   "execution_count": 1,
   "id": "8caba42f",
   "metadata": {},
   "outputs": [],
   "source": [
    "def my_function_1():\n",
    "    my_variable = 10 # Local\n",
    "    print(\"my_function_1 - El valor de my_variable es: \", my_variable)\n",
    "\n",
    "def my_function_2():\n",
    "    my_variable = 60 # Local\n",
    "    print(\"my_function_2 - El valor de my_variable es: \", my_variable)\n",
    "    \n",
    "def my_function_3():\n",
    "    print(\"my_function_3 - El valor de my_variable es: \", my_variable)"
   ]
  },
  {
   "cell_type": "code",
   "execution_count": 2,
   "id": "093280d6",
   "metadata": {},
   "outputs": [
    {
     "name": "stdout",
     "output_type": "stream",
     "text": [
      "my_function_1 - El valor de my_variable es:  10\n"
     ]
    }
   ],
   "source": [
    "my_function_1()"
   ]
  },
  {
   "cell_type": "code",
   "execution_count": 3,
   "id": "a099f99b",
   "metadata": {},
   "outputs": [
    {
     "name": "stdout",
     "output_type": "stream",
     "text": [
      "my_function_2 - El valor de my_variable es:  60\n"
     ]
    }
   ],
   "source": [
    "my_function_2()"
   ]
  },
  {
   "cell_type": "code",
   "execution_count": 4,
   "id": "4742ec98",
   "metadata": {},
   "outputs": [
    {
     "ename": "NameError",
     "evalue": "name 'my_variable' is not defined",
     "output_type": "error",
     "traceback": [
      "\u001b[1;31m---------------------------------------------------------------------------\u001b[0m",
      "\u001b[1;31mNameError\u001b[0m                                 Traceback (most recent call last)",
      "Input \u001b[1;32mIn [4]\u001b[0m, in \u001b[0;36m<cell line: 1>\u001b[1;34m()\u001b[0m\n\u001b[1;32m----> 1\u001b[0m \u001b[43mmy_function_3\u001b[49m\u001b[43m(\u001b[49m\u001b[43m)\u001b[49m\n",
      "Input \u001b[1;32mIn [1]\u001b[0m, in \u001b[0;36mmy_function_3\u001b[1;34m()\u001b[0m\n\u001b[0;32m      9\u001b[0m \u001b[38;5;28;01mdef\u001b[39;00m \u001b[38;5;21mmy_function_3\u001b[39m():\n\u001b[1;32m---> 10\u001b[0m     \u001b[38;5;28mprint\u001b[39m(\u001b[38;5;124m\"\u001b[39m\u001b[38;5;124mmy_function_3 - El valor de my_variable es: \u001b[39m\u001b[38;5;124m\"\u001b[39m, \u001b[43mmy_variable\u001b[49m)\n",
      "\u001b[1;31mNameError\u001b[0m: name 'my_variable' is not defined"
     ]
    }
   ],
   "source": [
    "# error\n",
    "my_function_3()"
   ]
  },
  {
   "cell_type": "markdown",
   "id": "506044a2",
   "metadata": {},
   "source": [
    "### Palabra reservada \"global\""
   ]
  },
  {
   "cell_type": "code",
   "execution_count": 5,
   "id": "2ce63539",
   "metadata": {},
   "outputs": [],
   "source": [
    "def my_function_1():\n",
    "    my_variable = 10 # Local\n",
    "    print(\"my_function_1 - El valor de my_variable es: \", my_variable)\n",
    "\n",
    "def my_function_2():\n",
    "    global my_variable\n",
    "    my_variable = 60 # Global\n",
    "    print(\"my_function_2 - El valor de my_variable es: \", my_variable)\n",
    "    \n",
    "def my_function_3():\n",
    "    print(\"my_function_3 - El valor de my_variable es: \", my_variable)"
   ]
  },
  {
   "cell_type": "code",
   "execution_count": 6,
   "id": "d8a2d1be",
   "metadata": {},
   "outputs": [
    {
     "name": "stdout",
     "output_type": "stream",
     "text": [
      "my_function_1 - El valor de my_variable es:  10\n"
     ]
    }
   ],
   "source": [
    "my_function_1()"
   ]
  },
  {
   "cell_type": "code",
   "execution_count": 7,
   "id": "a3fbea7f",
   "metadata": {},
   "outputs": [
    {
     "name": "stdout",
     "output_type": "stream",
     "text": [
      "my_function_2 - El valor de my_variable es:  60\n"
     ]
    }
   ],
   "source": [
    "my_function_2()"
   ]
  },
  {
   "cell_type": "code",
   "execution_count": 8,
   "id": "5f010ab1",
   "metadata": {},
   "outputs": [
    {
     "name": "stdout",
     "output_type": "stream",
     "text": [
      "my_function_3 - El valor de my_variable es:  60\n"
     ]
    }
   ],
   "source": [
    "my_function_3()"
   ]
  },
  {
   "cell_type": "code",
   "execution_count": 16,
   "id": "31b4d67f",
   "metadata": {},
   "outputs": [],
   "source": [
    "def my_function_1():\n",
    "    my_variable = 10 # Local\n",
    "    print(\"my_function_1 - El valor de my_variable es: \", my_variable)\n",
    "\n",
    "def my_function_2():\n",
    "    global a, b, c, d, e\n",
    "    \n",
    "    a = 60\n",
    "    b = 30\n",
    "    c = 54\n",
    "    d = 545\n",
    "    e = 78\n",
    "    \n",
    "    print(\"my_function_2 - El valor de a es: \", a)\n",
    "    print(\"my_function_2 - El valor de b es: \", b)\n",
    "    print(\"my_function_2 - El valor de c es: \", c)\n",
    "    print(\"my_function_2 - El valor de d es: \", d)\n",
    "    print(\"my_function_2 - El valor de e es: \", e)\n",
    "    \n",
    "def my_function_3():\n",
    "    print(\"my_function_3 - El valor de a es: \", a)\n",
    "    print(\"my_function_3 - El valor de b es: \", b)\n",
    "    print(\"my_function_3 - El valor de c es: \", c)\n",
    "    print(\"my_function_3 - El valor de d es: \", d)\n",
    "    print(\"my_function_3 - El valor de e es: \", e)"
   ]
  },
  {
   "cell_type": "code",
   "execution_count": 17,
   "id": "f2a79568",
   "metadata": {},
   "outputs": [
    {
     "name": "stdout",
     "output_type": "stream",
     "text": [
      "my_function_1 - El valor de my_variable es:  10\n"
     ]
    }
   ],
   "source": [
    "my_function_1()"
   ]
  },
  {
   "cell_type": "code",
   "execution_count": 18,
   "id": "8c770bb4",
   "metadata": {},
   "outputs": [
    {
     "name": "stdout",
     "output_type": "stream",
     "text": [
      "my_function_2 - El valor de a es:  60\n",
      "my_function_2 - El valor de b es:  30\n",
      "my_function_2 - El valor de c es:  54\n",
      "my_function_2 - El valor de d es:  545\n",
      "my_function_2 - El valor de e es:  78\n"
     ]
    }
   ],
   "source": [
    "my_function_2()"
   ]
  },
  {
   "cell_type": "code",
   "execution_count": 19,
   "id": "aad5279d",
   "metadata": {},
   "outputs": [
    {
     "name": "stdout",
     "output_type": "stream",
     "text": [
      "my_function_3 - El valor de a es:  60\n",
      "my_function_3 - El valor de b es:  30\n",
      "my_function_3 - El valor de c es:  54\n",
      "my_function_3 - El valor de d es:  545\n",
      "my_function_3 - El valor de e es:  78\n"
     ]
    }
   ],
   "source": [
    "my_function_3()"
   ]
  },
  {
   "cell_type": "markdown",
   "id": "7addf1da",
   "metadata": {},
   "source": [
    "### Tipos de Enteros\n",
    "- Forma decimal\n",
    "- Forma Binaria\n",
    "- Forma Octal\n",
    "- Forma Hexadecimal"
   ]
  },
  {
   "cell_type": "markdown",
   "id": "875dd4fd",
   "metadata": {},
   "source": [
    "#### Forma decimal"
   ]
  },
  {
   "cell_type": "code",
   "execution_count": 21,
   "id": "864b9933",
   "metadata": {},
   "outputs": [
    {
     "name": "stdout",
     "output_type": "stream",
     "text": [
      "El valor de my_decimal_number es: 55\n"
     ]
    }
   ],
   "source": [
    "my_decimal_number = 55\n",
    "print(\"El valor de my_decimal_number es:\", my_decimal_number)"
   ]
  },
  {
   "cell_type": "code",
   "execution_count": 22,
   "id": "0f25ffc2",
   "metadata": {},
   "outputs": [
    {
     "name": "stdout",
     "output_type": "stream",
     "text": [
      "El valor de my_decimal_number es: 894986\n"
     ]
    }
   ],
   "source": [
    "my_decimal_number = 894986\n",
    "print(\"El valor de my_decimal_number es:\", my_decimal_number)"
   ]
  },
  {
   "cell_type": "markdown",
   "id": "cda9ab5d",
   "metadata": {},
   "source": [
    "### Forma binaria\n",
    "- Código que esta organizado en bytes\n",
    "- Lenguaje Binario\n",
    "- Lenguaje de las máquinas (1 y 0)\n",
    "\n",
    "#### Valor base: 2\n",
    "- Solamente acepta dos díjitos (1 y 0)\n",
    "- Usamos el prefijo '0b' o '0B'"
   ]
  },
  {
   "cell_type": "code",
   "execution_count": 24,
   "id": "f6f5baf5",
   "metadata": {},
   "outputs": [
    {
     "name": "stdout",
     "output_type": "stream",
     "text": [
      "El valor de my_binary_number es: 3\n"
     ]
    }
   ],
   "source": [
    "my_binary_number = 0b11\n",
    "print(\"El valor de my_binary_number es:\", my_binary_number)"
   ]
  },
  {
   "cell_type": "code",
   "execution_count": 41,
   "id": "7a7930b5",
   "metadata": {},
   "outputs": [
    {
     "name": "stdout",
     "output_type": "stream",
     "text": [
      "El valor de my_binary_number es: 7\n"
     ]
    }
   ],
   "source": [
    "my_binary_number = 0B111 # 1*2**1 + 1*2**1 + 1*2**0\n",
    "print(\"El valor de my_binary_number es:\", my_binary_number)"
   ]
  },
  {
   "cell_type": "code",
   "execution_count": 44,
   "id": "65cb3451",
   "metadata": {},
   "outputs": [
    {
     "name": "stdout",
     "output_type": "stream",
     "text": [
      "El valor de my_decimal_number es: 111\n"
     ]
    }
   ],
   "source": [
    "my_decimal_number = 111\n",
    "print(\"El valor de my_decimal_number es:\", my_decimal_number)"
   ]
  },
  {
   "cell_type": "markdown",
   "id": "38003462",
   "metadata": {},
   "source": [
    "### Forma Octal\n",
    "#### Valor base 8\n",
    "- Solamente acepta digitos del 0 al 7\n",
    "- Usamos el prefijo '0o' o 'oO'"
   ]
  },
  {
   "cell_type": "code",
   "execution_count": 45,
   "id": "17057c55",
   "metadata": {},
   "outputs": [
    {
     "name": "stdout",
     "output_type": "stream",
     "text": [
      "El valor de my_decimal_number es: 17\n"
     ]
    }
   ],
   "source": [
    "my_decimal_number = 17\n",
    "print(\"El valor de my_decimal_number es:\", my_decimal_number)"
   ]
  },
  {
   "cell_type": "code",
   "execution_count": 46,
   "id": "4783d552",
   "metadata": {},
   "outputs": [
    {
     "name": "stdout",
     "output_type": "stream",
     "text": [
      "El valor de my_octal_number es: 15\n"
     ]
    }
   ],
   "source": [
    "my_octal_number = 0o17 # 1* 8 **1 + 7 *8 **0\n",
    "print(\"El valor de my_octal_number es:\", my_octal_number)"
   ]
  },
  {
   "cell_type": "code",
   "execution_count": 47,
   "id": "856945e8",
   "metadata": {},
   "outputs": [
    {
     "name": "stdout",
     "output_type": "stream",
     "text": [
      "El valor de my_decimal_number es: 153\n"
     ]
    }
   ],
   "source": [
    "my_decimal_number = 153\n",
    "print(\"El valor de my_decimal_number es:\", my_decimal_number)"
   ]
  },
  {
   "cell_type": "code",
   "execution_count": 49,
   "id": "a9e8c118",
   "metadata": {},
   "outputs": [
    {
     "name": "stdout",
     "output_type": "stream",
     "text": [
      "El valor de my_octal_number es: 107\n"
     ]
    }
   ],
   "source": [
    "my_octal_number = 0O153 # 1*8**2 + 5*8**1 + 3*8**0\n",
    "print(\"El valor de my_octal_number es:\", my_octal_number)"
   ]
  },
  {
   "cell_type": "markdown",
   "id": "309e3ccd",
   "metadata": {},
   "source": [
    "### Forma Hexadecimal\n",
    "\n",
    "#### Valor base es 16\n",
    "- Acepta dígitos del 0 al 9\n",
    "- Pero tambien acepta letras de la 'a/A' a la 'f/F'\n",
    "- Usamos el prefijo '0x' o '0X'\n",
    "\n",
    "- 0\n",
    "- 1\n",
    "- 2\n",
    "- 3\n",
    "- 4\n",
    "- 5\n",
    "- 6\n",
    "- 7\n",
    "- 8\n",
    "- 9\n",
    "- A=10\n",
    "- B=11\n",
    "- C=12\n",
    "- D=13\n",
    "- E=14\n",
    "- F=15"
   ]
  },
  {
   "cell_type": "code",
   "execution_count": 50,
   "id": "4a602d3a",
   "metadata": {},
   "outputs": [
    {
     "name": "stdout",
     "output_type": "stream",
     "text": [
      "El valor de my_decimal_number es: 17\n"
     ]
    }
   ],
   "source": [
    "my_decimal_number = 17\n",
    "print(\"El valor de my_decimal_number es:\", my_decimal_number)"
   ]
  },
  {
   "cell_type": "code",
   "execution_count": 52,
   "id": "edbf7d20",
   "metadata": {},
   "outputs": [
    {
     "name": "stdout",
     "output_type": "stream",
     "text": [
      "El valor de my_hex_number es: 23\n"
     ]
    }
   ],
   "source": [
    "my_hex_number = 0x17 #1*16**1 + 7*16**0\n",
    "print(\"El valor de my_hex_number es:\", my_hex_number)"
   ]
  },
  {
   "cell_type": "code",
   "execution_count": 53,
   "id": "b60adc1b",
   "metadata": {},
   "outputs": [
    {
     "name": "stdout",
     "output_type": "stream",
     "text": [
      "El valor de my_hex_number es: 28\n"
     ]
    }
   ],
   "source": [
    "my_hex_number = 0x1C #1*16**1 + 12*16**0\n",
    "print(\"El valor de my_hex_number es:\", my_hex_number)"
   ]
  },
  {
   "cell_type": "code",
   "execution_count": null,
   "id": "a8aee8e5",
   "metadata": {},
   "outputs": [],
   "source": []
  }
 ],
 "metadata": {
  "kernelspec": {
   "display_name": "Python 3 (ipykernel)",
   "language": "python",
   "name": "python3"
  },
  "language_info": {
   "codemirror_mode": {
    "name": "ipython",
    "version": 3
   },
   "file_extension": ".py",
   "mimetype": "text/x-python",
   "name": "python",
   "nbconvert_exporter": "python",
   "pygments_lexer": "ipython3",
   "version": "3.9.12"
  }
 },
 "nbformat": 4,
 "nbformat_minor": 5
}
