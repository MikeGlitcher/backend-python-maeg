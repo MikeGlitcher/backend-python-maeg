{
 "cells": [
  {
   "cell_type": "code",
   "execution_count": 27,
   "id": "d11a5783",
   "metadata": {},
   "outputs": [
    {
     "name": "stdout",
     "output_type": "stream",
     "text": [
      "Que operacion desea hacer:\n",
      "Suma\n",
      "Resta\n",
      "Multiplicación\n",
      "División\n",
      "Potencia\n",
      "multiplicacion\n",
      "Ingrese dos nuemeros para sumar (separelos con espacio)6 0x17\n",
      "El resultado de multiplicar 6 y 23 es igual a: 138\n"
     ]
    }
   ],
   "source": [
    "selection = input(\"\"\"Que operacion desea hacer:\n",
    "Suma\n",
    "Resta\n",
    "Multiplicación\n",
    "División\n",
    "Potencia\n",
    "\"\"\")\n",
    "\n",
    "a, b = input(\"Ingrese dos nuemeros para sumar (separelos con espacio)\").split(\" \")\n",
    "        \n",
    "a = eval(a)\n",
    "b = eval(b)\n",
    "\n",
    "def select_operation():\n",
    "    global selection\n",
    "    \n",
    "    if selection == \"suma\":                \n",
    "        result = a + b\n",
    "        \n",
    "    elif selection == \"resta\":\n",
    "        result = a - b\n",
    "        \n",
    "    elif selection == \"multiplicacion\" or selection == \"multiplicación\":\n",
    "        selection = \"multiplica\"\n",
    "        \n",
    "        result = a * b \n",
    "    \n",
    "    elif selection == \"division\" or selection == \"división\":             \n",
    "        selection = \"dividi\"\n",
    "        \n",
    "        result = a / b\n",
    "        \n",
    "    elif selection == \"potencia\":\n",
    "        result = a ** b    \n",
    "    \n",
    "    print(f\"El resultado de {selection}r {a} y {b} es igual a: {result}\")\n",
    "                \n",
    "select_operation()  "
   ]
  },
  {
   "cell_type": "code",
   "execution_count": null,
   "id": "95e944e0",
   "metadata": {},
   "outputs": [],
   "source": []
  }
 ],
 "metadata": {
  "kernelspec": {
   "display_name": "Python 3 (ipykernel)",
   "language": "python",
   "name": "python3"
  },
  "language_info": {
   "codemirror_mode": {
    "name": "ipython",
    "version": 3
   },
   "file_extension": ".py",
   "mimetype": "text/x-python",
   "name": "python",
   "nbconvert_exporter": "python",
   "pygments_lexer": "ipython3",
   "version": "3.9.12"
  }
 },
 "nbformat": 4,
 "nbformat_minor": 5
}
