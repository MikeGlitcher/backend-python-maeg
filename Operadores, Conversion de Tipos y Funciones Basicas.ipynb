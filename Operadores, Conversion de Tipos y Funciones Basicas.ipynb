{
 "cells": [
  {
   "cell_type": "markdown",
   "id": "3311ab00",
   "metadata": {},
   "source": [
    "### Operadores Y Tipos de Operadores."
   ]
  },
  {
   "cell_type": "markdown",
   "id": "b7b911bc",
   "metadata": {},
   "source": [
    "¿que son los operadores?\n",
    "- Son un conjunto de simbolos para un lenguaje de programación.\n",
    "- Pueden decirle al compilador o intérprete que ejecute ciertas acciones para producir un resultado final\n",
    "- Pueden ser usados para aplicar operacones en variables o valores\n",
    "- Pueden ser clasificados según su tipo (aritméticos, de asignación, lógicos, afiliación y de identidad)"
   ]
  },
  {
   "cell_type": "markdown",
   "id": "8299778d",
   "metadata": {},
   "source": [
    "Tipos de Operadores:\n",
    "- Aritméticos\n",
    "- Relacionales\n",
    "- De asignación\n",
    "- Lógicos\n",
    "- De Afiliación\n",
    "- De Identidad "
   ]
  },
  {
   "cell_type": "markdown",
   "id": "60f17a35",
   "metadata": {},
   "source": [
    "#### Operadores aritmeticos\n",
    "\n",
    "- \"+\" : suma\n",
    "- \"-\" : resta\n",
    "- \"*\" : miltiplicación\n",
    "- \"/\" : división\n",
    "- \"//\" : división con redondeo hacia abajo\n",
    "- \"**\" : exponente"
   ]
  },
  {
   "cell_type": "code",
   "execution_count": 3,
   "id": "c760b5ec",
   "metadata": {},
   "outputs": [
    {
     "name": "stdout",
     "output_type": "stream",
     "text": [
      "El resultado es:  100\n"
     ]
    }
   ],
   "source": [
    "# \"+\" : suma\n",
    "num_1 = 50\n",
    "num_2 = 50\n",
    "print(\"El resultado es: \", num_1 + num_2)"
   ]
  },
  {
   "cell_type": "code",
   "execution_count": 5,
   "id": "519279c7",
   "metadata": {},
   "outputs": [
    {
     "name": "stdout",
     "output_type": "stream",
     "text": [
      "El resultado es:  0\n"
     ]
    }
   ],
   "source": [
    "# \"-\" : resta\n",
    "num_1 = 50\n",
    "num_2 = 50\n",
    "print(\"El resultado es: \", num_1 - num_2)"
   ]
  },
  {
   "cell_type": "code",
   "execution_count": 6,
   "id": "0711b4c9",
   "metadata": {},
   "outputs": [
    {
     "name": "stdout",
     "output_type": "stream",
     "text": [
      "El resultado es:  2500\n"
     ]
    }
   ],
   "source": [
    "# \"*\" : multiplicacón\n",
    "num_1 = 50\n",
    "num_2 = 50\n",
    "print(\"El resultado es: \", num_1 * num_2)"
   ]
  },
  {
   "cell_type": "code",
   "execution_count": 7,
   "id": "711f3d2b",
   "metadata": {},
   "outputs": [
    {
     "name": "stdout",
     "output_type": "stream",
     "text": [
      "El resultado es:  1.0\n"
     ]
    }
   ],
   "source": [
    "# \"/\" : división\n",
    "num_1 = 50\n",
    "num_2 = 50\n",
    "print(\"El resultado es: \", num_1 / num_2)"
   ]
  },
  {
   "cell_type": "code",
   "execution_count": 8,
   "id": "9bb58129",
   "metadata": {},
   "outputs": [
    {
     "name": "stdout",
     "output_type": "stream",
     "text": [
      "El resultado es:  1\n"
     ]
    }
   ],
   "source": [
    "# \"//\" : división con redondeo hacia abajo\n",
    "num_1 = 50\n",
    "num_2 = 50\n",
    "print(\"El resultado es: \", num_1 // num_2)"
   ]
  },
  {
   "cell_type": "code",
   "execution_count": 9,
   "id": "f51ec2ab",
   "metadata": {},
   "outputs": [
    {
     "name": "stdout",
     "output_type": "stream",
     "text": [
      "El resultado es:  8881784197001252323389053344726562500000000000000000000000000000000000000000000000000\n"
     ]
    }
   ],
   "source": [
    "# \"**\" : exponente\n",
    "num_1 = 50\n",
    "num_2 = 50\n",
    "print(\"El resultado es: \", num_1 ** num_2)"
   ]
  },
  {
   "cell_type": "markdown",
   "id": "9a553944",
   "metadata": {},
   "source": [
    "#### Operqadores Relacionales\n",
    "\n",
    "¿Que son los operadores relacionales?\n",
    "- Son también conocidos como Operdadores de Comparación\n",
    "- Regresan un valor Booleano (Verdadero o False)\n",
    "- En Python son usados para comparar o relacionar los valores\n",
    "- Verdadero / True , es el resultado cuando la condición es exitoda\n",
    "- Falso / false, es el resultado cuando la operacion no se cumple\n",
    "- Estos operadores se encargarn de las operaciones de comparación\n",
    "\n",
    "Tipos de Operadores Relacionales\n",
    "\n",
    "- \"==\" : igual que \n",
    "- \"!=\" : diferente a\n",
    "- \">\" : mayor que\n",
    "- \"<\" : menor que\n",
    "- \">=\" : mayor o igual que\n",
    "- \"<\" : menor o igual que\n"
   ]
  },
  {
   "cell_type": "code",
   "execution_count": 10,
   "id": "2695c552",
   "metadata": {},
   "outputs": [],
   "source": [
    "# \"==\" es igual a"
   ]
  },
  {
   "cell_type": "code",
   "execution_count": 11,
   "id": "03f2d911",
   "metadata": {},
   "outputs": [
    {
     "name": "stdout",
     "output_type": "stream",
     "text": [
      "El recultado es : False\n"
     ]
    }
   ],
   "source": [
    "num_1 = 570 # Asignación\n",
    "num_2 = 420\n",
    "print(\"El recultado es :\", num_1==num_2 )"
   ]
  },
  {
   "cell_type": "code",
   "execution_count": 12,
   "id": "ff2a4919",
   "metadata": {},
   "outputs": [
    {
     "name": "stdout",
     "output_type": "stream",
     "text": [
      "El recultado es : True\n"
     ]
    }
   ],
   "source": [
    "num_1 = \"python\" # Asignación\n",
    "num_2 = \"python\"\n",
    "print(\"El recultado es :\", num_1==num_2 )"
   ]
  },
  {
   "cell_type": "code",
   "execution_count": 13,
   "id": "adc7d7d6",
   "metadata": {},
   "outputs": [],
   "source": [
    "# \"!=\" es diferente a"
   ]
  },
  {
   "cell_type": "code",
   "execution_count": 14,
   "id": "9cbe8e34",
   "metadata": {},
   "outputs": [
    {
     "name": "stdout",
     "output_type": "stream",
     "text": [
      "El recultado es : True\n"
     ]
    }
   ],
   "source": [
    "num_1 = 570 # Asignación\n",
    "num_2 = 420\n",
    "print(\"El recultado es :\", num_1!=num_2 )"
   ]
  },
  {
   "cell_type": "code",
   "execution_count": 15,
   "id": "4c92c472",
   "metadata": {},
   "outputs": [
    {
     "name": "stdout",
     "output_type": "stream",
     "text": [
      "El recultado es : False\n"
     ]
    }
   ],
   "source": [
    "num_1 = \"python\" # Asignación\n",
    "num_2 = \"python\"\n",
    "print(\"El recultado es :\", num_1!=num_2 )"
   ]
  },
  {
   "cell_type": "code",
   "execution_count": 16,
   "id": "3de1f8ea",
   "metadata": {},
   "outputs": [
    {
     "name": "stdout",
     "output_type": "stream",
     "text": [
      "El recultado es : True\n"
     ]
    }
   ],
   "source": [
    "# \">\" mayor que\n",
    "num_1 = 570 # Asignación\n",
    "num_2 = 420\n",
    "print(\"El recultado es :\", num_1>num_2 )"
   ]
  },
  {
   "cell_type": "code",
   "execution_count": 17,
   "id": "5b5c5f18",
   "metadata": {},
   "outputs": [
    {
     "name": "stdout",
     "output_type": "stream",
     "text": [
      "El recultado es : False\n"
     ]
    }
   ],
   "source": [
    "# \">\" mayor o igual que\n",
    "num_1 = 570 # Asignación\n",
    "num_2 = 570\n",
    "print(\"El recultado es :\", num_1>num_2 )"
   ]
  },
  {
   "cell_type": "code",
   "execution_count": 21,
   "id": "9dcd31d4",
   "metadata": {},
   "outputs": [
    {
     "name": "stdout",
     "output_type": "stream",
     "text": [
      "El recultado es : True\n"
     ]
    }
   ],
   "source": [
    "# \">=\" mayor o igual que\n",
    "num_1 = 570 # Asignación\n",
    "num_2 = 420\n",
    "print(\"El recultado es :\", num_1>=num_2 )"
   ]
  },
  {
   "cell_type": "code",
   "execution_count": 22,
   "id": "bd5732b7",
   "metadata": {},
   "outputs": [
    {
     "name": "stdout",
     "output_type": "stream",
     "text": [
      "El recultado es : True\n"
     ]
    }
   ],
   "source": [
    "# \">=\" mayor o igual que\n",
    "num_1 = 570 # Asignación\n",
    "num_2 = 570\n",
    "print(\"El recultado es :\", num_1>=num_2 )"
   ]
  },
  {
   "cell_type": "code",
   "execution_count": 23,
   "id": "7343480b",
   "metadata": {},
   "outputs": [
    {
     "name": "stdout",
     "output_type": "stream",
     "text": [
      "El recultado es : False\n"
     ]
    }
   ],
   "source": [
    "# \">=\" mayor o igual que\n",
    "num_1 = 570 # Asignación\n",
    "num_2 = 840\n",
    "print(\"El recultado es :\", num_1>=num_2 )"
   ]
  },
  {
   "cell_type": "code",
   "execution_count": 24,
   "id": "7f4d7521",
   "metadata": {},
   "outputs": [
    {
     "name": "stdout",
     "output_type": "stream",
     "text": [
      "El recultado es : False\n"
     ]
    }
   ],
   "source": [
    "# \"<\" menor que\n",
    "num_1 = 570 # Asignación\n",
    "num_2 = 420\n",
    "print(\"El recultado es :\", num_1<num_2 )"
   ]
  },
  {
   "cell_type": "code",
   "execution_count": 25,
   "id": "d5446cea",
   "metadata": {},
   "outputs": [
    {
     "name": "stdout",
     "output_type": "stream",
     "text": [
      "El recultado es : True\n"
     ]
    }
   ],
   "source": [
    "# \"<\" menor que\n",
    "num_1 = 570 # Asignación\n",
    "num_2 = 850\n",
    "print(\"El recultado es :\", num_1<num_2 )"
   ]
  },
  {
   "cell_type": "code",
   "execution_count": 27,
   "id": "d0d47175",
   "metadata": {},
   "outputs": [
    {
     "name": "stdout",
     "output_type": "stream",
     "text": [
      "El recultado es : False\n"
     ]
    }
   ],
   "source": [
    "# \"<=\" menor o igual que\n",
    "num_1 = 570 # Asignación\n",
    "num_2 = 420\n",
    "print(\"El recultado es :\", num_1<=num_2 )"
   ]
  },
  {
   "cell_type": "code",
   "execution_count": 28,
   "id": "09d0be3d",
   "metadata": {},
   "outputs": [
    {
     "name": "stdout",
     "output_type": "stream",
     "text": [
      "El recultado es : True\n"
     ]
    }
   ],
   "source": [
    "# \"<=\" menor o igual que\n",
    "num_1 = 570 # Asignación\n",
    "num_2 = 1000\n",
    "print(\"El recultado es :\", num_1<=num_2 )"
   ]
  },
  {
   "cell_type": "markdown",
   "id": "871ed057",
   "metadata": {},
   "source": [
    "### Operadores de Asignasión\n",
    "\n",
    "¿Qué son los Operadores de Asignacion?\n",
    "- En Python son usados para asignar valores a variables\n",
    "- Inlcuyen al operador de asignacion que es el signo de igual (=)\n",
    "\n",
    "Tipos de Operadores de Asignación:\n",
    "- \"=\" : Operadir de Asignación\n",
    "- \"+=\" : Sumar y ASignar\n",
    "- \"-=\" : Restar y Asignar\n",
    "- \"*=\" : Multiplicar y Asignar\n",
    "- \"/=\" : dividir y Asignar\n",
    "- \"//\" : Dividir con redondeo hacia abajo y Asignar\n",
    "- \"%=\" : Modulo y Asignar\n",
    "- \"**=\" : Exponente y ASginar"
   ]
  },
  {
   "cell_type": "code",
   "execution_count": 29,
   "id": "f3a7b200",
   "metadata": {},
   "outputs": [],
   "source": [
    "# \"=\" : Operador de ASignacion\n",
    "num_1 = 540\n",
    "num_2 = 741"
   ]
  },
  {
   "cell_type": "code",
   "execution_count": 35,
   "id": "a6d3cd9e",
   "metadata": {},
   "outputs": [
    {
     "name": "stdout",
     "output_type": "stream",
     "text": [
      "el resultado es : 1281\n"
     ]
    }
   ],
   "source": [
    "# \"+=\" : sumar y Asignar\n",
    "num_1 = 540\n",
    "num_2 = 741\n",
    "\n",
    "num_1 += num_2 # num_1 = num_1 + num_2\n",
    "\n",
    "print(\"el resultado es :\", num_1)"
   ]
  },
  {
   "cell_type": "code",
   "execution_count": 36,
   "id": "9f7108bd",
   "metadata": {},
   "outputs": [
    {
     "name": "stdout",
     "output_type": "stream",
     "text": [
      "el resultado es : -201\n"
     ]
    }
   ],
   "source": [
    "# \"-=\" : restar y Asignar\n",
    "num_1 = 540\n",
    "num_2 = 741\n",
    "\n",
    "num_1 -= num_2 # num_1 = num_1 - num_2\n",
    "\n",
    "print(\"el resultado es :\", num_1)"
   ]
  },
  {
   "cell_type": "code",
   "execution_count": 37,
   "id": "3d3965c5",
   "metadata": {},
   "outputs": [
    {
     "name": "stdout",
     "output_type": "stream",
     "text": [
      "el resultado es : 400140\n"
     ]
    }
   ],
   "source": [
    "# \"*=\" : multiplicar y Asignar\n",
    "num_1 = 540\n",
    "num_2 = 741\n",
    "\n",
    "num_1 *= num_2 # num_1 = num_1 * num_2\n",
    "\n",
    "print(\"el resultado es :\", num_1)"
   ]
  },
  {
   "cell_type": "code",
   "execution_count": 38,
   "id": "bfcfe092",
   "metadata": {},
   "outputs": [
    {
     "name": "stdout",
     "output_type": "stream",
     "text": [
      "el resultado es : 0.728744939271255\n"
     ]
    }
   ],
   "source": [
    "# \"/=\" : dividir y Asignar\n",
    "num_1 = 540\n",
    "num_2 = 741\n",
    "\n",
    "num_1 /= num_2 # num_1 = num_1 / num_2\n",
    "\n",
    "print(\"el resultado es :\", num_1)"
   ]
  },
  {
   "cell_type": "code",
   "execution_count": 39,
   "id": "8e7cbd84",
   "metadata": {},
   "outputs": [
    {
     "name": "stdout",
     "output_type": "stream",
     "text": [
      "el resultado es : 0\n"
     ]
    }
   ],
   "source": [
    "# \"//=\" : dividir y redondear y Asignar\n",
    "num_1 = 540\n",
    "num_2 = 741\n",
    "\n",
    "num_1 //= num_2 # num_1 = num_1 // num_2\n",
    "\n",
    "print(\"el resultado es :\", num_1)"
   ]
  },
  {
   "cell_type": "code",
   "execution_count": 40,
   "id": "9b01dec6",
   "metadata": {},
   "outputs": [
    {
     "name": "stdout",
     "output_type": "stream",
     "text": [
      "el resultado es : 540\n"
     ]
    }
   ],
   "source": [
    "# \"%=\" : Modulo - numero que cqueda despues de dividir.. residuo\n",
    "num_1 = 540\n",
    "num_2 = 741\n",
    "\n",
    "num_1 %= num_2 # num_1 = num_1 % num_2\n",
    "\n",
    "print(\"el resultado es :\", num_1)"
   ]
  },
  {
   "cell_type": "code",
   "execution_count": 41,
   "id": "79926f0b",
   "metadata": {},
   "outputs": [
    {
     "name": "stdout",
     "output_type": "stream",
     "text": [
      "el resultado es : 505563869053286485890281500908297329115064003743394335810622818184289592187246378228042740296511934411975004666621072198324777006335770823071086985676491239897384182127425928188297940882281955468524211988079032064874982823471603815379001821366349530017692143727285562028214454089556597628261240293906676394941293560272072126434343328570281128332716426137658692999067741600335855086656182522500445169710841247888175933156756125072019987406006782892688257362383527370795773225228829836562257603924795992098909369036817899480634700862646740780498264264101134762995417165136410597797350463846176109740312667825294539341016574613226275656852950919422055540091068641028881463091986591886772929974472181014686414507815106631691682530280833172341893251457283838982897150741938061245980083662435411093119735037418362605652070644115460383256231322883205496610497510953257616162253332268053189856212656466128885507683623184319844354121360417529973486603263140425647622515595914923119087215219243198189984486502474729279002976273513933183182673074263474803642726047327394830984521057886410305272375528566996916063997458041410869472435833289169685115793871566485097355713860645897206333949635032659273838810652698310658058707678512709082006807539763260809962318088337405666584124893101791331221504000000000000000000000000000000000000000000000000000000000000000000000000000000000000000000000000000000000000000000000000000000000000000000000000000000000000000000000000000000000000000000000000000000000000000000000000000000000000000000000000000000000000000000000000000000000000000000000000000000000000000000000000000000000000000000000000000000000000000000000000000000000000000000000000000000000000000000000000000000000000000000000000000000000000000000000000000000000000000000000000000000000000000000000000000000000000000000000000000000000000000000000000000000000000000000000000000000000000000000000000000000000000000000000000000000000000000000000000000000000000000000000000000000000000000000000000000000000000000000000000000000000000000000000\n"
     ]
    }
   ],
   "source": [
    "# \"**=\" : exponente y asignar\n",
    "num_1 = 540\n",
    "num_2 = 741\n",
    "\n",
    "num_1 **= num_2 # num_1 = num_1 ** num_2\n",
    "\n",
    "print(\"el resultado es :\", num_1)"
   ]
  },
  {
   "cell_type": "markdown",
   "id": "20d64338",
   "metadata": {},
   "source": [
    "#### Operadores lógicos\n",
    "\n",
    "¿Que son los operadores lógicos?\n",
    "- Son usados principalmente para declaraciones condicionales\n",
    "- Son indicadores estructurales\n",
    "- Tambien se les conoce como Conectores Lógicos\n",
    "- Hay 3 tipos de Operadores Lógicos\n",
    "    - AND (y) regresa True / Verdadero si ambas operaciones es verdadera\n",
    "    - OR (o) regresa True / Verdadero si una de las opciones es verdadera\n",
    "    - NOT (lo opuesto) regresa Tru / Verdadero si la operacion es Fasle / Falso"
   ]
  },
  {
   "cell_type": "code",
   "execution_count": 42,
   "id": "59179424",
   "metadata": {},
   "outputs": [],
   "source": [
    "# AND (y)\n",
    "# Todas las concidiones deben ser verdaderas"
   ]
  },
  {
   "cell_type": "code",
   "execution_count": 43,
   "id": "293d4617",
   "metadata": {},
   "outputs": [
    {
     "name": "stdout",
     "output_type": "stream",
     "text": [
      "num_1<num_2 and  num_1!=num_2 True\n"
     ]
    }
   ],
   "source": [
    "num_1 = 10\n",
    "num_2 = 25\n",
    "# num_1<=num_2: True / Verdadero\n",
    "# num_1=num_2 : True / Verdadero\n",
    "print(\"num_1<num_2 and  num_1!=num_2\", num_1<num_2 and  num_1!=num_2)"
   ]
  },
  {
   "cell_type": "code",
   "execution_count": 51,
   "id": "13f0f837",
   "metadata": {},
   "outputs": [
    {
     "name": "stdout",
     "output_type": "stream",
     "text": [
      "num_1<num_2 or  num_1==num_2 True\n"
     ]
    }
   ],
   "source": [
    "num_1 = 10\n",
    "num_2 = 25\n",
    "# num_1<=num_2: True / Verdadero\n",
    "# num_1=num_2 : False / False\n",
    "print(\"num_1<num_2 or  num_1==num_2\", num_1<num_2 or  num_1==num_2)"
   ]
  },
  {
   "cell_type": "code",
   "execution_count": 50,
   "id": "de54cb47",
   "metadata": {},
   "outputs": [
    {
     "name": "stdout",
     "output_type": "stream",
     "text": [
      "num_1<num_2 and  num_1==num_2 False\n"
     ]
    }
   ],
   "source": [
    "num_1 = 10\n",
    "num_2 = 25\n",
    "# num_1>=num_2: False / False\n",
    "# num_1=num_2 : False / False\n",
    "print(\"num_1<num_2 and  num_1==num_2\", num_1<num_2 and  num_1==num_2)"
   ]
  },
  {
   "cell_type": "code",
   "execution_count": 49,
   "id": "37261d36",
   "metadata": {},
   "outputs": [
    {
     "name": "stdout",
     "output_type": "stream",
     "text": [
      "num_1<num_2 and  num_1==num_2 and num_1!=num_2 False\n"
     ]
    }
   ],
   "source": [
    "num_1 = 10\n",
    "num_2 = 25\n",
    "# num_1>=num_2: False / False\n",
    "# num_1=num_2 : False / False\n",
    "print(\"num_1<num_2 and  num_1==num_2 and num_1!=num_2\", num_1<num_2 and  num_1==num_2 and num_1!=num_2)"
   ]
  },
  {
   "cell_type": "code",
   "execution_count": 52,
   "id": "5647a302",
   "metadata": {},
   "outputs": [],
   "source": [
    "# Or (o)"
   ]
  },
  {
   "cell_type": "code",
   "execution_count": 53,
   "id": "88a0f5bd",
   "metadata": {},
   "outputs": [
    {
     "name": "stdout",
     "output_type": "stream",
     "text": [
      "num_1<num_2 or  num_1==num_2 True\n"
     ]
    }
   ],
   "source": [
    "num_1 = 10\n",
    "num_2 = 25\n",
    "# num_1<=num_2: True / Verdadero\n",
    "# num_1=num_2 : False / False\n",
    "print(\"num_1<num_2 or  num_1==num_2\", num_1<num_2 or  num_1==num_2)"
   ]
  },
  {
   "cell_type": "code",
   "execution_count": 54,
   "id": "13d2ee54",
   "metadata": {},
   "outputs": [
    {
     "name": "stdout",
     "output_type": "stream",
     "text": [
      "num_1<num_2 or  num_1!=num_2 False\n"
     ]
    }
   ],
   "source": [
    "num_1 = 10\n",
    "num_2 = 10\n",
    "# num_1<=num_2: True / Verdadero\n",
    "# num_1!=num_2 : False / False\n",
    "print(\"num_1<num_2 or  num_1!=num_2\", num_1<num_2 or  num_1!=num_2)"
   ]
  },
  {
   "cell_type": "code",
   "execution_count": 55,
   "id": "0b085be2",
   "metadata": {},
   "outputs": [],
   "source": [
    "# Not (valor opuesto)"
   ]
  },
  {
   "cell_type": "code",
   "execution_count": 57,
   "id": "eb1c9c0c",
   "metadata": {},
   "outputs": [
    {
     "name": "stdout",
     "output_type": "stream",
     "text": [
      "not num_1 > num_2 True\n"
     ]
    }
   ],
   "source": [
    "num_1 = 10\n",
    "num_2 = 10\n",
    "# num_1 > num2 True / Verdadero\n",
    "print(\"not num_1 > num_2\", not num_1 > num_2)"
   ]
  },
  {
   "cell_type": "code",
   "execution_count": 58,
   "id": "033954ae",
   "metadata": {},
   "outputs": [
    {
     "name": "stdout",
     "output_type": "stream",
     "text": [
      "not num_1 > num_2 False\n"
     ]
    }
   ],
   "source": [
    "num_1 = 10\n",
    "num_2 = 1\n",
    "# num_1 > num2 True / Verdadero\n",
    "print(\"not num_1 > num_2\", not num_1 > num_2)"
   ]
  },
  {
   "cell_type": "code",
   "execution_count": 59,
   "id": "558372b1",
   "metadata": {},
   "outputs": [
    {
     "name": "stdout",
     "output_type": "stream",
     "text": [
      "not num_1 > num_2 True\n"
     ]
    }
   ],
   "source": [
    "num_1 = 10\n",
    "num_2 = 100\n",
    "# num_1 > num2 True / Verdadero\n",
    "print(\"not num_1 > num_2\", not num_1 > num_2)"
   ]
  },
  {
   "cell_type": "markdown",
   "id": "3066bf4f",
   "metadata": {},
   "source": [
    "#### Operadores de Afiliación\n",
    "\n",
    "¿Que son los operadores de Afiliación?\n",
    "\n",
    "- Son usados para validar los elementos en listas, cadenas y tuplas.\n",
    "- Validad si una variable esta presente en un a secuencia\n",
    "- Regresan un valor Booleano True / False\n",
    "- Regresan True si el valor esta presente en la secuencia\n",
    "- Regresan False si el valor no esta presente en la secuencia\n",
    "- Hay dos operadores de afiliación:\n",
    "    - IN cuando el valor esta en la secuencia\n",
    "    - NOT IN cuando el valor no esta en la secuencia\n",
    "    "
   ]
  },
  {
   "cell_type": "code",
   "execution_count": 60,
   "id": "988f803f",
   "metadata": {},
   "outputs": [],
   "source": [
    "# IN: ¿El valor esta presente?"
   ]
  },
  {
   "cell_type": "code",
   "execution_count": 63,
   "id": "4d3937ce",
   "metadata": {},
   "outputs": [
    {
     "name": "stdout",
     "output_type": "stream",
     "text": [
      "'a' in my_string True\n"
     ]
    }
   ],
   "source": [
    "my_string = \"backend:python\"\n",
    "print(\"'a' in my_string\",'a' in my_string)"
   ]
  },
  {
   "cell_type": "code",
   "execution_count": 64,
   "id": "0810a93b",
   "metadata": {},
   "outputs": [
    {
     "name": "stdout",
     "output_type": "stream",
     "text": [
      "'a' in my_string False\n"
     ]
    }
   ],
   "source": [
    "my_string = \"backend:python\"\n",
    "print(\"'a' in my_string\",'i' in my_string)"
   ]
  },
  {
   "cell_type": "code",
   "execution_count": 66,
   "id": "53a94d7d",
   "metadata": {},
   "outputs": [
    {
     "name": "stdout",
     "output_type": "stream",
     "text": [
      "5 in my_list False\n"
     ]
    }
   ],
   "source": [
    "my_list = [10, 20, 44]\n",
    "print(\"5 in my_list\", 5 in my_list)"
   ]
  },
  {
   "cell_type": "code",
   "execution_count": 67,
   "id": "f6773bc3",
   "metadata": {},
   "outputs": [
    {
     "name": "stdout",
     "output_type": "stream",
     "text": [
      "5 in my_list True\n"
     ]
    }
   ],
   "source": [
    "my_list = [10, 20, 44, 5]\n",
    "print(\"5 in my_list\", 5 in my_list)"
   ]
  },
  {
   "cell_type": "code",
   "execution_count": 69,
   "id": "97f40fc5",
   "metadata": {},
   "outputs": [
    {
     "name": "stdout",
     "output_type": "stream",
     "text": [
      "5 in my_list True\n"
     ]
    }
   ],
   "source": [
    "my_list = {10, 20, 44, 5}\n",
    "print(\"5 in my_list\", 5 in my_list)"
   ]
  },
  {
   "cell_type": "code",
   "execution_count": 70,
   "id": "5c045196",
   "metadata": {},
   "outputs": [],
   "source": [
    "#NOT IN el valor no está"
   ]
  },
  {
   "cell_type": "code",
   "execution_count": 71,
   "id": "a5770c2c",
   "metadata": {},
   "outputs": [
    {
     "name": "stdout",
     "output_type": "stream",
     "text": [
      "'a' in my_string False\n"
     ]
    }
   ],
   "source": [
    "my_string = \"backend:python\"\n",
    "print(\"'a' in my_string\",'a' not in my_string)"
   ]
  },
  {
   "cell_type": "code",
   "execution_count": 72,
   "id": "0a8dac62",
   "metadata": {},
   "outputs": [
    {
     "name": "stdout",
     "output_type": "stream",
     "text": [
      "'a' in my_string True\n"
     ]
    }
   ],
   "source": [
    "my_string = \"backend:python\"\n",
    "print(\"'a' in my_string\",'1' not in my_string)"
   ]
  },
  {
   "cell_type": "code",
   "execution_count": 73,
   "id": "94a46569",
   "metadata": {},
   "outputs": [
    {
     "name": "stdout",
     "output_type": "stream",
     "text": [
      "5 in my_list True\n"
     ]
    }
   ],
   "source": [
    "my_list = [10, 20, 44]\n",
    "print(\"5 in my_list\", 5 not in my_list)"
   ]
  },
  {
   "cell_type": "markdown",
   "id": "cbe0f647",
   "metadata": {},
   "source": [
    "#### Operadores de indentidad\n",
    "\n",
    "¿que son los operadores de Identidad?\n",
    "- Son usados para comparar la ubicaion en memoria de dos objetos\n",
    "- Se utilizan para validad si los valores comparten el mismo espaci en memoria o no\n",
    "- Regresa True si  lo comparten y False si no lo comparten\n",
    "- Hay dos operadores:\n",
    "    -IS\n",
    "    -IS NOT"
   ]
  },
  {
   "cell_type": "code",
   "execution_count": 77,
   "id": "ace51794",
   "metadata": {},
   "outputs": [],
   "source": [
    "# IS"
   ]
  },
  {
   "cell_type": "code",
   "execution_count": 75,
   "id": "ac27c10f",
   "metadata": {},
   "outputs": [
    {
     "name": "stdout",
     "output_type": "stream",
     "text": [
      "num_1 is num_2 False\n"
     ]
    }
   ],
   "source": [
    "num_1 = 11\n",
    "num_2 = 15\n",
    "print(\"num_1 is num_2\", num_1 is num_2)"
   ]
  },
  {
   "cell_type": "code",
   "execution_count": 76,
   "id": "7a5034df",
   "metadata": {},
   "outputs": [
    {
     "name": "stdout",
     "output_type": "stream",
     "text": [
      "num_1 is num_2 True\n"
     ]
    }
   ],
   "source": [
    "num_1 = 11\n",
    "num_2 = 11\n",
    "print(\"num_1 is num_2\", num_1 is num_2)"
   ]
  },
  {
   "cell_type": "code",
   "execution_count": 80,
   "id": "baa48847",
   "metadata": {},
   "outputs": [],
   "source": [
    "# IS NOT"
   ]
  },
  {
   "cell_type": "code",
   "execution_count": 81,
   "id": "573cceb8",
   "metadata": {},
   "outputs": [
    {
     "name": "stdout",
     "output_type": "stream",
     "text": [
      "num_1 is bot num_2 True\n"
     ]
    }
   ],
   "source": [
    "num_1 = 11\n",
    "num_2 = 15\n",
    "print(\"num_1 is bot num_2\", num_1 is not num_2)"
   ]
  },
  {
   "cell_type": "markdown",
   "id": "cb904406",
   "metadata": {},
   "source": [
    "#### Conversión de tipos\n",
    "\n",
    "¿Que es la conversion de tipos?\n",
    "- Es el proceso de conversión de datos de un tipo de dato a otro tipo de dato\n",
    "- Es un paso muy importante para combinar múltiples fuientes de datos en un formato específico\n",
    "- Hay dos tipos:\n",
    "    -Conversion Implicita: hecha de forma automatica por el intérprete de python\n",
    "    -Conversion Explicita"
   ]
  },
  {
   "cell_type": "code",
   "execution_count": 1,
   "id": "5568fbf7",
   "metadata": {},
   "outputs": [],
   "source": [
    "# Conversion implícita"
   ]
  },
  {
   "cell_type": "code",
   "execution_count": 2,
   "id": "e10a31f1",
   "metadata": {},
   "outputs": [
    {
     "data": {
      "text/plain": [
       "16.0"
      ]
     },
     "execution_count": 2,
     "metadata": {},
     "output_type": "execute_result"
    }
   ],
   "source": [
    "14 + 2.0"
   ]
  },
  {
   "cell_type": "code",
   "execution_count": 3,
   "id": "0128a763",
   "metadata": {},
   "outputs": [
    {
     "data": {
      "text/plain": [
       "17.0"
      ]
     },
     "execution_count": 3,
     "metadata": {},
     "output_type": "execute_result"
    }
   ],
   "source": [
    "12 + 2.0 + 3"
   ]
  },
  {
   "cell_type": "code",
   "execution_count": 4,
   "id": "d5b864d3",
   "metadata": {},
   "outputs": [],
   "source": [
    "# Conversion Explicita "
   ]
  },
  {
   "cell_type": "code",
   "execution_count": 5,
   "id": "1abd651e",
   "metadata": {},
   "outputs": [
    {
     "data": {
      "text/plain": [
       "199"
      ]
     },
     "execution_count": 5,
     "metadata": {},
     "output_type": "execute_result"
    }
   ],
   "source": [
    "int(199.66)"
   ]
  },
  {
   "cell_type": "code",
   "execution_count": 6,
   "id": "749cdd66",
   "metadata": {},
   "outputs": [
    {
     "data": {
      "text/plain": [
       "152.0"
      ]
     },
     "execution_count": 6,
     "metadata": {},
     "output_type": "execute_result"
    }
   ],
   "source": [
    "float(152)"
   ]
  },
  {
   "cell_type": "code",
   "execution_count": 7,
   "id": "dac8bc90",
   "metadata": {},
   "outputs": [
    {
     "data": {
      "text/plain": [
       "(4+0j)"
      ]
     },
     "execution_count": 7,
     "metadata": {},
     "output_type": "execute_result"
    }
   ],
   "source": [
    "complex(4)"
   ]
  },
  {
   "cell_type": "markdown",
   "id": "6faa8985",
   "metadata": {},
   "source": [
    "##### Conversiones int"
   ]
  },
  {
   "cell_type": "code",
   "execution_count": 8,
   "id": "0d09de2d",
   "metadata": {},
   "outputs": [
    {
     "data": {
      "text/plain": [
       "154"
      ]
     },
     "execution_count": 8,
     "metadata": {},
     "output_type": "execute_result"
    }
   ],
   "source": [
    "int(154.55)"
   ]
  },
  {
   "cell_type": "code",
   "execution_count": 11,
   "id": "85538cc8",
   "metadata": {},
   "outputs": [
    {
     "data": {
      "text/plain": [
       "1"
      ]
     },
     "execution_count": 11,
     "metadata": {},
     "output_type": "execute_result"
    }
   ],
   "source": [
    "int(True) #bool a int"
   ]
  },
  {
   "cell_type": "code",
   "execution_count": 12,
   "id": "d443c798",
   "metadata": {},
   "outputs": [
    {
     "data": {
      "text/plain": [
       "154"
      ]
     },
     "execution_count": 12,
     "metadata": {},
     "output_type": "execute_result"
    }
   ],
   "source": [
    "int(\"154\") # sdtring a int"
   ]
  },
  {
   "cell_type": "markdown",
   "id": "1419eab9",
   "metadata": {},
   "source": [
    "##### Conversiones float"
   ]
  },
  {
   "cell_type": "code",
   "execution_count": 13,
   "id": "62227ad7",
   "metadata": {},
   "outputs": [
    {
     "data": {
      "text/plain": [
       "20.0"
      ]
     },
     "execution_count": 13,
     "metadata": {},
     "output_type": "execute_result"
    }
   ],
   "source": [
    "float(20) # int a float"
   ]
  },
  {
   "cell_type": "code",
   "execution_count": 15,
   "id": "50c9d414",
   "metadata": {},
   "outputs": [
    {
     "data": {
      "text/plain": [
       "1.0"
      ]
     },
     "execution_count": 15,
     "metadata": {},
     "output_type": "execute_result"
    }
   ],
   "source": [
    "float(True) # bool a float"
   ]
  },
  {
   "cell_type": "code",
   "execution_count": 16,
   "id": "1250952e",
   "metadata": {},
   "outputs": [
    {
     "data": {
      "text/plain": [
       "182.15"
      ]
     },
     "execution_count": 16,
     "metadata": {},
     "output_type": "execute_result"
    }
   ],
   "source": [
    "float(\"182.15\") #string a float"
   ]
  },
  {
   "cell_type": "markdown",
   "id": "ae2a942e",
   "metadata": {},
   "source": [
    "#### Converiones complex"
   ]
  },
  {
   "cell_type": "code",
   "execution_count": 17,
   "id": "0d4ba4d4",
   "metadata": {},
   "outputs": [
    {
     "data": {
      "text/plain": [
       "(42+0j)"
      ]
     },
     "execution_count": 17,
     "metadata": {},
     "output_type": "execute_result"
    }
   ],
   "source": [
    "complex(42) # int a comlex"
   ]
  },
  {
   "cell_type": "code",
   "execution_count": 18,
   "id": "74897996",
   "metadata": {},
   "outputs": [
    {
     "data": {
      "text/plain": [
       "(92.54+0j)"
      ]
     },
     "execution_count": 18,
     "metadata": {},
     "output_type": "execute_result"
    }
   ],
   "source": [
    "complex(92.54) # float a complex"
   ]
  },
  {
   "cell_type": "code",
   "execution_count": 19,
   "id": "f88c0550",
   "metadata": {},
   "outputs": [
    {
     "data": {
      "text/plain": [
       "(1+0j)"
      ]
     },
     "execution_count": 19,
     "metadata": {},
     "output_type": "execute_result"
    }
   ],
   "source": [
    "complex(True) # bool a complex"
   ]
  },
  {
   "cell_type": "code",
   "execution_count": 21,
   "id": "b9f5b5db",
   "metadata": {},
   "outputs": [
    {
     "data": {
      "text/plain": [
       "(24+0j)"
      ]
     },
     "execution_count": 21,
     "metadata": {},
     "output_type": "execute_result"
    }
   ],
   "source": [
    "complex(\"24\") # string a complex"
   ]
  },
  {
   "cell_type": "markdown",
   "id": "66e5d45e",
   "metadata": {},
   "source": [
    "#### Conversiones bool"
   ]
  },
  {
   "cell_type": "code",
   "execution_count": 22,
   "id": "c5c821e2",
   "metadata": {},
   "outputs": [
    {
     "data": {
      "text/plain": [
       "True"
      ]
     },
     "execution_count": 22,
     "metadata": {},
     "output_type": "execute_result"
    }
   ],
   "source": [
    "bool(152) #int a bool"
   ]
  },
  {
   "cell_type": "code",
   "execution_count": 23,
   "id": "a7beae3b",
   "metadata": {},
   "outputs": [
    {
     "data": {
      "text/plain": [
       "True"
      ]
     },
     "execution_count": 23,
     "metadata": {},
     "output_type": "execute_result"
    }
   ],
   "source": [
    "bool(12.2) #float a bool"
   ]
  },
  {
   "cell_type": "code",
   "execution_count": 24,
   "id": "d6e9a3f9",
   "metadata": {},
   "outputs": [
    {
     "data": {
      "text/plain": [
       "False"
      ]
     },
     "execution_count": 24,
     "metadata": {},
     "output_type": "execute_result"
    }
   ],
   "source": [
    "bool(0.0) #float a bool"
   ]
  },
  {
   "cell_type": "code",
   "execution_count": 25,
   "id": "44a348b8",
   "metadata": {},
   "outputs": [
    {
     "data": {
      "text/plain": [
       "True"
      ]
     },
     "execution_count": 25,
     "metadata": {},
     "output_type": "execute_result"
    }
   ],
   "source": [
    "bool(0+3j) # comp´lex a bool"
   ]
  },
  {
   "cell_type": "code",
   "execution_count": 26,
   "id": "216a3357",
   "metadata": {},
   "outputs": [
    {
     "data": {
      "text/plain": [
       "True"
      ]
     },
     "execution_count": 26,
     "metadata": {},
     "output_type": "execute_result"
    }
   ],
   "source": [
    "bool(\"python\") # string a bool"
   ]
  },
  {
   "cell_type": "code",
   "execution_count": 27,
   "id": "e3c0f191",
   "metadata": {},
   "outputs": [
    {
     "data": {
      "text/plain": [
       "False"
      ]
     },
     "execution_count": 27,
     "metadata": {},
     "output_type": "execute_result"
    }
   ],
   "source": [
    "bool(\"\") # string a bool"
   ]
  },
  {
   "cell_type": "markdown",
   "id": "9f78b69d",
   "metadata": {},
   "source": [
    "#### Conversiones str"
   ]
  },
  {
   "cell_type": "code",
   "execution_count": 28,
   "id": "4ad5c84e",
   "metadata": {},
   "outputs": [
    {
     "data": {
      "text/plain": [
       "'21'"
      ]
     },
     "execution_count": 28,
     "metadata": {},
     "output_type": "execute_result"
    }
   ],
   "source": [
    "str(21) # int a str"
   ]
  },
  {
   "cell_type": "code",
   "execution_count": 29,
   "id": "33fbad34",
   "metadata": {},
   "outputs": [
    {
     "data": {
      "text/plain": [
       "'35.6'"
      ]
     },
     "execution_count": 29,
     "metadata": {},
     "output_type": "execute_result"
    }
   ],
   "source": [
    "str(35.6) #int a str"
   ]
  },
  {
   "cell_type": "code",
   "execution_count": 30,
   "id": "587e43ae",
   "metadata": {},
   "outputs": [
    {
     "data": {
      "text/plain": [
       "'(3+6j)'"
      ]
     },
     "execution_count": 30,
     "metadata": {},
     "output_type": "execute_result"
    }
   ],
   "source": [
    "str(3+6j) #comlex a str"
   ]
  },
  {
   "cell_type": "code",
   "execution_count": 31,
   "id": "7a988baf",
   "metadata": {},
   "outputs": [
    {
     "data": {
      "text/plain": [
       "'True'"
      ]
     },
     "execution_count": 31,
     "metadata": {},
     "output_type": "execute_result"
    }
   ],
   "source": [
    "str(True) # bool a str"
   ]
  },
  {
   "cell_type": "markdown",
   "id": "fba95426",
   "metadata": {},
   "source": [
    "## Finciones Básicas\n",
    "\n",
    "#### trunc()"
   ]
  },
  {
   "cell_type": "code",
   "execution_count": 34,
   "id": "58f6f675",
   "metadata": {},
   "outputs": [
    {
     "name": "stdout",
     "output_type": "stream",
     "text": [
      "num_1: 65.22\n",
      "num_2: 63.26\n",
      "num_3: 66.84\n",
      "num_4: 678.54\n",
      "trunc(num_1): 65\n",
      "trunc(num_2): 63\n",
      "trunc(num_3): 66\n",
      "trunc(num_4): 678\n"
     ]
    }
   ],
   "source": [
    "from math import trunc\n",
    "\n",
    "num_1 = 65.22\n",
    "num_2 = 63.26\n",
    "num_3 = 66.84\n",
    "num_4 = 678.54\n",
    "\n",
    "print(\"num_1:\", num_1)\n",
    "print(\"num_2:\", num_2)\n",
    "print(\"num_3:\", num_3)\n",
    "print(\"num_4:\", num_4)\n",
    "\n",
    "print(\"trunc(num_1):\", trunc(num_1))\n",
    "print(\"trunc(num_2):\", trunc(num_2))\n",
    "print(\"trunc(num_3):\", trunc(num_3))\n",
    "print(\"trunc(num_4):\", trunc(num_4))"
   ]
  },
  {
   "cell_type": "markdown",
   "id": "7a0bc338",
   "metadata": {},
   "source": [
    "### round(), ceil(), floor()"
   ]
  },
  {
   "cell_type": "code",
   "execution_count": 35,
   "id": "dd27d858",
   "metadata": {},
   "outputs": [
    {
     "name": "stdout",
     "output_type": "stream",
     "text": [
      "num_1: 65.22\n",
      "num_2: 63.26\n",
      "num_3: 66.84\n",
      "num_4: 678.54\n",
      "round(num_1): 65\n",
      "round(num_2): 63\n",
      "round(num_3): 67\n",
      "round(num_4): 679\n"
     ]
    }
   ],
   "source": [
    "# round()\n",
    "\n",
    "num_1 = 65.22\n",
    "num_2 = 63.26\n",
    "num_3 = 66.84\n",
    "num_4 = 678.54\n",
    "\n",
    "print(\"num_1:\", num_1)\n",
    "print(\"num_2:\", num_2)\n",
    "print(\"num_3:\", num_3)\n",
    "print(\"num_4:\", num_4)\n",
    "\n",
    "print(\"round(num_1):\", round(num_1))\n",
    "print(\"round(num_2):\", round(num_2))\n",
    "print(\"round(num_3):\", round(num_3))\n",
    "print(\"round(num_4):\", round(num_4))"
   ]
  },
  {
   "cell_type": "code",
   "execution_count": 38,
   "id": "00e6e1d8",
   "metadata": {},
   "outputs": [
    {
     "name": "stdout",
     "output_type": "stream",
     "text": [
      "num_1: 65.22\n",
      "num_2: 63.26\n",
      "num_3: 66.84\n",
      "num_4: 678.54\n",
      "ceil(num_1): 66\n",
      "ceil(num_2): 64\n",
      "ceil(num_3): 67\n",
      "ceil(num_4): 679\n"
     ]
    }
   ],
   "source": [
    "# ceil() redondeo hacia arriba\n",
    "\n",
    "from math import ceil\n",
    "\n",
    "num_1 = 65.22\n",
    "num_2 = 63.26\n",
    "num_3 = 66.84\n",
    "num_4 = 678.54\n",
    "\n",
    "print(\"num_1:\", num_1)\n",
    "print(\"num_2:\", num_2)\n",
    "print(\"num_3:\", num_3)\n",
    "print(\"num_4:\", num_4)\n",
    "\n",
    "print(\"ceil(num_1):\", ceil(num_1))\n",
    "print(\"ceil(num_2):\", ceil(num_2))\n",
    "print(\"ceil(num_3):\", ceil(num_3))\n",
    "print(\"ceil(num_4):\", ceil(num_4))"
   ]
  },
  {
   "cell_type": "code",
   "execution_count": 39,
   "id": "bee5d31b",
   "metadata": {},
   "outputs": [
    {
     "name": "stdout",
     "output_type": "stream",
     "text": [
      "num_1: 65.22\n",
      "num_2: 63.26\n",
      "num_3: 66.84\n",
      "num_4: 678.54\n",
      "floor(num_1): 65\n",
      "floor(num_2): 63\n",
      "floor(num_3): 66\n",
      "floor(num_4): 678\n"
     ]
    }
   ],
   "source": [
    "# floor() redondeo hacia abajo\n",
    "\n",
    "from math import floor\n",
    "\n",
    "num_1 = 65.22\n",
    "num_2 = 63.26\n",
    "num_3 = 66.84\n",
    "num_4 = 678.54\n",
    "\n",
    "print(\"num_1:\", num_1)\n",
    "print(\"num_2:\", num_2)\n",
    "print(\"num_3:\", num_3)\n",
    "print(\"num_4:\", num_4)\n",
    "\n",
    "print(\"floor(num_1):\", floor(num_1))\n",
    "print(\"floor(num_2):\", floor(num_2))\n",
    "print(\"floor(num_3):\", floor(num_3))\n",
    "print(\"floor(num_4):\", floor(num_4))"
   ]
  },
  {
   "cell_type": "markdown",
   "id": "a22b35f1",
   "metadata": {},
   "source": [
    "### Función %"
   ]
  },
  {
   "cell_type": "code",
   "execution_count": 42,
   "id": "54765f2d",
   "metadata": {},
   "outputs": [
    {
     "name": "stdout",
     "output_type": "stream",
     "text": [
      "num_1: 65.22\n",
      "num_2: 63.26\n",
      "num_3: 66.84\n",
      "num_4: 678.54\n",
      "'%.2f' % num_1: 65.22\n",
      "'%.2f' % num_2: 63.26\n",
      "'%.2f' % num_3: 66.84000\n",
      "'%.2f' % num_4: 678.54000000\n"
     ]
    }
   ],
   "source": [
    "num_1 = 65.22\n",
    "num_2 = 63.26\n",
    "num_3 = 66.84\n",
    "num_4 = 678.54\n",
    "\n",
    "print(\"num_1:\", num_1)\n",
    "print(\"num_2:\", num_2)\n",
    "print(\"num_3:\", num_3)\n",
    "print(\"num_4:\", num_4)\n",
    "\n",
    "print(\"'%.2f' % num_1:\", '%.2f' % num_1)\n",
    "print(\"'%.2f' % num_2:\", '%.2f' % num_2)\n",
    "print(\"'%.2f' % num_3:\", '%.5f' % num_3)\n",
    "print(\"'%.2f' % num_4:\", '%.8f' % num_4)"
   ]
  },
  {
   "cell_type": "markdown",
   "id": "7329ae01",
   "metadata": {},
   "source": [
    "### format()"
   ]
  },
  {
   "cell_type": "code",
   "execution_count": 45,
   "id": "c632f306",
   "metadata": {},
   "outputs": [
    {
     "name": "stdout",
     "output_type": "stream",
     "text": [
      "num_1: 65.22\n",
      "num_2: 63.26\n",
      "num_3: 66.84\n",
      "num_4: 678.54\n",
      "'{:.2f}'.format(num_1): 65.22\n",
      "'{:.2f}'.format(num_2) 63.26\n",
      "'{:.2f}'.format(num_3) 66.84000\n",
      "'{:.2f}'.format(num_4) 678.54\n"
     ]
    }
   ],
   "source": [
    "num_1 = 65.22\n",
    "num_2 = 63.26\n",
    "num_3 = 66.84\n",
    "num_4 = 678.54\n",
    "\n",
    "print(\"num_1:\", num_1)\n",
    "print(\"num_2:\", num_2)\n",
    "print(\"num_3:\", num_3)\n",
    "print(\"num_4:\", num_4)\n",
    "\n",
    "print(\"'{:.2f}'.format(num_1):\", '{:.2f}'.format(num_1))\n",
    "print(\"'{:.2f}'.format(num_2)\", '{:.2f}'.format(num_2))\n",
    "print(\"'{:.2f}'.format(num_3)\", '{:.5f}'.format(num_3))\n",
    "print(\"'{:.2f}'.format(num_4)\", '{:.2f}'.format(num_4))"
   ]
  },
  {
   "cell_type": "code",
   "execution_count": null,
   "id": "05d87529",
   "metadata": {},
   "outputs": [],
   "source": []
  }
 ],
 "metadata": {
  "kernelspec": {
   "display_name": "Python 3 (ipykernel)",
   "language": "python",
   "name": "python3"
  },
  "language_info": {
   "codemirror_mode": {
    "name": "ipython",
    "version": 3
   },
   "file_extension": ".py",
   "mimetype": "text/x-python",
   "name": "python",
   "nbconvert_exporter": "python",
   "pygments_lexer": "ipython3",
   "version": "3.9.12"
  }
 },
 "nbformat": 4,
 "nbformat_minor": 5
}
