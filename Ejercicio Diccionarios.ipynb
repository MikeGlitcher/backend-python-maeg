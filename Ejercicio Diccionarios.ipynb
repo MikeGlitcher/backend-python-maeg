{
 "cells": [
  {
   "cell_type": "code",
   "execution_count": 2,
   "id": "da0aa921",
   "metadata": {},
   "outputs": [
    {
     "name": "stdout",
     "output_type": "stream",
     "text": [
      "Requirement already satisfied: pokebase in c:\\users\\migue\\anaconda3\\lib\\site-packages (1.3.0)\n",
      "Requirement already satisfied: requests in c:\\users\\migue\\anaconda3\\lib\\site-packages (from pokebase) (2.27.1)\n",
      "Requirement already satisfied: charset-normalizer~=2.0.0 in c:\\users\\migue\\anaconda3\\lib\\site-packages (from requests->pokebase) (2.0.4)\n",
      "Requirement already satisfied: certifi>=2017.4.17 in c:\\users\\migue\\anaconda3\\lib\\site-packages (from requests->pokebase) (2021.10.8)\n",
      "Requirement already satisfied: idna<4,>=2.5 in c:\\users\\migue\\anaconda3\\lib\\site-packages (from requests->pokebase) (3.3)\n",
      "Requirement already satisfied: urllib3<1.27,>=1.21.1 in c:\\users\\migue\\anaconda3\\lib\\site-packages (from requests->pokebase) (1.26.9)\n"
     ]
    }
   ],
   "source": [
    "!pip install pokebase"
   ]
  },
  {
   "cell_type": "code",
   "execution_count": 6,
   "id": "b9118de2",
   "metadata": {},
   "outputs": [
    {
     "name": "stdout",
     "output_type": "stream",
     "text": [
      "Requirement already satisfied: translators in c:\\users\\migue\\anaconda3\\lib\\site-packages (5.4.8)\n",
      "Requirement already satisfied: requests>=2.28.1 in c:\\users\\migue\\anaconda3\\lib\\site-packages (from translators) (2.28.1)\n",
      "Requirement already satisfied: cryptography>=38.0.1 in c:\\users\\migue\\anaconda3\\lib\\site-packages (from translators) (38.0.3)\n",
      "Requirement already satisfied: pathos>=0.2.9 in c:\\users\\migue\\anaconda3\\lib\\site-packages (from translators) (0.3.0)\n",
      "Requirement already satisfied: PyExecJS>=1.5.1 in c:\\users\\migue\\anaconda3\\lib\\site-packages (from translators) (1.5.1)\n",
      "Requirement already satisfied: lxml>=4.9.1 in c:\\users\\migue\\anaconda3\\lib\\site-packages (from translators) (4.9.1)\n",
      "Requirement already satisfied: cffi>=1.12 in c:\\users\\migue\\anaconda3\\lib\\site-packages (from cryptography>=38.0.1->translators) (1.15.0)\n",
      "Requirement already satisfied: pycparser in c:\\users\\migue\\anaconda3\\lib\\site-packages (from cffi>=1.12->cryptography>=38.0.1->translators) (2.21)\n",
      "Requirement already satisfied: multiprocess>=0.70.14 in c:\\users\\migue\\anaconda3\\lib\\site-packages (from pathos>=0.2.9->translators) (0.70.14)\n",
      "Requirement already satisfied: pox>=0.3.2 in c:\\users\\migue\\anaconda3\\lib\\site-packages (from pathos>=0.2.9->translators) (0.3.2)\n",
      "Requirement already satisfied: ppft>=1.7.6.6 in c:\\users\\migue\\anaconda3\\lib\\site-packages (from pathos>=0.2.9->translators) (1.7.6.6)\n",
      "Requirement already satisfied: dill>=0.3.6 in c:\\users\\migue\\anaconda3\\lib\\site-packages (from pathos>=0.2.9->translators) (0.3.6)\n",
      "Requirement already satisfied: six>=1.10.0 in c:\\users\\migue\\anaconda3\\lib\\site-packages (from PyExecJS>=1.5.1->translators) (1.16.0)\n",
      "Requirement already satisfied: idna<4,>=2.5 in c:\\users\\migue\\anaconda3\\lib\\site-packages (from requests>=2.28.1->translators) (3.3)\n",
      "Requirement already satisfied: charset-normalizer<3,>=2 in c:\\users\\migue\\anaconda3\\lib\\site-packages (from requests>=2.28.1->translators) (2.0.4)\n",
      "Requirement already satisfied: certifi>=2017.4.17 in c:\\users\\migue\\anaconda3\\lib\\site-packages (from requests>=2.28.1->translators) (2021.10.8)\n",
      "Requirement already satisfied: urllib3<1.27,>=1.21.1 in c:\\users\\migue\\anaconda3\\lib\\site-packages (from requests>=2.28.1->translators) (1.26.9)\n"
     ]
    }
   ],
   "source": [
    "!pip install translators --upgrade"
   ]
  },
  {
   "cell_type": "code",
   "execution_count": 7,
   "id": "c7a6f2be",
   "metadata": {},
   "outputs": [
    {
     "name": "stderr",
     "output_type": "stream",
     "text": [
      "Using state MÃ©xico server backend.\n"
     ]
    },
    {
     "name": "stdout",
     "output_type": "stream",
     "text": [
      "Ingresa el nombre de un pokemon\n",
      "\n",
      "moltres\n",
      "ID:  146\n",
      "Nombre:  moltres\n",
      "Altura:  20\n",
      "Peso:  600\n",
      "Descripción: Este pokemon cuenta con una experiencia base de 290 y su tipo de pokemon es: fuego, volador\n"
     ]
    }
   ],
   "source": [
    "import pokebase as pb\n",
    "import translators as ts\n",
    "import requests\n",
    "\n",
    "Tr = ts.google\n",
    "\n",
    "\n",
    "def types():\n",
    "    url1 = \"https://pokeapi.co/api/v2//pokemon/{id}/\".format(id=id_)\n",
    "    response1 = requests.get(url1)\n",
    "\n",
    "    if response1.status_code != 404:\n",
    "        types_ = []\n",
    "        for ty in response1.json().get('types'):\n",
    "            types_.append(Tr(ty['type'].get('name'), from_language='en', to_language='es'))\n",
    "\n",
    "        return types_\n",
    "\n",
    "\n",
    "pokemon_to_search = input(\"Ingresa el nombre de un pokemon\\n\\n\")\n",
    "data = pb.pokemon(pokemon_to_search).__dict__\n",
    "\n",
    "\n",
    "id_ = data.get('id_')\n",
    "name = data.get('name')\n",
    "height = data.get('height')\n",
    "weight = data.get('weight')\n",
    "type_ = types()\n",
    "\n",
    "print(\"ID: \", id_)\n",
    "print(\"Nombre: \", name)\n",
    "print(\"Altura: \", height)\n",
    "print(\"Peso: \", weight)\n",
    "\n",
    "url = \"https://pokeapi.co/api/v2/characteristic/{id}/\".format(id=id_)\n",
    "response = requests.get(url)\n",
    "\n",
    "if response.status_code != 404:\n",
    "    for description_dict in response.json().get(\"descriptions\"):\n",
    "        if description_dict.get(\"language\", {}).get(\"name\") == \"es\":\n",
    "            description = description_dict.get(\"description\")\n",
    "\n",
    "            print(\"Descripción: \", description)\n",
    "else:\n",
    "    print(f\"\"\"Descripción: Este pokemon cuenta con una experiencia base de {data.get('base_experience')}\"\"\"\n",
    "          f\"\"\" y su tipo de pokemon es: {str(type_)[1:-1].replace(\"'\", \"\")}\"\"\")"
   ]
  },
  {
   "cell_type": "code",
   "execution_count": null,
   "id": "cd112d8e",
   "metadata": {},
   "outputs": [],
   "source": []
  }
 ],
 "metadata": {
  "kernelspec": {
   "display_name": "Python 3 (ipykernel)",
   "language": "python",
   "name": "python3"
  },
  "language_info": {
   "codemirror_mode": {
    "name": "ipython",
    "version": 3
   },
   "file_extension": ".py",
   "mimetype": "text/x-python",
   "name": "python",
   "nbconvert_exporter": "python",
   "pygments_lexer": "ipython3",
   "version": "3.9.12"
  }
 },
 "nbformat": 4,
 "nbformat_minor": 5
}
