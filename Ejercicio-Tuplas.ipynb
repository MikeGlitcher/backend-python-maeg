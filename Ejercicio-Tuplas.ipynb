{
 "cells": [
  {
   "cell_type": "code",
   "execution_count": 10,
   "id": "7a87b7ff",
   "metadata": {},
   "outputs": [
    {
     "name": "stdout",
     "output_type": "stream",
     "text": [
      "Lista de Reproducción\n",
      "\n",
      "Ingresa la palabra que te gustaría\n",
      "Ejemplo: 'rock', y obtendrás un playlist de cancioneso artistas que incluyan la palabra rock\n",
      "rock\n",
      "(('Rock', 'Jessica'), ('Rock Your Body', 'Justin Timberlake'), ('Rock the Casbah (Remastered)', 'The Clash'), ('Rock and A Hard Place', 'Bailey Zimmerman'), ('Rock And Roll All Nite', 'Kiss'), ('Rock a Bye Baby', 'Baby Music'), ('Just Wanna Rock', 'Lil Uzi Vert'), ('Rock City Rock', 'Duke Ellington'), ('Rock You Like a Hurricane (2011)', 'Scorpions'), ('Roch', 'Amikam Lovit'), ('rockstar', 'Post Malone'), (\"Rocket Man (I Think It's Going To Be A Long Long Time) (Remastered)\", 'Elton John'), ('Rock U', 'VINNE'), ('Só Rock 2', 'Rock Danger'), ('Rock It', 'Ofenbach'), ('Roce', 'Tomas the Latin Boy'), ('Rock With You', 'Michael Jackson'), ('Rock This Party (Everybody Dance Now)', 'Bob Sinclar'), ('Rocks', 'Bic Curry Akatsuka'), ('All Summer Long', 'Kid Rock'), ('Rock and Roll (Remaster)', 'Led Zeppelin'), ('The Rocks', 'Monica Beddo'), ('Rock The Boat', 'Aaliyah'), ('Rock N Roll Train', 'AC/DC'), ('Roça', 'DJ Puto X'))\n"
     ]
    }
   ],
   "source": [
    "import requests\n",
    "\n",
    "print(\"Lista de Reproducción\\n\")\n",
    "# Referencia: https://www.deezer.com/en/channels/explore\n",
    "\n",
    "print(\"Ingresa la palabra que te gustaría\")\n",
    "\n",
    "print(\"Ejemplo: 'rock', y obtendrás un playlist de canciones\" \n",
    "      \"o artistas que incluyan la palabra rock\")\n",
    "\n",
    "word_to_search = input()\n",
    "\n",
    "url = \"https://deezerdevs-deezer.p.rapidapi.com/search\"\n",
    "\n",
    "querystring = {\"q\":word_to_search}\n",
    "\n",
    "headers = {\n",
    " \"X-RapidAPI-Key\": \"3ed98f551fmshe4e6260228c4eadp13db17jsn8c893e1194da\",\n",
    " \"X-RapidAPI-Host\": \"deezerdevs-deezer.p.rapidapi.com\"\n",
    "}\n",
    "\n",
    "response = requests.request(\"GET\", url, headers=headers, params=querystring).json()\n",
    "\n",
    "my_music = []\n",
    "\n",
    "for element in response['data']:\n",
    "    my_list = [element['title'], element['artist']['name']]\n",
    "    my_music.append(tuple(my_list))\n",
    "    # print(my_list)\n",
    "\n",
    "my_tuple = tuple(my_music)\n",
    "print(my_tuple)"
   ]
  },
  {
   "cell_type": "code",
   "execution_count": null,
   "id": "63ca14f3",
   "metadata": {},
   "outputs": [],
   "source": []
  }
 ],
 "metadata": {
  "kernelspec": {
   "display_name": "Python 3 (ipykernel)",
   "language": "python",
   "name": "python3"
  },
  "language_info": {
   "codemirror_mode": {
    "name": "ipython",
    "version": 3
   },
   "file_extension": ".py",
   "mimetype": "text/x-python",
   "name": "python",
   "nbconvert_exporter": "python",
   "pygments_lexer": "ipython3",
   "version": "3.9.12"
  }
 },
 "nbformat": 4,
 "nbformat_minor": 5
}
