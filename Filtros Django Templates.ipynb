{
 "cells": [
  {
   "cell_type": "markdown",
   "id": "e10d6298",
   "metadata": {},
   "source": [
    "## Filtros en los templates\n"
   ]
  },
  {
   "cell_type": "code",
   "execution_count": null,
   "id": "7eb19ee0",
   "metadata": {},
   "outputs": [],
   "source": [
    "python manage.py startapp test_templates"
   ]
  },
  {
   "cell_type": "code",
   "execution_count": null,
   "id": "ebb7226c",
   "metadata": {},
   "outputs": [],
   "source": [
    "src\\test_templates\\views.py"
   ]
  },
  {
   "cell_type": "code",
   "execution_count": null,
   "id": "4863d10b",
   "metadata": {},
   "outputs": [],
   "source": [
    "from django.shortcuts import render\n",
    "\n",
    "from datatime import datetime\n",
    "\n",
    "def test_view(request):\n",
    "    context = {\n",
    "        \"view_title\" : \"Mi Titulo ioncreible\",\n",
    "        \"my_number\" : 675,\n",
    "        \"my_number2\" : 2000,\n",
    "        \"today\" : datatime.now().today()\n",
    "    }\n",
    "\n",
    "    template = \"test_templates/test-view.html\"\n",
    "\n",
    "    return render(rquest, templates, context)"
   ]
  },
  {
   "cell_type": "code",
   "execution_count": null,
   "id": "aace398d",
   "metadata": {},
   "outputs": [],
   "source": [
    "src\\test_templates\\urls.py"
   ]
  },
  {
   "cell_type": "code",
   "execution_count": null,
   "id": "3d611607",
   "metadata": {},
   "outputs": [],
   "source": [
    "from django.contrib import admin\n",
    "from django.urls import path\n",
    "\n",
    "from .views import test_view\n",
    "\n",
    "urlpatterns = [\n",
    "    path(\"admin/\", admin.site.urls),\n",
    "    path(\"\", home),\n",
    "]"
   ]
  },
  {
   "cell_type": "code",
   "execution_count": null,
   "id": "bdd0d53b",
   "metadata": {},
   "outputs": [],
   "source": [
    "src\\config\\settings.py"
   ]
  },
  {
   "cell_type": "code",
   "execution_count": null,
   "id": "94d081a1",
   "metadata": {},
   "outputs": [],
   "source": [
    "INSTALLED_APPS = [\n",
    "    \"ecommerce.apps.EcommerceConfig\",\n",
    "    \"pages.apps.PagesConfig\",\n",
    "    \"base.apps.BaseConfig\",\n",
    "    \"forms_test.apps.FormsTestConfig\",\n",
    "\n",
    "    \"test_templates.apps.TestTemplatesConfig\",\n",
    "    \n",
    "    \"django.contrib.admin\",\n",
    "    \"django.contrib.auth\",\n",
    "    \"django.contrib.contenttypes\",\n",
    "    \"django.contrib.sessions\",\n",
    "    \"django.contrib.messages\",\n",
    "    \"django.contrib.staticfiles\",\n",
    "]"
   ]
  },
  {
   "cell_type": "code",
   "execution_count": null,
   "id": "af67e3d2",
   "metadata": {},
   "outputs": [],
   "source": [
    "src\\templates\\tes_templates\\test-view.html"
   ]
  },
  {
   "cell_type": "code",
   "execution_count": null,
   "id": "28c2220e",
   "metadata": {},
   "outputs": [],
   "source": [
    "<h1> {{ view_title | title }} </h1>\n",
    "<h1> {{ view_title | lower }} </h1>\n",
    "\n",
    "<br></br>\n",
    "{{ my_number | add:300 }}\n",
    "<br></br>\n",
    "{{ my_number | add:my_number2 }}\n",
    "<br></br>\n",
    "{{ today|date:\"D d M Y f a\" }}"
   ]
  },
  {
   "cell_type": "markdown",
   "id": "56e31609",
   "metadata": {},
   "source": [
    "## Ciclos For en Django Templates"
   ]
  },
  {
   "cell_type": "code",
   "execution_count": null,
   "id": "82b31ca5",
   "metadata": {},
   "outputs": [],
   "source": [
    "src\\test_templates\\views.py"
   ]
  },
  {
   "cell_type": "code",
   "execution_count": null,
   "id": "b957b495",
   "metadata": {},
   "outputs": [],
   "source": [
    "from django.shortcuts import render\n",
    "\n",
    "from datetime import datetime\n",
    "\n",
    "def test_view(request):\n",
    "    my_list = [\"mouse\", \"teclado\", \"audifonos\", \"escritorio\", \"memorias RAM\"]\n",
    "    context = {\n",
    "        \"view_title\" : \"Mi Titulo ioncreible\",\n",
    "        \"my_number\" : 675,\n",
    "        \"my_number2\" : 2000,\n",
    "        \"today\" : datetime.now().today()\n",
    "        \"my_list\": my_list\n",
    "    }\n",
    "\n",
    "    template = \"test_templates/test-view.html\"\n",
    "\n",
    "    return render(request, template, context)"
   ]
  },
  {
   "cell_type": "code",
   "execution_count": null,
   "id": "aa1ad333",
   "metadata": {},
   "outputs": [],
   "source": [
    "src\\templates\\tes_templates\\test-view.html"
   ]
  },
  {
   "cell_type": "code",
   "execution_count": null,
   "id": "33e81de8",
   "metadata": {},
   "outputs": [],
   "source": [
    "<h1> {{ view_title | title }} </h1>\n",
    "<h1> {{ view_title | lower }} </h1>\n",
    "\n",
    "<br></br>\n",
    "{{ my_number | add:300 }}\n",
    "<br></br>\n",
    "{{ my_number | add:my_number2 }}\n",
    "<br></br>\n",
    "{{ today|date:\"D d M Y f a\" }}\n",
    "\n",
    "<style>\n",
    "    .bold{\n",
    "        font-weight: bold;\n",
    "    }\n",
    "</style>\n",
    "\n",
    "<ul>\n",
    "    {% for obj in my_list %}\n",
    "    <li {% if forloop.first %} class=\"bold\" {% endif %}>\n",
    "        {{ forloop.counter }} {{ obj }}\n",
    "    </li>\n",
    "    {% endfor %}\n",
    "</ul>\n",
    "\n",
    "<ul>\n",
    "    {% for obj in my_list %}\n",
    "    <li {% if forloop.counter|divisibleby:2 %} class=\"bold\" {% endif %}>\n",
    "        {{ forloop.counter }} {{ obj }}\n",
    "    </li>\n",
    "    {% endfor %}\n",
    "</ul>\n",
    "\n",
    "<ul>\n",
    "    {% for obj in my_list %}\n",
    "    <li {% if forloop.counter|add:1|divisibleby:2 %} class=\"bold\" {% endif %}>\n",
    "        {{ forloop.counter }} {{ obj }}\n",
    "    </li>\n",
    "    {% endfor %}\n",
    "</ul>\n",
    "\n",
    "<ul>\n",
    "    {% for obj in my_list %}\n",
    "    <li class='{% cycle \"\" \"\" \"bold\" %}'>\n",
    "        {{ forloop.counter }} {{ obj }}\n",
    "    </li>\n",
    "    {% endfor %}\n",
    "</ul>"
   ]
  },
  {
   "cell_type": "markdown",
   "id": "ee9bedf1",
   "metadata": {},
   "source": [
    "## Herencia en Templates"
   ]
  },
  {
   "cell_type": "code",
   "execution_count": null,
   "id": "b742b13a",
   "metadata": {},
   "outputs": [],
   "source": [
    "src\\templates\\test_templates\\messages.html"
   ]
  },
  {
   "cell_type": "code",
   "execution_count": null,
   "id": "0912684c",
   "metadata": {},
   "outputs": [],
   "source": [
    "{% if messages %}\n",
    "\n",
    "<ul class=\"messages\">\n",
    "    {% for message in messages %}\n",
    "    <li{% if message.tags %} class=\"{{ message.tags }}\"{% endif %}>{{ message }}</li>\n",
    "    {% endfor %}\n",
    "</ul>\n",
    "{% endif %}"
   ]
  },
  {
   "cell_type": "code",
   "execution_count": null,
   "id": "90611569",
   "metadata": {},
   "outputs": [],
   "source": [
    "src\\templates\\test_templates\\base.html"
   ]
  },
  {
   "cell_type": "code",
   "execution_count": null,
   "id": "c9843521",
   "metadata": {},
   "outputs": [],
   "source": [
    "<!DOCTYPE html>\n",
    "\n",
    "<head>\n",
    "    <title>\n",
    "        {% block title %}\n",
    "        Mi Titulo en base.html\n",
    "        {% endblock title %}\n",
    "    </title>\n",
    "\n",
    "    <style>\n",
    "        .bold{\n",
    "            font-weight: bold;\n",
    "        }\n",
    "    </style>\n",
    "\n",
    "</head>\n",
    "\n",
    "<html>\n",
    "    <body>\n",
    "        {% include \"test_templates/messages.html\" %}\n",
    "        \n",
    "        {% block content %}\n",
    "\n",
    "        {% endblock content %}\n",
    "    </body>\n",
    "</html>"
   ]
  },
  {
   "cell_type": "code",
   "execution_count": null,
   "id": "bfb06303",
   "metadata": {},
   "outputs": [],
   "source": [
    "src\\templates\\test_templates\\test_view2.html"
   ]
  },
  {
   "cell_type": "code",
   "execution_count": null,
   "id": "24c5879e",
   "metadata": {},
   "outputs": [],
   "source": [
    "{% extends \"test_templates/base.html\" %}\n",
    "{% block title %}\n",
    "Mi titulo en test-view2.html\n",
    "{% endblock title %}\n"
   ]
  },
  {
   "cell_type": "code",
   "execution_count": null,
   "id": "b0428aac",
   "metadata": {},
   "outputs": [],
   "source": [
    "src\\test_templates\\views.py"
   ]
  },
  {
   "cell_type": "code",
   "execution_count": null,
   "id": "ab077cc1",
   "metadata": {},
   "outputs": [],
   "source": [
    "from django.shortcuts import render\n",
    "\n",
    "from datetime import datetime\n",
    "from django.contrib import messages\n",
    "\n",
    "def test_view(request):\n",
    "    my_list = [\"mouse\", \"teclado\", \"audifonos\", \"escritorio\", \"memorias RAM\"]\n",
    "    context = {\n",
    "        \"view_title\" : \"Mi Titulo ioncreible\",\n",
    "        \"my_number\" : 675,\n",
    "        \"my_number2\" : 2000,\n",
    "        \"today\" : datetime.now().today(),\n",
    "        \"my_list\": my_list\n",
    "    }\n",
    "\n",
    "    template = \"test_templates/test-view2.html\"\n",
    "\n",
    "    messages.add_message(request, messages.INFO, \"Mensaje de Prueba 1\")\n",
    "    messages.add_message(request, messages.INFO, \"Mensaje de Prueba 2\")\n",
    "\n",
    "\n",
    "    return render(request, template, context)"
   ]
  },
  {
   "cell_type": "markdown",
   "id": "4866dfa7",
   "metadata": {},
   "source": [
    "## Include con variables en Django Templates"
   ]
  },
  {
   "cell_type": "code",
   "execution_count": null,
   "id": "96df3b5c",
   "metadata": {},
   "outputs": [],
   "source": [
    "src\\templates\\test_templates\\object-detail.html"
   ]
  },
  {
   "cell_type": "code",
   "execution_count": null,
   "id": "a16a7fb0",
   "metadata": {},
   "outputs": [],
   "source": [
    "{% block title %}\n",
    "Vista de detalle\n",
    "{% endblock title %}\n",
    "\n",
    "<br/>\n",
    "\n",
    "{{ object_title }}\n",
    "\n",
    "<br/>\n",
    "\n",
    "{{ price }}\n",
    "\n",
    "<br/>\n",
    "\n",
    "{{ created_at }}"
   ]
  },
  {
   "cell_type": "code",
   "execution_count": null,
   "id": "e63d132e",
   "metadata": {},
   "outputs": [],
   "source": [
    "src\\templates\\test_templates\\detail-view.html"
   ]
  },
  {
   "cell_type": "code",
   "execution_count": null,
   "id": "14db06f6",
   "metadata": {},
   "outputs": [],
   "source": [
    "{% extends \"test_templates/base.html\" %}\n",
    "\n",
    "{% block content %}\n",
    "    {% include \"test_templates/object-detail.html\" with object_title=\"Producto X\" price=299.99 created_at=today %}\n",
    "{% endblock content %}"
   ]
  },
  {
   "cell_type": "code",
   "execution_count": null,
   "id": "259262a8",
   "metadata": {},
   "outputs": [],
   "source": [
    "src\\test_templates\\views.py"
   ]
  },
  {
   "cell_type": "code",
   "execution_count": null,
   "id": "c1adf87a",
   "metadata": {},
   "outputs": [],
   "source": [
    "from django.shortcuts import render\n",
    "\n",
    "from datetime import datetime\n",
    "from django.contrib import messages\n",
    "\n",
    "def test_view(request):\n",
    "    my_list = [\"mouse\", \"teclado\", \"audifonos\", \"escritorio\", \"memorias RAM\"]\n",
    "    context = {\n",
    "        \"view_title\" : \"Mi Titulo ioncreible\",\n",
    "        \"my_number\" : 675,\n",
    "        \"my_number2\" : 2000,\n",
    "        \"today\" : datetime.now().today(),\n",
    "        \"my_list\": my_list\n",
    "    }\n",
    "\n",
    "    template = \"test_templates/detail-view.html\"\n",
    "\n",
    "    messages.add_message(request, messages.INFO, \"Mensaje de Prueba 1\")\n",
    "    messages.add_message(request, messages.INFO, \"Mensaje de Prueba 2\")\n",
    "\n",
    "\n",
    "    return render(request, template, context)"
   ]
  },
  {
   "cell_type": "markdown",
   "id": "21996eed",
   "metadata": {},
   "source": [
    "## EJERCICIO - TEMPLATES "
   ]
  },
  {
   "cell_type": "code",
   "execution_count": null,
   "id": "601e18cb",
   "metadata": {},
   "outputs": [],
   "source": [
    "src\\templates\\test_templates\\ejercicio.html"
   ]
  },
  {
   "cell_type": "code",
   "execution_count": null,
   "id": "c0c22b11",
   "metadata": {},
   "outputs": [],
   "source": [
    "<h1> {{ view_title | title }} </h1>\n",
    "\n",
    "<ul>\n",
    "    {% for obj in my_list %}\n",
    "\n",
    "    {% if obj|divisibleby:base_number %}\n",
    "    <li>   \n",
    "        {{ obj }}\n",
    "        \n",
    "        {% block content %}\n",
    "        {% include \"test_templates/ejercicio-detail.html\" %}\n",
    "        {% endblock content %}\n",
    "\n",
    "    </li>\n",
    "\n",
    "    {% endif %}\n",
    "    {% endfor %}\n",
    "</ul>"
   ]
  },
  {
   "cell_type": "code",
   "execution_count": null,
   "id": "2fa18462",
   "metadata": {},
   "outputs": [],
   "source": [
    "src\\templates\\test_templates\\ejercicio-detail.html"
   ]
  },
  {
   "cell_type": "code",
   "execution_count": null,
   "id": "47fcfae6",
   "metadata": {},
   "outputs": [],
   "source": [
    "{% block title %}\n",
    "\n",
    "Este numero es divisible por {{ base_number }}\n",
    "\n",
    "{% endblock title %}"
   ]
  },
  {
   "cell_type": "code",
   "execution_count": null,
   "id": "be135cff",
   "metadata": {},
   "outputs": [],
   "source": [
    "src\\test_templates\\views.py"
   ]
  },
  {
   "cell_type": "code",
   "execution_count": null,
   "id": "eff2631b",
   "metadata": {},
   "outputs": [],
   "source": [
    "from django.shortcuts import render\n",
    "\n",
    "from datetime import datetime\n",
    "from django.contrib import messages\n",
    "\n",
    "def test_view(request):\n",
    "    my_list = [4, 8, 6, 2, 3, 5, 15, 30, 22]\n",
    "    context = {\n",
    "        \"view_title\" : \"Mi Titulo ioncreible\",\n",
    "        \"base_number\" : 5\n",
    "    }\n",
    "\n",
    "    template = \"test_templates/ejercicio.html\"\n",
    "\n",
    "\n",
    "    return render(request, template, context)"
   ]
  }
 ],
 "metadata": {
  "kernelspec": {
   "display_name": "Python 3 (ipykernel)",
   "language": "python",
   "name": "python3"
  },
  "language_info": {
   "codemirror_mode": {
    "name": "ipython",
    "version": 3
   },
   "file_extension": ".py",
   "mimetype": "text/x-python",
   "name": "python",
   "nbconvert_exporter": "python",
   "pygments_lexer": "ipython3",
   "version": "3.9.12"
  }
 },
 "nbformat": 4,
 "nbformat_minor": 5
}
