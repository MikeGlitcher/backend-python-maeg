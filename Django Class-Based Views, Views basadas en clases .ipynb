{
 "cells": [
  {
   "cell_type": "markdown",
   "id": "5fe94b1d",
   "metadata": {},
   "source": [
    "## Views basadas en funciones VS Views basadas en clases"
   ]
  },
  {
   "cell_type": "code",
   "execution_count": null,
   "id": "7fb035f6",
   "metadata": {},
   "outputs": [],
   "source": [
    "python manage.py startapp products"
   ]
  },
  {
   "cell_type": "code",
   "execution_count": null,
   "id": "237e82a7",
   "metadata": {},
   "outputs": [],
   "source": [
    "from django.shortcuts import render\n",
    "from django.views.generic import View.ListView\n",
    "from django.decorators.http import require_http_methods\n",
    "\n",
    "def product_list_view(request):\n",
    "    if request.method = \"POST\"\n",
    "    print(request.POST)\n",
    "\n",
    "    print(request.method == \"POST\")\n",
    "    return render(request, \"template\", {})\n",
    "\n",
    "class ProductHomeView(View):\n",
    "    def get(self, *args, **kwargs):\n",
    "        return render(request, \"template\", {})\n",
    "\n",
    "    def post(self, *args, **kwargs):\n",
    "        print(request.POST)\n",
    "        return reager(request, \"template\", {})\n",
    "\n",
    "class ProductListView(ListView):\n",
    "    queryset = Product.objects.all()\n",
    "\n",
    "product_list_view = ProductListView.as_View()\n",
    "\n",
    "class BlogPostsListView(ListView):\n",
    "    queryset = Post.objects.all()\n",
    "\n",
    "class UserPostLastView(ListView):\n",
    "    queryset = User.objects.all()"
   ]
  },
  {
   "cell_type": "markdown",
   "id": "831891c8",
   "metadata": {},
   "source": [
    "## TemplatwView\n"
   ]
  },
  {
   "cell_type": "code",
   "execution_count": null,
   "id": "0ed6b02a",
   "metadata": {},
   "outputs": [],
   "source": [
    "src/products/templates/products/about.html"
   ]
  },
  {
   "cell_type": "code",
   "execution_count": null,
   "id": "aca25bc0",
   "metadata": {},
   "outputs": [],
   "source": [
    "<h1>Acerca de el ecommerce</h1>"
   ]
  },
  {
   "cell_type": "code",
   "execution_count": null,
   "id": "af5eafe7",
   "metadata": {},
   "outputs": [],
   "source": [
    "src/templates/team.html"
   ]
  },
  {
   "cell_type": "code",
   "execution_count": null,
   "id": "cff5efdb",
   "metadata": {},
   "outputs": [],
   "source": [
    "src/products/views.py"
   ]
  },
  {
   "cell_type": "code",
   "execution_count": null,
   "id": "b85726c8",
   "metadata": {},
   "outputs": [],
   "source": [
    "from django.views.generic import View, TemplateView\n",
    "from django.shortcuts import render\n",
    "\n",
    "def about_us_view(request):\n",
    "        return render(request, \"about.html\", {})\n",
    "\n",
    "class AboutView(View):\n",
    "    def get(self.request):\n",
    "        return render(request, \"about.html\", {})\n",
    "    \n",
    "class AboutView(TemplateView):\n",
    "    template_name = \"about.html\"\n",
    "    \n",
    "    "
   ]
  },
  {
   "cell_type": "code",
   "execution_count": null,
   "id": "73b67601",
   "metadata": {},
   "outputs": [],
   "source": [
    "src/products/urls.py"
   ]
  },
  {
   "cell_type": "code",
   "execution_count": null,
   "id": "8b37ceec",
   "metadata": {},
   "outputs": [],
   "source": [
    "from django.contrib import admin\n",
    "from django.urls import patch\n",
    "from django.views.generic import TemplateView\n",
    "\n",
    "from products import views\n",
    "\n",
    "urlpatterns = {\n",
    "    path(\"admin/\", admin.site.urls),\n",
    "    path(\"about/\", TemplateView.as_view(template_name=\"about.html\")),\n",
    "    path(\"team/\", TemplateView.as_view(template_name=\"team.html\")),\n",
    "}\n"
   ]
  },
  {
   "cell_type": "code",
   "execution_count": null,
   "id": "2ee180f8",
   "metadata": {},
   "outputs": [],
   "source": [
    "src/config/settings.py"
   ]
  },
  {
   "cell_type": "code",
   "execution_count": null,
   "id": "0b94ff8c",
   "metadata": {},
   "outputs": [],
   "source": [
    "# Application definitions\n",
    "INSTALLED_APPS = [\n",
    "    \"ecommerce.apps.EcommerceConfig\",\n",
    "    \"products.apps.ProductsConfig\",\n",
    "    \"pages.apps.PagesConfig\",\n",
    "    \"base.apps.BaseConfig\",\n",
    "    \"django.contrib.admin\",\n",
    "    \"django.contrib.auth\",\n",
    "    \"django.contrib.contenttypes\",\n",
    "    \"django.contrib.sessions\",\n",
    "    \"django.contrib.messages\",\n",
    "    \"django.contrib.staticfiles\",\n",
    "]"
   ]
  },
  {
   "cell_type": "code",
   "execution_count": null,
   "id": "428597c1",
   "metadata": {},
   "outputs": [],
   "source": [
    "products/urls.py"
   ]
  },
  {
   "cell_type": "code",
   "execution_count": null,
   "id": "fd7797c2",
   "metadata": {},
   "outputs": [],
   "source": [
    "from django.http import HttpResponseRedirectfrom django.contrib import admin\n",
    "from django.urls import path\n",
    "from django.views.generic import TemplateView, RedirectView\n",
    "\n",
    "from products import views\n",
    "\n",
    "urlpatterns = {\n",
    "    path(\"admin/\", admin.site.urls),\n",
    "    path(\"about-us/\", RedirectView.as_view(url=\"/products/about/\"))\n",
    "    path(\"about/\", TemplateView.as_view(template_name=\"about.html\")),\n",
    "    path(\"team/\", TemplateView.as_view(template_name=\"team.html\")),\n",
    "}\n"
   ]
  },
  {
   "cell_type": "markdown",
   "id": "f53924f9",
   "metadata": {},
   "source": [
    "## RedirectView o Vista dde redireccionamiento"
   ]
  },
  {
   "cell_type": "code",
   "execution_count": null,
   "id": "ef90d56f",
   "metadata": {},
   "outputs": [],
   "source": [
    "src/productos/urls.py"
   ]
  },
  {
   "cell_type": "code",
   "execution_count": null,
   "id": "d148fb8a",
   "metadata": {},
   "outputs": [],
   "source": [
    "from django.http import HttpResponseRedirectfrom django.contrib import admin\n",
    "from django.urls import path\n",
    "from django.views.generic import TemplateView, RedirectView\n",
    "\n",
    "from products import views\n",
    "\n",
    "urlpatterns = {\n",
    "    path(\"admin/\", admin.site.urls),\n",
    "    path(\"about-us/\", RedirectView.as_view(url=\"/products/about/\"))\n",
    "    path(\"about/\", TemplateView.as_view(template_name=\"about.html\")),\n",
    "    path(\"team/\", TemplateView.as_view(template_name=\"team.html\")),\n",
    "}\n"
   ]
  },
  {
   "cell_type": "markdown",
   "id": "5d1d71ef",
   "metadata": {},
   "source": [
    "# ListView y DetailView"
   ]
  },
  {
   "cell_type": "code",
   "execution_count": null,
   "id": "e1e8661c",
   "metadata": {},
   "outputs": [],
   "source": [
    "src/products/models.py"
   ]
  },
  {
   "cell_type": "code",
   "execution_count": null,
   "id": "10718347",
   "metadata": {},
   "outputs": [],
   "source": [
    "from django.db import models\n",
    "class Product(models.Model):\n",
    "    title = models.CharField(max_length=120)\n",
    "    slug = models.SlugField()"
   ]
  },
  {
   "cell_type": "code",
   "execution_count": null,
   "id": "a6dfac1d",
   "metadata": {},
   "outputs": [],
   "source": [
    "src/products/views.py"
   ]
  },
  {
   "cell_type": "code",
   "execution_count": null,
   "id": "02f41c81",
   "metadata": {},
   "outputs": [],
   "source": [
    "from django.views.generic import ListView, DetailView\n",
    "from django.shortcuts import render\n",
    "\n",
    "class ProductListView(ListView):\n",
    "    # app_label = \"Products\"\n",
    "    # model = Product\n",
    "    # view_name = List\n",
    "    # template_name = <app_name>/<model>_<view_name>.html\n",
    "    # template_name = products/product_list.html\n",
    "    model = Product\n",
    "\n",
    "class ProductDetailView(DetailView):\n",
    "    model = Product"
   ]
  },
  {
   "cell_type": "code",
   "execution_count": null,
   "id": "c219ce30",
   "metadata": {},
   "outputs": [],
   "source": [
    "src/products/urls.py"
   ]
  },
  {
   "cell_type": "code",
   "execution_count": null,
   "id": "dc8a7bc4",
   "metadata": {},
   "outputs": [],
   "source": [
    "from django.contrib import admin\n",
    "from django.urls import path\n",
    "from django.views.generic import TemplateView, RedirectView\n",
    "\n",
    "from products import ProductListView, ProductDetailView\n",
    "\n",
    "urlpatterns = {\n",
    "    path(\"admin/\", admin.site.urls),\n",
    "    path(\"products/\", ProductListView.as_view()),\n",
    "    path(\"products/<int:pk>\", ProductDetailView.as_view()),\n",
    "    path(\"about-us/\", RedirectView.as_view(url=\"/products/about/\")),\n",
    "    path(\"about/\", TemplateView.as_view(template_name=\"about.html\")),\n",
    "    path(\"team/\", TemplateView.as_view(template_name=\"team.html\")),\n",
    "}"
   ]
  },
  {
   "cell_type": "code",
   "execution_count": null,
   "id": "29cdd838",
   "metadata": {},
   "outputs": [],
   "source": [
    "src/templates/products/product_detail.html"
   ]
  },
  {
   "cell_type": "code",
   "execution_count": null,
   "id": "39f629bd",
   "metadata": {},
   "outputs": [],
   "source": [
    "Vista listado"
   ]
  },
  {
   "cell_type": "code",
   "execution_count": null,
   "id": "6037cfad",
   "metadata": {},
   "outputs": [],
   "source": [
    "src/templates/products/product_list.html"
   ]
  },
  {
   "cell_type": "code",
   "execution_count": null,
   "id": "9bb3e7a9",
   "metadata": {},
   "outputs": [],
   "source": [
    "Vista detalle"
   ]
  },
  {
   "cell_type": "markdown",
   "id": "139b722e",
   "metadata": {},
   "source": [
    "- python manage.py makemigrations\n",
    "- python manage.py migrate"
   ]
  },
  {
   "cell_type": "markdown",
   "id": "38c78e58",
   "metadata": {},
   "source": [
    "# OBTENER EL CONTEXTO\n"
   ]
  },
  {
   "cell_type": "code",
   "execution_count": null,
   "id": "e4450136",
   "metadata": {},
   "outputs": [],
   "source": [
    "src\\ecommerce\\views.py"
   ]
  },
  {
   "cell_type": "code",
   "execution_count": null,
   "id": "e30c40bd",
   "metadata": {},
   "outputs": [],
   "source": [
    "from django.views.generic import ListView, DetailView\n",
    "from django.shortcuts import render\n",
    "\n",
    "from .models import Product\n",
    "\n",
    "class ProductListView(ListView):\n",
    "    # app_label = \"Products\"\n",
    "    # model = Product\n",
    "    # view_name = List\n",
    "    # template_name = <app_name>/<model>_<view_name>.html\n",
    "    # template_name = products/product_list.html\n",
    "    model = Product\n",
    "\n",
    "    def get_context_data(self, *args, **kwargs):\n",
    "        context = super().get_context_data(*args, **kwargs)\n",
    "        print(context)\n",
    "        context['title'] = \"Mi ecommerce\"\n",
    "        return context\n",
    "\n",
    "class ProductDetailView(DetailView):\n",
    "    model = Product"
   ]
  },
  {
   "cell_type": "code",
   "execution_count": null,
   "id": "071e2fad",
   "metadata": {},
   "outputs": [],
   "source": [
    "src\\templates\\products\\product_list.html"
   ]
  },
  {
   "cell_type": "code",
   "execution_count": null,
   "id": "ca572eee",
   "metadata": {},
   "outputs": [],
   "source": [
    "{{ title }}\n",
    "\n",
    "{% for object in object_list %}\n",
    "\n",
    "    <l1> {{ object.title }} - {{ object.slug }} </l1>\n",
    "\n",
    "{% endfor %}"
   ]
  },
  {
   "cell_type": "markdown",
   "id": "935d721e",
   "metadata": {},
   "source": [
    "## MODELO PROXY"
   ]
  },
  {
   "cell_type": "code",
   "execution_count": null,
   "id": "cb9bc2b9",
   "metadata": {},
   "outputs": [],
   "source": [
    "src\\products\\models.py"
   ]
  },
  {
   "cell_type": "code",
   "execution_count": null,
   "id": "675ca9a6",
   "metadata": {},
   "outputs": [],
   "source": [
    "from django.db import models\n",
    "\n",
    "class Product(models.Model):\n",
    "    title = models.CharField(max_length=120)\n",
    "    slug = models.SlugField()\n",
    "\n",
    "class DigitalProduct(Product):\n",
    "    class Meta:\n",
    "        proxy = True"
   ]
  },
  {
   "cell_type": "code",
   "execution_count": null,
   "id": "de728d54",
   "metadata": {},
   "outputs": [],
   "source": [
    "src\\products\\views.py"
   ]
  },
  {
   "cell_type": "code",
   "execution_count": null,
   "id": "1363857b",
   "metadata": {},
   "outputs": [],
   "source": [
    "from django.views.generic import ListView, DetailView\n",
    "from django.shortcuts import render\n",
    "\n",
    "from .models import Product, DigitalProduct\n",
    "\n",
    "class DigitalProductListView(ListView):\n",
    "    model = DigitalProduct\n",
    "\n",
    "    template_name = \"products/product_list.html\"\n",
    "\n",
    "    def get_context_data(self, *args, **kwargs):\n",
    "        context = super().get_context_data(*args, **kwargs)\n",
    "        print(context)\n",
    "        context['title'] = \"Mi ecommerce\"\n",
    "        return context\n",
    "\n",
    "class ProductListView(ListView):\n",
    "    # app_label = \"Products\"\n",
    "    # model = Product\n",
    "    # view_name = List\n",
    "    # template_name = <app_name>/<model>_<view_name>.html\n",
    "    # template_name = products/product_list.html\n",
    "    model = Product\n",
    "\n",
    "    def get_context_data(self, *args, **kwargs):\n",
    "        context = super().get_context_data(*args, **kwargs)\n",
    "        print(context)\n",
    "        context['title'] = \"Mi ecommerce\"\n",
    "        return context\n",
    "\n",
    "class ProductDetailView(DetailView):\n",
    "    model = Product"
   ]
  },
  {
   "cell_type": "code",
   "execution_count": null,
   "id": "3f921631",
   "metadata": {},
   "outputs": [],
   "source": [
    "src\\products\\urls.py"
   ]
  },
  {
   "cell_type": "code",
   "execution_count": null,
   "id": "f6078556",
   "metadata": {},
   "outputs": [],
   "source": [
    "from django.contrib import admin\n",
    "from django.urls import path\n",
    "from django.views.generic import TemplateView, RedirectView\n",
    "\n",
    "from products.views import ProductListView, ProductDetailView\n",
    "\n",
    "urlpatterns = {\n",
    "    path(\"admin/\", admin.site.urls),\n",
    "    path(\"products/\", ProductListView.as_view()),\n",
    "    path(\"digital_products/\", ProductListView.as_view()),\n",
    "    path(\"products/<int:pk>\", ProductDetailView.as_view()),\n",
    "    path(\"about-us/\", RedirectView.as_view(url=\"/products/about/\")),\n",
    "    path(\"about/\", TemplateView.as_view(template_name=\"about.html\")),\n",
    "    path(\"team/\", TemplateView.as_view(template_name=\"team.html\")),\n",
    "}"
   ]
  },
  {
   "cell_type": "code",
   "execution_count": null,
   "id": "8da283b5",
   "metadata": {},
   "outputs": [],
   "source": [
    "src\\products\\admin.py"
   ]
  },
  {
   "cell_type": "code",
   "execution_count": null,
   "id": "128dd760",
   "metadata": {},
   "outputs": [],
   "source": [
    "from django.contrib import admin\n",
    "from .models import Product, DigitalProduct\n",
    "\n",
    "admin.site.register(Product)\n",
    "admin.site.register(DigitalProduct)\n",
    "# Register your models here.\n"
   ]
  },
  {
   "cell_type": "markdown",
   "id": "39b60ced",
   "metadata": {},
   "source": [
    "## Crear un mixin\n"
   ]
  },
  {
   "cell_type": "code",
   "execution_count": null,
   "id": "e77fa2a5",
   "metadata": {},
   "outputs": [],
   "source": [
    "src\\products\\mixins.py"
   ]
  },
  {
   "cell_type": "code",
   "execution_count": null,
   "id": "9d16ae39",
   "metadata": {},
   "outputs": [],
   "source": [
    "class TemplateTitleMixin(object):\n",
    "    title = None\n",
    "    \n",
    "    def get_contextdata(self, *args, **kwargs):\n",
    "        context = super().get_context_data(*args, **kwargs)\n",
    "        print(context)\n",
    "        context['title'] = self.get_title()\n",
    "        return context\n",
    "\n",
    "    def get_title(self):\n",
    "        return self.title"
   ]
  },
  {
   "cell_type": "code",
   "execution_count": null,
   "id": "3bdaf77e",
   "metadata": {},
   "outputs": [],
   "source": [
    "src\\products\\views.py"
   ]
  },
  {
   "cell_type": "code",
   "execution_count": null,
   "id": "060c0239",
   "metadata": {},
   "outputs": [],
   "source": [
    "from django.views.generic import ListView, DetailView\n",
    "from django.shortcuts import render\n",
    "from .mixins import TemplateTitleMixin\n",
    "from .models import Product, DigitalProduct\n",
    "\n",
    "class DigitalProductListView(ListView):\n",
    "    model = DigitalProduct\n",
    "\n",
    "    template_name = \"products/product_list.html\"\n",
    "    \n",
    "    title = \"Productos Digitales\"\n",
    "\n",
    "class ProductListView(ListView):\n",
    "    # app_label = \"Products\"\n",
    "    # model = Product\n",
    "    # view_name = List\n",
    "    # template_name = <app_name>/<model>_<view_name>.html\n",
    "    # template_name = products/product_list.html\n",
    "    model = Product\n",
    "\n",
    "    title = \"Productos Fisicos\"\n",
    "\n",
    "    def get_context_data(self, *args, **kwargs):\n",
    "        context = super().get_context_data(*args, **kwargs)\n",
    "        print(context)\n",
    "        context['title'] = \"Mi ecommerce\"\n",
    "        return context\n",
    "\n",
    "class ProductDetailView(DetailView):\n",
    "    model = Product"
   ]
  },
  {
   "cell_type": "code",
   "execution_count": null,
   "id": "b20003af",
   "metadata": {},
   "outputs": [],
   "source": [
    "src\\templates\\products\\product_list.html"
   ]
  },
  {
   "cell_type": "code",
   "execution_count": null,
   "id": "7a0be4fa",
   "metadata": {},
   "outputs": [],
   "source": [
    "{% if title}\n",
    "    <l1>\n",
    "        {{ title }}\n",
    "    </l1>\n",
    "{% endif %}\n",
    "\n",
    "{% for object in object_list %}\n",
    "\n",
    "    <l1> {{ object.title }} - {{ object.slug }} </l1>\n",
    "\n",
    "{% endfor %}"
   ]
  },
  {
   "cell_type": "code",
   "execution_count": null,
   "id": "df805b95",
   "metadata": {},
   "outputs": [],
   "source": [
    "src\\products\\views.py"
   ]
  },
  {
   "cell_type": "code",
   "execution_count": null,
   "id": "aa19790a",
   "metadata": {},
   "outputs": [],
   "source": [
    "from django.views.generic import ListView, DetailView\n",
    "from django.shortcuts import render\n",
    "from .mixins import TemplateTitleMixin\n",
    "from .models import Product, DigitalProduct\n",
    "\n",
    "class DigitalProductListView(TemplateTitleMixin, ListView):\n",
    "    model = DigitalProduct\n",
    "\n",
    "    template_name = \"products/product_list.html\"\n",
    "    \n",
    "    title = \"Productos Digitales\"\n",
    "\n",
    "class ProductListView(TemplateTitleMixin, ListView):\n",
    "    # app_label = \"Products\"\n",
    "    # model = Product\n",
    "    # view_name = List\n",
    "    # template_name = <app_name>/<model>_<view_name>.html\n",
    "    # template_name = products/product_list.html\n",
    "    model = Product\n",
    "\n",
    "    title = \"Productos Fisicos\"\n",
    "\n",
    "class ProductDetailView(DetailView):\n",
    "    model = Product"
   ]
  },
  {
   "cell_type": "markdown",
   "id": "52a7901c",
   "metadata": {},
   "source": [
    "## RedirecView basada en la instancia del modelo"
   ]
  },
  {
   "cell_type": "code",
   "execution_count": null,
   "id": "802de028",
   "metadata": {},
   "outputs": [],
   "source": [
    "src\\products\\views.py"
   ]
  },
  {
   "cell_type": "code",
   "execution_count": null,
   "id": "3f81d3b8",
   "metadata": {},
   "outputs": [],
   "source": [
    "from django.views.generic import ListView, DetailView, RedirectView\n",
    "from django.shortcuts import render, get_object_or_404\n",
    "\n",
    "from .mixins import TemplateTitleMixin\n",
    "from .models import Product, DigitalProduct\n",
    "\n",
    "class ProductIDRedirectView(RedirectView):\n",
    "    def get_redirect_url(self, *args, **kwargs):\n",
    "        url_params = self.kwargs\n",
    "        pk = url_params.get(\"pk\")\n",
    "        obj = get_object_or_404(Product, pk=pk)\n",
    "        slug = obj.slug\n",
    "        return f\"/products/products/{slug}\"\n",
    "\n",
    "class ProductRedirectView(RedirectView):\n",
    "    def get_redirect_url(self, *args, **kwargs):\n",
    "        url_params = self.kwargs\n",
    "        slug = url_params.get(\"slug\")\n",
    "        return f\"/products/products/{slug}\""
   ]
  },
  {
   "cell_type": "code",
   "execution_count": null,
   "id": "27894100",
   "metadata": {},
   "outputs": [],
   "source": [
    "src\\products\\models.py"
   ]
  },
  {
   "cell_type": "code",
   "execution_count": null,
   "id": "c18ea37b",
   "metadata": {},
   "outputs": [],
   "source": [
    "from django.db import models\n",
    "\n",
    "class Product(models.Model):\n",
    "    title = models.CharField(max_length=120)\n",
    "    slug = models.SlugField(unique=True)\n",
    "\n",
    "class DigitalProduct(Product):\n",
    "    class Meta:\n",
    "        proxy = True"
   ]
  },
  {
   "cell_type": "code",
   "execution_count": null,
   "id": "f7305936",
   "metadata": {},
   "outputs": [],
   "source": [
    "python manage.py makemigrations\n",
    "python manage.py migrate"
   ]
  },
  {
   "cell_type": "code",
   "execution_count": null,
   "id": "9fde5da8",
   "metadata": {},
   "outputs": [],
   "source": [
    "src\\templates\\products\\product_detail.html"
   ]
  },
  {
   "cell_type": "code",
   "execution_count": null,
   "id": "fa86818f",
   "metadata": {},
   "outputs": [],
   "source": [
    "{% if title %}\n",
    "    <h1> {{ title }} </h1>\n",
    "{% endif %}\n",
    "\n",
    "{{ object.pk }}\n",
    "{{ object.title }}\n",
    "{{ object.slug }}"
   ]
  },
  {
   "cell_type": "code",
   "execution_count": null,
   "id": "92f11a61",
   "metadata": {},
   "outputs": [],
   "source": [
    "src\\products\\urls.py"
   ]
  },
  {
   "cell_type": "code",
   "execution_count": null,
   "id": "875fc8aa",
   "metadata": {},
   "outputs": [],
   "source": [
    "from django.contrib import admin\n",
    "from django.urls import path\n",
    "from django.views.generic import TemplateView, RedirectView\n",
    "\n",
    "from products.views import ProductListView, ProductDetailView, DigitalProductListView, ProductIDRedirectView, ProductRedirectView\n",
    "\n",
    "urlpatterns = {\n",
    "    path(\"admin/\", admin.site.urls),\n",
    "    path(\"about-us/\", RedirectView.as_view(url=\"/products/about/\")),\n",
    "    path(\"about/\", TemplateView.as_view(template_name=\"about.html\")),\n",
    "    path(\"team/\", TemplateView.as_view(template_name=\"team.html\")),\n",
    "    path(\"products/\", ProductListView.as_view()),\n",
    "    path(\"digital-products/\", DigitalProductListView.as_view()),\n",
    "    path(\"products/<int:pk>\", ProductDetailView.as_view()),\n",
    "    path(\"products/<slug:slug>\", ProductDetailView.as_view()),\n",
    "    path(\"p/<int:pk>\", ProductIDRedirectView.as_view()),\n",
    "    path(\"p/<slug:slug>\", ProductRedirectView.as_view()),\n",
    "}"
   ]
  },
  {
   "cell_type": "markdown",
   "id": "f0c4dc74",
   "metadata": {},
   "source": [
    "## Mixin proteger por login "
   ]
  },
  {
   "cell_type": "code",
   "execution_count": null,
   "id": "27869f73",
   "metadata": {},
   "outputs": [],
   "source": [
    "src\\products\\views.py"
   ]
  },
  {
   "cell_type": "code",
   "execution_count": null,
   "id": "d6cd659d",
   "metadata": {},
   "outputs": [],
   "source": [
    "from django.contrib.auth.mixins import LoginRequiredMixin\n",
    "from django.http import HttpResponseRedirect\n",
    "from django.views.generic import ListView, DetailView, RedirectView\n",
    "from django.shortcuts import render, get_object_or_404\n",
    "\n",
    "from .mixins import TemplateTitleMixin\n",
    "from .models import Product, DigitalProduct\n",
    "\n",
    "class ProductIDRedirectView(RedirectView):\n",
    "    def get_redirect_url(self, *args, **kwargs):\n",
    "        url_params = self.kwargs\n",
    "        pk = url_params.get(\"pk\")\n",
    "        obj = get_object_or_404(Product, pk=pk)\n",
    "        slug = obj.slug\n",
    "        return f\"/products/products/{slug}\"\n",
    "\n",
    "class ProductRedirectView(RedirectView):\n",
    "    def get_redirect_url(self, *args, **kwargs):\n",
    "        url_params = self.kwargs\n",
    "        slug = url_params.get(\"slug\")\n",
    "        return f\"/products/products/{slug}\"\n",
    "\n",
    "\n",
    "class DigitalProductListView(TemplateTitleMixin, ListView):\n",
    "    model = DigitalProduct\n",
    "    template_name = \"products/product_list.html\"    \n",
    "    title = \"Productos Digitales\"\n",
    "\n",
    "class ProductListView(TemplateTitleMixin, ListView):\n",
    "    model = Product\n",
    "    title = \"Productos Fisicos\"\n",
    "\n",
    "class ProductDetailView(DetailView):\n",
    "    model = Product\n",
    "\n",
    "class ProtectedProductDetailView(DetailView, LoginRequiredMixin):\n",
    "    model = Product"
   ]
  },
  {
   "cell_type": "code",
   "execution_count": null,
   "id": "b3c44d2c",
   "metadata": {},
   "outputs": [],
   "source": [
    "src\\products\\urls.py"
   ]
  },
  {
   "cell_type": "code",
   "execution_count": null,
   "id": "26405fd4",
   "metadata": {},
   "outputs": [],
   "source": [
    "from django.contrib import admin\n",
    "from django.urls import path\n",
    "from django.views.generic import TemplateView, RedirectView\n",
    "\n",
    "from products.views import (\n",
    "    ProductListView,\n",
    "    ProductDetailView,\n",
    "    DigitalProductListView, \n",
    "    ProductIDRedirectView, \n",
    "    ProductRedirectView,\n",
    "    ProtectedProductDetailView\n",
    ")\n",
    "urlpatterns = {\n",
    "    path(\"admin/\", admin.site.urls),\n",
    "    path(\"about-us/\", RedirectView.as_view(url=\"/products/about/\")),\n",
    "    path(\"about/\", TemplateView.as_view(template_name=\"about.html\")),\n",
    "    path(\"team/\", TemplateView.as_view(template_name=\"team.html\")),\n",
    "    path(\"products/\", ProductListView.as_view()),\n",
    "    path(\"digital-products/\", DigitalProductListView.as_view()),\n",
    "    path(\"products/<int:pk>\", ProductDetailView.as_view()),\n",
    "    path(\"products/<slug:slug>\", ProductDetailView.as_view()),\n",
    "    path(\"p/<int:pk>\", ProductIDRedirectView.as_view()),\n",
    "    path(\"p/<slug:slug>\", ProductRedirectView.as_view()),\n",
    "\n",
    "    path(\"my-products/<slug:slug>\", ProtectedProductDetailView.as_view()),\n",
    "}"
   ]
  },
  {
   "cell_type": "markdown",
   "id": "aab7738e",
   "metadata": {},
   "source": [
    "## Model Forms"
   ]
  },
  {
   "cell_type": "code",
   "execution_count": null,
   "id": "298b2cb9",
   "metadata": {},
   "outputs": [],
   "source": [
    "src\\products\\models.py"
   ]
  },
  {
   "cell_type": "code",
   "execution_count": null,
   "id": "fe505f4e",
   "metadata": {},
   "outputs": [],
   "source": [
    "from django.conf import settings\n",
    "from django.db import models\n",
    "\n",
    "User = settings.AUTH_USER_MODEL\n",
    "\n",
    "class Product(models.Model):\n",
    "    user = models.ForeignKey(User, blank=True, null=True, on_delete=models.SET_NULL)\n",
    "    title = models.CharField(max_length=120)\n",
    "    slug = models.SlugField(unique=True)\n",
    "\n",
    "class DigitalProduct(Product):\n",
    "    class Meta:\n",
    "        proxy = True"
   ]
  },
  {
   "cell_type": "code",
   "execution_count": null,
   "id": "eb0e7c09",
   "metadata": {},
   "outputs": [],
   "source": [
    "python manage.py makemigrations\n",
    "python manage.py migrate"
   ]
  },
  {
   "cell_type": "code",
   "execution_count": null,
   "id": "04a734cb",
   "metadata": {},
   "outputs": [],
   "source": [
    "src\\products\\forms.py"
   ]
  },
  {
   "cell_type": "code",
   "execution_count": null,
   "id": "7f0a9cb3",
   "metadata": {},
   "outputs": [],
   "source": [
    "from django import forms\n",
    "from .models import product\n",
    "\n",
    "class ProducModelForm(forms.ModelForm):\n",
    "    class Meta:\n",
    "        model = product\n",
    "        fields = [\n",
    "            \"title\",\n",
    "            \"slug\"\n",
    "        ]"
   ]
  },
  {
   "cell_type": "markdown",
   "id": "9d5ce185",
   "metadata": {},
   "source": [
    "## CreateView"
   ]
  },
  {
   "cell_type": "code",
   "execution_count": null,
   "id": "9652ab2b",
   "metadata": {},
   "outputs": [],
   "source": [
    "src\\products\\views.py"
   ]
  },
  {
   "cell_type": "code",
   "execution_count": null,
   "id": "3babf556",
   "metadata": {},
   "outputs": [],
   "source": [
    "from django.contrib.auth.mixins import LoginRequiredMixin\n",
    "from django.http import HttpResponseRedirect\n",
    "from django.views.generic import (\n",
    "    ListView, \n",
    "    DetailView, \n",
    "    RedirectView,\n",
    "    CreateView\n",
    ")\n",
    "from django.shortcuts import render, get_object_or_404\n",
    "from .forms import ProducModelForm\n",
    "\n",
    "\n",
    "from .mixins import TemplateTitleMixin\n",
    "from .models import Product, DigitalProduct\n",
    "\n",
    "class ProtectedProductCreateView(LoginRequiredMixin, CreateView):\n",
    "    form_class = ProducModelForm\n",
    "    template_name = \"forms.html\"\n",
    "\n",
    "    def form_valid(self, form):\n",
    "        form.instance.user = self.request.user\n",
    "        return super().form_valid(form)\n",
    "\n",
    "    def form_invalid(self, form):\n",
    "        return super().form_valid(form)\n",
    "    "
   ]
  },
  {
   "cell_type": "code",
   "execution_count": null,
   "id": "70829f91",
   "metadata": {},
   "outputs": [],
   "source": [
    "src\\products\\urls.py"
   ]
  },
  {
   "cell_type": "code",
   "execution_count": null,
   "id": "70768f68",
   "metadata": {},
   "outputs": [],
   "source": [
    "from django.contrib import admin\n",
    "from django.urls import path\n",
    "from django.views.generic import TemplateView, RedirectView\n",
    "\n",
    "from products.views import (\n",
    "    ProductListView,\n",
    "    ProductDetailView,\n",
    "    DigitalProductListView, \n",
    "    ProductIDRedirectView, \n",
    "    ProductRedirectView,\n",
    "    ProtectedProductDetailView,\n",
    "    ProtectedProductCreateView\n",
    ")\n",
    "urlpatterns = {\n",
    "    path(\"admin/\", admin.site.urls),\n",
    "    path(\"about-us/\", RedirectView.as_view(url=\"/products/about/\")),\n",
    "    path(\"about/\", TemplateView.as_view(template_name=\"about.html\")),\n",
    "    path(\"team/\", TemplateView.as_view(template_name=\"team.html\")),\n",
    "    path(\"products/\", ProductListView.as_view()),\n",
    "    path(\"digital-products/\", DigitalProductListView.as_view()),\n",
    "    path(\"products/<int:pk>\", ProductDetailView.as_view()),\n",
    "    path(\"products/<slug:slug>\", ProductDetailView.as_view()),\n",
    "    path(\"p/<int:pk>\", ProductIDRedirectView.as_view()),\n",
    "    path(\"p/<slug:slug>\", ProductRedirectView.as_view()),\n",
    "\n",
    "    #path(\"my-products/<slug:slug>\", ProtectedProductDetailView.as_view()),\n",
    "    path(\"my-products/create/\", ProtectedProductCreateView.as_view()),\n",
    "}"
   ]
  },
  {
   "cell_type": "code",
   "execution_count": null,
   "id": "b1484305",
   "metadata": {},
   "outputs": [],
   "source": [
    "src\\templates\\forms.html"
   ]
  },
  {
   "cell_type": "code",
   "execution_count": null,
   "id": "aa1c7685",
   "metadata": {},
   "outputs": [],
   "source": [
    "<form method=\"POST\" action=\".\">\n",
    "    {% csrf_token %}\n",
    "    {{ form.as_p }}\n",
    "    <input type=\"submit\" value=\"Guardar\">\n",
    "</form>"
   ]
  },
  {
   "cell_type": "code",
   "execution_count": null,
   "id": "fa68815e",
   "metadata": {},
   "outputs": [],
   "source": [
    "src\\products\\models.py"
   ]
  },
  {
   "cell_type": "code",
   "execution_count": null,
   "id": "bc462860",
   "metadata": {},
   "outputs": [],
   "source": [
    "from django.conf import settings\n",
    "from django.db import models\n",
    "\n",
    "User = settings.AUTH_USER_MODEL\n",
    "\n",
    "class Product(models.Model):\n",
    "    user = models.ForeignKey(User, blank=True, null=True, on_delete=models.SET_NULL)\n",
    "    title = models.CharField(max_length=120)\n",
    "    slug = models.SlugField(unique=True)\n",
    "\n",
    "    def get_absolute_url(self):\n",
    "        return f\"/products/products/{self.slug}\"\n",
    "\n",
    "class DigitalProduct(Product):\n",
    "    class Meta:\n",
    "        proxy = True"
   ]
  },
  {
   "cell_type": "code",
   "execution_count": null,
   "id": "c8e8efa8",
   "metadata": {},
   "outputs": [],
   "source": [
    "python manage.py makemigrations\n",
    "python manage.py migrate"
   ]
  },
  {
   "cell_type": "markdown",
   "id": "ac59a967",
   "metadata": {},
   "source": [
    "## UpdateView DeleteView\n"
   ]
  },
  {
   "cell_type": "code",
   "execution_count": null,
   "id": "9f652907",
   "metadata": {},
   "outputs": [],
   "source": [
    "src\\products\\views.py"
   ]
  },
  {
   "cell_type": "code",
   "execution_count": null,
   "id": "2a45058a",
   "metadata": {},
   "outputs": [],
   "source": [
    "from django.contrib.auth.mixins import LoginRequiredMixin\n",
    "from django.http import HttpResponseRedirect\n",
    "from django.views.generic import (\n",
    "    ListView, \n",
    "    DetailView, \n",
    "    RedirectView,\n",
    "    CreateView,\n",
    "    UpdateView,\n",
    "    DeleteView\n",
    ")\n",
    "from django.shortcuts import render, get_object_or_404\n",
    "from .forms import ProducModelForm\n",
    "\n",
    "\n",
    "from .mixins import TemplateTitleMixin\n",
    "from .models import Product, DigitalProduct\n",
    "class ProtectedProductUpdateView(LoginRequiredMixin, CreateView):\n",
    "    form_class = ProducModelForm\n",
    "    template_name = \"products/products_detail.html\"\n",
    "\n",
    "    def get_query(self):\n",
    "        return Product.object.filter(user=self.request.user)\n",
    "\n",
    "    def get_sucess_url(self):\n",
    "        return self.object.get_edit_url()\n",
    "\n",
    "class ProtectedProductDeleteView(LoginRequiredMixin, CreateView):\n",
    "    form_class = ProducModelForm\n",
    "    template_name = \"forms-delete.html\"\n",
    "\n",
    "    def get_query(self):\n",
    "        return Product.object.filter(user=self.request.user)\n",
    "\n",
    "    def get_sucess_url(self):\n",
    "        return \"/products/products\""
   ]
  },
  {
   "cell_type": "code",
   "execution_count": null,
   "id": "8e0bfdff",
   "metadata": {},
   "outputs": [],
   "source": [
    "src\\products\\urls.py"
   ]
  },
  {
   "cell_type": "code",
   "execution_count": null,
   "id": "f93b0eb8",
   "metadata": {},
   "outputs": [],
   "source": [
    "from django.contrib import admin\n",
    "from django.urls import path\n",
    "from django.views.generic import TemplateView, RedirectView\n",
    "\n",
    "from products.views import (\n",
    "    ProductListView,\n",
    "    ProductDetailView,\n",
    "    DigitalProductListView, \n",
    "    ProductIDRedirectView, \n",
    "    ProductRedirectView,\n",
    "    ProtectedProductDetailView,\n",
    "    ProtectedProductCreateView,\n",
    "    ProtectedProductDeleteView,\n",
    "    ProtectedProductUpdateView\n",
    ")\n",
    "urlpatterns = {\n",
    "    path(\"admin/\", admin.site.urls),\n",
    "    path(\"about-us/\", RedirectView.as_view(url=\"/products/about/\")),\n",
    "    path(\"about/\", TemplateView.as_view(template_name=\"about.html\")),\n",
    "    path(\"team/\", TemplateView.as_view(template_name=\"team.html\")),\n",
    "    path(\"products/\", ProductListView.as_view()),\n",
    "    path(\"digital-products/\", DigitalProductListView.as_view()),\n",
    "    path(\"products/<int:pk>\", ProductDetailView.as_view()),\n",
    "    path(\"products/<slug:slug>\", ProductDetailView.as_view()),\n",
    "    path(\"p/<int:pk>\", ProductIDRedirectView.as_view()),\n",
    "    path(\"p/<slug:slug>\", ProductRedirectView.as_view()),\n",
    "\n",
    "    #path(\"my-products/<slug:slug>\", ProtectedProductDetailView.as_view()),\n",
    "    path(\"my-products/create/\", ProtectedProductCreateView.as_view()),\n",
    "    path(\"my-products/<slug:slug/\", ProtectedProductUpdateView.as_view()),\n",
    "    path(\"my-products/<slug:slug/delete\", ProtectedProductDeleteView.as_view()),\n",
    "}"
   ]
  },
  {
   "cell_type": "code",
   "execution_count": null,
   "id": "21e4d11d",
   "metadata": {},
   "outputs": [],
   "source": [
    "src\\templates\\products\\product_detail.html"
   ]
  },
  {
   "cell_type": "code",
   "execution_count": null,
   "id": "a9147dc5",
   "metadata": {},
   "outputs": [],
   "source": [
    "{% if title %}\n",
    "    <h1> {{ title }} </h1>\n",
    "{% endif %}\n",
    "\n",
    "{{ object.pk }}\n",
    "\n",
    "{{ object.title }}\n",
    "\n",
    "{{ object.slug }}\n",
    "\n",
    "{% if form %}\n",
    "    {% include 'forms.html' with form=form delete_url=object.get_delete_url %}\n",
    "{% endif %}"
   ]
  },
  {
   "cell_type": "code",
   "execution_count": null,
   "id": "01378d43",
   "metadata": {},
   "outputs": [],
   "source": [
    "src\\products\\models.py"
   ]
  },
  {
   "cell_type": "code",
   "execution_count": null,
   "id": "fc2f79c5",
   "metadata": {},
   "outputs": [],
   "source": [
    "from django.conf import settings\n",
    "from django.db import models\n",
    "\n",
    "User = settings.AUTH_USER_MODEL\n",
    "\n",
    "class Product(models.Model):\n",
    "    user = models.ForeignKey(User, blank=True, null=True, on_delete=models.SET_NULL)\n",
    "    title = models.CharField(max_length=120)\n",
    "    slug = models.SlugField(unique=True)\n",
    "\n",
    "    def get_absolute_url(self):\n",
    "        return f\"/products/products/{self.slug}\"\n",
    "\n",
    "    def get_edit_url(self):\n",
    "        return f\"/products/my-products/{self.self}\"\n",
    "\n",
    "    def get_edit_url(self):\n",
    "        return f\"/products/my-products/{self.self}/delete\"\n",
    "\n",
    "class DigitalProduct(Product):\n",
    "    class Meta:\n",
    "        proxy = True"
   ]
  },
  {
   "cell_type": "code",
   "execution_count": null,
   "id": "79479f93",
   "metadata": {},
   "outputs": [],
   "source": [
    "src\\templates\\forms.html"
   ]
  },
  {
   "cell_type": "code",
   "execution_count": null,
   "id": "173dbd5b",
   "metadata": {},
   "outputs": [],
   "source": [
    "<form method=\"POST\" action=\".\">\n",
    "    {% csrf_token %}\n",
    "    {{ fomr.as_p }}\n",
    "    <input type=\"submit\" value=\"Guardar\">\n",
    "    {% if delete_url %}\n",
    "        <a herf=\"{{ delete_url }} \">Eliminar</a>\n",
    "    {% endif %}\n",
    "</form>"
   ]
  },
  {
   "cell_type": "code",
   "execution_count": null,
   "id": "2967379f",
   "metadata": {},
   "outputs": [],
   "source": [
    "src\\templates\\forms-delete.html"
   ]
  },
  {
   "cell_type": "code",
   "execution_count": null,
   "id": "6087d0ab",
   "metadata": {},
   "outputs": [],
   "source": [
    "<form method=\"POST\" atcin=\".\">\n",
    "    {% csrf_token %}\n",
    "    <p> Estas seguro que quieres eliminar \"{{ object.title }}\"?</p>\n",
    "    <input type=\"submin\" value=\"Confirmar\">\n",
    "</form>"
   ]
  }
 ],
 "metadata": {
  "kernelspec": {
   "display_name": "Python 3 (ipykernel)",
   "language": "python",
   "name": "python3"
  },
  "language_info": {
   "codemirror_mode": {
    "name": "ipython",
    "version": 3
   },
   "file_extension": ".py",
   "mimetype": "text/x-python",
   "name": "python",
   "nbconvert_exporter": "python",
   "pygments_lexer": "ipython3",
   "version": "3.9.12"
  }
 },
 "nbformat": 4,
 "nbformat_minor": 5
}
