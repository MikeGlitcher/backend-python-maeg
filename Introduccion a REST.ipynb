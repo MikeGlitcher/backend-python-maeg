{
 "cells": [
  {
   "cell_type": "markdown",
   "id": "3d2c8e88",
   "metadata": {},
   "source": [
    "### Arquitectura Servidor Cliente\n",
    "\n",
    "#### Cliente\n",
    "\n",
    "- Inicia solicitudes o peticiones (requests), adopta un rol de maestro o amo\n",
    "- Espera y recibe las respuestas del servidor\n",
    "- Puede conectarse a varios servidores a la vez\n",
    "- Interactua directamente con los usuarios mediante una interfaz gráfica\n",
    "\n",
    "\n",
    "### Servidor\n",
    "\n",
    "- Recibe solicitudes o peticiones, adopta un rol de esclavo\n",
    "- Recepcion de una solicitud, procesamiento y enviar respuesta\n",
    "- Acepta conexiones de un gran número de cliente\n",
    "\n",
    "### Definición REST\n",
    "\n",
    "- Es una interfaz para conectar varios sistemas usando el Protocolo HTTP\n",
    "\n",
    "- formatos : JSON y XML\n",
    "- Verbos HTTP:\n",
    "    - GET\n",
    "    - POST\n",
    "    - PUT\n",
    "    - PATCH\n",
    "    - DELETE\n",
    "    \n",
    "### Principios\n",
    "\n",
    "- Arquitectura Cliente-Servidor\n",
    "- Ausencia de Estado\n",
    "- Habilitación y uso de cahcé\n",
    "- Sistema de capas\n",
    "- Interfaz uniforme\n",
    "    - Identificacion de recursops en las peticiones\n",
    "    - Manipulacion de recursos a traves de representaciones\n",
    "    - Mensajes auto-descriptivos\n",
    "    - Hipermedia como motor del estado de la aplicacion\n",
    "    \n",
    "# Intro a JSON\n",
    "\n",
    "- Bastante parecido a los diccionarios de python\n",
    "\n",
    "\n",
    "## Diferencia JSON / Diccionarios\n",
    "\n",
    "- JSON necesita las comillas dobles para indicar la llave\n",
    "- En JSON Los resultados booleanos se escriben con minusculas\n",
    "- En JSON si hay coma pero no hay siguiente elemento es error\n",
    "\n",
    "## Métodos HTTP y API View"
   ]
  },
  {
   "cell_type": "code",
   "execution_count": null,
   "id": "09afa30b",
   "metadata": {},
   "outputs": [],
   "source": [
    "python manage.py strartapp api"
   ]
  },
  {
   "cell_type": "code",
   "execution_count": null,
   "id": "66d55db9",
   "metadata": {},
   "outputs": [],
   "source": [
    "src\\config\\settings.py"
   ]
  },
  {
   "cell_type": "code",
   "execution_count": null,
   "id": "2b52489a",
   "metadata": {},
   "outputs": [],
   "source": [
    "INSTALLED_APPS = [\n",
    "    \"api.apps.ApiConfig\","
   ]
  },
  {
   "cell_type": "code",
   "execution_count": null,
   "id": "de8604f8",
   "metadata": {},
   "outputs": [],
   "source": [
    "requirements.txt"
   ]
  },
  {
   "cell_type": "code",
   "execution_count": null,
   "id": "6f2331c0",
   "metadata": {},
   "outputs": [],
   "source": [
    "Django==4.1.5\n",
    "gunicorn==20.1.0\n",
    "whitenoise==6.3.0\n",
    "\n",
    "psycopg2==2.9.5\n",
    "\n",
    "redis==4.4.2\n",
    "celery==5.2.7\n",
    "\n",
    "flake8==6.0.0\n",
    "isort==5.11.4\n",
    "black==22.12.0\n",
    "djangorestframework"
   ]
  },
  {
   "cell_type": "code",
   "execution_count": null,
   "id": "cca752df",
   "metadata": {},
   "outputs": [],
   "source": [
    "docker compose up --build"
   ]
  },
  {
   "cell_type": "code",
   "execution_count": null,
   "id": "82377e88",
   "metadata": {},
   "outputs": [],
   "source": [
    "src\\api\\views.py"
   ]
  },
  {
   "cell_type": "code",
   "execution_count": null,
   "id": "e1b2c2a4",
   "metadata": {},
   "outputs": [],
   "source": [
    "from rest_framework import views\n",
    "from rest_framework.response import Response\n",
    "\n",
    "class ProductViewSet(views.APIView):\n",
    "    \n",
    "    def get(self, request):\n",
    "        content = {\n",
    "            \"Estas llamando el método GET\"\n",
    "        }\n",
    "\n",
    "        return Response(content)\n",
    "\n",
    "    def post(self, request):\n",
    "        content = {\n",
    "            \"Estás llamando el método POST\"\n",
    "        }\n",
    "\n",
    "        return Response(content)\n",
    "\n",
    "    def put(self, request):\n",
    "        content = {\n",
    "            \"Estás llamando el método PUT\"\n",
    "        }\n",
    "\n",
    "        return Response(content)\n",
    "    \n",
    "    def patch(self, request):\n",
    "        content = {\n",
    "            \"Estás llamando el método PATCH\"\n",
    "        }\n",
    "\n",
    "        return Response(content)\n",
    "    \n",
    "    def delete(self, request):\n",
    "        content = {\n",
    "            \"Estás llamando el método DELETE\"\n",
    "        }\n",
    "\n",
    "        return Response(content)"
   ]
  },
  {
   "cell_type": "code",
   "execution_count": null,
   "id": "34ba2fe9",
   "metadata": {},
   "outputs": [],
   "source": [
    "src\\api\\urls.py"
   ]
  },
  {
   "cell_type": "code",
   "execution_count": null,
   "id": "42357756",
   "metadata": {},
   "outputs": [],
   "source": [
    "from django.urls import path\n",
    "from .views import ProductAPIView\n",
    "\n",
    "urlpatterns = [\n",
    "    path(\"\", ProductAPIView.as_view())\n",
    "]"
   ]
  },
  {
   "cell_type": "code",
   "execution_count": null,
   "id": "b5d0ee33",
   "metadata": {},
   "outputs": [],
   "source": [
    "src\\config\\urls.py"
   ]
  },
  {
   "cell_type": "code",
   "execution_count": null,
   "id": "273ffabb",
   "metadata": {},
   "outputs": [],
   "source": [
    "from django.contrib import admin\n",
    "from django.urls import include\n",
    "from django.urls import path\n",
    "\n",
    "urlpatterns = [\n",
    "    path(\"up/\", include(\"up.urls\")),\n",
    "    path(\"\", include(\"pages.urls\")),\n",
    "    path(\"ecommerce/\", include(\"ecommerce.urls\")),\n",
    "    path(\"admin/\", admin.site.urls),\n",
    "    path(\"forms/\", include(\"forms_test.urls\")),\n",
    "    path(\"test_templates/\", include(\"test_templates.urls\")),\n",
    "    path(\"api/v1/\", include(\"api.urls\")),\n",
    "]\n"
   ]
  },
  {
   "cell_type": "code",
   "execution_count": null,
   "id": "0d3c8344",
   "metadata": {},
   "outputs": [],
   "source": []
  },
  {
   "cell_type": "code",
   "execution_count": null,
   "id": "3469cd00",
   "metadata": {},
   "outputs": [],
   "source": []
  }
 ],
 "metadata": {
  "kernelspec": {
   "display_name": "Python 3 (ipykernel)",
   "language": "python",
   "name": "python3"
  },
  "language_info": {
   "codemirror_mode": {
    "name": "ipython",
    "version": 3
   },
   "file_extension": ".py",
   "mimetype": "text/x-python",
   "name": "python",
   "nbconvert_exporter": "python",
   "pygments_lexer": "ipython3",
   "version": "3.9.12"
  }
 },
 "nbformat": 4,
 "nbformat_minor": 5
}
