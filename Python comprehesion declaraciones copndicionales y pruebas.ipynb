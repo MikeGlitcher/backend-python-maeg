{
 "cells": [
  {
   "cell_type": "markdown",
   "id": "6a0156ac",
   "metadata": {},
   "source": [
    "## Que es comprehension\n",
    "- comprehension en Python nos permite contruir de maneca logica corta y concisa\n",
    "- Es una forma de escribir un bloque de codigo para generar una secuencia que puede ser una lista, un diccionario, un set o un generador usando otra secuenia.\n",
    "- Puede invocar multiples pasos de comversion entre los direfentes tipos de secuencias."
   ]
  },
  {
   "cell_type": "markdown",
   "id": "672b0a6a",
   "metadata": {},
   "source": [
    "## El propósitode comprehension\n",
    "- Son construccioones que nos permiten crear secuiencias de otras secuencias\n",
    "- Trabajan mas rapido que un ciclo for equivalente\n",
    "- SE pueden incorporar multiples ciclos for y condicionales if facilmente"
   ]
  },
  {
   "cell_type": "markdown",
   "id": "a1178fe8",
   "metadata": {},
   "source": [
    "## List Comprehensions\n",
    "- Son usados para crear nuevas listas de otros iterables\n",
    "- Regresas listas\n",
    "- Conmsisten en expresiones en medio de corchetes\n",
    "- La expresion es usada por cada elemento junto con un ciclo for para iterar en cada elemento\n",
    "- Pueden contener múltiples list comprehensions anidadas"
   ]
  },
  {
   "cell_type": "code",
   "execution_count": 2,
   "id": "0410e819",
   "metadata": {},
   "outputs": [
    {
     "name": "stdout",
     "output_type": "stream",
     "text": [
      "1\n",
      "3\n",
      "5\n",
      "7\n",
      "9\n",
      "11\n",
      "13\n",
      "15\n",
      "17\n",
      "19\n"
     ]
    }
   ],
   "source": [
    "# ciclo for convencional\n",
    "# Números impares\n",
    "\n",
    "for number in range(20):\n",
    "    if number % 2 == 1:\n",
    "        print(number)"
   ]
  },
  {
   "cell_type": "code",
   "execution_count": 4,
   "id": "b24dc8c6",
   "metadata": {},
   "outputs": [
    {
     "name": "stdout",
     "output_type": "stream",
     "text": [
      "[1, 3, 5, 7, 9, 11, 13, 15, 17, 19]\n"
     ]
    }
   ],
   "source": [
    "# list comprehension\n",
    "# Números impares\n",
    "\n",
    "odd_numbers = [x for x in range (20) if  x % 2 == 1]\n",
    "print(odd_numbers)"
   ]
  },
  {
   "cell_type": "code",
   "execution_count": 7,
   "id": "8d67e52a",
   "metadata": {},
   "outputs": [
    {
     "name": "stdout",
     "output_type": "stream",
     "text": [
      "P\n",
      "y\n",
      "t\n",
      "h\n",
      "o\n",
      "n\n"
     ]
    }
   ],
   "source": [
    "# ciclo for convencional\n",
    "# Caracteres en una cadena\n",
    "\n",
    "my_string = \"Python\"\n",
    "\n",
    "for letter in my_string:\n",
    "    print(letter)"
   ]
  },
  {
   "cell_type": "code",
   "execution_count": 9,
   "id": "5f98047b",
   "metadata": {},
   "outputs": [
    {
     "name": "stdout",
     "output_type": "stream",
     "text": [
      "['P', 'y', 't', 'h', 'o', 'n']\n"
     ]
    }
   ],
   "source": [
    "# list comprehension\n",
    "# Números impares\n",
    "\n",
    "my_string = \"Python\"\n",
    "\n",
    "letters = [letter for letter in my_string]\n",
    "print(letters)"
   ]
  },
  {
   "cell_type": "markdown",
   "id": "c49833f9",
   "metadata": {},
   "source": [
    "## Dict Comprehension\n",
    "- Practicamente identicas a list comprehension\n",
    "- Operan de la misma dortma pero usamos dos variables , la llave y el valor, en lugar de un solo valor pára la iteración de las listas"
   ]
  },
  {
   "cell_type": "code",
   "execution_count": 10,
   "id": "ee125fcc",
   "metadata": {},
   "outputs": [
    {
     "name": "stdout",
     "output_type": "stream",
     "text": [
      "{0: 1, 1: 1, 2: 2, 3: 6, 4: 24, 5: 120}\n"
     ]
    }
   ],
   "source": [
    "import math\n",
    "factorials = {x: math.factorial(x) for x in range(6)}\n",
    "print(factorials)"
   ]
  },
  {
   "cell_type": "code",
   "execution_count": 11,
   "id": "067b14ab",
   "metadata": {},
   "outputs": [
    {
     "name": "stdout",
     "output_type": "stream",
     "text": [
      "{1: 1, 3: 6, 5: 120}\n"
     ]
    }
   ],
   "source": [
    "import math\n",
    "factorials = {x: math.factorial(x) for x in range(6) if x % 2 == 1}\n",
    "print(factorials)"
   ]
  },
  {
   "cell_type": "code",
   "execution_count": 12,
   "id": "d907b7dc",
   "metadata": {},
   "outputs": [
    {
     "name": "stdout",
     "output_type": "stream",
     "text": [
      "{0: 1, 2: 2, 4: 24}\n"
     ]
    }
   ],
   "source": [
    "import math\n",
    "factorials = {x: math.factorial(x) for x in range(6) if x % 2 == 0}\n",
    "print(factorials)"
   ]
  },
  {
   "cell_type": "markdown",
   "id": "ea83ed80",
   "metadata": {},
   "source": [
    "## Declaraciones Condicionales\n",
    "#### Que son las declaraciones condicionales \n",
    "- Generalmente controlan el flujo del programa \n",
    "- Si la condicion es verdadera el programa ejecuta cierta accion\n",
    "- Si la condicion es falsa el programa ejecuta otra a ccion\n",
    "- Se usan para evaluar si ciertas condiciones son verdaderas o falsas y decidir que bloque de codigo ejecutar\n",
    "- Tenemos 3 tipos de Decleraciones Condiciones\n",
    "    - if\n",
    "    - if else\n",
    "    - if elif else"
   ]
  },
  {
   "cell_type": "markdown",
   "id": "88f5ee03",
   "metadata": {},
   "source": [
    "## Por que usar las declaraciones Condicionales\n",
    "- son un concepto central comun en cualquier tipo de programacion\n",
    "- se pueden usar para validaciones condicionales\n",
    "- Usamos  \"if\"para revisar si una condicion es verdadera o falsa \n",
    "- Las declaraciones incluyeb una condicion y el bloque de codigo para esa condicion\n",
    "- Dependera del resultado de una condicion si  se hace la validaccion de la siguiente condicion \n",
    "- Si una condicin es verdadera pasara a validar la siguiente condicin\n",
    "- si la condicion es falsa ira directo al bloque correspondiente o al bloque default"
   ]
  },
  {
   "cell_type": "markdown",
   "id": "062cee27",
   "metadata": {},
   "source": [
    "## If"
   ]
  },
  {
   "cell_type": "code",
   "execution_count": 14,
   "id": "eb267365",
   "metadata": {},
   "outputs": [
    {
     "name": "stdout",
     "output_type": "stream",
     "text": [
      "Dentro del bloque\n",
      "Final del ejemplo\n"
     ]
    }
   ],
   "source": [
    "num = 3\n",
    "\n",
    "if num > 1:\n",
    "    print(\"Dentro del bloque\")\n",
    "    \n",
    "print(\"Final del ejemplo\")"
   ]
  },
  {
   "cell_type": "code",
   "execution_count": 16,
   "id": "bffa088c",
   "metadata": {},
   "outputs": [
    {
     "name": "stdout",
     "output_type": "stream",
     "text": [
      "Dentro del bloque else\n",
      "Final del ejemplo\n"
     ]
    }
   ],
   "source": [
    "num = 3\n",
    "\n",
    "if num > 5:\n",
    "    print(\"Dentro del bloque if\")\n",
    "\n",
    "else:\n",
    "    print(\"Dentro del bloque else\")\n",
    "print(\"Final del ejemplo\")"
   ]
  },
  {
   "cell_type": "markdown",
   "id": "e6e53bcb",
   "metadata": {},
   "source": [
    "## if elif else"
   ]
  },
  {
   "cell_type": "code",
   "execution_count": 19,
   "id": "2dfa3587",
   "metadata": {},
   "outputs": [
    {
     "name": "stdout",
     "output_type": "stream",
     "text": [
      "Dentro del bloque elif\n",
      "Final del ejemplo\n"
     ]
    }
   ],
   "source": [
    "num = 3\n",
    "\n",
    "if num > 5:\n",
    "    print(\"Dentro del bloque if\")\n",
    "\n",
    "elif num < 5:\n",
    "    print(\"Dentro del bloque elif\")    \n",
    "    \n",
    "else:\n",
    "    print(\"Dentro del bloque else\")\n",
    "print(\"Final del ejemplo\")"
   ]
  },
  {
   "cell_type": "markdown",
   "id": "37862cc6",
   "metadata": {},
   "source": [
    "## ifs anidados\n",
    "- Un if que esta dentro de otro if\n",
    "- Ifs que estan dentros de un if\n",
    "- Los ifs anidados solo se evaluan si el if exterior es verdadero"
   ]
  },
  {
   "cell_type": "code",
   "execution_count": 21,
   "id": "efacd0c9",
   "metadata": {},
   "outputs": [
    {
     "name": "stdout",
     "output_type": "stream",
     "text": [
      "dentro de if anidado\n",
      "Dentro del bloque elif\n",
      "Final del ejemplo\n"
     ]
    }
   ],
   "source": [
    "num = 3\n",
    "\n",
    "if num > 5:\n",
    "    print(\"Dentro del bloque if\")\n",
    "\n",
    "elif num < 5:\n",
    "    if num == 3:\n",
    "        print(\"dentro de if anidado\")\n",
    "    print(\"Dentro del bloque elif\")    \n",
    "    \n",
    "else:\n",
    "    print(\"Dentro del bloque else\")\n",
    "print(\"Final del ejemplo\")"
   ]
  },
  {
   "cell_type": "markdown",
   "id": "218d2b1c",
   "metadata": {},
   "source": [
    "## Pruebas de Afiliacion\n",
    "- Los operadores de afiliacion son usados para verificar si un valor esta presenta en una secuencia\n",
    "- Son in y not in\n",
    "- Puedes hacer pruebas de afiliacion para todas las estructuras de datos como listas, tuplas y diccionartios\n",
    "- Los operadiores de afiliacion se usan para encontrar rapidamente ciertos valores is estan disponibles"
   ]
  },
  {
   "cell_type": "code",
   "execution_count": 22,
   "id": "c0a828f1",
   "metadata": {},
   "outputs": [
    {
     "name": "stdout",
     "output_type": "stream",
     "text": [
      "True\n"
     ]
    }
   ],
   "source": [
    "my_string = \"Python\"\n",
    "print(\"y\" in my_string)"
   ]
  },
  {
   "cell_type": "code",
   "execution_count": 23,
   "id": "1e4a6d1e",
   "metadata": {},
   "outputs": [
    {
     "name": "stdout",
     "output_type": "stream",
     "text": [
      "False\n"
     ]
    }
   ],
   "source": [
    "my_string = \"Python\"\n",
    "print(\"r\" in my_string)"
   ]
  },
  {
   "cell_type": "code",
   "execution_count": 24,
   "id": "524d8dfe",
   "metadata": {},
   "outputs": [
    {
     "name": "stdout",
     "output_type": "stream",
     "text": [
      "False\n"
     ]
    }
   ],
   "source": [
    "my_string = \"Python\"\n",
    "print(\"y\" not in my_string)"
   ]
  },
  {
   "cell_type": "code",
   "execution_count": 25,
   "id": "671259ff",
   "metadata": {},
   "outputs": [
    {
     "name": "stdout",
     "output_type": "stream",
     "text": [
      "True\n"
     ]
    }
   ],
   "source": [
    "my_string = \"Python\"\n",
    "print(\"r\" not in my_string)"
   ]
  },
  {
   "cell_type": "markdown",
   "id": "e25ea531",
   "metadata": {},
   "source": [
    "## Prueba de afiliacion para tuplas"
   ]
  },
  {
   "cell_type": "code",
   "execution_count": 26,
   "id": "b2da6c76",
   "metadata": {},
   "outputs": [
    {
     "name": "stdout",
     "output_type": "stream",
     "text": [
      "True\n"
     ]
    }
   ],
   "source": [
    "my_tuple = (\"a\", \"b\", \"c\", \"d\", \"e\")\n",
    "print(\"a\" in my_tuple)"
   ]
  },
  {
   "cell_type": "code",
   "execution_count": 27,
   "id": "c5cfe501",
   "metadata": {},
   "outputs": [
    {
     "name": "stdout",
     "output_type": "stream",
     "text": [
      "False\n"
     ]
    }
   ],
   "source": [
    "my_tuple = (\"a\", \"b\", \"c\", \"d\", \"e\")\n",
    "print(\"3\" in my_tuple)"
   ]
  },
  {
   "cell_type": "markdown",
   "id": "d1e928d8",
   "metadata": {},
   "source": [
    "## Prueba de afiliacin para listas"
   ]
  },
  {
   "cell_type": "code",
   "execution_count": 29,
   "id": "a10d92b7",
   "metadata": {},
   "outputs": [
    {
     "name": "stdout",
     "output_type": "stream",
     "text": [
      "True\n"
     ]
    }
   ],
   "source": [
    "my_list = [\"a\", \"b\", \"c\", \"d\", \"e\"]\n",
    "print(\"a\" in my_list)"
   ]
  },
  {
   "cell_type": "code",
   "execution_count": 30,
   "id": "a0e8d097",
   "metadata": {},
   "outputs": [
    {
     "name": "stdout",
     "output_type": "stream",
     "text": [
      "False\n"
     ]
    }
   ],
   "source": [
    "my_list = [\"a\", \"b\", \"c\", \"d\", \"e\"]\n",
    "print(\"a\" not in my_list)"
   ]
  },
  {
   "cell_type": "markdown",
   "id": "912b102e",
   "metadata": {},
   "source": [
    "## Prueba de afiliacion para sets"
   ]
  },
  {
   "cell_type": "code",
   "execution_count": 31,
   "id": "c1ecbd96",
   "metadata": {},
   "outputs": [
    {
     "name": "stdout",
     "output_type": "stream",
     "text": [
      "True\n"
     ]
    }
   ],
   "source": [
    "my_set = {\"a\", \"b\", \"c\", \"d\", \"e\"}\n",
    "print(\"a\" in my_set)"
   ]
  },
  {
   "cell_type": "code",
   "execution_count": 32,
   "id": "64753b8a",
   "metadata": {},
   "outputs": [
    {
     "name": "stdout",
     "output_type": "stream",
     "text": [
      "False\n"
     ]
    }
   ],
   "source": [
    "my_set = {\"a\", \"b\", \"c\", \"d\", \"e\"}\n",
    "print(\"a\" not in my_set)"
   ]
  },
  {
   "cell_type": "markdown",
   "id": "0d451e47",
   "metadata": {},
   "source": [
    "## Prueba de afiliacion para diccionarios\n",
    "- Valida si esta presente en las llaves "
   ]
  },
  {
   "cell_type": "code",
   "execution_count": 33,
   "id": "28737654",
   "metadata": {},
   "outputs": [
    {
     "name": "stdout",
     "output_type": "stream",
     "text": [
      "False\n"
     ]
    }
   ],
   "source": [
    "my_dict = {1:\"a\", 2:\"b\", 3:\"c\", 4:\"d\", 5:\"e\"}\n",
    "print(\"a\" in my_dict)"
   ]
  },
  {
   "cell_type": "code",
   "execution_count": 34,
   "id": "86b4b92b",
   "metadata": {},
   "outputs": [
    {
     "name": "stdout",
     "output_type": "stream",
     "text": [
      "True\n"
     ]
    }
   ],
   "source": [
    "my_dict = {1:\"a\", 2:\"b\", 3:\"c\", 4:\"d\", 5:\"e\"}\n",
    "print(1 in my_dict)"
   ]
  },
  {
   "cell_type": "code",
   "execution_count": 35,
   "id": "9ac22024",
   "metadata": {},
   "outputs": [
    {
     "name": "stdout",
     "output_type": "stream",
     "text": [
      "True\n"
     ]
    }
   ],
   "source": [
    "my_dict = {1:\"a\", 2:\"b\", 3:\"c\", 4:\"d\", 5:\"e\"}\n",
    "print(\"a\" in my_dict.values())"
   ]
  },
  {
   "cell_type": "code",
   "execution_count": null,
   "id": "b2e9823b",
   "metadata": {},
   "outputs": [],
   "source": []
  }
 ],
 "metadata": {
  "kernelspec": {
   "display_name": "Python 3 (ipykernel)",
   "language": "python",
   "name": "python3"
  },
  "language_info": {
   "codemirror_mode": {
    "name": "ipython",
    "version": 3
   },
   "file_extension": ".py",
   "mimetype": "text/x-python",
   "name": "python",
   "nbconvert_exporter": "python",
   "pygments_lexer": "ipython3",
   "version": "3.9.12"
  }
 },
 "nbformat": 4,
 "nbformat_minor": 5
}
