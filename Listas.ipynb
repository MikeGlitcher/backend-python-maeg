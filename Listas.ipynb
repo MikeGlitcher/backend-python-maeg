{
 "cells": [
  {
   "cell_type": "markdown",
   "id": "0314fb9d",
   "metadata": {},
   "source": [
    "## Diferentes formas de crear listas\n"
   ]
  },
  {
   "cell_type": "code",
   "execution_count": 1,
   "id": "a2a7e56a",
   "metadata": {},
   "outputs": [
    {
     "name": "stdout",
     "output_type": "stream",
     "text": [
      "[3, 3, 3, 3, 3]\n"
     ]
    }
   ],
   "source": [
    "my_list = [3]*5\n",
    "print(my_list)"
   ]
  },
  {
   "cell_type": "code",
   "execution_count": 2,
   "id": "716693cc",
   "metadata": {},
   "outputs": [
    {
     "name": "stdout",
     "output_type": "stream",
     "text": [
      "[1, 2, 3, 4, 5]\n"
     ]
    }
   ],
   "source": [
    "my_list = [1,2,3,4,5]\n",
    "print(my_list)"
   ]
  },
  {
   "cell_type": "code",
   "execution_count": 5,
   "id": "09953a02",
   "metadata": {},
   "outputs": [
    {
     "name": "stdout",
     "output_type": "stream",
     "text": [
      "[0, 1, 2, 3, 4, 5, 6, 7, 8]\n"
     ]
    }
   ],
   "source": [
    "my_list = []\n",
    "for number in range(9):\n",
    "    my_list.append(number)\n",
    "print(my_list)"
   ]
  },
  {
   "cell_type": "code",
   "execution_count": 6,
   "id": "4c5d8121",
   "metadata": {},
   "outputs": [
    {
     "name": "stdout",
     "output_type": "stream",
     "text": [
      "[0, 1, 2, 3, 4, 5, 6, 7, 8]\n"
     ]
    }
   ],
   "source": [
    "my_list = []\n",
    "for number in range(9):\n",
    "    my_list += [number]\n",
    "print(my_list)"
   ]
  },
  {
   "cell_type": "code",
   "execution_count": 7,
   "id": "3a516ea9",
   "metadata": {},
   "outputs": [
    {
     "name": "stdout",
     "output_type": "stream",
     "text": [
      "[0, 1, 2, 3, 4, 5, 6, 7, 8]\n"
     ]
    }
   ],
   "source": [
    "my_list = [number for number in range(9)]\n",
    "\n",
    "print(my_list)"
   ]
  },
  {
   "cell_type": "markdown",
   "id": "d6df2c43",
   "metadata": {},
   "source": [
    "## Obtener Sublistas"
   ]
  },
  {
   "cell_type": "code",
   "execution_count": 9,
   "id": "6ea49d41",
   "metadata": {},
   "outputs": [
    {
     "name": "stdout",
     "output_type": "stream",
     "text": [
      "[0, 1, 2, 3]\n"
     ]
    }
   ],
   "source": [
    "my_list = [number for number in range(9)]\n",
    "\n",
    "my_sublist  =my_list[:4]\n",
    "print(my_sublist)"
   ]
  },
  {
   "cell_type": "code",
   "execution_count": 10,
   "id": "0a497ff8",
   "metadata": {},
   "outputs": [
    {
     "name": "stdout",
     "output_type": "stream",
     "text": [
      "[2, 3, 4, 5]\n"
     ]
    }
   ],
   "source": [
    "my_sublist  =my_list[2:6]\n",
    "print(my_sublist)"
   ]
  },
  {
   "cell_type": "code",
   "execution_count": 11,
   "id": "de3f14fe",
   "metadata": {},
   "outputs": [
    {
     "name": "stdout",
     "output_type": "stream",
     "text": [
      "[6, 7, 8]\n"
     ]
    }
   ],
   "source": [
    "my_sublist  =my_list[6:]\n",
    "print(my_sublist)"
   ]
  },
  {
   "cell_type": "code",
   "execution_count": 12,
   "id": "076d8300",
   "metadata": {},
   "outputs": [
    {
     "data": {
      "text/plain": [
       "9"
      ]
     },
     "execution_count": 12,
     "metadata": {},
     "output_type": "execute_result"
    }
   ],
   "source": [
    "len(my_list)"
   ]
  },
  {
   "cell_type": "markdown",
   "id": "ec216a1f",
   "metadata": {},
   "source": [
    "## Creacion de lists usando renge y numpy"
   ]
  },
  {
   "cell_type": "code",
   "execution_count": 14,
   "id": "2b8c7321",
   "metadata": {},
   "outputs": [
    {
     "name": "stdout",
     "output_type": "stream",
     "text": [
      "[1, 2, 3, 4]\n"
     ]
    }
   ],
   "source": [
    "# range (inicio, fin, paso)\n",
    "my_list = [*range(1,5,1)]\n",
    "print(my_list)"
   ]
  },
  {
   "cell_type": "code",
   "execution_count": 15,
   "id": "5677800f",
   "metadata": {},
   "outputs": [
    {
     "name": "stdout",
     "output_type": "stream",
     "text": [
      "[1, 3, 5, 7, 9, 11, 13, 15, 17, 19, 21]\n"
     ]
    }
   ],
   "source": [
    "# range (inicio, fin, paso)\n",
    "my_list = [*range(1,23,2)]\n",
    "print(my_list)"
   ]
  },
  {
   "cell_type": "code",
   "execution_count": 17,
   "id": "7e034919",
   "metadata": {},
   "outputs": [
    {
     "name": "stdout",
     "output_type": "stream",
     "text": [
      "[1, 3, 5, 7, 9, 11, 13, 15, 17, 19, 21]\n"
     ]
    }
   ],
   "source": [
    "import numpy as np\n",
    "my_list = np.arange(1,22,2).tolist()\n",
    "print(my_list)"
   ]
  },
  {
   "cell_type": "markdown",
   "id": "eef2673c",
   "metadata": {},
   "source": [
    "## Listas Anidadas"
   ]
  },
  {
   "cell_type": "code",
   "execution_count": 18,
   "id": "5f9aee0f",
   "metadata": {},
   "outputs": [
    {
     "name": "stdout",
     "output_type": "stream",
     "text": [
      "3\n"
     ]
    }
   ],
   "source": [
    "my_list = [1,2,3,4,5]\n",
    "\n",
    "\n",
    "print(my_list[2])"
   ]
  },
  {
   "cell_type": "code",
   "execution_count": 20,
   "id": "af6e6635",
   "metadata": {},
   "outputs": [
    {
     "name": "stdout",
     "output_type": "stream",
     "text": [
      "4\n"
     ]
    }
   ],
   "source": [
    "my_list = [[1,2,3],[2,3,4],3,4,5]\n",
    "\n",
    "\n",
    "print(my_list[1][2])"
   ]
  },
  {
   "cell_type": "markdown",
   "id": "8d8ba16e",
   "metadata": {},
   "source": [
    "### Ordenando listas"
   ]
  },
  {
   "cell_type": "code",
   "execution_count": 21,
   "id": "a7243ebe",
   "metadata": {},
   "outputs": [
    {
     "name": "stdout",
     "output_type": "stream",
     "text": [
      "[4, 1, 2, 3, 5]\n",
      "[1, 2, 3, 4, 5]\n"
     ]
    }
   ],
   "source": [
    "my_list = [4,1,2,3,5]\n",
    "\n",
    "print(my_list)\n",
    "\n",
    "my_list.sort()\n",
    "\n",
    "print(my_list)"
   ]
  },
  {
   "cell_type": "code",
   "execution_count": 22,
   "id": "9a05e99a",
   "metadata": {},
   "outputs": [
    {
     "name": "stdout",
     "output_type": "stream",
     "text": [
      "[4, 1, 2, 3, 5]\n",
      "[5, 4, 3, 2, 1]\n"
     ]
    }
   ],
   "source": [
    "my_list = [4,1,2,3,5]\n",
    "\n",
    "print(my_list)\n",
    "\n",
    "my_list.sort(reverse=True)\n",
    "\n",
    "print(my_list)"
   ]
  },
  {
   "cell_type": "code",
   "execution_count": 24,
   "id": "06ca60c0",
   "metadata": {},
   "outputs": [
    {
     "name": "stdout",
     "output_type": "stream",
     "text": [
      "['hola', 'abeja', 'mantequilla', 'taza']\n",
      "['abeja', 'hola', 'mantequilla', 'taza']\n"
     ]
    }
   ],
   "source": [
    "my_list = [\"hola\", \"abeja\", \"mantequilla\", \"taza\"]\n",
    "\n",
    "print(my_list)\n",
    "\n",
    "my_list.sort()\n",
    "\n",
    "print(my_list)"
   ]
  },
  {
   "cell_type": "code",
   "execution_count": 25,
   "id": "bd728236",
   "metadata": {},
   "outputs": [
    {
     "name": "stdout",
     "output_type": "stream",
     "text": [
      "['hola', 'abeja', 'mantequilla', 'taza']\n",
      "['taza', 'mantequilla', 'hola', 'abeja']\n"
     ]
    }
   ],
   "source": [
    "my_list = [\"hola\", \"abeja\", \"mantequilla\", \"taza\"]\n",
    "\n",
    "print(my_list)\n",
    "\n",
    "my_list.sort(reverse=True)\n",
    "\n",
    "print(my_list)"
   ]
  },
  {
   "cell_type": "markdown",
   "id": "520e83a4",
   "metadata": {},
   "source": [
    "## Conversion de listas"
   ]
  },
  {
   "cell_type": "code",
   "execution_count": 26,
   "id": "92b07c2e",
   "metadata": {},
   "outputs": [
    {
     "name": "stdout",
     "output_type": "stream",
     "text": [
      "Curso de Backend en Python\n",
      "['Curso', 'de', 'Backend', 'en', 'Python']\n"
     ]
    }
   ],
   "source": [
    "# Separar Palabras\n",
    "my_string = \"Curso de Backend en Python\"\n",
    "my_list = my_string.split()\n",
    "print(my_string)\n",
    "print(my_list)"
   ]
  },
  {
   "cell_type": "code",
   "execution_count": 27,
   "id": "dbd98e3f",
   "metadata": {},
   "outputs": [
    {
     "name": "stdout",
     "output_type": "stream",
     "text": [
      "Curso de Backend en Python\n",
      "['C', 'u', 'r', 's', 'o', ' ', 'd', 'e', ' ', 'B', 'a', 'c', 'k', 'e', 'n', 'd', ' ', 'e', 'n', ' ', 'P', 'y', 't', 'h', 'o', 'n']\n"
     ]
    }
   ],
   "source": [
    "# Separar caracteres\n",
    "my_string = \"Curso de Backend en Python\"\n",
    "my_list = list(my_string)\n",
    "print(my_string)\n",
    "print(my_list)"
   ]
  },
  {
   "cell_type": "code",
   "execution_count": 28,
   "id": "13c35c69",
   "metadata": {},
   "outputs": [
    {
     "name": "stdout",
     "output_type": "stream",
     "text": [
      "Curso de Backend en Python\n",
      "[['C'], ['u'], ['r'], ['s'], ['o'], [' '], ['d'], ['e'], [' '], ['B'], ['a'], ['c'], ['k'], ['e'], ['n'], ['d'], [' '], ['e'], ['n'], [' '], ['P'], ['y'], ['t'], ['h'], ['o'], ['n']]\n"
     ]
    }
   ],
   "source": [
    "# Separar caracteres en una lista de listas\n",
    "my_string = \"Curso de Backend en Python\"\n",
    "my_list = list(map(list, my_string))\n",
    "print(my_string)\n",
    "print(my_list)"
   ]
  },
  {
   "cell_type": "markdown",
   "id": "64c39d09",
   "metadata": {},
   "source": [
    "## De listas a cadenas\n"
   ]
  },
  {
   "cell_type": "code",
   "execution_count": 29,
   "id": "030cfa28",
   "metadata": {},
   "outputs": [
    {
     "name": "stdout",
     "output_type": "stream",
     "text": [
      "Curso de Backend en Python\n"
     ]
    }
   ],
   "source": [
    "#Devolver los espacios\n",
    "my_list = ['Curso', 'de', 'Backend', 'en', 'Python']\n",
    "\n",
    "my_string = \" \".join(my_list)\n",
    "\n",
    "print(my_string)"
   ]
  },
  {
   "cell_type": "code",
   "execution_count": 31,
   "id": "59953d62",
   "metadata": {},
   "outputs": [
    {
     "name": "stdout",
     "output_type": "stream",
     "text": [
      "Curso de Backend en Python\n"
     ]
    }
   ],
   "source": [
    "#Devolver formato\n",
    "my_list = ['C', 'u', 'r', 's', 'o', ' ', 'd', 'e', ' ', 'B', 'a', 'c', 'k', 'e', 'n', 'd', ' ', 'e', 'n', ' ', 'P', 'y', 't', 'h', 'o', 'n']\n",
    "\n",
    "my_string = \"\".join(my_list)\n",
    "\n",
    "print(my_string)"
   ]
  },
  {
   "cell_type": "code",
   "execution_count": 33,
   "id": "58b36b07",
   "metadata": {},
   "outputs": [
    {
     "name": "stdout",
     "output_type": "stream",
     "text": [
      "Curso de Backend en Python\n"
     ]
    }
   ],
   "source": [
    "#Devolver formato\n",
    "my_list = [['C'], ['u'], ['r'], ['s'], ['o'], [' '], ['d'], ['e'], [' '], ['B'], ['a'], ['c'], ['k'], ['e'], ['n'], ['d'], [' '], ['e'], ['n'], [' '], ['P'], ['y'], ['t'], ['h'], ['o'], ['n']]\n",
    "\n",
    "my_string = \"\".join([\"\".join(element) for element in my_list])\n",
    "\n",
    "print(my_string)"
   ]
  },
  {
   "cell_type": "markdown",
   "id": "abaf55df",
   "metadata": {},
   "source": [
    "## Creacion e listas con valores de entrada"
   ]
  },
  {
   "cell_type": "code",
   "execution_count": 36,
   "id": "06df9154",
   "metadata": {},
   "outputs": [
    {
     "name": "stdout",
     "output_type": "stream",
     "text": [
      "Ingresa los valores separados por espacio1 2 3 4 5 6\n",
      "1 2 3 4 5 6\n",
      "['1', '2', '3', '4', '5', '6']\n"
     ]
    }
   ],
   "source": [
    "my_string = input(\"Ingresa los valores separados por espacio\")\n",
    "\n",
    "my_list = my_string.split()\n",
    "\n",
    "print(my_string)\n",
    "print(my_list)"
   ]
  },
  {
   "cell_type": "markdown",
   "id": "915f79db",
   "metadata": {},
   "source": [
    "# Metodos para manitpulacion de listas"
   ]
  },
  {
   "cell_type": "markdown",
   "id": "4721a057",
   "metadata": {},
   "source": [
    "## append\n",
    "sirve para agregar elementos al finalde una lista "
   ]
  },
  {
   "cell_type": "code",
   "execution_count": 38,
   "id": "345536b9",
   "metadata": {},
   "outputs": [
    {
     "name": "stdout",
     "output_type": "stream",
     "text": [
      "['hola', 'abeja', 'mantequilla', 'taza']\n",
      "4\n"
     ]
    }
   ],
   "source": [
    "my_list = [\"hola\", \"abeja\", \"mantequilla\", \"taza\"]\n",
    "print(my_list)\n",
    "print(len(my_list))"
   ]
  },
  {
   "cell_type": "code",
   "execution_count": 39,
   "id": "3437cb04",
   "metadata": {},
   "outputs": [
    {
     "name": "stdout",
     "output_type": "stream",
     "text": [
      "['hola', 'abeja', 'mantequilla', 'taza', 'gato']\n",
      "5\n"
     ]
    }
   ],
   "source": [
    "my_list.append(\"gato\")\n",
    "print(my_list)\n",
    "print(len(my_list))"
   ]
  },
  {
   "cell_type": "code",
   "execution_count": 40,
   "id": "79251672",
   "metadata": {},
   "outputs": [
    {
     "name": "stdout",
     "output_type": "stream",
     "text": [
      "[1, 2, 3, 4, 5]\n",
      "5\n"
     ]
    }
   ],
   "source": [
    "my_list = [1, 2, 3, 4, 5]\n",
    "print(my_list)\n",
    "print(len(my_list))"
   ]
  },
  {
   "cell_type": "code",
   "execution_count": 41,
   "id": "50f24fca",
   "metadata": {},
   "outputs": [
    {
     "name": "stdout",
     "output_type": "stream",
     "text": [
      "[1, 2, 3, 4, 5, 3]\n",
      "6\n"
     ]
    }
   ],
   "source": [
    "my_list.append(3)\n",
    "print(my_list)\n",
    "print(len(my_list))"
   ]
  },
  {
   "cell_type": "markdown",
   "id": "8e2a75d6",
   "metadata": {},
   "source": [
    "## insert\n",
    "Agrega un valor en una posicion especifica"
   ]
  },
  {
   "cell_type": "code",
   "execution_count": 42,
   "id": "82b08645",
   "metadata": {},
   "outputs": [
    {
     "name": "stdout",
     "output_type": "stream",
     "text": [
      "['hola', 'abeja', 'mantequilla', 'taza']\n",
      "4\n"
     ]
    }
   ],
   "source": [
    "my_list = [\"hola\", \"abeja\", \"mantequilla\", \"taza\"]\n",
    "print(my_list)\n",
    "print(len(my_list))"
   ]
  },
  {
   "cell_type": "code",
   "execution_count": 43,
   "id": "83e4a9b9",
   "metadata": {},
   "outputs": [
    {
     "name": "stdout",
     "output_type": "stream",
     "text": [
      "['hola', 'abeja', 'gato', 'mantequilla', 'taza']\n",
      "5\n"
     ]
    }
   ],
   "source": [
    "my_list.insert(2, \"gato\")\n",
    "print(my_list)\n",
    "print(len(my_list))"
   ]
  },
  {
   "cell_type": "code",
   "execution_count": 44,
   "id": "1b19f81e",
   "metadata": {},
   "outputs": [
    {
     "name": "stdout",
     "output_type": "stream",
     "text": [
      "['', 'hola', 'abeja', 'gato', 'mantequilla', 'taza']\n",
      "6\n"
     ]
    }
   ],
   "source": [
    "my_list.insert(0, \"\")\n",
    "print(my_list)\n",
    "print(len(my_list))"
   ]
  },
  {
   "cell_type": "markdown",
   "id": "02d584b2",
   "metadata": {},
   "source": [
    "## clear \n",
    "elimina todos elementos de la lista "
   ]
  },
  {
   "cell_type": "code",
   "execution_count": 45,
   "id": "57160e91",
   "metadata": {},
   "outputs": [
    {
     "name": "stdout",
     "output_type": "stream",
     "text": [
      "['hola', 'abeja', 'mantequilla', 'taza']\n",
      "4\n"
     ]
    }
   ],
   "source": [
    "my_list = [\"hola\", \"abeja\", \"mantequilla\", \"taza\"]\n",
    "print(my_list)\n",
    "print(len(my_list))"
   ]
  },
  {
   "cell_type": "code",
   "execution_count": 46,
   "id": "6f0e8b54",
   "metadata": {},
   "outputs": [
    {
     "name": "stdout",
     "output_type": "stream",
     "text": [
      "[]\n",
      "0\n"
     ]
    }
   ],
   "source": [
    "my_list.clear()\n",
    "print(my_list)\n",
    "print(len(my_list))"
   ]
  },
  {
   "cell_type": "markdown",
   "id": "4393ccae",
   "metadata": {},
   "source": [
    "## copy\n",
    "copiar los elementos de una lista "
   ]
  },
  {
   "cell_type": "code",
   "execution_count": 47,
   "id": "a557f0ca",
   "metadata": {},
   "outputs": [
    {
     "name": "stdout",
     "output_type": "stream",
     "text": [
      "['hola', 'abeja', 'mantequilla', 'taza']\n",
      "4\n"
     ]
    }
   ],
   "source": [
    "my_list = [\"hola\", \"abeja\", \"mantequilla\", \"taza\"]\n",
    "print(my_list)\n",
    "print(len(my_list))"
   ]
  },
  {
   "cell_type": "code",
   "execution_count": 48,
   "id": "7b0ceffd",
   "metadata": {},
   "outputs": [
    {
     "name": "stdout",
     "output_type": "stream",
     "text": [
      "['hola', 'abeja', 'mantequilla', 'taza']\n",
      "4\n",
      "['hola', 'abeja', 'mantequilla', 'taza']\n",
      "4\n"
     ]
    }
   ],
   "source": [
    "my_list_copy = my_list.copy()\n",
    "print(my_list)\n",
    "print(len(my_list))\n",
    "\n",
    "print(my_list_copy)\n",
    "print(len(my_list_copy))"
   ]
  },
  {
   "cell_type": "markdown",
   "id": "ab70cf34",
   "metadata": {},
   "source": [
    "## count\n",
    "Cuenta cuantas veces aparece un elemento en una lista \n"
   ]
  },
  {
   "cell_type": "code",
   "execution_count": 49,
   "id": "7ba562bc",
   "metadata": {},
   "outputs": [
    {
     "name": "stdout",
     "output_type": "stream",
     "text": [
      "[1, 2, 3, 1, 1, 1, 2, 4, 5, 1, 1]\n"
     ]
    }
   ],
   "source": [
    "my_list = [1,2,3,1,1,1,2,4,5,1,1]\n",
    "print(my_list)\n"
   ]
  },
  {
   "cell_type": "code",
   "execution_count": 51,
   "id": "cce59d64",
   "metadata": {},
   "outputs": [
    {
     "name": "stdout",
     "output_type": "stream",
     "text": [
      "el numero 1 aparece 6 veces en mi lista\n"
     ]
    }
   ],
   "source": [
    "print(\"el numero 1 aparece {} veces en mi lista\".format(my_list.count(1)))"
   ]
  },
  {
   "cell_type": "markdown",
   "id": "342ed1f6",
   "metadata": {},
   "source": [
    "## index\n",
    "obtiene el primer inice que hace match con el elemento solicitado"
   ]
  },
  {
   "cell_type": "code",
   "execution_count": 53,
   "id": "ac653db7",
   "metadata": {},
   "outputs": [
    {
     "name": "stdout",
     "output_type": "stream",
     "text": [
      "[1, 2, 3, 1, 1, 1, 2, 4, 5, 1, 1]\n",
      "el numero 1 aparece el la posicion 8\n"
     ]
    }
   ],
   "source": [
    "my_list = [1,2,3,1,1,1,2,4,5,1,1]\n",
    "print(my_list)\n",
    "\n",
    "print(\"el numero 1 aparece el la posicion {}\".format(my_list.index(5)))"
   ]
  },
  {
   "cell_type": "markdown",
   "id": "ad780221",
   "metadata": {},
   "source": [
    "## extend \n",
    "conbinar dos listas"
   ]
  },
  {
   "cell_type": "code",
   "execution_count": 54,
   "id": "2a1dd0f9",
   "metadata": {},
   "outputs": [
    {
     "name": "stdout",
     "output_type": "stream",
     "text": [
      "['hola', 'abeja', 'mantequilla', 'taza']\n",
      "4\n"
     ]
    }
   ],
   "source": [
    "my_list = [\"hola\", \"abeja\", \"mantequilla\", \"taza\"]\n",
    "print(my_list)\n",
    "print(len(my_list))"
   ]
  },
  {
   "cell_type": "code",
   "execution_count": 60,
   "id": "929bedd8",
   "metadata": {},
   "outputs": [
    {
     "name": "stdout",
     "output_type": "stream",
     "text": [
      "['hola', 'abeja', 'mantequilla', 'taza', 'cabra', 'caballo']\n",
      "6\n"
     ]
    }
   ],
   "source": [
    "my_list_2 = [\"cabra\", \"caballo\"]\n",
    "\n",
    "my_list.extend(my_list_2)\n",
    "\n",
    "print(my_list)\n",
    "print(len(my_list))"
   ]
  },
  {
   "cell_type": "markdown",
   "id": "5df2bf47",
   "metadata": {},
   "source": [
    "## pop\n",
    "Eliminar elemenos de una lista basado en los indices"
   ]
  },
  {
   "cell_type": "code",
   "execution_count": 63,
   "id": "a4a33f9d",
   "metadata": {},
   "outputs": [
    {
     "name": "stdout",
     "output_type": "stream",
     "text": [
      "['hola', 'abeja', 'mantequilla', 'taza']\n",
      "4\n",
      "['hola', 'abeja', 'taza']\n",
      "3\n"
     ]
    }
   ],
   "source": [
    "#pop elimina el ultimo elemento por default\n",
    "my_list = [\"hola\", \"abeja\", \"mantequilla\", \"taza\"]\n",
    "print(my_list)\n",
    "print(len(my_list))\n",
    "\n",
    "my_list.pop(2)\n",
    "\n",
    "print(my_list)\n",
    "print(len(my_list))"
   ]
  },
  {
   "cell_type": "markdown",
   "id": "38ca37dc",
   "metadata": {},
   "source": [
    "## remove \n",
    "elimina la primera aparicion de un valor en una lista "
   ]
  },
  {
   "cell_type": "code",
   "execution_count": 65,
   "id": "2c7cd77b",
   "metadata": {},
   "outputs": [
    {
     "name": "stdout",
     "output_type": "stream",
     "text": [
      "['hola', 'abeja', 'mantequilla', 'taza']\n",
      "4\n",
      "['hola', 'mantequilla', 'taza']\n",
      "3\n"
     ]
    }
   ],
   "source": [
    "my_list = [\"hola\", \"abeja\", \"mantequilla\", \"taza\"]\n",
    "print(my_list)\n",
    "print(len(my_list))\n",
    "\n",
    "my_list.remove(\"abeja\")\n",
    "\n",
    "print(my_list)\n",
    "print(len(my_list))\n",
    "\n",
    "#si queremos eliminar un valor que no esta en la lista se arrojara un error]"
   ]
  },
  {
   "cell_type": "markdown",
   "id": "2d376c9e",
   "metadata": {},
   "source": [
    "## reverse\n",
    "invierte el orden de una lista "
   ]
  },
  {
   "cell_type": "code",
   "execution_count": 66,
   "id": "7ee68a1c",
   "metadata": {},
   "outputs": [
    {
     "name": "stdout",
     "output_type": "stream",
     "text": [
      "['hola', 'abeja', 'mantequilla', 'taza']\n",
      "4\n",
      "['taza', 'mantequilla', 'abeja', 'hola']\n",
      "4\n"
     ]
    }
   ],
   "source": [
    "my_list = [\"hola\", \"abeja\", \"mantequilla\", \"taza\"]\n",
    "print(my_list)\n",
    "print(len(my_list))\n",
    "\n",
    "my_list.reverse()\n",
    "\n",
    "print(my_list)\n",
    "print(len(my_list))\n"
   ]
  },
  {
   "cell_type": "markdown",
   "id": "e055306b",
   "metadata": {},
   "source": [
    "## sort\n",
    "Ordena los elementos de una lista"
   ]
  },
  {
   "cell_type": "code",
   "execution_count": 69,
   "id": "28871b39",
   "metadata": {},
   "outputs": [
    {
     "name": "stdout",
     "output_type": "stream",
     "text": [
      "['hola', 'abeja', 'mantequilla', 'taza']\n",
      "4\n",
      "['abeja', 'hola', 'mantequilla', 'taza']\n",
      "4\n",
      "['taza', 'mantequilla', 'hola', 'abeja']\n",
      "4\n"
     ]
    }
   ],
   "source": [
    "my_list = [\"hola\", \"abeja\", \"mantequilla\", \"taza\"]\n",
    "print(my_list)\n",
    "print(len(my_list))\n",
    "\n",
    "my_list.sort()\n",
    "\n",
    "print(my_list)\n",
    "print(len(my_list))\n",
    "\n",
    "\n",
    "my_list.sort(reverse=True)\n",
    "\n",
    "print(my_list)\n",
    "print(len(my_list))\n",
    "\n"
   ]
  },
  {
   "cell_type": "markdown",
   "id": "61a1d66a",
   "metadata": {},
   "source": [
    "## Obtener un elemeno aleatorio de una lista "
   ]
  },
  {
   "cell_type": "code",
   "execution_count": 70,
   "id": "252dfe59",
   "metadata": {},
   "outputs": [
    {
     "name": "stdout",
     "output_type": "stream",
     "text": [
      "hola\n"
     ]
    }
   ],
   "source": [
    "import random\n",
    "\n",
    "my_list = [\"hola\", \"abeja\", \"mantequilla\", \"taza\"]\n",
    "print(random.choice(my_list))\n",
    "\n"
   ]
  },
  {
   "cell_type": "code",
   "execution_count": null,
   "id": "3b7f5e32",
   "metadata": {},
   "outputs": [],
   "source": []
  }
 ],
 "metadata": {
  "kernelspec": {
   "display_name": "Python 3 (ipykernel)",
   "language": "python",
   "name": "python3"
  },
  "language_info": {
   "codemirror_mode": {
    "name": "ipython",
    "version": 3
   },
   "file_extension": ".py",
   "mimetype": "text/x-python",
   "name": "python",
   "nbconvert_exporter": "python",
   "pygments_lexer": "ipython3",
   "version": "3.9.12"
  }
 },
 "nbformat": 4,
 "nbformat_minor": 5
}
