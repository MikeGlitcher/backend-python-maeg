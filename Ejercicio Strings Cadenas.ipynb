{
 "cells": [
  {
   "cell_type": "code",
   "execution_count": 30,
   "id": "cfc2c738",
   "metadata": {},
   "outputs": [
    {
     "name": "stdout",
     "output_type": "stream",
     "text": [
      "¿Cómo fue tu día hoy?muy bien, todo excelente\n",
      "Analizador de sentimientos\n",
      "\n",
      "\n",
      "my_string: muy bien todo excelente\n",
      "score: 3 \n",
      "resultado: Positivo\n",
      "¿Cómo fue tu día hoy?demasiado mal, mi día fue muy triste y cansado\n",
      "Analizador de sentimientos\n",
      "\n",
      "\n",
      "my_string: demasiado mal mi dia fue muy triste y cansado\n",
      "score: -5 \n",
      "resultado: Muy Negativo\n",
      "¿Cómo fue tu día hoy?ni bien ni mal\n",
      "Analizador de sentimientos\n",
      "\n",
      "\n",
      "my_string: ni bien ni mal\n",
      "score: 0 \n",
      "resultado: Neutro\n"
     ]
    }
   ],
   "source": [
    "for x in range(3): # Este for solo es necesario para sacar los tres ejemplis (Positivo, Negativo y Neutro)\n",
    "    my_string = input(\"¿Cómo fue tu día hoy?\").lower()\n",
    "\n",
    "\n",
    "    positive_words = [\"bueno\", \"excelente\", \"maravilloso\", \"bien\", \"de maravilla\", \"magnifico\", \"alegre\", \"feliz\"]\n",
    "    negative_words = [\"defectuoso\", \"malo\", \"horrible\", \"mal\", \"destruido\", \"triste\", \"aguitado\", \"cansado\", \"agotado\"]\n",
    "    booster_words = [\"muy\", \"bastante\", \"demasiado\", \"exageradamente\"]\n",
    "\n",
    "    my_string = my_string.replace(\"á\",\"a\").replace(\"é\",\"e\").replace(\"í\",\"i\").replace(\"ó\",\"o\").replace(\"ú\", \"2\").replace(\",\", \"\")\n",
    "\n",
    "    my_string_split = my_string.split(\" \")\n",
    "    \n",
    "    score = 0\n",
    "    for word in my_string_split:\n",
    "        if word in positive_words:\n",
    "            score += 1\n",
    "            \n",
    "            if my_string_split[my_string_split.index(word) - 1] in booster_words:\n",
    "                score += 1\n",
    "\n",
    "        elif word in negative_words:\n",
    "            score -= 1\n",
    "\n",
    "            if my_string_split[my_string_split.index(word) - 1] in booster_words:\n",
    "                score -= 1\n",
    "\n",
    "\n",
    "    if score == 0:\n",
    "        result = \"Neutro\"\n",
    "\n",
    "    elif 5 > score > 0:\n",
    "        result = \"Positivo\"\n",
    "\n",
    "    elif -5 < score < 0:\n",
    "        result = \"Negativo\"\n",
    "\n",
    "    elif score >= 5:\n",
    "        result = \"Muy Positivo\"\n",
    "\n",
    "    elif score <= -5:\n",
    "        result = \"Muy Negativo\"    \n",
    "\n",
    "\n",
    "    print(\"Analizador de sentimientos\\n\\n\")\n",
    "    print(\"my_string: {}\\nscore: {} \\nresultado: {}\".format(my_string, score, result))"
   ]
  },
  {
   "cell_type": "code",
   "execution_count": null,
   "id": "96db6d7f",
   "metadata": {},
   "outputs": [],
   "source": []
  }
 ],
 "metadata": {
  "kernelspec": {
   "display_name": "Python 3 (ipykernel)",
   "language": "python",
   "name": "python3"
  },
  "language_info": {
   "codemirror_mode": {
    "name": "ipython",
    "version": 3
   },
   "file_extension": ".py",
   "mimetype": "text/x-python",
   "name": "python",
   "nbconvert_exporter": "python",
   "pygments_lexer": "ipython3",
   "version": "3.9.12"
  }
 },
 "nbformat": 4,
 "nbformat_minor": 5
}
