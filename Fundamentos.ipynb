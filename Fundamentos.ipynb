{
 "cells": [
  {
   "cell_type": "markdown",
   "id": "591f5f70",
   "metadata": {},
   "source": [
    "## Python distingue entre minúsculas y mayúsculas"
   ]
  },
  {
   "cell_type": "code",
   "execution_count": 2,
   "id": "bdb6eb5e",
   "metadata": {},
   "outputs": [
    {
     "name": "stdout",
     "output_type": "stream",
     "text": [
      "El curso es: Backend Python\n"
     ]
    }
   ],
   "source": [
    "A = \"Backend Python\"\n",
    "print(\"El curso es:\", A)"
   ]
  },
  {
   "cell_type": "markdown",
   "id": "2fb1be55",
   "metadata": {},
   "source": [
    "### Python tiene algunas palabras reservadas"
   ]
  },
  {
   "cell_type": "code",
   "execution_count": 3,
   "id": "1f5cd49f",
   "metadata": {},
   "outputs": [
    {
     "name": "stdout",
     "output_type": "stream",
     "text": [
      "\n",
      "Here is a list of the Python keywords.  Enter any keyword to get more help.\n",
      "\n",
      "False               break               for                 not\n",
      "None                class               from                or\n",
      "True                continue            global              pass\n",
      "__peg_parser__      def                 if                  raise\n",
      "and                 del                 import              return\n",
      "as                  elif                in                  try\n",
      "assert              else                is                  while\n",
      "async               except              lambda              with\n",
      "await               finally             nonlocal            yield\n",
      "\n"
     ]
    }
   ],
   "source": [
    "help(\"keywords\")"
   ]
  },
  {
   "cell_type": "markdown",
   "id": "4df99062",
   "metadata": {},
   "source": [
    "### Caracteres de Escape en Python"
   ]
  },
  {
   "cell_type": "code",
   "execution_count": 6,
   "id": "f054751b",
   "metadata": {},
   "outputs": [
    {
     "data": {
      "text/plain": [
       "\"'\""
      ]
     },
     "execution_count": 6,
     "metadata": {},
     "output_type": "execute_result"
    }
   ],
   "source": [
    "\"\\'\" #single quote / comiilla sencilla"
   ]
  },
  {
   "cell_type": "code",
   "execution_count": 5,
   "id": "905a47f9",
   "metadata": {},
   "outputs": [
    {
     "data": {
      "text/plain": [
       "'\"'"
      ]
     },
     "execution_count": 5,
     "metadata": {},
     "output_type": "execute_result"
    }
   ],
   "source": [
    "\"\\\"\" #double quote / comilla doble"
   ]
  },
  {
   "cell_type": "code",
   "execution_count": 7,
   "id": "fb7c75b0",
   "metadata": {},
   "outputs": [
    {
     "data": {
      "text/plain": [
       "'\\n'"
      ]
     },
     "execution_count": 7,
     "metadata": {},
     "output_type": "execute_result"
    }
   ],
   "source": [
    "\"\\n\" # New line /salto de línea"
   ]
  },
  {
   "cell_type": "code",
   "execution_count": 8,
   "id": "b84168f5",
   "metadata": {},
   "outputs": [
    {
     "name": "stdout",
     "output_type": "stream",
     "text": [
      "backend Python\n"
     ]
    }
   ],
   "source": [
    "my_course = \"backend Python\"\n",
    "print(my_course)"
   ]
  },
  {
   "cell_type": "code",
   "execution_count": 9,
   "id": "a8d286c4",
   "metadata": {},
   "outputs": [
    {
     "name": "stdout",
     "output_type": "stream",
     "text": [
      "Mi curso es \n",
      "backend Python\n"
     ]
    }
   ],
   "source": [
    "my_course = \"Mi curso es \\nBackend Python\"\n",
    "print(my_course)"
   ]
  },
  {
   "cell_type": "code",
   "execution_count": 10,
   "id": "d8846525",
   "metadata": {},
   "outputs": [
    {
     "data": {
      "text/plain": [
       "'\\t'"
      ]
     },
     "execution_count": 10,
     "metadata": {},
     "output_type": "execute_result"
    }
   ],
   "source": [
    "\"\\t\" # Tab"
   ]
  },
  {
   "cell_type": "code",
   "execution_count": 12,
   "id": "7ba373f8",
   "metadata": {},
   "outputs": [
    {
     "name": "stdout",
     "output_type": "stream",
     "text": [
      "Mi curso es \n",
      "\tBackend Python\n"
     ]
    }
   ],
   "source": [
    "my_course = \"Mi curso es \\n\\tBackend Python\"\n",
    "print(my_course)"
   ]
  },
  {
   "cell_type": "code",
   "execution_count": 13,
   "id": "f47aa415",
   "metadata": {},
   "outputs": [
    {
     "data": {
      "text/plain": [
       "'\\r'"
      ]
     },
     "execution_count": 13,
     "metadata": {},
     "output_type": "execute_result"
    }
   ],
   "source": [
    "\"\\r\" # carriage return / retorno de carro"
   ]
  },
  {
   "cell_type": "code",
   "execution_count": 14,
   "id": "29bbf433",
   "metadata": {},
   "outputs": [
    {
     "name": "stdout",
     "output_type": "stream",
     "text": [
      "Mi curso es \r",
      "Backend Python\n"
     ]
    }
   ],
   "source": [
    "my_course = \"Mi curso es \\rBackend Python\"\n",
    "print(my_course)"
   ]
  },
  {
   "cell_type": "code",
   "execution_count": 17,
   "id": "ed8726db",
   "metadata": {
    "scrolled": false
   },
   "outputs": [
    {
     "data": {
      "text/plain": [
       "'\\x08'"
      ]
     },
     "execution_count": 17,
     "metadata": {},
     "output_type": "execute_result"
    }
   ],
   "source": [
    "\"\\b\" # Backspace / Retorno"
   ]
  },
  {
   "cell_type": "code",
   "execution_count": 18,
   "id": "2f9bdafe",
   "metadata": {},
   "outputs": [
    {
     "name": "stdout",
     "output_type": "stream",
     "text": [
      "Mi curso es\bBackend Python\n"
     ]
    }
   ],
   "source": [
    "my_course = \"Mi curso es \\bBackend Python\"\n",
    "print(my_course)"
   ]
  },
  {
   "cell_type": "code",
   "execution_count": 19,
   "id": "e0f4ed0a",
   "metadata": {},
   "outputs": [
    {
     "data": {
      "text/plain": [
       "'\\\\ooo'"
      ]
     },
     "execution_count": 19,
     "metadata": {},
     "output_type": "execute_result"
    }
   ],
   "source": [
    "\"\\ooo\" #octal"
   ]
  },
  {
   "cell_type": "code",
   "execution_count": 20,
   "id": "a7bcc7a6",
   "metadata": {},
   "outputs": [
    {
     "name": "stdout",
     "output_type": "stream",
     "text": [
      "Hola\n"
     ]
    }
   ],
   "source": [
    "hello_spanish_octal = \"\\110\\157\\154\\141\"\n",
    "print(hello_spanish_octal)"
   ]
  },
  {
   "cell_type": "code",
   "execution_count": 22,
   "id": "44b9c1e8",
   "metadata": {},
   "outputs": [],
   "source": [
    "#\"\\xhh\" Hexadecimal"
   ]
  },
  {
   "cell_type": "code",
   "execution_count": 23,
   "id": "33601665",
   "metadata": {},
   "outputs": [
    {
     "name": "stdout",
     "output_type": "stream",
     "text": [
      "Hola\n"
     ]
    }
   ],
   "source": [
    "hello_spanish_octal = \"\\x48\\x6f\\x6c\\x61\"\n",
    "print(hello_spanish_octal)"
   ]
  },
  {
   "cell_type": "markdown",
   "id": "c512b3e3",
   "metadata": {},
   "source": [
    "## Función eval()"
   ]
  },
  {
   "cell_type": "code",
   "execution_count": 24,
   "id": "27a17d88",
   "metadata": {},
   "outputs": [
    {
     "name": "stdout",
     "output_type": "stream",
     "text": [
      "my_number+1000\n"
     ]
    }
   ],
   "source": [
    "my_number = 22\n",
    "print(\"my_number+1000\")"
   ]
  },
  {
   "cell_type": "code",
   "execution_count": 25,
   "id": "3a1f65b3",
   "metadata": {},
   "outputs": [
    {
     "name": "stdout",
     "output_type": "stream",
     "text": [
      "1022\n"
     ]
    }
   ],
   "source": [
    "my_number = 22\n",
    "print(eval(\"my_number+1000\"))"
   ]
  },
  {
   "cell_type": "code",
   "execution_count": 26,
   "id": "fc8c830f",
   "metadata": {},
   "outputs": [
    {
     "name": "stdout",
     "output_type": "stream",
     "text": [
      "ingresa un numero: 123\n"
     ]
    }
   ],
   "source": [
    "my_input = input(\"ingresa un numero: \")"
   ]
  },
  {
   "cell_type": "code",
   "execution_count": 27,
   "id": "ea536560",
   "metadata": {},
   "outputs": [
    {
     "data": {
      "text/plain": [
       "'123'"
      ]
     },
     "execution_count": 27,
     "metadata": {},
     "output_type": "execute_result"
    }
   ],
   "source": [
    "my_input"
   ]
  },
  {
   "cell_type": "code",
   "execution_count": 28,
   "id": "64a1f879",
   "metadata": {},
   "outputs": [
    {
     "name": "stdout",
     "output_type": "stream",
     "text": [
      "ingresa un numero: 154\n",
      "154\n",
      "<class 'int'>\n"
     ]
    }
   ],
   "source": [
    "my_input = eval(input(\"ingresa un numero: \"))\n",
    "print(my_input)\n",
    "print(type(my_input))"
   ]
  },
  {
   "cell_type": "markdown",
   "id": "62ca038e",
   "metadata": {},
   "source": [
    "## Función range() y rangex()"
   ]
  },
  {
   "cell_type": "markdown",
   "id": "702a93d1",
   "metadata": {},
   "source": [
    "### range(start, stop, step)"
   ]
  },
  {
   "cell_type": "code",
   "execution_count": null,
   "id": "806608e0",
   "metadata": {},
   "outputs": [],
   "source": []
  },
  {
   "cell_type": "code",
   "execution_count": 33,
   "id": "eb36ed40",
   "metadata": {},
   "outputs": [],
   "source": [
    "x = range(10)"
   ]
  },
  {
   "cell_type": "code",
   "execution_count": 34,
   "id": "435c4734",
   "metadata": {},
   "outputs": [
    {
     "data": {
      "text/plain": [
       "range(0, 10)"
      ]
     },
     "execution_count": 34,
     "metadata": {},
     "output_type": "execute_result"
    }
   ],
   "source": [
    "x"
   ]
  },
  {
   "cell_type": "code",
   "execution_count": 35,
   "id": "ac0b86cd",
   "metadata": {},
   "outputs": [
    {
     "name": "stdout",
     "output_type": "stream",
     "text": [
      "0\n",
      "1\n",
      "2\n",
      "3\n",
      "4\n",
      "5\n",
      "6\n",
      "7\n",
      "8\n",
      "9\n"
     ]
    }
   ],
   "source": [
    "for number in x:\n",
    "    print(number)"
   ]
  },
  {
   "cell_type": "code",
   "execution_count": 36,
   "id": "b85b733c",
   "metadata": {},
   "outputs": [
    {
     "name": "stdout",
     "output_type": "stream",
     "text": [
      "3\n",
      "4\n",
      "5\n"
     ]
    }
   ],
   "source": [
    "x = range(3,6)\n",
    "for number in x:\n",
    "    print(number)"
   ]
  },
  {
   "cell_type": "code",
   "execution_count": 37,
   "id": "9e330273",
   "metadata": {},
   "outputs": [
    {
     "name": "stdout",
     "output_type": "stream",
     "text": [
      "3\n",
      "5\n",
      "7\n",
      "9\n"
     ]
    }
   ],
   "source": [
    "x = range(3,10, 2)\n",
    "for number in x:\n",
    "    print(number)"
   ]
  },
  {
   "cell_type": "markdown",
   "id": "a986171c",
   "metadata": {},
   "source": [
    "## Mutabilidad e Inmutabilidad"
   ]
  },
  {
   "cell_type": "code",
   "execution_count": 4,
   "id": "2ff90fa4",
   "metadata": {},
   "outputs": [],
   "source": [
    "tuple1 = (1, 2, 3, 4, 5)"
   ]
  },
  {
   "cell_type": "code",
   "execution_count": 5,
   "id": "3359b869",
   "metadata": {},
   "outputs": [
    {
     "data": {
      "text/plain": [
       "(1, 2, 3, 4, 5)"
      ]
     },
     "execution_count": 5,
     "metadata": {},
     "output_type": "execute_result"
    }
   ],
   "source": [
    "tuple1"
   ]
  },
  {
   "cell_type": "code",
   "execution_count": 6,
   "id": "93040b21",
   "metadata": {},
   "outputs": [
    {
     "ename": "TypeError",
     "evalue": "'type' object does not support item assignment",
     "output_type": "error",
     "traceback": [
      "\u001b[1;31m---------------------------------------------------------------------------\u001b[0m",
      "\u001b[1;31mTypeError\u001b[0m                                 Traceback (most recent call last)",
      "Input \u001b[1;32mIn [6]\u001b[0m, in \u001b[0;36m<cell line: 1>\u001b[1;34m()\u001b[0m\n\u001b[1;32m----> 1\u001b[0m \u001b[38;5;28mtuple\u001b[39m[\u001b[38;5;241m0\u001b[39m] \u001b[38;5;241m=\u001b[39m \u001b[38;5;241m10\u001b[39m\n",
      "\u001b[1;31mTypeError\u001b[0m: 'type' object does not support item assignment"
     ]
    }
   ],
   "source": [
    "tuple[0] = 10"
   ]
  },
  {
   "cell_type": "code",
   "execution_count": 7,
   "id": "a5b3153b",
   "metadata": {},
   "outputs": [],
   "source": [
    "my_string = \"Aprendiendo sobre mutabilidad\""
   ]
  },
  {
   "cell_type": "code",
   "execution_count": 8,
   "id": "4066ae2c",
   "metadata": {},
   "outputs": [
    {
     "data": {
      "text/plain": [
       "'Aprendiendo sobre mutabilidad'"
      ]
     },
     "execution_count": 8,
     "metadata": {},
     "output_type": "execute_result"
    }
   ],
   "source": [
    "my_string"
   ]
  },
  {
   "cell_type": "code",
   "execution_count": 9,
   "id": "ca7a6841",
   "metadata": {},
   "outputs": [
    {
     "ename": "TypeError",
     "evalue": "'str' object does not support item assignment",
     "output_type": "error",
     "traceback": [
      "\u001b[1;31m---------------------------------------------------------------------------\u001b[0m",
      "\u001b[1;31mTypeError\u001b[0m                                 Traceback (most recent call last)",
      "Input \u001b[1;32mIn [9]\u001b[0m, in \u001b[0;36m<cell line: 1>\u001b[1;34m()\u001b[0m\n\u001b[1;32m----> 1\u001b[0m my_string[\u001b[38;5;241m0\u001b[39m] \u001b[38;5;241m=\u001b[39m \u001b[38;5;124m\"\u001b[39m\u001b[38;5;124ma\u001b[39m\u001b[38;5;124m\"\u001b[39m\n",
      "\u001b[1;31mTypeError\u001b[0m: 'str' object does not support item assignment"
     ]
    }
   ],
   "source": [
    "my_string[0] = \"a\""
   ]
  },
  {
   "cell_type": "code",
   "execution_count": 10,
   "id": "fe28ab05",
   "metadata": {},
   "outputs": [
    {
     "data": {
      "text/plain": [
       "['red', 'blue', 'green', 'white']"
      ]
     },
     "execution_count": 10,
     "metadata": {},
     "output_type": "execute_result"
    }
   ],
   "source": [
    "colors = [\"red\", \"blue\", \"green\", \"white\"]\n",
    "colors"
   ]
  },
  {
   "cell_type": "code",
   "execution_count": 11,
   "id": "78c1aabc",
   "metadata": {},
   "outputs": [
    {
     "data": {
      "text/plain": [
       "['rojo', 'blue', 'green', 'white']"
      ]
     },
     "execution_count": 11,
     "metadata": {},
     "output_type": "execute_result"
    }
   ],
   "source": [
    "colors[0] = \"rojo\"\n",
    "colors"
   ]
  },
  {
   "cell_type": "markdown",
   "id": "8f6de341",
   "metadata": {},
   "source": [
    "## Función print()"
   ]
  },
  {
   "cell_type": "code",
   "execution_count": 12,
   "id": "717eb4e9",
   "metadata": {},
   "outputs": [],
   "source": [
    "# mostrar un resultado"
   ]
  },
  {
   "cell_type": "code",
   "execution_count": 13,
   "id": "10ae8d75",
   "metadata": {},
   "outputs": [
    {
     "name": "stdout",
     "output_type": "stream",
     "text": [
      "El valor de la celda es 567\n"
     ]
    }
   ],
   "source": [
    "my_variable = 567\n",
    "print(\"El valor de la celda es\", my_variable)"
   ]
  },
  {
   "cell_type": "code",
   "execution_count": 1,
   "id": "ef432df4",
   "metadata": {},
   "outputs": [
    {
     "name": "stdout",
     "output_type": "stream",
     "text": [
      "el rsultado es  45\n"
     ]
    }
   ],
   "source": [
    "a = 10\n",
    "b = 15\n",
    "c = 20\n",
    "result = a + b + c\n",
    "print(\"el rsultado es \", result)"
   ]
  },
  {
   "cell_type": "code",
   "execution_count": 3,
   "id": "2d4db6d9",
   "metadata": {},
   "outputs": [],
   "source": [
    "import builtins"
   ]
  },
  {
   "cell_type": "code",
   "execution_count": null,
   "id": "56758726",
   "metadata": {},
   "outputs": [],
   "source": []
  },
  {
   "cell_type": "code",
   "execution_count": 4,
   "id": "132758fd",
   "metadata": {},
   "outputs": [
    {
     "name": "stdout",
     "output_type": "stream",
     "text": [
      "Help on built-in function print in module builtins:\n",
      "\n",
      "print(...)\n",
      "    print(value, ..., sep=' ', end='\\n', file=sys.stdout, flush=False)\n",
      "    \n",
      "    Prints the values to a stream, or to sys.stdout by default.\n",
      "    Optional keyword arguments:\n",
      "    file:  a file-like object (stream); defaults to the current sys.stdout.\n",
      "    sep:   string inserted between values, default a space.\n",
      "    end:   string appended after the last value, default a newline.\n",
      "    flush: whether to forcibly flush the stream.\n",
      "\n"
     ]
    }
   ],
   "source": [
    "help(print)"
   ]
  },
  {
   "cell_type": "markdown",
   "id": "e0170ac4",
   "metadata": {},
   "source": [
    "## Función type()"
   ]
  },
  {
   "cell_type": "code",
   "execution_count": 6,
   "id": "8d2d6ae1",
   "metadata": {},
   "outputs": [
    {
     "name": "stdout",
     "output_type": "stream",
     "text": [
      "570\n"
     ]
    }
   ],
   "source": [
    "my_number = 570\n",
    "print(my_number)"
   ]
  },
  {
   "cell_type": "code",
   "execution_count": 8,
   "id": "3368f1bb",
   "metadata": {},
   "outputs": [
    {
     "name": "stdout",
     "output_type": "stream",
     "text": [
      "570 <class 'int'>\n"
     ]
    }
   ],
   "source": [
    "# Entero / int\n",
    "print(my_number, type(my_number))"
   ]
  },
  {
   "cell_type": "code",
   "execution_count": 9,
   "id": "6e9ca0c3",
   "metadata": {},
   "outputs": [
    {
     "name": "stdout",
     "output_type": "stream",
     "text": [
      "hola mundo <class 'str'>\n"
     ]
    }
   ],
   "source": [
    "# Cadena / string\n",
    "my_string = \"hola mundo\"\n",
    "print(my_string, type(my_string))"
   ]
  },
  {
   "cell_type": "code",
   "execution_count": 10,
   "id": "f6f4218c",
   "metadata": {},
   "outputs": [
    {
     "name": "stdout",
     "output_type": "stream",
     "text": [
      "3.52 <class 'float'>\n"
     ]
    }
   ],
   "source": [
    "# Flotantes / float\n",
    "my_float = 3.52\n",
    "print(my_float, type(my_float))"
   ]
  },
  {
   "cell_type": "code",
   "execution_count": 11,
   "id": "e8789489",
   "metadata": {},
   "outputs": [
    {
     "name": "stdout",
     "output_type": "stream",
     "text": [
      "True <class 'bool'>\n"
     ]
    }
   ],
   "source": [
    "# Boolean\n",
    "my_boolean = True\n",
    "print(my_boolean, type(my_boolean))"
   ]
  },
  {
   "cell_type": "code",
   "execution_count": 12,
   "id": "7b18b90c",
   "metadata": {},
   "outputs": [
    {
     "name": "stdout",
     "output_type": "stream",
     "text": [
      "[1, 2, 3, 4] <class 'list'>\n"
     ]
    }
   ],
   "source": [
    "# Listas / list\n",
    "my_list = [1, 2, 3, 4]\n",
    "print(my_list, type(my_list))"
   ]
  },
  {
   "cell_type": "code",
   "execution_count": 13,
   "id": "586b0b7d",
   "metadata": {},
   "outputs": [
    {
     "name": "stdout",
     "output_type": "stream",
     "text": [
      "(1, 2, 3, 4) <class 'tuple'>\n"
     ]
    }
   ],
   "source": [
    "# Tuplas / tuple\n",
    "my_tuple = (1, 2, 3, 4)\n",
    "print(my_tuple, type(my_tuple))"
   ]
  },
  {
   "cell_type": "code",
   "execution_count": 14,
   "id": "84b80e7e",
   "metadata": {},
   "outputs": [
    {
     "name": "stdout",
     "output_type": "stream",
     "text": [
      "{'python', 1, 30} <class 'set'>\n"
     ]
    }
   ],
   "source": [
    "# Set\n",
    "my_set = {1, 30, \"python\"}\n",
    "print(my_set, type(my_set))"
   ]
  },
  {
   "cell_type": "code",
   "execution_count": 15,
   "id": "da18e08c",
   "metadata": {},
   "outputs": [
    {
     "name": "stdout",
     "output_type": "stream",
     "text": [
      "{'a': 20, 'b': 30, 'c': 10} <class 'dict'>\n"
     ]
    }
   ],
   "source": [
    "# Diccionario / dict\n",
    "my_dict = {\"a\":20, \"b\":30, \"c\":10}\n",
    "print(my_dict, type(my_dict))"
   ]
  },
  {
   "cell_type": "markdown",
   "id": "b170ed10",
   "metadata": {},
   "source": [
    "## Función id()"
   ]
  },
  {
   "cell_type": "markdown",
   "id": "1c78b80f",
   "metadata": {},
   "source": [
    "### id() función para obtener la dirección de memoria"
   ]
  },
  {
   "cell_type": "code",
   "execution_count": 17,
   "id": "efa36cc2",
   "metadata": {},
   "outputs": [
    {
     "name": "stdout",
     "output_type": "stream",
     "text": [
      "hola mundo <class 'str'> 2187943866736\n"
     ]
    }
   ],
   "source": [
    "# Cadena / string\n",
    "my_string = \"hola mundo\"\n",
    "print(my_string, type(my_string), id(my_string))"
   ]
  },
  {
   "cell_type": "markdown",
   "id": "8e97892e",
   "metadata": {},
   "source": [
    "## Múltiples valores de entrada"
   ]
  },
  {
   "cell_type": "code",
   "execution_count": 23,
   "id": "ea127651",
   "metadata": {},
   "outputs": [
    {
     "name": "stdout",
     "output_type": "stream",
     "text": [
      "Introduzca su número12\n",
      "El número que introdujo es:  12\n"
     ]
    }
   ],
   "source": [
    "my_number = input(\"Introduzca su número\")\n",
    "print(\"El número que introdujo es:\", my_number)"
   ]
  },
  {
   "cell_type": "code",
   "execution_count": 25,
   "id": "a27c4a5c",
   "metadata": {},
   "outputs": [
    {
     "name": "stdout",
     "output_type": "stream",
     "text": [
      "Ingresa los 3 valores12 32 54\n",
      "valor a = 12 valor b = 32 valor c = 54\n"
     ]
    }
   ],
   "source": [
    "a, b, c, = input(\"Ingresa los 3 valores\").split()\n",
    "print(\"valor a =\", a, \"valor b =\", b, \"valor c =\", c)"
   ]
  },
  {
   "cell_type": "code",
   "execution_count": 26,
   "id": "c5ff96d0",
   "metadata": {},
   "outputs": [
    {
     "name": "stdout",
     "output_type": "stream",
     "text": [
      "Ingresa los 3 valores15,32,55\n",
      "valor a = 15 valor b = 32 valor c = 55\n"
     ]
    }
   ],
   "source": [
    "a, b, c, = input(\"Ingresa los 3 valores\").split(\",\")\n",
    "print(\"valor a =\", a, \"valor b =\", b, \"valor c =\", c)"
   ]
  },
  {
   "cell_type": "code",
   "execution_count": null,
   "id": "83e4f128",
   "metadata": {},
   "outputs": [],
   "source": []
  }
 ],
 "metadata": {
  "kernelspec": {
   "display_name": "Python 3 (ipykernel)",
   "language": "python",
   "name": "python3"
  },
  "language_info": {
   "codemirror_mode": {
    "name": "ipython",
    "version": 3
   },
   "file_extension": ".py",
   "mimetype": "text/x-python",
   "name": "python",
   "nbconvert_exporter": "python",
   "pygments_lexer": "ipython3",
   "version": "3.9.12"
  }
 },
 "nbformat": 4,
 "nbformat_minor": 5
}
