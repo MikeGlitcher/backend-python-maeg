{
 "cells": [
  {
   "cell_type": "code",
   "execution_count": 9,
   "id": "aef7b734",
   "metadata": {},
   "outputs": [
    {
     "name": "stdout",
     "output_type": "stream",
     "text": [
      "TIEMPO!!!!\n"
     ]
    }
   ],
   "source": [
    "import time\n",
    "\n",
    "\n",
    "def countup(time_sec):\n",
    "    while time_sec:\n",
    "        mins, secs = divmod(time_sec, 60)\n",
    "\n",
    "        if mins == time_sec - 60:\n",
    "            print(\"TIEMPO!!!!\")\n",
    "            break\n",
    "\n",
    "        else:\n",
    "            timeformat = '{:02d}:{:02d}'.format(mins, secs)\n",
    "            print(timeformat, end='\\r')\n",
    "            time_sec += 1\n",
    "            time.sleep(1)\n",
    "\n",
    "\n",
    "countup(1)"
   ]
  },
  {
   "cell_type": "code",
   "execution_count": null,
   "id": "3f3491a0",
   "metadata": {},
   "outputs": [],
   "source": []
  }
 ],
 "metadata": {
  "kernelspec": {
   "display_name": "Python 3 (ipykernel)",
   "language": "python",
   "name": "python3"
  },
  "language_info": {
   "codemirror_mode": {
    "name": "ipython",
    "version": 3
   },
   "file_extension": ".py",
   "mimetype": "text/x-python",
   "name": "python",
   "nbconvert_exporter": "python",
   "pygments_lexer": "ipython3",
   "version": "3.9.12"
  }
 },
 "nbformat": 4,
 "nbformat_minor": 5
}
