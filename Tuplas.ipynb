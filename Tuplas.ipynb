{
 "cells": [
  {
   "cell_type": "markdown",
   "id": "3300316e",
   "metadata": {},
   "source": [
    "## Diferentes formas de crear tuplas"
   ]
  },
  {
   "cell_type": "code",
   "execution_count": 1,
   "id": "04b9126e",
   "metadata": {},
   "outputs": [
    {
     "name": "stdout",
     "output_type": "stream",
     "text": [
      "('carlos', 2, 3.4)\n",
      "<class 'tuple'>\n"
     ]
    }
   ],
   "source": [
    "my_tuple = (\"carlos\", 2, 3.4)\n",
    "print(my_tuple)\n",
    "print(type(my_tuple))"
   ]
  },
  {
   "cell_type": "code",
   "execution_count": 2,
   "id": "a0c58edd",
   "metadata": {},
   "outputs": [
    {
     "name": "stdout",
     "output_type": "stream",
     "text": [
      "('carlos', 2, 3.4)\n",
      "<class 'tuple'>\n"
     ]
    }
   ],
   "source": [
    "my_tuple = \"carlos\", 2, 3.4\n",
    "print(my_tuple)\n",
    "print(type(my_tuple))"
   ]
  },
  {
   "cell_type": "code",
   "execution_count": 5,
   "id": "a3a59a0f",
   "metadata": {},
   "outputs": [
    {
     "name": "stdout",
     "output_type": "stream",
     "text": [
      "(100, 200, 3000, 4000)\n",
      "<class 'tuple'>\n"
     ]
    }
   ],
   "source": [
    "my_list = [100, 200, 3000,4000]\n",
    "my_tuple = tuple(my_list)\n",
    "print(my_tuple)\n",
    "print(type(my_tuple))"
   ]
  },
  {
   "cell_type": "markdown",
   "id": "bfd6fba9",
   "metadata": {},
   "source": [
    "## Metodo sort"
   ]
  },
  {
   "cell_type": "code",
   "execution_count": 8,
   "id": "effffea0",
   "metadata": {},
   "outputs": [
    {
     "name": "stdout",
     "output_type": "stream",
     "text": [
      "(8, 2, 3.4)\n",
      "<class 'tuple'>\n",
      "(2, 3.4, 8)\n",
      "<class 'tuple'>\n"
     ]
    }
   ],
   "source": [
    "my_tuple = (8, 2, 3.4)\n",
    "my_sort_tuple = sorted(my_tuple)\n",
    "my_sort_tuple_2 = tuple(sorted(my_tuple))\n",
    "\n",
    "print(my_tuple)\n",
    "print(type(my_tuple))\n",
    "\n",
    "print(my_sort_tuple_2)\n",
    "print(type(my_sort_tuple_2))"
   ]
  },
  {
   "cell_type": "markdown",
   "id": "a5609ec9",
   "metadata": {},
   "source": [
    "## Metodo all en tuplas"
   ]
  },
  {
   "cell_type": "code",
   "execution_count": 11,
   "id": "8a2daea2",
   "metadata": {},
   "outputs": [
    {
     "name": "stdout",
     "output_type": "stream",
     "text": [
      "True\n",
      "<class 'tuple'>\n"
     ]
    }
   ],
   "source": [
    "my_tuple = (5, 2, 3, 4, 6)\n",
    "print(all(my_tuple))\n",
    "print(type(my_tuple))"
   ]
  },
  {
   "cell_type": "code",
   "execution_count": 19,
   "id": "aac0b6d4",
   "metadata": {},
   "outputs": [
    {
     "name": "stdout",
     "output_type": "stream",
     "text": [
      "False\n",
      "<class 'tuple'>\n"
     ]
    }
   ],
   "source": [
    "my_tuple = (5, 2, 0, 5)\n",
    "print(all(my_tuple))\n",
    "print(type(my_tuple))"
   ]
  },
  {
   "cell_type": "code",
   "execution_count": 18,
   "id": "3c04754e",
   "metadata": {},
   "outputs": [
    {
     "name": "stdout",
     "output_type": "stream",
     "text": [
      "False\n",
      "<class 'tuple'>\n"
     ]
    }
   ],
   "source": [
    "my_tuple = (5, 2, None, 5)\n",
    "print(all(my_tuple))\n",
    "print(type(my_tuple))"
   ]
  },
  {
   "cell_type": "code",
   "execution_count": 20,
   "id": "6e661da8",
   "metadata": {},
   "outputs": [
    {
     "name": "stdout",
     "output_type": "stream",
     "text": [
      "False\n",
      "<class 'tuple'>\n"
     ]
    }
   ],
   "source": [
    "my_tuple = (5, 2, False, 5)\n",
    "print(all(my_tuple))\n",
    "print(type(my_tuple))"
   ]
  },
  {
   "cell_type": "markdown",
   "id": "3aed766d",
   "metadata": {},
   "source": [
    "## Metodo any en tuplas"
   ]
  },
  {
   "cell_type": "code",
   "execution_count": 21,
   "id": "954f0af7",
   "metadata": {},
   "outputs": [
    {
     "name": "stdout",
     "output_type": "stream",
     "text": [
      "True\n",
      "<class 'tuple'>\n"
     ]
    }
   ],
   "source": [
    "my_tuple = (5, 2, False, 5)\n",
    "print(any(my_tuple))\n",
    "print(type(my_tuple))"
   ]
  },
  {
   "cell_type": "code",
   "execution_count": 26,
   "id": "6a1abae9",
   "metadata": {},
   "outputs": [
    {
     "name": "stdout",
     "output_type": "stream",
     "text": [
      "False\n",
      "<class 'tuple'>\n"
     ]
    }
   ],
   "source": [
    "my_tuple = (None, 0, 0, 0)\n",
    "print(any(my_tuple))\n",
    "print(type(my_tuple))"
   ]
  },
  {
   "cell_type": "code",
   "execution_count": 27,
   "id": "b6eaf8c3",
   "metadata": {},
   "outputs": [
    {
     "name": "stdout",
     "output_type": "stream",
     "text": [
      "False\n",
      "<class 'tuple'>\n"
     ]
    }
   ],
   "source": [
    "my_tuple = (None, \"\", 0, 0)\n",
    "print(any(my_tuple))\n",
    "print(type(my_tuple))"
   ]
  },
  {
   "cell_type": "markdown",
   "id": "7ca208bd",
   "metadata": {},
   "source": [
    "## Metodo len en tuplas"
   ]
  },
  {
   "cell_type": "code",
   "execution_count": 28,
   "id": "fa7e91a3",
   "metadata": {},
   "outputs": [
    {
     "name": "stdout",
     "output_type": "stream",
     "text": [
      "4\n",
      "<class 'tuple'>\n"
     ]
    }
   ],
   "source": [
    "my_tuple = (5, 2, False, 5)\n",
    "print(len(my_tuple))\n",
    "print(type(my_tuple))"
   ]
  },
  {
   "cell_type": "markdown",
   "id": "2305fe63",
   "metadata": {},
   "source": [
    "## indexación en tuplas"
   ]
  },
  {
   "cell_type": "code",
   "execution_count": 29,
   "id": "71dc9468",
   "metadata": {},
   "outputs": [
    {
     "name": "stdout",
     "output_type": "stream",
     "text": [
      "2\n",
      "<class 'tuple'>\n"
     ]
    }
   ],
   "source": [
    "my_tuple = (5, 2, False, 5)\n",
    "print(my_tuple[1])\n",
    "print(type(my_tuple))"
   ]
  },
  {
   "cell_type": "markdown",
   "id": "423de2f6",
   "metadata": {},
   "source": [
    "## Conversion de tuplas"
   ]
  },
  {
   "cell_type": "code",
   "execution_count": 30,
   "id": "2fbdd598",
   "metadata": {},
   "outputs": [
    {
     "name": "stdout",
     "output_type": "stream",
     "text": [
      "('h', 'o', 'l', 'a', ' ', 'a', 'm', 'i', 'g', 'u', 'i', 't', 'o', 's')\n",
      "<class 'tuple'>\n"
     ]
    }
   ],
   "source": [
    "my_string = \"hola amiguitos\"\n",
    "my_tuple = tuple(my_string)\n",
    "print(my_tuple)\n",
    "print(type(my_tuple))"
   ]
  },
  {
   "cell_type": "markdown",
   "id": "b769d1eb",
   "metadata": {},
   "source": [
    "## Lista a tupla"
   ]
  },
  {
   "cell_type": "code",
   "execution_count": 32,
   "id": "4f539b81",
   "metadata": {},
   "outputs": [
    {
     "name": "stdout",
     "output_type": "stream",
     "text": [
      "('hola amiguitos', 'hola', 'amigos')\n",
      "<class 'tuple'>\n"
     ]
    }
   ],
   "source": [
    "my_list = [\"hola amiguitos\", \"hola\", \"amigos\"]\n",
    "my_tuple = tuple(my_string)\n",
    "print(my_tuple)\n",
    "print(type(my_tuple))"
   ]
  },
  {
   "cell_type": "markdown",
   "id": "00c3d821",
   "metadata": {},
   "source": [
    "## Tupla a cadena"
   ]
  },
  {
   "cell_type": "code",
   "execution_count": 33,
   "id": "2ef80b7e",
   "metadata": {},
   "outputs": [
    {
     "name": "stdout",
     "output_type": "stream",
     "text": [
      "('hola amiguitos', 'hola', 'amigos')\n",
      "hola amiguitosholaamigos\n"
     ]
    }
   ],
   "source": [
    "my_tuple = (\"hola amiguitos\", \"hola\", \"amigos\")\n",
    "my_string = \"\".join(my_tuple)\n",
    "print(my_tuple)\n",
    "print(my_string)"
   ]
  },
  {
   "cell_type": "markdown",
   "id": "d8f734b2",
   "metadata": {},
   "source": [
    "## Tupla a lista"
   ]
  },
  {
   "cell_type": "code",
   "execution_count": 35,
   "id": "e6682d2c",
   "metadata": {},
   "outputs": [
    {
     "name": "stdout",
     "output_type": "stream",
     "text": [
      "('hola amiguitos', 'hola', 'amigos')\n",
      "['hola amiguitos', 'hola', 'amigos']\n"
     ]
    }
   ],
   "source": [
    "my_tuple = (\"hola amiguitos\", \"hola\", \"amigos\")\n",
    "my_list = list(my_tuple)\n",
    "print(my_tuple)\n",
    "print(my_list)"
   ]
  },
  {
   "cell_type": "markdown",
   "id": "6724e7ea",
   "metadata": {},
   "source": [
    "## Ventajas de la tupla sobre la lista\n",
    "\n",
    "- Generalmente usamos tuplas para elementos heterogeneos (de diferente tipo de dato)\n",
    "- Listas para datos del mimso tipo\n",
    "- Las tuplas son inmutables, iterar a travez de una tupla es mas rapido que en una lista, por lo tanto hay una mejora de rendimiento.\n",
    "- Las tuplas que contienen elementos inmutables pueden ser usadas como llaves para un diccionario. Con listas no es posible\n",
    "- Si tienes data que no cambia el implemetarla como tupla te garantiza que se mantendra protegida a modificaciones"
   ]
  },
  {
   "cell_type": "code",
   "execution_count": 36,
   "id": "c0572be6",
   "metadata": {},
   "outputs": [
    {
     "ename": "TypeError",
     "evalue": "'tuple' object does not support item assignment",
     "output_type": "error",
     "traceback": [
      "\u001b[1;31m---------------------------------------------------------------------------\u001b[0m",
      "\u001b[1;31mTypeError\u001b[0m                                 Traceback (most recent call last)",
      "Input \u001b[1;32mIn [36]\u001b[0m, in \u001b[0;36m<cell line: 1>\u001b[1;34m()\u001b[0m\n\u001b[1;32m----> 1\u001b[0m my_tuple[\u001b[38;5;241m0\u001b[39m] \u001b[38;5;241m=\u001b[39m \u001b[38;5;124m\"\u001b[39m\u001b[38;5;124mintruso\u001b[39m\u001b[38;5;124m\"\u001b[39m\n",
      "\u001b[1;31mTypeError\u001b[0m: 'tuple' object does not support item assignment"
     ]
    }
   ],
   "source": [
    "my_tuple[0] = \"intruso\" # ERROR"
   ]
  },
  {
   "cell_type": "code",
   "execution_count": null,
   "id": "f1128243",
   "metadata": {},
   "outputs": [],
   "source": []
  }
 ],
 "metadata": {
  "kernelspec": {
   "display_name": "Python 3 (ipykernel)",
   "language": "python",
   "name": "python3"
  },
  "language_info": {
   "codemirror_mode": {
    "name": "ipython",
    "version": 3
   },
   "file_extension": ".py",
   "mimetype": "text/x-python",
   "name": "python",
   "nbconvert_exporter": "python",
   "pygments_lexer": "ipython3",
   "version": "3.9.12"
  }
 },
 "nbformat": 4,
 "nbformat_minor": 5
}
